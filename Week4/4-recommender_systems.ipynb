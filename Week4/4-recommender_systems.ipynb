{
 "cells": [
  {
   "cell_type": "markdown",
   "metadata": {
    "id": "jHWqkSxq3T-V"
   },
   "source": [
    "# Recommender Systems\n",
    "\n",
    "In this notebook, we will examine different applications and approaches for Recommender Systems on Movie Rating based datasets. We use Collabrative and Content Based Approach for these datasets. Also we will look at model based approaches and memory based approaches.\n",
    "\n",
    "**Used Algorithms in This Notebook**:\n",
    "- Singular Value Decomposition\n",
    "- Matrix Factorization\n",
    "- TF-IDF Analysis\n",
    "\n",
    "**Used Dataset in This Notebook**\n",
    "- [Used MovieLens Dataset (Kaggle)](https://www.kaggle.com/rounakbanik/the-movies-dataset/data)\n",
    "- [Latest MovieLens Dataset](https://grouplens.org/datasets/movielens/latest/)\n",
    "\n",
    "**Used Library in This Notebook**\n",
    "- [Recompy Library](https://github.com/CanBul/recompy)\n"
   ]
  },
  {
   "cell_type": "markdown",
   "metadata": {
    "id": "WgNyVqi2zhmp"
   },
   "source": [
    "## Collaborative Filtering\n",
    "\n",
    "> With Collaborative Approach, features of users or features of items are not used. This approach only looks at **user-item interaction matrix**. Purpose of this filtering method is finding similar users to recommend items from one to another or finding similar items to recommend one item if the other one interacted by the user.\n",
    "\n",
    "\n",
    "\n",
    "\n",
    "---\n",
    "\n",
    "\n",
    "* **MovieLens** Dataset will be used in this section\n",
    "* **Recompy** Library\n",
    "* **Matrix Factorization** Algorithm and its usage  \n",
    "* **Model Based** and **Memory Based** Methods for Collaborative Filtering"
   ]
  },
  {
   "cell_type": "markdown",
   "metadata": {
    "id": "jbKUXCUU26WW"
   },
   "source": [
    "### User-Item Matrix\n",
    "\n",
    "This matrix includes interactions which are given by users to items. Like rating a movie, liking/disliking a book/video. \n",
    "\n",
    "\n",
    "---\n",
    "\n"
   ]
  },
  {
   "cell_type": "markdown",
   "metadata": {
    "id": "t-8abV_rvR66"
   },
   "source": [
    "* First install recompy library"
   ]
  },
  {
   "cell_type": "code",
   "execution_count": 1,
   "metadata": {
    "id": "a-wQhLPxvr4f"
   },
   "outputs": [],
   "source": [
    "%%capture\n",
    "!pip install recompy"
   ]
  },
  {
   "cell_type": "markdown",
   "metadata": {
    "id": "tJcmmXSwwHkC"
   },
   "source": [
    "*    **load_movie_data** function is used for the MovieLens dataset as a dataframe which includes user item interaction pairs."
   ]
  },
  {
   "cell_type": "code",
   "execution_count": 2,
   "metadata": {
    "id": "c6aNnoiSvzhK"
   },
   "outputs": [],
   "source": [
    "from recompy import load_movie_data\n",
    "import pandas as pd\n",
    "\n",
    "data = load_movie_data()"
   ]
  },
  {
   "cell_type": "code",
   "execution_count": 3,
   "metadata": {
    "colab": {
     "base_uri": "https://localhost:8080/"
    },
    "id": "g_KvNspgwDAW",
    "outputId": "c5332291-4a7b-4796-d0d0-0fc0ba66da90"
   },
   "outputs": [
    {
     "name": "stdout",
     "output_type": "stream",
     "text": [
      "(100000, 3)\n"
     ]
    },
    {
     "data": {
      "text/plain": [
       "array([[1.96e+02, 2.42e+02, 3.00e+00],\n",
       "       [1.86e+02, 3.02e+02, 3.00e+00],\n",
       "       [2.20e+01, 3.77e+02, 1.00e+00],\n",
       "       ...,\n",
       "       [2.76e+02, 1.09e+03, 1.00e+00],\n",
       "       [1.30e+01, 2.25e+02, 2.00e+00],\n",
       "       [1.20e+01, 2.03e+02, 3.00e+00]])"
      ]
     },
     "execution_count": 3,
     "metadata": {},
     "output_type": "execute_result"
    }
   ],
   "source": [
    "print(data.shape)\n",
    "data"
   ]
  },
  {
   "cell_type": "markdown",
   "metadata": {
    "id": "ddOJ-6Bkwpua"
   },
   "source": [
    "* These 3 columns represent user ID, item ID and rating for that item"
   ]
  },
  {
   "cell_type": "code",
   "execution_count": 4,
   "metadata": {
    "id": "TZ3tJnG1wDwS"
   },
   "outputs": [],
   "source": [
    "df_ratings = pd.DataFrame(data, columns = ['userId', 'itemId', 'rating'])"
   ]
  },
  {
   "cell_type": "code",
   "execution_count": 5,
   "metadata": {
    "colab": {
     "base_uri": "https://localhost:8080/",
     "height": 206
    },
    "id": "s59ifH92wOZA",
    "outputId": "0a091093-fb7d-4669-fe1c-95a21d77f1dc"
   },
   "outputs": [
    {
     "data": {
      "text/html": [
       "\n",
       "  <div id=\"df-b50a3e2f-36a4-42a7-baf0-018421735e5e\">\n",
       "    <div class=\"colab-df-container\">\n",
       "      <div>\n",
       "<style scoped>\n",
       "    .dataframe tbody tr th:only-of-type {\n",
       "        vertical-align: middle;\n",
       "    }\n",
       "\n",
       "    .dataframe tbody tr th {\n",
       "        vertical-align: top;\n",
       "    }\n",
       "\n",
       "    .dataframe thead th {\n",
       "        text-align: right;\n",
       "    }\n",
       "</style>\n",
       "<table border=\"1\" class=\"dataframe\">\n",
       "  <thead>\n",
       "    <tr style=\"text-align: right;\">\n",
       "      <th></th>\n",
       "      <th>userId</th>\n",
       "      <th>itemId</th>\n",
       "      <th>rating</th>\n",
       "    </tr>\n",
       "  </thead>\n",
       "  <tbody>\n",
       "    <tr>\n",
       "      <th>0</th>\n",
       "      <td>196.0</td>\n",
       "      <td>242.0</td>\n",
       "      <td>3.0</td>\n",
       "    </tr>\n",
       "    <tr>\n",
       "      <th>1</th>\n",
       "      <td>186.0</td>\n",
       "      <td>302.0</td>\n",
       "      <td>3.0</td>\n",
       "    </tr>\n",
       "    <tr>\n",
       "      <th>2</th>\n",
       "      <td>22.0</td>\n",
       "      <td>377.0</td>\n",
       "      <td>1.0</td>\n",
       "    </tr>\n",
       "    <tr>\n",
       "      <th>3</th>\n",
       "      <td>244.0</td>\n",
       "      <td>51.0</td>\n",
       "      <td>2.0</td>\n",
       "    </tr>\n",
       "    <tr>\n",
       "      <th>4</th>\n",
       "      <td>166.0</td>\n",
       "      <td>346.0</td>\n",
       "      <td>1.0</td>\n",
       "    </tr>\n",
       "  </tbody>\n",
       "</table>\n",
       "</div>\n",
       "      <button class=\"colab-df-convert\" onclick=\"convertToInteractive('df-b50a3e2f-36a4-42a7-baf0-018421735e5e')\"\n",
       "              title=\"Convert this dataframe to an interactive table.\"\n",
       "              style=\"display:none;\">\n",
       "        \n",
       "  <svg xmlns=\"http://www.w3.org/2000/svg\" height=\"24px\"viewBox=\"0 0 24 24\"\n",
       "       width=\"24px\">\n",
       "    <path d=\"M0 0h24v24H0V0z\" fill=\"none\"/>\n",
       "    <path d=\"M18.56 5.44l.94 2.06.94-2.06 2.06-.94-2.06-.94-.94-2.06-.94 2.06-2.06.94zm-11 1L8.5 8.5l.94-2.06 2.06-.94-2.06-.94L8.5 2.5l-.94 2.06-2.06.94zm10 10l.94 2.06.94-2.06 2.06-.94-2.06-.94-.94-2.06-.94 2.06-2.06.94z\"/><path d=\"M17.41 7.96l-1.37-1.37c-.4-.4-.92-.59-1.43-.59-.52 0-1.04.2-1.43.59L10.3 9.45l-7.72 7.72c-.78.78-.78 2.05 0 2.83L4 21.41c.39.39.9.59 1.41.59.51 0 1.02-.2 1.41-.59l7.78-7.78 2.81-2.81c.8-.78.8-2.07 0-2.86zM5.41 20L4 18.59l7.72-7.72 1.47 1.35L5.41 20z\"/>\n",
       "  </svg>\n",
       "      </button>\n",
       "      \n",
       "  <style>\n",
       "    .colab-df-container {\n",
       "      display:flex;\n",
       "      flex-wrap:wrap;\n",
       "      gap: 12px;\n",
       "    }\n",
       "\n",
       "    .colab-df-convert {\n",
       "      background-color: #E8F0FE;\n",
       "      border: none;\n",
       "      border-radius: 50%;\n",
       "      cursor: pointer;\n",
       "      display: none;\n",
       "      fill: #1967D2;\n",
       "      height: 32px;\n",
       "      padding: 0 0 0 0;\n",
       "      width: 32px;\n",
       "    }\n",
       "\n",
       "    .colab-df-convert:hover {\n",
       "      background-color: #E2EBFA;\n",
       "      box-shadow: 0px 1px 2px rgba(60, 64, 67, 0.3), 0px 1px 3px 1px rgba(60, 64, 67, 0.15);\n",
       "      fill: #174EA6;\n",
       "    }\n",
       "\n",
       "    [theme=dark] .colab-df-convert {\n",
       "      background-color: #3B4455;\n",
       "      fill: #D2E3FC;\n",
       "    }\n",
       "\n",
       "    [theme=dark] .colab-df-convert:hover {\n",
       "      background-color: #434B5C;\n",
       "      box-shadow: 0px 1px 3px 1px rgba(0, 0, 0, 0.15);\n",
       "      filter: drop-shadow(0px 1px 2px rgba(0, 0, 0, 0.3));\n",
       "      fill: #FFFFFF;\n",
       "    }\n",
       "  </style>\n",
       "\n",
       "      <script>\n",
       "        const buttonEl =\n",
       "          document.querySelector('#df-b50a3e2f-36a4-42a7-baf0-018421735e5e button.colab-df-convert');\n",
       "        buttonEl.style.display =\n",
       "          google.colab.kernel.accessAllowed ? 'block' : 'none';\n",
       "\n",
       "        async function convertToInteractive(key) {\n",
       "          const element = document.querySelector('#df-b50a3e2f-36a4-42a7-baf0-018421735e5e');\n",
       "          const dataTable =\n",
       "            await google.colab.kernel.invokeFunction('convertToInteractive',\n",
       "                                                     [key], {});\n",
       "          if (!dataTable) return;\n",
       "\n",
       "          const docLinkHtml = 'Like what you see? Visit the ' +\n",
       "            '<a target=\"_blank\" href=https://colab.research.google.com/notebooks/data_table.ipynb>data table notebook</a>'\n",
       "            + ' to learn more about interactive tables.';\n",
       "          element.innerHTML = '';\n",
       "          dataTable['output_type'] = 'display_data';\n",
       "          await google.colab.output.renderOutput(dataTable, element);\n",
       "          const docLink = document.createElement('div');\n",
       "          docLink.innerHTML = docLinkHtml;\n",
       "          element.appendChild(docLink);\n",
       "        }\n",
       "      </script>\n",
       "    </div>\n",
       "  </div>\n",
       "  "
      ],
      "text/plain": [
       "   userId  itemId  rating\n",
       "0   196.0   242.0     3.0\n",
       "1   186.0   302.0     3.0\n",
       "2    22.0   377.0     1.0\n",
       "3   244.0    51.0     2.0\n",
       "4   166.0   346.0     1.0"
      ]
     },
     "execution_count": 5,
     "metadata": {},
     "output_type": "execute_result"
    }
   ],
   "source": [
    "df_ratings.head()"
   ]
  },
  {
   "cell_type": "markdown",
   "metadata": {
    "id": "F9nEm9otzdiG"
   },
   "source": [
    "*   Return this dataframe to a **user-item matrix** which has users as columns and items as rows"
   ]
  },
  {
   "cell_type": "markdown",
   "metadata": {
    "id": "Ihc3bxOWzJgq"
   },
   "source": [
    "![image.png](data:image/png;base64,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)"
   ]
  },
  {
   "cell_type": "code",
   "execution_count": 6,
   "metadata": {
    "id": "0XoV9swvs4_1"
   },
   "outputs": [],
   "source": [
    "df_ratings_pivot = df_ratings.pivot(index='itemId', columns='userId', values='rating')"
   ]
  },
  {
   "cell_type": "code",
   "execution_count": 7,
   "metadata": {
    "colab": {
     "base_uri": "https://localhost:8080/",
     "height": 519
    },
    "id": "Sv0KGFRDs4_4",
    "outputId": "06dd5629-8a69-4173-d6a4-53150871701c"
   },
   "outputs": [
    {
     "data": {
      "text/html": [
       "\n",
       "  <div id=\"df-7d622ab2-31f9-494b-8437-7f5b0d83fc81\">\n",
       "    <div class=\"colab-df-container\">\n",
       "      <div>\n",
       "<style scoped>\n",
       "    .dataframe tbody tr th:only-of-type {\n",
       "        vertical-align: middle;\n",
       "    }\n",
       "\n",
       "    .dataframe tbody tr th {\n",
       "        vertical-align: top;\n",
       "    }\n",
       "\n",
       "    .dataframe thead th {\n",
       "        text-align: right;\n",
       "    }\n",
       "</style>\n",
       "<table border=\"1\" class=\"dataframe\">\n",
       "  <thead>\n",
       "    <tr style=\"text-align: right;\">\n",
       "      <th>userId</th>\n",
       "      <th>1.0</th>\n",
       "      <th>2.0</th>\n",
       "      <th>3.0</th>\n",
       "      <th>4.0</th>\n",
       "      <th>5.0</th>\n",
       "      <th>6.0</th>\n",
       "      <th>7.0</th>\n",
       "      <th>8.0</th>\n",
       "      <th>9.0</th>\n",
       "      <th>10.0</th>\n",
       "      <th>11.0</th>\n",
       "      <th>12.0</th>\n",
       "      <th>13.0</th>\n",
       "      <th>14.0</th>\n",
       "      <th>15.0</th>\n",
       "      <th>16.0</th>\n",
       "      <th>17.0</th>\n",
       "      <th>18.0</th>\n",
       "      <th>19.0</th>\n",
       "      <th>20.0</th>\n",
       "      <th>21.0</th>\n",
       "      <th>22.0</th>\n",
       "      <th>23.0</th>\n",
       "      <th>24.0</th>\n",
       "      <th>25.0</th>\n",
       "      <th>26.0</th>\n",
       "      <th>27.0</th>\n",
       "      <th>28.0</th>\n",
       "      <th>29.0</th>\n",
       "      <th>30.0</th>\n",
       "      <th>31.0</th>\n",
       "      <th>32.0</th>\n",
       "      <th>33.0</th>\n",
       "      <th>34.0</th>\n",
       "      <th>35.0</th>\n",
       "      <th>36.0</th>\n",
       "      <th>37.0</th>\n",
       "      <th>38.0</th>\n",
       "      <th>39.0</th>\n",
       "      <th>40.0</th>\n",
       "      <th>...</th>\n",
       "      <th>904.0</th>\n",
       "      <th>905.0</th>\n",
       "      <th>906.0</th>\n",
       "      <th>907.0</th>\n",
       "      <th>908.0</th>\n",
       "      <th>909.0</th>\n",
       "      <th>910.0</th>\n",
       "      <th>911.0</th>\n",
       "      <th>912.0</th>\n",
       "      <th>913.0</th>\n",
       "      <th>914.0</th>\n",
       "      <th>915.0</th>\n",
       "      <th>916.0</th>\n",
       "      <th>917.0</th>\n",
       "      <th>918.0</th>\n",
       "      <th>919.0</th>\n",
       "      <th>920.0</th>\n",
       "      <th>921.0</th>\n",
       "      <th>922.0</th>\n",
       "      <th>923.0</th>\n",
       "      <th>924.0</th>\n",
       "      <th>925.0</th>\n",
       "      <th>926.0</th>\n",
       "      <th>927.0</th>\n",
       "      <th>928.0</th>\n",
       "      <th>929.0</th>\n",
       "      <th>930.0</th>\n",
       "      <th>931.0</th>\n",
       "      <th>932.0</th>\n",
       "      <th>933.0</th>\n",
       "      <th>934.0</th>\n",
       "      <th>935.0</th>\n",
       "      <th>936.0</th>\n",
       "      <th>937.0</th>\n",
       "      <th>938.0</th>\n",
       "      <th>939.0</th>\n",
       "      <th>940.0</th>\n",
       "      <th>941.0</th>\n",
       "      <th>942.0</th>\n",
       "      <th>943.0</th>\n",
       "    </tr>\n",
       "    <tr>\n",
       "      <th>itemId</th>\n",
       "      <th></th>\n",
       "      <th></th>\n",
       "      <th></th>\n",
       "      <th></th>\n",
       "      <th></th>\n",
       "      <th></th>\n",
       "      <th></th>\n",
       "      <th></th>\n",
       "      <th></th>\n",
       "      <th></th>\n",
       "      <th></th>\n",
       "      <th></th>\n",
       "      <th></th>\n",
       "      <th></th>\n",
       "      <th></th>\n",
       "      <th></th>\n",
       "      <th></th>\n",
       "      <th></th>\n",
       "      <th></th>\n",
       "      <th></th>\n",
       "      <th></th>\n",
       "      <th></th>\n",
       "      <th></th>\n",
       "      <th></th>\n",
       "      <th></th>\n",
       "      <th></th>\n",
       "      <th></th>\n",
       "      <th></th>\n",
       "      <th></th>\n",
       "      <th></th>\n",
       "      <th></th>\n",
       "      <th></th>\n",
       "      <th></th>\n",
       "      <th></th>\n",
       "      <th></th>\n",
       "      <th></th>\n",
       "      <th></th>\n",
       "      <th></th>\n",
       "      <th></th>\n",
       "      <th></th>\n",
       "      <th></th>\n",
       "      <th></th>\n",
       "      <th></th>\n",
       "      <th></th>\n",
       "      <th></th>\n",
       "      <th></th>\n",
       "      <th></th>\n",
       "      <th></th>\n",
       "      <th></th>\n",
       "      <th></th>\n",
       "      <th></th>\n",
       "      <th></th>\n",
       "      <th></th>\n",
       "      <th></th>\n",
       "      <th></th>\n",
       "      <th></th>\n",
       "      <th></th>\n",
       "      <th></th>\n",
       "      <th></th>\n",
       "      <th></th>\n",
       "      <th></th>\n",
       "      <th></th>\n",
       "      <th></th>\n",
       "      <th></th>\n",
       "      <th></th>\n",
       "      <th></th>\n",
       "      <th></th>\n",
       "      <th></th>\n",
       "      <th></th>\n",
       "      <th></th>\n",
       "      <th></th>\n",
       "      <th></th>\n",
       "      <th></th>\n",
       "      <th></th>\n",
       "      <th></th>\n",
       "      <th></th>\n",
       "      <th></th>\n",
       "      <th></th>\n",
       "      <th></th>\n",
       "      <th></th>\n",
       "      <th></th>\n",
       "    </tr>\n",
       "  </thead>\n",
       "  <tbody>\n",
       "    <tr>\n",
       "      <th>1.0</th>\n",
       "      <td>5.0</td>\n",
       "      <td>4.0</td>\n",
       "      <td>NaN</td>\n",
       "      <td>NaN</td>\n",
       "      <td>4.0</td>\n",
       "      <td>4.0</td>\n",
       "      <td>NaN</td>\n",
       "      <td>NaN</td>\n",
       "      <td>NaN</td>\n",
       "      <td>4.0</td>\n",
       "      <td>NaN</td>\n",
       "      <td>NaN</td>\n",
       "      <td>3.0</td>\n",
       "      <td>NaN</td>\n",
       "      <td>1.0</td>\n",
       "      <td>5.0</td>\n",
       "      <td>4.0</td>\n",
       "      <td>5.0</td>\n",
       "      <td>NaN</td>\n",
       "      <td>3.0</td>\n",
       "      <td>5.0</td>\n",
       "      <td>NaN</td>\n",
       "      <td>5.0</td>\n",
       "      <td>NaN</td>\n",
       "      <td>5.0</td>\n",
       "      <td>3.0</td>\n",
       "      <td>NaN</td>\n",
       "      <td>NaN</td>\n",
       "      <td>NaN</td>\n",
       "      <td>NaN</td>\n",
       "      <td>NaN</td>\n",
       "      <td>NaN</td>\n",
       "      <td>NaN</td>\n",
       "      <td>NaN</td>\n",
       "      <td>NaN</td>\n",
       "      <td>NaN</td>\n",
       "      <td>NaN</td>\n",
       "      <td>5.0</td>\n",
       "      <td>NaN</td>\n",
       "      <td>NaN</td>\n",
       "      <td>...</td>\n",
       "      <td>NaN</td>\n",
       "      <td>NaN</td>\n",
       "      <td>NaN</td>\n",
       "      <td>5.0</td>\n",
       "      <td>NaN</td>\n",
       "      <td>NaN</td>\n",
       "      <td>4.0</td>\n",
       "      <td>NaN</td>\n",
       "      <td>NaN</td>\n",
       "      <td>2.0</td>\n",
       "      <td>NaN</td>\n",
       "      <td>NaN</td>\n",
       "      <td>4.0</td>\n",
       "      <td>3.0</td>\n",
       "      <td>3.0</td>\n",
       "      <td>4.0</td>\n",
       "      <td>NaN</td>\n",
       "      <td>3.0</td>\n",
       "      <td>5.0</td>\n",
       "      <td>3.0</td>\n",
       "      <td>5.0</td>\n",
       "      <td>NaN</td>\n",
       "      <td>NaN</td>\n",
       "      <td>5.0</td>\n",
       "      <td>NaN</td>\n",
       "      <td>3.0</td>\n",
       "      <td>3.0</td>\n",
       "      <td>NaN</td>\n",
       "      <td>4.0</td>\n",
       "      <td>3.0</td>\n",
       "      <td>2.0</td>\n",
       "      <td>3.0</td>\n",
       "      <td>4.0</td>\n",
       "      <td>NaN</td>\n",
       "      <td>4.0</td>\n",
       "      <td>NaN</td>\n",
       "      <td>NaN</td>\n",
       "      <td>5.0</td>\n",
       "      <td>NaN</td>\n",
       "      <td>NaN</td>\n",
       "    </tr>\n",
       "    <tr>\n",
       "      <th>2.0</th>\n",
       "      <td>3.0</td>\n",
       "      <td>NaN</td>\n",
       "      <td>NaN</td>\n",
       "      <td>NaN</td>\n",
       "      <td>3.0</td>\n",
       "      <td>NaN</td>\n",
       "      <td>NaN</td>\n",
       "      <td>NaN</td>\n",
       "      <td>NaN</td>\n",
       "      <td>NaN</td>\n",
       "      <td>NaN</td>\n",
       "      <td>NaN</td>\n",
       "      <td>3.0</td>\n",
       "      <td>NaN</td>\n",
       "      <td>NaN</td>\n",
       "      <td>NaN</td>\n",
       "      <td>NaN</td>\n",
       "      <td>NaN</td>\n",
       "      <td>NaN</td>\n",
       "      <td>NaN</td>\n",
       "      <td>NaN</td>\n",
       "      <td>2.0</td>\n",
       "      <td>NaN</td>\n",
       "      <td>NaN</td>\n",
       "      <td>NaN</td>\n",
       "      <td>NaN</td>\n",
       "      <td>NaN</td>\n",
       "      <td>NaN</td>\n",
       "      <td>NaN</td>\n",
       "      <td>3.0</td>\n",
       "      <td>NaN</td>\n",
       "      <td>NaN</td>\n",
       "      <td>NaN</td>\n",
       "      <td>NaN</td>\n",
       "      <td>NaN</td>\n",
       "      <td>NaN</td>\n",
       "      <td>NaN</td>\n",
       "      <td>NaN</td>\n",
       "      <td>NaN</td>\n",
       "      <td>NaN</td>\n",
       "      <td>...</td>\n",
       "      <td>NaN</td>\n",
       "      <td>NaN</td>\n",
       "      <td>NaN</td>\n",
       "      <td>NaN</td>\n",
       "      <td>NaN</td>\n",
       "      <td>NaN</td>\n",
       "      <td>NaN</td>\n",
       "      <td>NaN</td>\n",
       "      <td>NaN</td>\n",
       "      <td>NaN</td>\n",
       "      <td>NaN</td>\n",
       "      <td>NaN</td>\n",
       "      <td>3.0</td>\n",
       "      <td>NaN</td>\n",
       "      <td>NaN</td>\n",
       "      <td>NaN</td>\n",
       "      <td>NaN</td>\n",
       "      <td>NaN</td>\n",
       "      <td>NaN</td>\n",
       "      <td>NaN</td>\n",
       "      <td>3.0</td>\n",
       "      <td>NaN</td>\n",
       "      <td>NaN</td>\n",
       "      <td>NaN</td>\n",
       "      <td>NaN</td>\n",
       "      <td>NaN</td>\n",
       "      <td>NaN</td>\n",
       "      <td>NaN</td>\n",
       "      <td>NaN</td>\n",
       "      <td>NaN</td>\n",
       "      <td>4.0</td>\n",
       "      <td>NaN</td>\n",
       "      <td>NaN</td>\n",
       "      <td>NaN</td>\n",
       "      <td>NaN</td>\n",
       "      <td>NaN</td>\n",
       "      <td>NaN</td>\n",
       "      <td>NaN</td>\n",
       "      <td>NaN</td>\n",
       "      <td>5.0</td>\n",
       "    </tr>\n",
       "    <tr>\n",
       "      <th>3.0</th>\n",
       "      <td>4.0</td>\n",
       "      <td>NaN</td>\n",
       "      <td>NaN</td>\n",
       "      <td>NaN</td>\n",
       "      <td>NaN</td>\n",
       "      <td>NaN</td>\n",
       "      <td>NaN</td>\n",
       "      <td>NaN</td>\n",
       "      <td>NaN</td>\n",
       "      <td>NaN</td>\n",
       "      <td>NaN</td>\n",
       "      <td>NaN</td>\n",
       "      <td>NaN</td>\n",
       "      <td>NaN</td>\n",
       "      <td>NaN</td>\n",
       "      <td>NaN</td>\n",
       "      <td>NaN</td>\n",
       "      <td>NaN</td>\n",
       "      <td>NaN</td>\n",
       "      <td>NaN</td>\n",
       "      <td>NaN</td>\n",
       "      <td>NaN</td>\n",
       "      <td>NaN</td>\n",
       "      <td>NaN</td>\n",
       "      <td>NaN</td>\n",
       "      <td>NaN</td>\n",
       "      <td>NaN</td>\n",
       "      <td>NaN</td>\n",
       "      <td>NaN</td>\n",
       "      <td>NaN</td>\n",
       "      <td>NaN</td>\n",
       "      <td>NaN</td>\n",
       "      <td>NaN</td>\n",
       "      <td>NaN</td>\n",
       "      <td>NaN</td>\n",
       "      <td>NaN</td>\n",
       "      <td>NaN</td>\n",
       "      <td>NaN</td>\n",
       "      <td>NaN</td>\n",
       "      <td>NaN</td>\n",
       "      <td>...</td>\n",
       "      <td>NaN</td>\n",
       "      <td>NaN</td>\n",
       "      <td>NaN</td>\n",
       "      <td>NaN</td>\n",
       "      <td>NaN</td>\n",
       "      <td>NaN</td>\n",
       "      <td>2.0</td>\n",
       "      <td>NaN</td>\n",
       "      <td>NaN</td>\n",
       "      <td>NaN</td>\n",
       "      <td>NaN</td>\n",
       "      <td>NaN</td>\n",
       "      <td>3.0</td>\n",
       "      <td>1.0</td>\n",
       "      <td>NaN</td>\n",
       "      <td>NaN</td>\n",
       "      <td>NaN</td>\n",
       "      <td>NaN</td>\n",
       "      <td>NaN</td>\n",
       "      <td>4.0</td>\n",
       "      <td>NaN</td>\n",
       "      <td>NaN</td>\n",
       "      <td>NaN</td>\n",
       "      <td>NaN</td>\n",
       "      <td>NaN</td>\n",
       "      <td>NaN</td>\n",
       "      <td>NaN</td>\n",
       "      <td>NaN</td>\n",
       "      <td>NaN</td>\n",
       "      <td>NaN</td>\n",
       "      <td>NaN</td>\n",
       "      <td>NaN</td>\n",
       "      <td>4.0</td>\n",
       "      <td>NaN</td>\n",
       "      <td>NaN</td>\n",
       "      <td>NaN</td>\n",
       "      <td>NaN</td>\n",
       "      <td>NaN</td>\n",
       "      <td>NaN</td>\n",
       "      <td>NaN</td>\n",
       "    </tr>\n",
       "    <tr>\n",
       "      <th>4.0</th>\n",
       "      <td>3.0</td>\n",
       "      <td>NaN</td>\n",
       "      <td>NaN</td>\n",
       "      <td>NaN</td>\n",
       "      <td>NaN</td>\n",
       "      <td>NaN</td>\n",
       "      <td>5.0</td>\n",
       "      <td>NaN</td>\n",
       "      <td>NaN</td>\n",
       "      <td>4.0</td>\n",
       "      <td>NaN</td>\n",
       "      <td>5.0</td>\n",
       "      <td>5.0</td>\n",
       "      <td>NaN</td>\n",
       "      <td>NaN</td>\n",
       "      <td>5.0</td>\n",
       "      <td>NaN</td>\n",
       "      <td>3.0</td>\n",
       "      <td>4.0</td>\n",
       "      <td>NaN</td>\n",
       "      <td>NaN</td>\n",
       "      <td>5.0</td>\n",
       "      <td>NaN</td>\n",
       "      <td>NaN</td>\n",
       "      <td>NaN</td>\n",
       "      <td>NaN</td>\n",
       "      <td>NaN</td>\n",
       "      <td>NaN</td>\n",
       "      <td>NaN</td>\n",
       "      <td>NaN</td>\n",
       "      <td>NaN</td>\n",
       "      <td>NaN</td>\n",
       "      <td>NaN</td>\n",
       "      <td>NaN</td>\n",
       "      <td>NaN</td>\n",
       "      <td>NaN</td>\n",
       "      <td>NaN</td>\n",
       "      <td>NaN</td>\n",
       "      <td>NaN</td>\n",
       "      <td>NaN</td>\n",
       "      <td>...</td>\n",
       "      <td>NaN</td>\n",
       "      <td>NaN</td>\n",
       "      <td>NaN</td>\n",
       "      <td>NaN</td>\n",
       "      <td>NaN</td>\n",
       "      <td>NaN</td>\n",
       "      <td>NaN</td>\n",
       "      <td>NaN</td>\n",
       "      <td>NaN</td>\n",
       "      <td>4.0</td>\n",
       "      <td>NaN</td>\n",
       "      <td>NaN</td>\n",
       "      <td>4.0</td>\n",
       "      <td>NaN</td>\n",
       "      <td>NaN</td>\n",
       "      <td>1.0</td>\n",
       "      <td>NaN</td>\n",
       "      <td>NaN</td>\n",
       "      <td>NaN</td>\n",
       "      <td>NaN</td>\n",
       "      <td>NaN</td>\n",
       "      <td>NaN</td>\n",
       "      <td>NaN</td>\n",
       "      <td>NaN</td>\n",
       "      <td>NaN</td>\n",
       "      <td>NaN</td>\n",
       "      <td>NaN</td>\n",
       "      <td>NaN</td>\n",
       "      <td>NaN</td>\n",
       "      <td>3.0</td>\n",
       "      <td>5.0</td>\n",
       "      <td>NaN</td>\n",
       "      <td>NaN</td>\n",
       "      <td>NaN</td>\n",
       "      <td>NaN</td>\n",
       "      <td>NaN</td>\n",
       "      <td>2.0</td>\n",
       "      <td>NaN</td>\n",
       "      <td>NaN</td>\n",
       "      <td>NaN</td>\n",
       "    </tr>\n",
       "    <tr>\n",
       "      <th>5.0</th>\n",
       "      <td>3.0</td>\n",
       "      <td>NaN</td>\n",
       "      <td>NaN</td>\n",
       "      <td>NaN</td>\n",
       "      <td>NaN</td>\n",
       "      <td>NaN</td>\n",
       "      <td>NaN</td>\n",
       "      <td>NaN</td>\n",
       "      <td>NaN</td>\n",
       "      <td>NaN</td>\n",
       "      <td>NaN</td>\n",
       "      <td>NaN</td>\n",
       "      <td>1.0</td>\n",
       "      <td>NaN</td>\n",
       "      <td>NaN</td>\n",
       "      <td>NaN</td>\n",
       "      <td>NaN</td>\n",
       "      <td>NaN</td>\n",
       "      <td>NaN</td>\n",
       "      <td>NaN</td>\n",
       "      <td>2.0</td>\n",
       "      <td>NaN</td>\n",
       "      <td>NaN</td>\n",
       "      <td>NaN</td>\n",
       "      <td>NaN</td>\n",
       "      <td>NaN</td>\n",
       "      <td>NaN</td>\n",
       "      <td>3.0</td>\n",
       "      <td>NaN</td>\n",
       "      <td>NaN</td>\n",
       "      <td>NaN</td>\n",
       "      <td>NaN</td>\n",
       "      <td>NaN</td>\n",
       "      <td>NaN</td>\n",
       "      <td>NaN</td>\n",
       "      <td>NaN</td>\n",
       "      <td>NaN</td>\n",
       "      <td>NaN</td>\n",
       "      <td>NaN</td>\n",
       "      <td>NaN</td>\n",
       "      <td>...</td>\n",
       "      <td>NaN</td>\n",
       "      <td>NaN</td>\n",
       "      <td>NaN</td>\n",
       "      <td>5.0</td>\n",
       "      <td>NaN</td>\n",
       "      <td>NaN</td>\n",
       "      <td>NaN</td>\n",
       "      <td>NaN</td>\n",
       "      <td>NaN</td>\n",
       "      <td>NaN</td>\n",
       "      <td>NaN</td>\n",
       "      <td>NaN</td>\n",
       "      <td>3.0</td>\n",
       "      <td>NaN</td>\n",
       "      <td>NaN</td>\n",
       "      <td>4.0</td>\n",
       "      <td>NaN</td>\n",
       "      <td>NaN</td>\n",
       "      <td>NaN</td>\n",
       "      <td>NaN</td>\n",
       "      <td>NaN</td>\n",
       "      <td>4.0</td>\n",
       "      <td>NaN</td>\n",
       "      <td>NaN</td>\n",
       "      <td>NaN</td>\n",
       "      <td>NaN</td>\n",
       "      <td>NaN</td>\n",
       "      <td>NaN</td>\n",
       "      <td>NaN</td>\n",
       "      <td>NaN</td>\n",
       "      <td>NaN</td>\n",
       "      <td>NaN</td>\n",
       "      <td>NaN</td>\n",
       "      <td>NaN</td>\n",
       "      <td>NaN</td>\n",
       "      <td>NaN</td>\n",
       "      <td>NaN</td>\n",
       "      <td>NaN</td>\n",
       "      <td>NaN</td>\n",
       "      <td>NaN</td>\n",
       "    </tr>\n",
       "    <tr>\n",
       "      <th>...</th>\n",
       "      <td>...</td>\n",
       "      <td>...</td>\n",
       "      <td>...</td>\n",
       "      <td>...</td>\n",
       "      <td>...</td>\n",
       "      <td>...</td>\n",
       "      <td>...</td>\n",
       "      <td>...</td>\n",
       "      <td>...</td>\n",
       "      <td>...</td>\n",
       "      <td>...</td>\n",
       "      <td>...</td>\n",
       "      <td>...</td>\n",
       "      <td>...</td>\n",
       "      <td>...</td>\n",
       "      <td>...</td>\n",
       "      <td>...</td>\n",
       "      <td>...</td>\n",
       "      <td>...</td>\n",
       "      <td>...</td>\n",
       "      <td>...</td>\n",
       "      <td>...</td>\n",
       "      <td>...</td>\n",
       "      <td>...</td>\n",
       "      <td>...</td>\n",
       "      <td>...</td>\n",
       "      <td>...</td>\n",
       "      <td>...</td>\n",
       "      <td>...</td>\n",
       "      <td>...</td>\n",
       "      <td>...</td>\n",
       "      <td>...</td>\n",
       "      <td>...</td>\n",
       "      <td>...</td>\n",
       "      <td>...</td>\n",
       "      <td>...</td>\n",
       "      <td>...</td>\n",
       "      <td>...</td>\n",
       "      <td>...</td>\n",
       "      <td>...</td>\n",
       "      <td>...</td>\n",
       "      <td>...</td>\n",
       "      <td>...</td>\n",
       "      <td>...</td>\n",
       "      <td>...</td>\n",
       "      <td>...</td>\n",
       "      <td>...</td>\n",
       "      <td>...</td>\n",
       "      <td>...</td>\n",
       "      <td>...</td>\n",
       "      <td>...</td>\n",
       "      <td>...</td>\n",
       "      <td>...</td>\n",
       "      <td>...</td>\n",
       "      <td>...</td>\n",
       "      <td>...</td>\n",
       "      <td>...</td>\n",
       "      <td>...</td>\n",
       "      <td>...</td>\n",
       "      <td>...</td>\n",
       "      <td>...</td>\n",
       "      <td>...</td>\n",
       "      <td>...</td>\n",
       "      <td>...</td>\n",
       "      <td>...</td>\n",
       "      <td>...</td>\n",
       "      <td>...</td>\n",
       "      <td>...</td>\n",
       "      <td>...</td>\n",
       "      <td>...</td>\n",
       "      <td>...</td>\n",
       "      <td>...</td>\n",
       "      <td>...</td>\n",
       "      <td>...</td>\n",
       "      <td>...</td>\n",
       "      <td>...</td>\n",
       "      <td>...</td>\n",
       "      <td>...</td>\n",
       "      <td>...</td>\n",
       "      <td>...</td>\n",
       "      <td>...</td>\n",
       "    </tr>\n",
       "    <tr>\n",
       "      <th>1678.0</th>\n",
       "      <td>NaN</td>\n",
       "      <td>NaN</td>\n",
       "      <td>NaN</td>\n",
       "      <td>NaN</td>\n",
       "      <td>NaN</td>\n",
       "      <td>NaN</td>\n",
       "      <td>NaN</td>\n",
       "      <td>NaN</td>\n",
       "      <td>NaN</td>\n",
       "      <td>NaN</td>\n",
       "      <td>NaN</td>\n",
       "      <td>NaN</td>\n",
       "      <td>NaN</td>\n",
       "      <td>NaN</td>\n",
       "      <td>NaN</td>\n",
       "      <td>NaN</td>\n",
       "      <td>NaN</td>\n",
       "      <td>NaN</td>\n",
       "      <td>NaN</td>\n",
       "      <td>NaN</td>\n",
       "      <td>NaN</td>\n",
       "      <td>NaN</td>\n",
       "      <td>NaN</td>\n",
       "      <td>NaN</td>\n",
       "      <td>NaN</td>\n",
       "      <td>NaN</td>\n",
       "      <td>NaN</td>\n",
       "      <td>NaN</td>\n",
       "      <td>NaN</td>\n",
       "      <td>NaN</td>\n",
       "      <td>NaN</td>\n",
       "      <td>NaN</td>\n",
       "      <td>NaN</td>\n",
       "      <td>NaN</td>\n",
       "      <td>NaN</td>\n",
       "      <td>NaN</td>\n",
       "      <td>NaN</td>\n",
       "      <td>NaN</td>\n",
       "      <td>NaN</td>\n",
       "      <td>NaN</td>\n",
       "      <td>...</td>\n",
       "      <td>NaN</td>\n",
       "      <td>NaN</td>\n",
       "      <td>NaN</td>\n",
       "      <td>NaN</td>\n",
       "      <td>NaN</td>\n",
       "      <td>NaN</td>\n",
       "      <td>NaN</td>\n",
       "      <td>NaN</td>\n",
       "      <td>NaN</td>\n",
       "      <td>NaN</td>\n",
       "      <td>NaN</td>\n",
       "      <td>NaN</td>\n",
       "      <td>NaN</td>\n",
       "      <td>NaN</td>\n",
       "      <td>NaN</td>\n",
       "      <td>NaN</td>\n",
       "      <td>NaN</td>\n",
       "      <td>NaN</td>\n",
       "      <td>NaN</td>\n",
       "      <td>NaN</td>\n",
       "      <td>NaN</td>\n",
       "      <td>NaN</td>\n",
       "      <td>NaN</td>\n",
       "      <td>NaN</td>\n",
       "      <td>NaN</td>\n",
       "      <td>NaN</td>\n",
       "      <td>NaN</td>\n",
       "      <td>NaN</td>\n",
       "      <td>NaN</td>\n",
       "      <td>NaN</td>\n",
       "      <td>NaN</td>\n",
       "      <td>NaN</td>\n",
       "      <td>NaN</td>\n",
       "      <td>NaN</td>\n",
       "      <td>NaN</td>\n",
       "      <td>NaN</td>\n",
       "      <td>NaN</td>\n",
       "      <td>NaN</td>\n",
       "      <td>NaN</td>\n",
       "      <td>NaN</td>\n",
       "    </tr>\n",
       "    <tr>\n",
       "      <th>1679.0</th>\n",
       "      <td>NaN</td>\n",
       "      <td>NaN</td>\n",
       "      <td>NaN</td>\n",
       "      <td>NaN</td>\n",
       "      <td>NaN</td>\n",
       "      <td>NaN</td>\n",
       "      <td>NaN</td>\n",
       "      <td>NaN</td>\n",
       "      <td>NaN</td>\n",
       "      <td>NaN</td>\n",
       "      <td>NaN</td>\n",
       "      <td>NaN</td>\n",
       "      <td>NaN</td>\n",
       "      <td>NaN</td>\n",
       "      <td>NaN</td>\n",
       "      <td>NaN</td>\n",
       "      <td>NaN</td>\n",
       "      <td>NaN</td>\n",
       "      <td>NaN</td>\n",
       "      <td>NaN</td>\n",
       "      <td>NaN</td>\n",
       "      <td>NaN</td>\n",
       "      <td>NaN</td>\n",
       "      <td>NaN</td>\n",
       "      <td>NaN</td>\n",
       "      <td>NaN</td>\n",
       "      <td>NaN</td>\n",
       "      <td>NaN</td>\n",
       "      <td>NaN</td>\n",
       "      <td>NaN</td>\n",
       "      <td>NaN</td>\n",
       "      <td>NaN</td>\n",
       "      <td>NaN</td>\n",
       "      <td>NaN</td>\n",
       "      <td>NaN</td>\n",
       "      <td>NaN</td>\n",
       "      <td>NaN</td>\n",
       "      <td>NaN</td>\n",
       "      <td>NaN</td>\n",
       "      <td>NaN</td>\n",
       "      <td>...</td>\n",
       "      <td>NaN</td>\n",
       "      <td>NaN</td>\n",
       "      <td>NaN</td>\n",
       "      <td>NaN</td>\n",
       "      <td>NaN</td>\n",
       "      <td>NaN</td>\n",
       "      <td>NaN</td>\n",
       "      <td>NaN</td>\n",
       "      <td>NaN</td>\n",
       "      <td>NaN</td>\n",
       "      <td>NaN</td>\n",
       "      <td>NaN</td>\n",
       "      <td>NaN</td>\n",
       "      <td>NaN</td>\n",
       "      <td>NaN</td>\n",
       "      <td>NaN</td>\n",
       "      <td>NaN</td>\n",
       "      <td>NaN</td>\n",
       "      <td>NaN</td>\n",
       "      <td>NaN</td>\n",
       "      <td>NaN</td>\n",
       "      <td>NaN</td>\n",
       "      <td>NaN</td>\n",
       "      <td>NaN</td>\n",
       "      <td>NaN</td>\n",
       "      <td>NaN</td>\n",
       "      <td>NaN</td>\n",
       "      <td>NaN</td>\n",
       "      <td>NaN</td>\n",
       "      <td>NaN</td>\n",
       "      <td>NaN</td>\n",
       "      <td>NaN</td>\n",
       "      <td>NaN</td>\n",
       "      <td>NaN</td>\n",
       "      <td>NaN</td>\n",
       "      <td>NaN</td>\n",
       "      <td>NaN</td>\n",
       "      <td>NaN</td>\n",
       "      <td>NaN</td>\n",
       "      <td>NaN</td>\n",
       "    </tr>\n",
       "    <tr>\n",
       "      <th>1680.0</th>\n",
       "      <td>NaN</td>\n",
       "      <td>NaN</td>\n",
       "      <td>NaN</td>\n",
       "      <td>NaN</td>\n",
       "      <td>NaN</td>\n",
       "      <td>NaN</td>\n",
       "      <td>NaN</td>\n",
       "      <td>NaN</td>\n",
       "      <td>NaN</td>\n",
       "      <td>NaN</td>\n",
       "      <td>NaN</td>\n",
       "      <td>NaN</td>\n",
       "      <td>NaN</td>\n",
       "      <td>NaN</td>\n",
       "      <td>NaN</td>\n",
       "      <td>NaN</td>\n",
       "      <td>NaN</td>\n",
       "      <td>NaN</td>\n",
       "      <td>NaN</td>\n",
       "      <td>NaN</td>\n",
       "      <td>NaN</td>\n",
       "      <td>NaN</td>\n",
       "      <td>NaN</td>\n",
       "      <td>NaN</td>\n",
       "      <td>NaN</td>\n",
       "      <td>NaN</td>\n",
       "      <td>NaN</td>\n",
       "      <td>NaN</td>\n",
       "      <td>NaN</td>\n",
       "      <td>NaN</td>\n",
       "      <td>NaN</td>\n",
       "      <td>NaN</td>\n",
       "      <td>NaN</td>\n",
       "      <td>NaN</td>\n",
       "      <td>NaN</td>\n",
       "      <td>NaN</td>\n",
       "      <td>NaN</td>\n",
       "      <td>NaN</td>\n",
       "      <td>NaN</td>\n",
       "      <td>NaN</td>\n",
       "      <td>...</td>\n",
       "      <td>NaN</td>\n",
       "      <td>NaN</td>\n",
       "      <td>NaN</td>\n",
       "      <td>NaN</td>\n",
       "      <td>NaN</td>\n",
       "      <td>NaN</td>\n",
       "      <td>NaN</td>\n",
       "      <td>NaN</td>\n",
       "      <td>NaN</td>\n",
       "      <td>NaN</td>\n",
       "      <td>NaN</td>\n",
       "      <td>NaN</td>\n",
       "      <td>NaN</td>\n",
       "      <td>NaN</td>\n",
       "      <td>NaN</td>\n",
       "      <td>NaN</td>\n",
       "      <td>NaN</td>\n",
       "      <td>NaN</td>\n",
       "      <td>NaN</td>\n",
       "      <td>NaN</td>\n",
       "      <td>NaN</td>\n",
       "      <td>NaN</td>\n",
       "      <td>NaN</td>\n",
       "      <td>NaN</td>\n",
       "      <td>NaN</td>\n",
       "      <td>NaN</td>\n",
       "      <td>NaN</td>\n",
       "      <td>NaN</td>\n",
       "      <td>NaN</td>\n",
       "      <td>NaN</td>\n",
       "      <td>NaN</td>\n",
       "      <td>NaN</td>\n",
       "      <td>NaN</td>\n",
       "      <td>NaN</td>\n",
       "      <td>NaN</td>\n",
       "      <td>NaN</td>\n",
       "      <td>NaN</td>\n",
       "      <td>NaN</td>\n",
       "      <td>NaN</td>\n",
       "      <td>NaN</td>\n",
       "    </tr>\n",
       "    <tr>\n",
       "      <th>1681.0</th>\n",
       "      <td>NaN</td>\n",
       "      <td>NaN</td>\n",
       "      <td>NaN</td>\n",
       "      <td>NaN</td>\n",
       "      <td>NaN</td>\n",
       "      <td>NaN</td>\n",
       "      <td>NaN</td>\n",
       "      <td>NaN</td>\n",
       "      <td>NaN</td>\n",
       "      <td>NaN</td>\n",
       "      <td>NaN</td>\n",
       "      <td>NaN</td>\n",
       "      <td>NaN</td>\n",
       "      <td>NaN</td>\n",
       "      <td>NaN</td>\n",
       "      <td>NaN</td>\n",
       "      <td>NaN</td>\n",
       "      <td>NaN</td>\n",
       "      <td>NaN</td>\n",
       "      <td>NaN</td>\n",
       "      <td>NaN</td>\n",
       "      <td>NaN</td>\n",
       "      <td>NaN</td>\n",
       "      <td>NaN</td>\n",
       "      <td>NaN</td>\n",
       "      <td>NaN</td>\n",
       "      <td>NaN</td>\n",
       "      <td>NaN</td>\n",
       "      <td>NaN</td>\n",
       "      <td>NaN</td>\n",
       "      <td>NaN</td>\n",
       "      <td>NaN</td>\n",
       "      <td>NaN</td>\n",
       "      <td>NaN</td>\n",
       "      <td>NaN</td>\n",
       "      <td>NaN</td>\n",
       "      <td>NaN</td>\n",
       "      <td>NaN</td>\n",
       "      <td>NaN</td>\n",
       "      <td>NaN</td>\n",
       "      <td>...</td>\n",
       "      <td>NaN</td>\n",
       "      <td>NaN</td>\n",
       "      <td>NaN</td>\n",
       "      <td>NaN</td>\n",
       "      <td>NaN</td>\n",
       "      <td>NaN</td>\n",
       "      <td>NaN</td>\n",
       "      <td>NaN</td>\n",
       "      <td>NaN</td>\n",
       "      <td>NaN</td>\n",
       "      <td>NaN</td>\n",
       "      <td>NaN</td>\n",
       "      <td>NaN</td>\n",
       "      <td>NaN</td>\n",
       "      <td>NaN</td>\n",
       "      <td>NaN</td>\n",
       "      <td>NaN</td>\n",
       "      <td>NaN</td>\n",
       "      <td>NaN</td>\n",
       "      <td>NaN</td>\n",
       "      <td>NaN</td>\n",
       "      <td>NaN</td>\n",
       "      <td>NaN</td>\n",
       "      <td>NaN</td>\n",
       "      <td>NaN</td>\n",
       "      <td>NaN</td>\n",
       "      <td>NaN</td>\n",
       "      <td>NaN</td>\n",
       "      <td>NaN</td>\n",
       "      <td>NaN</td>\n",
       "      <td>NaN</td>\n",
       "      <td>NaN</td>\n",
       "      <td>NaN</td>\n",
       "      <td>NaN</td>\n",
       "      <td>NaN</td>\n",
       "      <td>NaN</td>\n",
       "      <td>NaN</td>\n",
       "      <td>NaN</td>\n",
       "      <td>NaN</td>\n",
       "      <td>NaN</td>\n",
       "    </tr>\n",
       "    <tr>\n",
       "      <th>1682.0</th>\n",
       "      <td>NaN</td>\n",
       "      <td>NaN</td>\n",
       "      <td>NaN</td>\n",
       "      <td>NaN</td>\n",
       "      <td>NaN</td>\n",
       "      <td>NaN</td>\n",
       "      <td>NaN</td>\n",
       "      <td>NaN</td>\n",
       "      <td>NaN</td>\n",
       "      <td>NaN</td>\n",
       "      <td>NaN</td>\n",
       "      <td>NaN</td>\n",
       "      <td>NaN</td>\n",
       "      <td>NaN</td>\n",
       "      <td>NaN</td>\n",
       "      <td>NaN</td>\n",
       "      <td>NaN</td>\n",
       "      <td>NaN</td>\n",
       "      <td>NaN</td>\n",
       "      <td>NaN</td>\n",
       "      <td>NaN</td>\n",
       "      <td>NaN</td>\n",
       "      <td>NaN</td>\n",
       "      <td>NaN</td>\n",
       "      <td>NaN</td>\n",
       "      <td>NaN</td>\n",
       "      <td>NaN</td>\n",
       "      <td>NaN</td>\n",
       "      <td>NaN</td>\n",
       "      <td>NaN</td>\n",
       "      <td>NaN</td>\n",
       "      <td>NaN</td>\n",
       "      <td>NaN</td>\n",
       "      <td>NaN</td>\n",
       "      <td>NaN</td>\n",
       "      <td>NaN</td>\n",
       "      <td>NaN</td>\n",
       "      <td>NaN</td>\n",
       "      <td>NaN</td>\n",
       "      <td>NaN</td>\n",
       "      <td>...</td>\n",
       "      <td>NaN</td>\n",
       "      <td>NaN</td>\n",
       "      <td>NaN</td>\n",
       "      <td>NaN</td>\n",
       "      <td>NaN</td>\n",
       "      <td>NaN</td>\n",
       "      <td>NaN</td>\n",
       "      <td>NaN</td>\n",
       "      <td>NaN</td>\n",
       "      <td>NaN</td>\n",
       "      <td>NaN</td>\n",
       "      <td>NaN</td>\n",
       "      <td>3.0</td>\n",
       "      <td>NaN</td>\n",
       "      <td>NaN</td>\n",
       "      <td>NaN</td>\n",
       "      <td>NaN</td>\n",
       "      <td>NaN</td>\n",
       "      <td>NaN</td>\n",
       "      <td>NaN</td>\n",
       "      <td>NaN</td>\n",
       "      <td>NaN</td>\n",
       "      <td>NaN</td>\n",
       "      <td>NaN</td>\n",
       "      <td>NaN</td>\n",
       "      <td>NaN</td>\n",
       "      <td>NaN</td>\n",
       "      <td>NaN</td>\n",
       "      <td>NaN</td>\n",
       "      <td>NaN</td>\n",
       "      <td>NaN</td>\n",
       "      <td>NaN</td>\n",
       "      <td>NaN</td>\n",
       "      <td>NaN</td>\n",
       "      <td>NaN</td>\n",
       "      <td>NaN</td>\n",
       "      <td>NaN</td>\n",
       "      <td>NaN</td>\n",
       "      <td>NaN</td>\n",
       "      <td>NaN</td>\n",
       "    </tr>\n",
       "  </tbody>\n",
       "</table>\n",
       "<p>1682 rows × 943 columns</p>\n",
       "</div>\n",
       "      <button class=\"colab-df-convert\" onclick=\"convertToInteractive('df-7d622ab2-31f9-494b-8437-7f5b0d83fc81')\"\n",
       "              title=\"Convert this dataframe to an interactive table.\"\n",
       "              style=\"display:none;\">\n",
       "        \n",
       "  <svg xmlns=\"http://www.w3.org/2000/svg\" height=\"24px\"viewBox=\"0 0 24 24\"\n",
       "       width=\"24px\">\n",
       "    <path d=\"M0 0h24v24H0V0z\" fill=\"none\"/>\n",
       "    <path d=\"M18.56 5.44l.94 2.06.94-2.06 2.06-.94-2.06-.94-.94-2.06-.94 2.06-2.06.94zm-11 1L8.5 8.5l.94-2.06 2.06-.94-2.06-.94L8.5 2.5l-.94 2.06-2.06.94zm10 10l.94 2.06.94-2.06 2.06-.94-2.06-.94-.94-2.06-.94 2.06-2.06.94z\"/><path d=\"M17.41 7.96l-1.37-1.37c-.4-.4-.92-.59-1.43-.59-.52 0-1.04.2-1.43.59L10.3 9.45l-7.72 7.72c-.78.78-.78 2.05 0 2.83L4 21.41c.39.39.9.59 1.41.59.51 0 1.02-.2 1.41-.59l7.78-7.78 2.81-2.81c.8-.78.8-2.07 0-2.86zM5.41 20L4 18.59l7.72-7.72 1.47 1.35L5.41 20z\"/>\n",
       "  </svg>\n",
       "      </button>\n",
       "      \n",
       "  <style>\n",
       "    .colab-df-container {\n",
       "      display:flex;\n",
       "      flex-wrap:wrap;\n",
       "      gap: 12px;\n",
       "    }\n",
       "\n",
       "    .colab-df-convert {\n",
       "      background-color: #E8F0FE;\n",
       "      border: none;\n",
       "      border-radius: 50%;\n",
       "      cursor: pointer;\n",
       "      display: none;\n",
       "      fill: #1967D2;\n",
       "      height: 32px;\n",
       "      padding: 0 0 0 0;\n",
       "      width: 32px;\n",
       "    }\n",
       "\n",
       "    .colab-df-convert:hover {\n",
       "      background-color: #E2EBFA;\n",
       "      box-shadow: 0px 1px 2px rgba(60, 64, 67, 0.3), 0px 1px 3px 1px rgba(60, 64, 67, 0.15);\n",
       "      fill: #174EA6;\n",
       "    }\n",
       "\n",
       "    [theme=dark] .colab-df-convert {\n",
       "      background-color: #3B4455;\n",
       "      fill: #D2E3FC;\n",
       "    }\n",
       "\n",
       "    [theme=dark] .colab-df-convert:hover {\n",
       "      background-color: #434B5C;\n",
       "      box-shadow: 0px 1px 3px 1px rgba(0, 0, 0, 0.15);\n",
       "      filter: drop-shadow(0px 1px 2px rgba(0, 0, 0, 0.3));\n",
       "      fill: #FFFFFF;\n",
       "    }\n",
       "  </style>\n",
       "\n",
       "      <script>\n",
       "        const buttonEl =\n",
       "          document.querySelector('#df-7d622ab2-31f9-494b-8437-7f5b0d83fc81 button.colab-df-convert');\n",
       "        buttonEl.style.display =\n",
       "          google.colab.kernel.accessAllowed ? 'block' : 'none';\n",
       "\n",
       "        async function convertToInteractive(key) {\n",
       "          const element = document.querySelector('#df-7d622ab2-31f9-494b-8437-7f5b0d83fc81');\n",
       "          const dataTable =\n",
       "            await google.colab.kernel.invokeFunction('convertToInteractive',\n",
       "                                                     [key], {});\n",
       "          if (!dataTable) return;\n",
       "\n",
       "          const docLinkHtml = 'Like what you see? Visit the ' +\n",
       "            '<a target=\"_blank\" href=https://colab.research.google.com/notebooks/data_table.ipynb>data table notebook</a>'\n",
       "            + ' to learn more about interactive tables.';\n",
       "          element.innerHTML = '';\n",
       "          dataTable['output_type'] = 'display_data';\n",
       "          await google.colab.output.renderOutput(dataTable, element);\n",
       "          const docLink = document.createElement('div');\n",
       "          docLink.innerHTML = docLinkHtml;\n",
       "          element.appendChild(docLink);\n",
       "        }\n",
       "      </script>\n",
       "    </div>\n",
       "  </div>\n",
       "  "
      ],
      "text/plain": [
       "userId  1.0    2.0    3.0    4.0    5.0    ...  939.0  940.0  941.0  942.0  943.0\n",
       "itemId                                     ...                                   \n",
       "1.0       5.0    4.0    NaN    NaN    4.0  ...    NaN    NaN    5.0    NaN    NaN\n",
       "2.0       3.0    NaN    NaN    NaN    3.0  ...    NaN    NaN    NaN    NaN    5.0\n",
       "3.0       4.0    NaN    NaN    NaN    NaN  ...    NaN    NaN    NaN    NaN    NaN\n",
       "4.0       3.0    NaN    NaN    NaN    NaN  ...    NaN    2.0    NaN    NaN    NaN\n",
       "5.0       3.0    NaN    NaN    NaN    NaN  ...    NaN    NaN    NaN    NaN    NaN\n",
       "...       ...    ...    ...    ...    ...  ...    ...    ...    ...    ...    ...\n",
       "1678.0    NaN    NaN    NaN    NaN    NaN  ...    NaN    NaN    NaN    NaN    NaN\n",
       "1679.0    NaN    NaN    NaN    NaN    NaN  ...    NaN    NaN    NaN    NaN    NaN\n",
       "1680.0    NaN    NaN    NaN    NaN    NaN  ...    NaN    NaN    NaN    NaN    NaN\n",
       "1681.0    NaN    NaN    NaN    NaN    NaN  ...    NaN    NaN    NaN    NaN    NaN\n",
       "1682.0    NaN    NaN    NaN    NaN    NaN  ...    NaN    NaN    NaN    NaN    NaN\n",
       "\n",
       "[1682 rows x 943 columns]"
      ]
     },
     "execution_count": 7,
     "metadata": {},
     "output_type": "execute_result"
    }
   ],
   "source": [
    "df_ratings_pivot"
   ]
  },
  {
   "cell_type": "markdown",
   "metadata": {
    "id": "p-_R5aMqCbm9"
   },
   "source": [
    "\n",
    "> User-Item Matrix is very sparse as you can see. What can we do?\n",
    "\n",
    "\n",
    "* We can do nothing, keep original matrix and just take intersections while computing similarities.\n",
    "* NaN values can be filled with **global mean**.\n",
    "* They can be filled with **user's mean** or **item's mean**."
   ]
  },
  {
   "cell_type": "markdown",
   "metadata": {
    "id": "zoBYsRzV3IxY"
   },
   "source": [
    "* 93% of the table has no value"
   ]
  },
  {
   "cell_type": "code",
   "execution_count": 8,
   "metadata": {
    "colab": {
     "base_uri": "https://localhost:8080/"
    },
    "id": "HpKqaDJ_wXLV",
    "outputId": "518cd528-544e-4fec-b8bd-3d22dc8a7d43"
   },
   "outputs": [
    {
     "data": {
      "text/plain": [
       "0.9369533063577546"
      ]
     },
     "execution_count": 8,
     "metadata": {},
     "output_type": "execute_result"
    }
   ],
   "source": [
    "df_ratings_pivot.isna().sum().sum()/(df_ratings_pivot.shape[0]*df_ratings_pivot.shape[1])"
   ]
  },
  {
   "cell_type": "markdown",
   "metadata": {
    "id": "9OLaTD3D3VHE"
   },
   "source": [
    "* How many movies have watched or rated by an average person?"
   ]
  },
  {
   "cell_type": "code",
   "execution_count": 9,
   "metadata": {
    "colab": {
     "base_uri": "https://localhost:8080/"
    },
    "id": "RwuPRpiI03A8",
    "outputId": "1b761ba7-fb00-48f4-8f7c-8f37e06920ea"
   },
   "outputs": [
    {
     "data": {
      "text/plain": [
       "userId\n",
       "1.0      1410\n",
       "2.0      1620\n",
       "3.0      1628\n",
       "4.0      1658\n",
       "5.0      1507\n",
       "         ... \n",
       "939.0    1633\n",
       "940.0    1575\n",
       "941.0    1660\n",
       "942.0    1603\n",
       "943.0    1514\n",
       "Length: 943, dtype: int64"
      ]
     },
     "execution_count": 9,
     "metadata": {},
     "output_type": "execute_result"
    }
   ],
   "source": [
    "df_ratings_pivot.isna().sum() # NaN counts of each column/each user"
   ]
  },
  {
   "cell_type": "code",
   "execution_count": 10,
   "metadata": {
    "colab": {
     "base_uri": "https://localhost:8080/"
    },
    "id": "Z_d3_QSf1KGm",
    "outputId": "13d4d594-bf5c-4325-d1b8-f42bbfd5d27e"
   },
   "outputs": [
    {
     "data": {
      "text/plain": [
       "1682"
      ]
     },
     "execution_count": 10,
     "metadata": {},
     "output_type": "execute_result"
    }
   ],
   "source": [
    "number_of_items = len(df_ratings_pivot)\n",
    "number_of_items"
   ]
  },
  {
   "cell_type": "code",
   "execution_count": 11,
   "metadata": {
    "colab": {
     "base_uri": "https://localhost:8080/"
    },
    "id": "CC6LJu0ewu9V",
    "outputId": "a06f9cb3-063c-49d3-c7c9-21812b57d4a1"
   },
   "outputs": [
    {
     "data": {
      "text/plain": [
       "106.04453870625663"
      ]
     },
     "execution_count": 11,
     "metadata": {},
     "output_type": "execute_result"
    }
   ],
   "source": [
    "(number_of_items - df_ratings_pivot.isna().sum()).mean()"
   ]
  },
  {
   "cell_type": "markdown",
   "metadata": {
    "id": "IvqpKZz83kA5"
   },
   "source": [
    "* How many people watched or rated a movie for average?"
   ]
  },
  {
   "cell_type": "code",
   "execution_count": 12,
   "metadata": {
    "colab": {
     "base_uri": "https://localhost:8080/"
    },
    "id": "HIytjN_51q0B",
    "outputId": "d22d13d7-3f6b-48f8-d9d0-6263a0cdeba4"
   },
   "outputs": [
    {
     "data": {
      "text/plain": [
       "943"
      ]
     },
     "execution_count": 12,
     "metadata": {},
     "output_type": "execute_result"
    }
   ],
   "source": [
    "number_of_users = len(df_ratings_pivot.T)\n",
    "number_of_users"
   ]
  },
  {
   "cell_type": "code",
   "execution_count": 13,
   "metadata": {
    "colab": {
     "base_uri": "https://localhost:8080/"
    },
    "id": "ax7YgXWcxSYj",
    "outputId": "11b5db93-2890-46fd-acb3-b059f8879dfb"
   },
   "outputs": [
    {
     "data": {
      "text/plain": [
       "59.45303210463734"
      ]
     },
     "execution_count": 13,
     "metadata": {},
     "output_type": "execute_result"
    }
   ],
   "source": [
    "(number_of_users - df_ratings_pivot.isna().T.sum()).mean()"
   ]
  },
  {
   "cell_type": "markdown",
   "metadata": {
    "id": "CwLsDtIaIVWE"
   },
   "source": [
    "### Model Based Solution to Collaborative Approach\n",
    "\n",
    "* FunkSVD class in the library will be used.\n",
    "\n",
    "* **S**ingular **V**alue **D**ecomposition :\n",
    "    * Data Reduction\n",
    "    * Basis PCA (Key Correlations)\n",
    "    * [Tutorial for SVD](https://www.youtube.com/watch?v=gXbThCXjZFM)\n",
    "\n",
    "* **FunkSVD :** Funk SVD decomposes a matrix (with missing values) into two components **(U)** and **(V)**. The singular values are folded into these matrices. The approximation for the original matrix can be obtained by **\\(R = UV' \\)**.\n"
   ]
  },
  {
   "cell_type": "markdown",
   "metadata": {
    "id": "0B1CRLRk3qsr"
   },
   "source": [
    "![image.png](data:image/png;base64,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)"
   ]
  },
  {
   "cell_type": "markdown",
   "metadata": {
    "id": "gL6Rdu0q4CBN"
   },
   "source": [
    "* We do not analyze all class code row by row, but it is important to learn how to multiply matrixes, calculate the error and update the parameters. These are the basic logic of model based approach. "
   ]
  },
  {
   "cell_type": "code",
   "execution_count": 14,
   "metadata": {
    "id": "ePBn4id-8ECm"
   },
   "outputs": [],
   "source": [
    "class FunkSVD():\n",
    "\n",
    "    def __init__(self):\n",
    "        # Initialize default hyperparameters\n",
    "        self.set_hyperparameters()\n",
    "\n",
    "    def set_hyperparameters(self, initialization_method='random',\n",
    "                            max_epoch=5, n_latent=10, learning_rate=0.01, \n",
    "                            regularization=0.1, early_stopping=False, \n",
    "                            init_mean=0, init_std=1):\n",
    "      \n",
    "        self.initialization_method = initialization_method\n",
    "        self.max_epoch = max_epoch\n",
    "        self.n_latent = n_latent\n",
    "        self.learning_rate = learning_rate\n",
    "        self.regularization = regularization\n",
    "        self.early_stopping = early_stopping\n",
    "        self.init_mean = init_mean\n",
    "        self.init_std = init_std\n",
    "\n",
    "        self.min_train_error = np.inf\n",
    "        self.min_test_error = np.inf\n",
    "\n",
    "    # unique users, unique items, train-test split, user informed etc.    \n",
    "    def __set_data(self, data, test_portion):\n",
    "\n",
    "        # get distinct users, items and user_existing_ratings, items_existing_users\n",
    "        self.user_existing_ratings = {}\n",
    "        self.items_rated_by_users = {}\n",
    "        self.user_ids = []\n",
    "        self.item_ids = []\n",
    "\n",
    "        np.random.shuffle(data)\n",
    "\n",
    "        # variables for train and test split\n",
    "        user_dictionary = {}\n",
    "        item_dictionary = {}\n",
    "        self.train_data = []\n",
    "        self.test_data = []\n",
    "\n",
    "        self.train_data_user_ids = []\n",
    "        self.train_data_item_ids = []\n",
    "        self.test_data_user_ids = []\n",
    "        self.test_data_item_ids = []\n",
    "\n",
    "        for user, item, score in data:\n",
    "            # Unique users and items\n",
    "\n",
    "            try:\n",
    "                user = int(user)\n",
    "            except:\n",
    "                pass\n",
    "            try:\n",
    "                item = int(item)\n",
    "            except:\n",
    "                pass\n",
    "\n",
    "            user = str(user)\n",
    "            item = str(item)\n",
    "            score = float(score)\n",
    "\n",
    "            if user not in self.user_existing_ratings:\n",
    "                self.user_ids.append(user)\n",
    "            if item not in self.items_rated_by_users:\n",
    "                self.item_ids.append(item)\n",
    "\n",
    "            self.items_rated_by_users.setdefault(item, []).append(user)\n",
    "            self.user_existing_ratings.setdefault(user, []).append(item)\n",
    "\n",
    "            ratio = len(self.test_data) / (len(self.train_data)+0.001)\n",
    "\n",
    "            if self.test_split:\n",
    "                # train and test set\n",
    "                user_dictionary.setdefault(user, 0)\n",
    "                item_dictionary.setdefault(item, 0)\n",
    "\n",
    "                if user_dictionary[user] * test_portion >= 1 and item_dictionary[item] * test_portion >= 1 and ratio <= test_portion+0.02:\n",
    "\n",
    "                    self.test_data.append([user, item, score])\n",
    "                    if user not in self.test_data_user_ids: self.test_data_user_ids.append(user)\n",
    "                    if item not in self.train_data_item_ids: self.test_data_item_ids.append(item)\n",
    "\n",
    "                    user_dictionary[user] -= 1\n",
    "                    item_dictionary[item] -= 1\n",
    "\n",
    "                else:\n",
    "                    self.train_data.append([user, item, score])\n",
    "                    if user not in self.train_data_user_ids: self.train_data_user_ids.append(user)\n",
    "                    if item not in self.train_data_item_ids: self.train_data_item_ids.append(item)\n",
    "\n",
    "                    user_dictionary[user] += 1\n",
    "                    item_dictionary[item] += 1\n",
    "            else:\n",
    "                self.train_data.append([user, item, score])\n",
    "                if user not in self.train_data_user_ids: self.train_data_user_ids.append(user)\n",
    "                if item not in self.train_data_item_ids: self.train_data_item_ids.append(item)\n",
    "\n",
    "        print('Your data has {} distinct users and {} distinct items.'.format(\n",
    "            len(self.user_ids), len(self.item_ids)))\n",
    "\n",
    "        if len(self.test_data) < 1 and self.test_split:\n",
    "            self.test_split = False\n",
    "            self.early_stopping = False\n",
    "            print(\"Training set doesn't have enough data for given test portion.\")\n",
    "\n",
    "        if self.test_split:\n",
    "\n",
    "            print('Your data has been split into train and test set.')\n",
    "            print('Length of training set is {}. Length of Test set is {}'.format(\n",
    "                len(self.train_data), len(self.test_data)))\n",
    "        else:\n",
    "\n",
    "            print('Your data has no test set.')\n",
    "            print('Length of training set is {}'.format(len(self.train_data)))\n",
    "\n",
    "    def fit(self, data, test_split=True, test_portion=0.1, search_parameter_space=False):\n",
    "\n",
    "        # Set train_data, test_data, user_ids etc. if search parameter is False\n",
    "        # If True, this lets us search parameter space with the same train-test split\n",
    "        if not search_parameter_space:\n",
    "\n",
    "            self.test_split = test_split\n",
    "            self.__set_data(data, test_portion)\n",
    "\n",
    "        # Initialization\n",
    "        print('Initializing features for Users and Items...')\n",
    "        initial = initializer(self.user_ids, self.item_ids, self.initialization_method,\n",
    "                              self.n_latent, self.init_mean, self.init_std)\n",
    "\n",
    "        self.user_features, self.item_features = initial.initialize_latent_vectors()\n",
    "\n",
    "        # Training\n",
    "        print('Starting training...')\n",
    "        error_counter = 0\n",
    "        for epoch in range(self.max_epoch):\n",
    "\n",
    "            # updating user and item features\n",
    "            for user, item, rating in self.train_data:\n",
    "\n",
    "                error = rating - \\\n",
    "                    np.dot(self.user_features[user], self.item_features[item])\n",
    "                # Use temp to update each item and user feature in sync.\n",
    "                temp = self.user_features[user]\n",
    "\n",
    "                # Update user and item feature for each user, item and rating pair\n",
    "                self.user_features[user] += self.learning_rate * \\\n",
    "                    (error * self.item_features[item] -\n",
    "                     self.regularization * self.user_features[user])\n",
    "                self.item_features[item] += self.learning_rate * \\\n",
    "                    (error * temp - self.regularization *\n",
    "                     self.item_features[item])\n",
    "\n",
    "            # Calculate errors\n",
    "            error_counter += 1\n",
    "            train_error = Test.rmse_error(\n",
    "                self.train_data, self.user_features, self.item_features)\n",
    "\n",
    "            # Show error to Client\n",
    "            if self.test_split:\n",
    "                test_error = Test.rmse_error(\n",
    "                    self.test_data, self.user_features, self.item_features)\n",
    "                print('Epoch Number: {}/{} Training RMSE: {:.2f} Test RMSE: {}'.format(epoch+1, self.max_epoch,\n",
    "                                                                                       train_error, test_error))\n",
    "\n",
    "            else:\n",
    "                print('Epoch Number: {}/{} Training RMSE: {:.2f}'.format(epoch+1, self.max_epoch,\n",
    "                                                                         train_error))\n",
    "\n",
    "            # Save best features depending on test_error\n",
    "            if self.test_split and test_error < self.min_test_error:\n",
    "                self.min_test_error = test_error\n",
    "                self.best_user_features = copy.deepcopy(self.user_features)\n",
    "                self.best_item_features = copy.deepcopy(self.item_features)\n",
    "\n",
    "                error_counter = 0\n",
    "            # Save best features if test data is False\n",
    "            elif not self.test_split and train_error < self.min_train_error:\n",
    "                self.min_train_error = train_error\n",
    "                self.best_user_features = copy.deepcopy(self.user_features)\n",
    "                self.best_item_features = copy.deepcopy(self.item_features)\n",
    "\n",
    "            # Break if test_error didn't improve for the last n rounds and early stopping is true\n",
    "            if self.early_stopping and error_counter >= self.early_stopping:\n",
    "\n",
    "                print(\"Test error didn't get lower for the last {} epochs. Training is stopped.\".format(\n",
    "                    error_counter))\n",
    "                print('Best test error is: {:.2f}. Best features are saved.'.format(\n",
    "                    self.min_test_error))\n",
    "                break\n",
    "\n",
    "        print('Training has ended...')\n",
    "        self.user_features = copy.deepcopy(self.best_user_features)\n",
    "        self.item_features = copy.deepcopy(self.best_item_features)\n",
    "\n",
    "    def get_recommendation_for_existing_user(self, user_id, howMany=10):\n",
    "        result_list = []\n",
    "        # this might be more effective using matrix multiplication\n",
    "        for item in self.item_ids:\n",
    "            # if user did not already rate the item\n",
    "            if item not in self.user_existing_ratings[user_id]:\n",
    "                prediction = np.dot(\n",
    "                    self.user_features[user_id], self.item_features[item])\n",
    "                bisect.insort(result_list, [prediction, item])\n",
    "\n",
    "        return [x[1] for x in result_list[::-1][0:howMany]]\n",
    "\n",
    "    def get_recommendation_for_new_user(self, user_ratings,\n",
    "                                        similarity_measure='mean_squared_difference', howManyUsers=3, howManyItems=5):\n",
    "\n",
    "        # Get user predictions on same movies\n",
    "        user_predictions = self.__user_prediction_for_same_movies(user_ratings)\n",
    "        # Find most most similar user_ids\n",
    "        user_ids = Similarities.get_most_similar_users(\n",
    "            user_ratings, user_predictions, similarity_measure, howManyUsers)\n",
    "\n",
    "        result_list = []\n",
    "        # get user features for users who are most similar to given new user\n",
    "        for user in user_ids:\n",
    "            for item, item_feature in self.item_features.items():\n",
    "                # predict ratings for most similar users\n",
    "                prediction = np.dot(\n",
    "                    self.user_features[user], item_feature)\n",
    "                bisect.insort(result_list, [prediction, item])\n",
    "\n",
    "        # remove duplicates\n",
    "        return_list = []\n",
    "        for pair in result_list:\n",
    "            if len(return_list) >= howManyItems:\n",
    "                break\n",
    "            if pair[1] in return_list:\n",
    "                continue\n",
    "\n",
    "            return_list.append(pair[1])\n",
    "\n",
    "        return return_list\n",
    "\n",
    "    def get_similar_products(self, item_id, howMany=10):\n",
    "\n",
    "        result_list = []\n",
    "        product_features = self.item_features[item_id]\n",
    "\n",
    "        for item in self.item_ids:\n",
    "\n",
    "            if item == item_id:\n",
    "                continue\n",
    "            # add cosine sim function from similarites\n",
    "            cos_sim = Similarities.cosine_similarity(\n",
    "                self.item_features[item], product_features)\n",
    "\n",
    "            bisect.insort(result_list, [cos_sim, item])\n",
    "\n",
    "        return [x[1] for x in result_list[::-1][0:howMany]]\n",
    "\n",
    "    def __user_prediction_for_same_movies(self, user_ratings):\n",
    "        result = {}\n",
    "        for key in user_ratings:\n",
    "            if key not in self.item_features:\n",
    "                continue\n",
    "\n",
    "            for user in self.user_features:\n",
    "                result.setdefault(user, []).append(\n",
    "                    np.dot(self.user_features[user], self.item_features[key]))\n",
    "\n",
    "        return result"
   ]
  },
  {
   "cell_type": "markdown",
   "metadata": {
    "id": "dCvRZ9QusRIW"
   },
   "source": [
    "### Training"
   ]
  },
  {
   "cell_type": "code",
   "execution_count": 15,
   "metadata": {
    "id": "5N9iQFcJ5AZt"
   },
   "outputs": [],
   "source": [
    "from recompy import load_movie_data, FunkSVD"
   ]
  },
  {
   "cell_type": "code",
   "execution_count": 16,
   "metadata": {
    "id": "YvUMElSS43jG"
   },
   "outputs": [],
   "source": [
    "data = load_movie_data()"
   ]
  },
  {
   "cell_type": "code",
   "execution_count": 17,
   "metadata": {
    "id": "hDQn91Ke48sO"
   },
   "outputs": [],
   "source": [
    "myFunk = FunkSVD()"
   ]
  },
  {
   "cell_type": "code",
   "execution_count": 18,
   "metadata": {
    "id": "gWeU6RRo4-Bu"
   },
   "outputs": [],
   "source": [
    "myFunk.set_hyperparameters(max_epoch=100, n_latent=20,early_stopping=True, initialization_method='random', regularization=0.1)"
   ]
  },
  {
   "cell_type": "code",
   "execution_count": 19,
   "metadata": {
    "colab": {
     "base_uri": "https://localhost:8080/"
    },
    "id": "qBdNdJL14_Ut",
    "outputId": "15b629cc-79f8-47e1-93d8-34f655d0aeaa"
   },
   "outputs": [
    {
     "name": "stdout",
     "output_type": "stream",
     "text": [
      "Your data has 943 distinct users and 1682 distinct items.\n",
      "Your data has been split into train and test set.\n",
      "Length of training set is 89285. Length of Test set is 10715\n",
      "Initializing features for Users and Items...\n",
      "Starting training...\n",
      "Epoch Number: 1/100 Training RMSE: 0.98 Test RMSE: 0.9955076190888459\n",
      "Epoch Number: 2/100 Training RMSE: 0.93 Test RMSE: 0.9694057912398261\n",
      "Epoch Number: 3/100 Training RMSE: 0.92 Test RMSE: 0.9612010728881564\n",
      "Epoch Number: 4/100 Training RMSE: 0.91 Test RMSE: 0.9573001916341444\n",
      "Epoch Number: 5/100 Training RMSE: 0.90 Test RMSE: 0.9548422538591608\n",
      "Epoch Number: 6/100 Training RMSE: 0.90 Test RMSE: 0.9529286995001772\n",
      "Epoch Number: 7/100 Training RMSE: 0.89 Test RMSE: 0.9511800251172953\n",
      "Epoch Number: 8/100 Training RMSE: 0.89 Test RMSE: 0.9493900899963431\n",
      "Epoch Number: 9/100 Training RMSE: 0.89 Test RMSE: 0.9474295322479472\n",
      "Epoch Number: 10/100 Training RMSE: 0.88 Test RMSE: 0.9452231308615645\n",
      "Epoch Number: 11/100 Training RMSE: 0.88 Test RMSE: 0.9427521699311882\n",
      "Epoch Number: 12/100 Training RMSE: 0.87 Test RMSE: 0.9400590988661621\n",
      "Epoch Number: 13/100 Training RMSE: 0.87 Test RMSE: 0.9372391554653855\n",
      "Epoch Number: 14/100 Training RMSE: 0.86 Test RMSE: 0.9344141572833905\n",
      "Epoch Number: 15/100 Training RMSE: 0.85 Test RMSE: 0.9316982618051058\n",
      "Epoch Number: 16/100 Training RMSE: 0.85 Test RMSE: 0.9291723739375259\n",
      "Epoch Number: 17/100 Training RMSE: 0.84 Test RMSE: 0.9268765291262591\n",
      "Epoch Number: 18/100 Training RMSE: 0.84 Test RMSE: 0.9248170483878\n",
      "Epoch Number: 19/100 Training RMSE: 0.83 Test RMSE: 0.922979378888624\n",
      "Epoch Number: 20/100 Training RMSE: 0.83 Test RMSE: 0.9213395815046516\n",
      "Epoch Number: 21/100 Training RMSE: 0.82 Test RMSE: 0.9198718554587659\n",
      "Epoch Number: 22/100 Training RMSE: 0.82 Test RMSE: 0.9185523927313062\n",
      "Epoch Number: 23/100 Training RMSE: 0.81 Test RMSE: 0.9173607938629836\n",
      "Epoch Number: 24/100 Training RMSE: 0.81 Test RMSE: 0.9162801751180698\n",
      "Epoch Number: 25/100 Training RMSE: 0.80 Test RMSE: 0.9152967154119214\n",
      "Epoch Number: 26/100 Training RMSE: 0.80 Test RMSE: 0.914399055194077\n",
      "Epoch Number: 27/100 Training RMSE: 0.80 Test RMSE: 0.9135777386210343\n",
      "Epoch Number: 28/100 Training RMSE: 0.79 Test RMSE: 0.9128247658260566\n",
      "Epoch Number: 29/100 Training RMSE: 0.79 Test RMSE: 0.9121332605715281\n",
      "Epoch Number: 30/100 Training RMSE: 0.79 Test RMSE: 0.9114972336441084\n",
      "Epoch Number: 31/100 Training RMSE: 0.78 Test RMSE: 0.9109114166122293\n",
      "Epoch Number: 32/100 Training RMSE: 0.78 Test RMSE: 0.9103711434510745\n",
      "Epoch Number: 33/100 Training RMSE: 0.78 Test RMSE: 0.9098722631664723\n",
      "Epoch Number: 34/100 Training RMSE: 0.77 Test RMSE: 0.909411072045116\n",
      "Epoch Number: 35/100 Training RMSE: 0.77 Test RMSE: 0.9089842584479652\n",
      "Epoch Number: 36/100 Training RMSE: 0.77 Test RMSE: 0.9085888560036351\n",
      "Epoch Number: 37/100 Training RMSE: 0.77 Test RMSE: 0.9082222028893848\n",
      "Epoch Number: 38/100 Training RMSE: 0.76 Test RMSE: 0.9078819059379104\n",
      "Epoch Number: 39/100 Training RMSE: 0.76 Test RMSE: 0.9075658088634747\n",
      "Epoch Number: 40/100 Training RMSE: 0.76 Test RMSE: 0.9072719641675372\n",
      "Epoch Number: 41/100 Training RMSE: 0.76 Test RMSE: 0.9069986083962738\n",
      "Epoch Number: 42/100 Training RMSE: 0.75 Test RMSE: 0.9067441404599246\n",
      "Epoch Number: 43/100 Training RMSE: 0.75 Test RMSE: 0.9065071027311085\n",
      "Epoch Number: 44/100 Training RMSE: 0.75 Test RMSE: 0.9062861646392764\n",
      "Epoch Number: 45/100 Training RMSE: 0.75 Test RMSE: 0.9060801084810525\n",
      "Epoch Number: 46/100 Training RMSE: 0.75 Test RMSE: 0.905887817175002\n",
      "Epoch Number: 47/100 Training RMSE: 0.75 Test RMSE: 0.9057082637046945\n",
      "Epoch Number: 48/100 Training RMSE: 0.74 Test RMSE: 0.9055405020139087\n",
      "Epoch Number: 49/100 Training RMSE: 0.74 Test RMSE: 0.9053836591411122\n",
      "Epoch Number: 50/100 Training RMSE: 0.74 Test RMSE: 0.905236928404674\n",
      "Epoch Number: 51/100 Training RMSE: 0.74 Test RMSE: 0.9050995634747666\n",
      "Epoch Number: 52/100 Training RMSE: 0.74 Test RMSE: 0.904970873190841\n",
      "Epoch Number: 53/100 Training RMSE: 0.74 Test RMSE: 0.9048502170049999\n",
      "Epoch Number: 54/100 Training RMSE: 0.73 Test RMSE: 0.9047370009504261\n",
      "Epoch Number: 55/100 Training RMSE: 0.73 Test RMSE: 0.9046306740508903\n",
      "Epoch Number: 56/100 Training RMSE: 0.73 Test RMSE: 0.904530725101547\n",
      "Epoch Number: 57/100 Training RMSE: 0.73 Test RMSE: 0.9044366797635689\n",
      "Epoch Number: 58/100 Training RMSE: 0.73 Test RMSE: 0.9043480979254407\n",
      "Epoch Number: 59/100 Training RMSE: 0.73 Test RMSE: 0.9042645712922955\n",
      "Epoch Number: 60/100 Training RMSE: 0.73 Test RMSE: 0.9041857211718195\n",
      "Epoch Number: 61/100 Training RMSE: 0.73 Test RMSE: 0.9041111964311151\n",
      "Epoch Number: 62/100 Training RMSE: 0.73 Test RMSE: 0.9040406716037321\n",
      "Epoch Number: 63/100 Training RMSE: 0.73 Test RMSE: 0.9039738451299768\n",
      "Epoch Number: 64/100 Training RMSE: 0.72 Test RMSE: 0.9039104377167269\n",
      "Epoch Number: 65/100 Training RMSE: 0.72 Test RMSE: 0.9038501908056285\n",
      "Epoch Number: 66/100 Training RMSE: 0.72 Test RMSE: 0.9037928651404248\n",
      "Epoch Number: 67/100 Training RMSE: 0.72 Test RMSE: 0.9037382394258445\n",
      "Epoch Number: 68/100 Training RMSE: 0.72 Test RMSE: 0.9036861090716812\n",
      "Epoch Number: 69/100 Training RMSE: 0.72 Test RMSE: 0.9036362850166112\n",
      "Epoch Number: 70/100 Training RMSE: 0.72 Test RMSE: 0.9035885926270004\n",
      "Epoch Number: 71/100 Training RMSE: 0.72 Test RMSE: 0.903542870666535\n",
      "Epoch Number: 72/100 Training RMSE: 0.72 Test RMSE: 0.9034989703328059\n",
      "Epoch Number: 73/100 Training RMSE: 0.72 Test RMSE: 0.9034567543572946\n",
      "Epoch Number: 74/100 Training RMSE: 0.72 Test RMSE: 0.9034160961654003\n",
      "Epoch Number: 75/100 Training RMSE: 0.72 Test RMSE: 0.9033768790933091\n",
      "Epoch Number: 76/100 Training RMSE: 0.72 Test RMSE: 0.903338995658573\n",
      "Epoch Number: 77/100 Training RMSE: 0.71 Test RMSE: 0.9033023468813363\n",
      "Epoch Number: 78/100 Training RMSE: 0.71 Test RMSE: 0.9032668416533502\n",
      "Epoch Number: 79/100 Training RMSE: 0.71 Test RMSE: 0.9032323961517987\n",
      "Epoch Number: 80/100 Training RMSE: 0.71 Test RMSE: 0.9031989332952292\n",
      "Epoch Number: 81/100 Training RMSE: 0.71 Test RMSE: 0.9031663822387971\n",
      "Epoch Number: 82/100 Training RMSE: 0.71 Test RMSE: 0.9031346779062959\n",
      "Epoch Number: 83/100 Training RMSE: 0.71 Test RMSE: 0.9031037605563893\n",
      "Epoch Number: 84/100 Training RMSE: 0.71 Test RMSE: 0.9030735753807\n",
      "Epoch Number: 85/100 Training RMSE: 0.71 Test RMSE: 0.903044072131439\n",
      "Epoch Number: 86/100 Training RMSE: 0.71 Test RMSE: 0.9030152047764615\n",
      "Epoch Number: 87/100 Training RMSE: 0.71 Test RMSE: 0.9029869311796641\n",
      "Epoch Number: 88/100 Training RMSE: 0.71 Test RMSE: 0.9029592128048586\n",
      "Epoch Number: 89/100 Training RMSE: 0.71 Test RMSE: 0.9029320144413621\n",
      "Epoch Number: 90/100 Training RMSE: 0.71 Test RMSE: 0.9029053039495792\n",
      "Epoch Number: 91/100 Training RMSE: 0.71 Test RMSE: 0.9028790520251406\n",
      "Epoch Number: 92/100 Training RMSE: 0.71 Test RMSE: 0.9028532319801091\n",
      "Epoch Number: 93/100 Training RMSE: 0.71 Test RMSE: 0.9028278195399844\n",
      "Epoch Number: 94/100 Training RMSE: 0.71 Test RMSE: 0.9028027926553107\n",
      "Epoch Number: 95/100 Training RMSE: 0.71 Test RMSE: 0.9027781313267726\n",
      "Epoch Number: 96/100 Training RMSE: 0.71 Test RMSE: 0.9027538174427888\n",
      "Epoch Number: 97/100 Training RMSE: 0.71 Test RMSE: 0.902729834628652\n",
      "Epoch Number: 98/100 Training RMSE: 0.71 Test RMSE: 0.9027061681064158\n",
      "Epoch Number: 99/100 Training RMSE: 0.71 Test RMSE: 0.902682804564716\n",
      "Epoch Number: 100/100 Training RMSE: 0.71 Test RMSE: 0.9026597320378209\n",
      "Training has ended...\n"
     ]
    }
   ],
   "source": [
    "myFunk.fit(data)"
   ]
  },
  {
   "cell_type": "markdown",
   "metadata": {
    "id": "G6xPFcvosZxY"
   },
   "source": [
    "### Evaluation Part\n",
    "\n",
    "* Define a new user with some interactions to some items.\n",
    "* Use the model for getting recommendation\n",
    "* It recommends by finding most **similar user** to the new user and recommend items from that user to the new one."
   ]
  },
  {
   "cell_type": "code",
   "execution_count": 20,
   "metadata": {
    "id": "e8CAnytd5-9K"
   },
   "outputs": [],
   "source": [
    "new_user = {'1':5,\n",
    "            '2':4,\n",
    "            '4':3}"
   ]
  },
  {
   "cell_type": "code",
   "execution_count": 21,
   "metadata": {
    "colab": {
     "base_uri": "https://localhost:8080/"
    },
    "id": "kKTEZLMhKxNK",
    "outputId": "ed3fe836-2f87-40e3-9299-86e8106c0abb"
   },
   "outputs": [
    {
     "data": {
      "text/plain": [
       "['437', '1386', '314', '1420', '834']"
      ]
     },
     "execution_count": 21,
     "metadata": {},
     "output_type": "execute_result"
    }
   ],
   "source": [
    "myFunk.get_recommendation_for_new_user(new_user, \n",
    "                                       similarity_measure = 'cosine_similarity', \n",
    "                                       howManyUsers = 1, \n",
    "                                       howManyItems = 5)"
   ]
  },
  {
   "cell_type": "markdown",
   "metadata": {
    "id": "WlgnrUlW6F9X"
   },
   "source": [
    "* You can try also other methods of the model like **get_similar_products, get_recommendation_for_existing_user** etc."
   ]
  },
  {
   "cell_type": "markdown",
   "metadata": {
    "id": "fIw65cQmWyt2"
   },
   "source": [
    "## Content Based Filtering\n",
    "\n",
    "\n",
    "> With Content Based Approach, **contents of the items** and **features of the users** can be included beside user-item interaction matrix while getting recommendations. \n",
    "\n",
    "* Item-Centered Models : Uses user features as content\n",
    "* User-Centered Models : Uses item features as content\n",
    "* Hybrid Models        : Uses both user and item features\n",
    "\n",
    "\n",
    "---\n",
    "\n",
    "* [Kaggle MovieLens Dataset](https://www.kaggle.com/rounakbanik/the-movies-dataset/data) will be used in this section. \n",
    "\n",
    "---\n",
    "\n",
    "\n"
   ]
  },
  {
   "cell_type": "markdown",
   "metadata": {
    "id": "j-LtzlfH99rr"
   },
   "source": [
    "* Mount Drive first"
   ]
  },
  {
   "cell_type": "code",
   "execution_count": 22,
   "metadata": {
    "colab": {
     "base_uri": "https://localhost:8080/"
    },
    "id": "sw6WJnvCkUG_",
    "outputId": "76631fb5-a563-4a30-f932-d836f6226622"
   },
   "outputs": [
    {
     "name": "stdout",
     "output_type": "stream",
     "text": [
      "Mounted at /content/drive\n"
     ]
    }
   ],
   "source": [
    "from google.colab import drive\n",
    "drive.mount('/content/drive')"
   ]
  },
  {
   "cell_type": "markdown",
   "metadata": {
    "id": "SuTGfWFI8QoD"
   },
   "source": [
    "**Files in Dataset:**\n",
    "  * _movies_metadata_ : Features belong to movies (~45k)\n",
    "  * _keywords_ : Keywords extracted from plot of the movies\n",
    "  * _credits_ : Cast and crew information\n",
    "  * _links_ : TMDB and IMDB IDs of all movies\n",
    "  * _ratings_ : User-Movie interactions\n",
    "\n",
    "---\n",
    "\n",
    "\n",
    "\n",
    "  "
   ]
  },
  {
   "cell_type": "markdown",
   "metadata": {
    "id": "KLj0wUbhlaIc"
   },
   "source": [
    "* Import libraries"
   ]
  },
  {
   "cell_type": "code",
   "execution_count": 23,
   "metadata": {
    "id": "u7FZro5nlYxQ"
   },
   "outputs": [],
   "source": [
    "import pandas as pd\n",
    "from numpy import dot\n",
    "from numpy.linalg import norm\n",
    "import numpy as np"
   ]
  },
  {
   "cell_type": "markdown",
   "metadata": {
    "id": "Wcb5qjTRmLrc"
   },
   "source": [
    "* Read the metadata file"
   ]
  },
  {
   "cell_type": "code",
   "execution_count": 24,
   "metadata": {
    "id": "hnIfuRrz8EAF"
   },
   "outputs": [],
   "source": [
    "metadata = pd.read_csv('/content/drive/MyDrive/applied_ai_enes_safak/recommender_systems/MovieLens/movies_metadata.csv', low_memory=False)"
   ]
  },
  {
   "cell_type": "markdown",
   "metadata": {
    "id": "4d-2Izbcl_TQ"
   },
   "source": [
    "* Fill NaN overviews with empty string"
   ]
  },
  {
   "cell_type": "code",
   "execution_count": 25,
   "metadata": {
    "id": "EiS2p176l9jY"
   },
   "outputs": [],
   "source": [
    "metadata['overview'] = metadata['overview'].fillna('')"
   ]
  },
  {
   "cell_type": "markdown",
   "metadata": {
    "id": "bh1Ln3lpY-5J"
   },
   "source": [
    "### Scoring with Weighted Ratings\n",
    "\n",
    "* Ratings of movies are not always reliable because of number of voters. If one movie with a 1000 votes has 4.7 rating score and another one is 5 rating score with 50 votes, first one is more reliable for analyzes.\n",
    " "
   ]
  },
  {
   "cell_type": "markdown",
   "metadata": {
    "id": "yGTeo_QZ-Bxp"
   },
   "source": [
    "---\n",
    "\\begin{equation}\n",
    "\\text Weighted Rating (\\bf WR) = \\left({{\\bf v} \\over {\\bf v} + {\\bf m}} \\cdot R\\right) + \\left({{\\bf m} \\over {\\bf v} + {\\bf m}} \\cdot C\\right)\n",
    "\\end{equation}\n",
    "\n",
    "---\n",
    "\n",
    "* **v** is the number of votes for the movie;\n",
    "\n",
    "* **m** is the minimum votes required to be listed in the chart;\n",
    "\n",
    "* **R** is the average rating of the movie;\n",
    "\n",
    "* **C** is the mean vote across the whole report.\n",
    "\n",
    "---\n",
    "\n"
   ]
  },
  {
   "cell_type": "markdown",
   "metadata": {
    "id": "LXKjoV4W-bX1"
   },
   "source": [
    "* Average rating of a movie on IMDB is around 5.6 on a scale of 10"
   ]
  },
  {
   "cell_type": "code",
   "execution_count": 26,
   "metadata": {
    "colab": {
     "base_uri": "https://localhost:8080/"
    },
    "id": "Zrzr4gnE8D93",
    "outputId": "b812daee-4976-452a-dab3-3fe6e8c677d8"
   },
   "outputs": [
    {
     "data": {
      "text/plain": [
       "5.618207215133889"
      ]
     },
     "execution_count": 26,
     "metadata": {},
     "output_type": "execute_result"
    }
   ],
   "source": [
    "C = metadata['vote_average'].mean()\n",
    "C"
   ]
  },
  {
   "cell_type": "markdown",
   "metadata": {
    "id": "a2Q1GsRQ_hDL"
   },
   "source": [
    "* Only %10 of all movies rated more than 160 times"
   ]
  },
  {
   "cell_type": "code",
   "execution_count": 27,
   "metadata": {
    "colab": {
     "base_uri": "https://localhost:8080/"
    },
    "id": "uLz0BwMjoAK1",
    "outputId": "dada996f-ed76-454c-f9f3-64f6cb9baa3e"
   },
   "outputs": [
    {
     "data": {
      "text/plain": [
       "False    40928\n",
       "True      4538\n",
       "Name: vote_count, dtype: int64"
      ]
     },
     "execution_count": 27,
     "metadata": {},
     "output_type": "execute_result"
    }
   ],
   "source": [
    "(metadata['vote_count'] > 160).value_counts()"
   ]
  },
  {
   "cell_type": "code",
   "execution_count": 28,
   "metadata": {
    "colab": {
     "base_uri": "https://localhost:8080/"
    },
    "id": "5OAi2_o1pRHp",
    "outputId": "7b99108f-b479-43eb-b47a-27f165eb29b8"
   },
   "outputs": [
    {
     "data": {
      "text/plain": [
       "0.09981084766638806"
      ]
     },
     "execution_count": 28,
     "metadata": {},
     "output_type": "execute_result"
    }
   ],
   "source": [
    "4538 / len(metadata)"
   ]
  },
  {
   "cell_type": "code",
   "execution_count": 29,
   "metadata": {
    "colab": {
     "base_uri": "https://localhost:8080/"
    },
    "id": "trTiXxAVoaGf",
    "outputId": "8f9cdb64-9959-4971-f24c-3fcf33695eeb"
   },
   "outputs": [
    {
     "data": {
      "text/plain": [
       "0        5415.0\n",
       "1        2413.0\n",
       "2          92.0\n",
       "3          34.0\n",
       "4         173.0\n",
       "          ...  \n",
       "45461       1.0\n",
       "45462       3.0\n",
       "45463       6.0\n",
       "45464       0.0\n",
       "45465       0.0\n",
       "Name: vote_count, Length: 45466, dtype: float64"
      ]
     },
     "execution_count": 29,
     "metadata": {},
     "output_type": "execute_result"
    }
   ],
   "source": [
    "metadata['vote_count']"
   ]
  },
  {
   "cell_type": "code",
   "execution_count": 30,
   "metadata": {
    "colab": {
     "base_uri": "https://localhost:8080/"
    },
    "id": "quiwtSr58D7a",
    "outputId": "a48fef78-b08e-4ca9-c442-735bf6c3c896"
   },
   "outputs": [
    {
     "data": {
      "text/plain": [
       "160.0"
      ]
     },
     "execution_count": 30,
     "metadata": {},
     "output_type": "execute_result"
    }
   ],
   "source": [
    "m = metadata['vote_count'].quantile(0.9)\n",
    "m"
   ]
  },
  {
   "cell_type": "code",
   "execution_count": 31,
   "metadata": {
    "colab": {
     "base_uri": "https://localhost:8080/"
    },
    "id": "EKpKEdmE8S4U",
    "outputId": "157637f4-8842-4b8f-ac27-f5fcf405dc79"
   },
   "outputs": [
    {
     "name": "stdout",
     "output_type": "stream",
     "text": [
      "(4555, 24)\n",
      "(45466, 24)\n"
     ]
    }
   ],
   "source": [
    "q_movies = metadata.copy().loc[metadata['vote_count'] >= m]\n",
    "print(q_movies.shape)\n",
    "print(metadata.shape)"
   ]
  },
  {
   "cell_type": "code",
   "execution_count": 32,
   "metadata": {
    "id": "g-Amw8PR_fZv"
   },
   "outputs": [],
   "source": [
    "def weighted_rating(x, m=m, C=C):\n",
    "    v = x['vote_count']\n",
    "    R = x['vote_average']\n",
    "    # Calculation based on the IMDB formula\n",
    "    return (v/(v+m) * R) + (m/(m+v) * C)"
   ]
  },
  {
   "cell_type": "code",
   "execution_count": 33,
   "metadata": {
    "id": "nNEzpTBzAERp"
   },
   "outputs": [],
   "source": [
    "q_movies['score'] = q_movies.apply(weighted_rating, axis=1)"
   ]
  },
  {
   "cell_type": "markdown",
   "metadata": {
    "id": "lK_y8znnu0Ks"
   },
   "source": [
    "### Sort by Score\n",
    "\n",
    "* IMDb vs Scoring Function"
   ]
  },
  {
   "cell_type": "markdown",
   "metadata": {
    "id": "Wqft8mTnqzXi"
   },
   "source": [
    "![image.png](data:image/png;base64,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)"
   ]
  },
  {
   "cell_type": "code",
   "execution_count": 34,
   "metadata": {
    "colab": {
     "base_uri": "https://localhost:8080/",
     "height": 677
    },
    "id": "arw9_PcyAG4w",
    "outputId": "a113e539-b1c0-4045-f3b2-bd3bf2923b26"
   },
   "outputs": [
    {
     "data": {
      "text/html": [
       "\n",
       "  <div id=\"df-f18eeab4-89d1-4a67-9d47-3d781c0f02ac\">\n",
       "    <div class=\"colab-df-container\">\n",
       "      <div>\n",
       "<style scoped>\n",
       "    .dataframe tbody tr th:only-of-type {\n",
       "        vertical-align: middle;\n",
       "    }\n",
       "\n",
       "    .dataframe tbody tr th {\n",
       "        vertical-align: top;\n",
       "    }\n",
       "\n",
       "    .dataframe thead th {\n",
       "        text-align: right;\n",
       "    }\n",
       "</style>\n",
       "<table border=\"1\" class=\"dataframe\">\n",
       "  <thead>\n",
       "    <tr style=\"text-align: right;\">\n",
       "      <th></th>\n",
       "      <th>title</th>\n",
       "      <th>vote_count</th>\n",
       "      <th>vote_average</th>\n",
       "      <th>score</th>\n",
       "    </tr>\n",
       "  </thead>\n",
       "  <tbody>\n",
       "    <tr>\n",
       "      <th>0</th>\n",
       "      <td>The Shawshank Redemption</td>\n",
       "      <td>8358.0</td>\n",
       "      <td>8.5</td>\n",
       "      <td>8.445869</td>\n",
       "    </tr>\n",
       "    <tr>\n",
       "      <th>1</th>\n",
       "      <td>The Godfather</td>\n",
       "      <td>6024.0</td>\n",
       "      <td>8.5</td>\n",
       "      <td>8.425439</td>\n",
       "    </tr>\n",
       "    <tr>\n",
       "      <th>2</th>\n",
       "      <td>Dilwale Dulhania Le Jayenge</td>\n",
       "      <td>661.0</td>\n",
       "      <td>9.1</td>\n",
       "      <td>8.421453</td>\n",
       "    </tr>\n",
       "    <tr>\n",
       "      <th>3</th>\n",
       "      <td>The Dark Knight</td>\n",
       "      <td>12269.0</td>\n",
       "      <td>8.3</td>\n",
       "      <td>8.265477</td>\n",
       "    </tr>\n",
       "    <tr>\n",
       "      <th>4</th>\n",
       "      <td>Fight Club</td>\n",
       "      <td>9678.0</td>\n",
       "      <td>8.3</td>\n",
       "      <td>8.256385</td>\n",
       "    </tr>\n",
       "    <tr>\n",
       "      <th>5</th>\n",
       "      <td>Pulp Fiction</td>\n",
       "      <td>8670.0</td>\n",
       "      <td>8.3</td>\n",
       "      <td>8.251406</td>\n",
       "    </tr>\n",
       "    <tr>\n",
       "      <th>6</th>\n",
       "      <td>Schindler's List</td>\n",
       "      <td>4436.0</td>\n",
       "      <td>8.3</td>\n",
       "      <td>8.206639</td>\n",
       "    </tr>\n",
       "    <tr>\n",
       "      <th>7</th>\n",
       "      <td>Whiplash</td>\n",
       "      <td>4376.0</td>\n",
       "      <td>8.3</td>\n",
       "      <td>8.205404</td>\n",
       "    </tr>\n",
       "    <tr>\n",
       "      <th>8</th>\n",
       "      <td>Spirited Away</td>\n",
       "      <td>3968.0</td>\n",
       "      <td>8.3</td>\n",
       "      <td>8.196055</td>\n",
       "    </tr>\n",
       "    <tr>\n",
       "      <th>9</th>\n",
       "      <td>Life Is Beautiful</td>\n",
       "      <td>3643.0</td>\n",
       "      <td>8.3</td>\n",
       "      <td>8.187171</td>\n",
       "    </tr>\n",
       "    <tr>\n",
       "      <th>10</th>\n",
       "      <td>The Godfather: Part II</td>\n",
       "      <td>3418.0</td>\n",
       "      <td>8.3</td>\n",
       "      <td>8.180076</td>\n",
       "    </tr>\n",
       "    <tr>\n",
       "      <th>11</th>\n",
       "      <td>One Flew Over the Cuckoo's Nest</td>\n",
       "      <td>3001.0</td>\n",
       "      <td>8.3</td>\n",
       "      <td>8.164256</td>\n",
       "    </tr>\n",
       "    <tr>\n",
       "      <th>12</th>\n",
       "      <td>Forrest Gump</td>\n",
       "      <td>8147.0</td>\n",
       "      <td>8.2</td>\n",
       "      <td>8.150272</td>\n",
       "    </tr>\n",
       "    <tr>\n",
       "      <th>13</th>\n",
       "      <td>The Empire Strikes Back</td>\n",
       "      <td>5998.0</td>\n",
       "      <td>8.2</td>\n",
       "      <td>8.132919</td>\n",
       "    </tr>\n",
       "    <tr>\n",
       "      <th>14</th>\n",
       "      <td>Psycho</td>\n",
       "      <td>2405.0</td>\n",
       "      <td>8.3</td>\n",
       "      <td>8.132715</td>\n",
       "    </tr>\n",
       "    <tr>\n",
       "      <th>15</th>\n",
       "      <td>The Intouchables</td>\n",
       "      <td>5410.0</td>\n",
       "      <td>8.2</td>\n",
       "      <td>8.125837</td>\n",
       "    </tr>\n",
       "    <tr>\n",
       "      <th>16</th>\n",
       "      <td>Your Name.</td>\n",
       "      <td>1030.0</td>\n",
       "      <td>8.5</td>\n",
       "      <td>8.112532</td>\n",
       "    </tr>\n",
       "    <tr>\n",
       "      <th>17</th>\n",
       "      <td>Leon: The Professional</td>\n",
       "      <td>4293.0</td>\n",
       "      <td>8.2</td>\n",
       "      <td>8.107234</td>\n",
       "    </tr>\n",
       "    <tr>\n",
       "      <th>18</th>\n",
       "      <td>The Green Mile</td>\n",
       "      <td>4166.0</td>\n",
       "      <td>8.2</td>\n",
       "      <td>8.104511</td>\n",
       "    </tr>\n",
       "    <tr>\n",
       "      <th>19</th>\n",
       "      <td>GoodFellas</td>\n",
       "      <td>3211.0</td>\n",
       "      <td>8.2</td>\n",
       "      <td>8.077459</td>\n",
       "    </tr>\n",
       "  </tbody>\n",
       "</table>\n",
       "</div>\n",
       "      <button class=\"colab-df-convert\" onclick=\"convertToInteractive('df-f18eeab4-89d1-4a67-9d47-3d781c0f02ac')\"\n",
       "              title=\"Convert this dataframe to an interactive table.\"\n",
       "              style=\"display:none;\">\n",
       "        \n",
       "  <svg xmlns=\"http://www.w3.org/2000/svg\" height=\"24px\"viewBox=\"0 0 24 24\"\n",
       "       width=\"24px\">\n",
       "    <path d=\"M0 0h24v24H0V0z\" fill=\"none\"/>\n",
       "    <path d=\"M18.56 5.44l.94 2.06.94-2.06 2.06-.94-2.06-.94-.94-2.06-.94 2.06-2.06.94zm-11 1L8.5 8.5l.94-2.06 2.06-.94-2.06-.94L8.5 2.5l-.94 2.06-2.06.94zm10 10l.94 2.06.94-2.06 2.06-.94-2.06-.94-.94-2.06-.94 2.06-2.06.94z\"/><path d=\"M17.41 7.96l-1.37-1.37c-.4-.4-.92-.59-1.43-.59-.52 0-1.04.2-1.43.59L10.3 9.45l-7.72 7.72c-.78.78-.78 2.05 0 2.83L4 21.41c.39.39.9.59 1.41.59.51 0 1.02-.2 1.41-.59l7.78-7.78 2.81-2.81c.8-.78.8-2.07 0-2.86zM5.41 20L4 18.59l7.72-7.72 1.47 1.35L5.41 20z\"/>\n",
       "  </svg>\n",
       "      </button>\n",
       "      \n",
       "  <style>\n",
       "    .colab-df-container {\n",
       "      display:flex;\n",
       "      flex-wrap:wrap;\n",
       "      gap: 12px;\n",
       "    }\n",
       "\n",
       "    .colab-df-convert {\n",
       "      background-color: #E8F0FE;\n",
       "      border: none;\n",
       "      border-radius: 50%;\n",
       "      cursor: pointer;\n",
       "      display: none;\n",
       "      fill: #1967D2;\n",
       "      height: 32px;\n",
       "      padding: 0 0 0 0;\n",
       "      width: 32px;\n",
       "    }\n",
       "\n",
       "    .colab-df-convert:hover {\n",
       "      background-color: #E2EBFA;\n",
       "      box-shadow: 0px 1px 2px rgba(60, 64, 67, 0.3), 0px 1px 3px 1px rgba(60, 64, 67, 0.15);\n",
       "      fill: #174EA6;\n",
       "    }\n",
       "\n",
       "    [theme=dark] .colab-df-convert {\n",
       "      background-color: #3B4455;\n",
       "      fill: #D2E3FC;\n",
       "    }\n",
       "\n",
       "    [theme=dark] .colab-df-convert:hover {\n",
       "      background-color: #434B5C;\n",
       "      box-shadow: 0px 1px 3px 1px rgba(0, 0, 0, 0.15);\n",
       "      filter: drop-shadow(0px 1px 2px rgba(0, 0, 0, 0.3));\n",
       "      fill: #FFFFFF;\n",
       "    }\n",
       "  </style>\n",
       "\n",
       "      <script>\n",
       "        const buttonEl =\n",
       "          document.querySelector('#df-f18eeab4-89d1-4a67-9d47-3d781c0f02ac button.colab-df-convert');\n",
       "        buttonEl.style.display =\n",
       "          google.colab.kernel.accessAllowed ? 'block' : 'none';\n",
       "\n",
       "        async function convertToInteractive(key) {\n",
       "          const element = document.querySelector('#df-f18eeab4-89d1-4a67-9d47-3d781c0f02ac');\n",
       "          const dataTable =\n",
       "            await google.colab.kernel.invokeFunction('convertToInteractive',\n",
       "                                                     [key], {});\n",
       "          if (!dataTable) return;\n",
       "\n",
       "          const docLinkHtml = 'Like what you see? Visit the ' +\n",
       "            '<a target=\"_blank\" href=https://colab.research.google.com/notebooks/data_table.ipynb>data table notebook</a>'\n",
       "            + ' to learn more about interactive tables.';\n",
       "          element.innerHTML = '';\n",
       "          dataTable['output_type'] = 'display_data';\n",
       "          await google.colab.output.renderOutput(dataTable, element);\n",
       "          const docLink = document.createElement('div');\n",
       "          docLink.innerHTML = docLinkHtml;\n",
       "          element.appendChild(docLink);\n",
       "        }\n",
       "      </script>\n",
       "    </div>\n",
       "  </div>\n",
       "  "
      ],
      "text/plain": [
       "                              title  vote_count  vote_average     score\n",
       "0          The Shawshank Redemption      8358.0           8.5  8.445869\n",
       "1                     The Godfather      6024.0           8.5  8.425439\n",
       "2       Dilwale Dulhania Le Jayenge       661.0           9.1  8.421453\n",
       "3                   The Dark Knight     12269.0           8.3  8.265477\n",
       "4                        Fight Club      9678.0           8.3  8.256385\n",
       "5                      Pulp Fiction      8670.0           8.3  8.251406\n",
       "6                  Schindler's List      4436.0           8.3  8.206639\n",
       "7                          Whiplash      4376.0           8.3  8.205404\n",
       "8                     Spirited Away      3968.0           8.3  8.196055\n",
       "9                 Life Is Beautiful      3643.0           8.3  8.187171\n",
       "10           The Godfather: Part II      3418.0           8.3  8.180076\n",
       "11  One Flew Over the Cuckoo's Nest      3001.0           8.3  8.164256\n",
       "12                     Forrest Gump      8147.0           8.2  8.150272\n",
       "13          The Empire Strikes Back      5998.0           8.2  8.132919\n",
       "14                           Psycho      2405.0           8.3  8.132715\n",
       "15                 The Intouchables      5410.0           8.2  8.125837\n",
       "16                       Your Name.      1030.0           8.5  8.112532\n",
       "17           Leon: The Professional      4293.0           8.2  8.107234\n",
       "18                   The Green Mile      4166.0           8.2  8.104511\n",
       "19                       GoodFellas      3211.0           8.2  8.077459"
      ]
     },
     "execution_count": 34,
     "metadata": {},
     "output_type": "execute_result"
    }
   ],
   "source": [
    "q_movies = q_movies.sort_values('score', ascending=False)\n",
    "\n",
    "q_movies[['title', 'vote_count', 'vote_average', 'score']].head(20).reset_index(drop=True)"
   ]
  },
  {
   "cell_type": "markdown",
   "metadata": {
    "id": "6S4Lox_aZ2Fn"
   },
   "source": [
    "### **Overview** is the Content"
   ]
  },
  {
   "cell_type": "markdown",
   "metadata": {
    "id": "K2TMqtTX1Tk1"
   },
   "source": [
    "#### With **Term Frequency-Inverse Document Frequency (TF-IDF)** Analysis\n",
    "\n",
    "* TF-IDF (term frequency-inverse document frequency) is a statistical measure that evaluates **how relevant a word is** to a document in a collection of documents."
   ]
  },
  {
   "cell_type": "markdown",
   "metadata": {
    "id": "NCURiRuOtida"
   },
   "source": [
    "![image.png](data:image/png;base64,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)"
   ]
  },
  {
   "cell_type": "markdown",
   "metadata": {
    "id": "5xQjGTjEsRTa"
   },
   "source": [
    "![image.png](data:image/png;base64,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)"
   ]
  },
  {
   "cell_type": "code",
   "execution_count": 35,
   "metadata": {
    "colab": {
     "base_uri": "https://localhost:8080/",
     "height": 206
    },
    "id": "oSkZYjU3AgT8",
    "outputId": "bbbf29d7-7e54-4a55-920b-ab26058977d7"
   },
   "outputs": [
    {
     "data": {
      "text/html": [
       "\n",
       "  <div id=\"df-3ff3df49-49ed-46f2-8a6c-349a6195d20f\">\n",
       "    <div class=\"colab-df-container\">\n",
       "      <div>\n",
       "<style scoped>\n",
       "    .dataframe tbody tr th:only-of-type {\n",
       "        vertical-align: middle;\n",
       "    }\n",
       "\n",
       "    .dataframe tbody tr th {\n",
       "        vertical-align: top;\n",
       "    }\n",
       "\n",
       "    .dataframe thead th {\n",
       "        text-align: right;\n",
       "    }\n",
       "</style>\n",
       "<table border=\"1\" class=\"dataframe\">\n",
       "  <thead>\n",
       "    <tr style=\"text-align: right;\">\n",
       "      <th></th>\n",
       "      <th>original_title</th>\n",
       "      <th>overview</th>\n",
       "    </tr>\n",
       "  </thead>\n",
       "  <tbody>\n",
       "    <tr>\n",
       "      <th>0</th>\n",
       "      <td>Toy Story</td>\n",
       "      <td>Led by Woody, Andy's toys live happily in his ...</td>\n",
       "    </tr>\n",
       "    <tr>\n",
       "      <th>1</th>\n",
       "      <td>Jumanji</td>\n",
       "      <td>When siblings Judy and Peter discover an encha...</td>\n",
       "    </tr>\n",
       "    <tr>\n",
       "      <th>2</th>\n",
       "      <td>Grumpier Old Men</td>\n",
       "      <td>A family wedding reignites the ancient feud be...</td>\n",
       "    </tr>\n",
       "    <tr>\n",
       "      <th>3</th>\n",
       "      <td>Waiting to Exhale</td>\n",
       "      <td>Cheated on, mistreated and stepped on, the wom...</td>\n",
       "    </tr>\n",
       "    <tr>\n",
       "      <th>4</th>\n",
       "      <td>Father of the Bride Part II</td>\n",
       "      <td>Just when George Banks has recovered from his ...</td>\n",
       "    </tr>\n",
       "  </tbody>\n",
       "</table>\n",
       "</div>\n",
       "      <button class=\"colab-df-convert\" onclick=\"convertToInteractive('df-3ff3df49-49ed-46f2-8a6c-349a6195d20f')\"\n",
       "              title=\"Convert this dataframe to an interactive table.\"\n",
       "              style=\"display:none;\">\n",
       "        \n",
       "  <svg xmlns=\"http://www.w3.org/2000/svg\" height=\"24px\"viewBox=\"0 0 24 24\"\n",
       "       width=\"24px\">\n",
       "    <path d=\"M0 0h24v24H0V0z\" fill=\"none\"/>\n",
       "    <path d=\"M18.56 5.44l.94 2.06.94-2.06 2.06-.94-2.06-.94-.94-2.06-.94 2.06-2.06.94zm-11 1L8.5 8.5l.94-2.06 2.06-.94-2.06-.94L8.5 2.5l-.94 2.06-2.06.94zm10 10l.94 2.06.94-2.06 2.06-.94-2.06-.94-.94-2.06-.94 2.06-2.06.94z\"/><path d=\"M17.41 7.96l-1.37-1.37c-.4-.4-.92-.59-1.43-.59-.52 0-1.04.2-1.43.59L10.3 9.45l-7.72 7.72c-.78.78-.78 2.05 0 2.83L4 21.41c.39.39.9.59 1.41.59.51 0 1.02-.2 1.41-.59l7.78-7.78 2.81-2.81c.8-.78.8-2.07 0-2.86zM5.41 20L4 18.59l7.72-7.72 1.47 1.35L5.41 20z\"/>\n",
       "  </svg>\n",
       "      </button>\n",
       "      \n",
       "  <style>\n",
       "    .colab-df-container {\n",
       "      display:flex;\n",
       "      flex-wrap:wrap;\n",
       "      gap: 12px;\n",
       "    }\n",
       "\n",
       "    .colab-df-convert {\n",
       "      background-color: #E8F0FE;\n",
       "      border: none;\n",
       "      border-radius: 50%;\n",
       "      cursor: pointer;\n",
       "      display: none;\n",
       "      fill: #1967D2;\n",
       "      height: 32px;\n",
       "      padding: 0 0 0 0;\n",
       "      width: 32px;\n",
       "    }\n",
       "\n",
       "    .colab-df-convert:hover {\n",
       "      background-color: #E2EBFA;\n",
       "      box-shadow: 0px 1px 2px rgba(60, 64, 67, 0.3), 0px 1px 3px 1px rgba(60, 64, 67, 0.15);\n",
       "      fill: #174EA6;\n",
       "    }\n",
       "\n",
       "    [theme=dark] .colab-df-convert {\n",
       "      background-color: #3B4455;\n",
       "      fill: #D2E3FC;\n",
       "    }\n",
       "\n",
       "    [theme=dark] .colab-df-convert:hover {\n",
       "      background-color: #434B5C;\n",
       "      box-shadow: 0px 1px 3px 1px rgba(0, 0, 0, 0.15);\n",
       "      filter: drop-shadow(0px 1px 2px rgba(0, 0, 0, 0.3));\n",
       "      fill: #FFFFFF;\n",
       "    }\n",
       "  </style>\n",
       "\n",
       "      <script>\n",
       "        const buttonEl =\n",
       "          document.querySelector('#df-3ff3df49-49ed-46f2-8a6c-349a6195d20f button.colab-df-convert');\n",
       "        buttonEl.style.display =\n",
       "          google.colab.kernel.accessAllowed ? 'block' : 'none';\n",
       "\n",
       "        async function convertToInteractive(key) {\n",
       "          const element = document.querySelector('#df-3ff3df49-49ed-46f2-8a6c-349a6195d20f');\n",
       "          const dataTable =\n",
       "            await google.colab.kernel.invokeFunction('convertToInteractive',\n",
       "                                                     [key], {});\n",
       "          if (!dataTable) return;\n",
       "\n",
       "          const docLinkHtml = 'Like what you see? Visit the ' +\n",
       "            '<a target=\"_blank\" href=https://colab.research.google.com/notebooks/data_table.ipynb>data table notebook</a>'\n",
       "            + ' to learn more about interactive tables.';\n",
       "          element.innerHTML = '';\n",
       "          dataTable['output_type'] = 'display_data';\n",
       "          await google.colab.output.renderOutput(dataTable, element);\n",
       "          const docLink = document.createElement('div');\n",
       "          docLink.innerHTML = docLinkHtml;\n",
       "          element.appendChild(docLink);\n",
       "        }\n",
       "      </script>\n",
       "    </div>\n",
       "  </div>\n",
       "  "
      ],
      "text/plain": [
       "                original_title                                           overview\n",
       "0                    Toy Story  Led by Woody, Andy's toys live happily in his ...\n",
       "1                      Jumanji  When siblings Judy and Peter discover an encha...\n",
       "2             Grumpier Old Men  A family wedding reignites the ancient feud be...\n",
       "3            Waiting to Exhale  Cheated on, mistreated and stepped on, the wom...\n",
       "4  Father of the Bride Part II  Just when George Banks has recovered from his ..."
      ]
     },
     "execution_count": 35,
     "metadata": {},
     "output_type": "execute_result"
    }
   ],
   "source": [
    "pd.DataFrame(metadata[['original_title','overview']].head())"
   ]
  },
  {
   "cell_type": "code",
   "execution_count": 36,
   "metadata": {
    "id": "xFCvcjrVnUp4"
   },
   "outputs": [],
   "source": [
    "m = metadata['vote_count'].quantile(0.9)\n",
    "metadata_small = metadata.copy().loc[metadata['vote_count'] >= m]"
   ]
  },
  {
   "cell_type": "code",
   "execution_count": 37,
   "metadata": {
    "id": "PkDmrvwWcXja"
   },
   "outputs": [],
   "source": [
    "from sklearn.feature_extraction.text import TfidfVectorizer\n",
    "\n",
    "tfidf = TfidfVectorizer(stop_words='english')"
   ]
  },
  {
   "cell_type": "markdown",
   "metadata": {
    "id": "OAoT7TknAiQ6"
   },
   "source": [
    "* 19694 different words in overview for 4555 Movies"
   ]
  },
  {
   "cell_type": "code",
   "execution_count": 38,
   "metadata": {
    "colab": {
     "base_uri": "https://localhost:8080/"
    },
    "id": "CzUO3v5yAQoq",
    "outputId": "2dd5da9d-7b0b-464f-e1ea-e32a32cd1206"
   },
   "outputs": [
    {
     "data": {
      "text/plain": [
       "(4555, 19694)"
      ]
     },
     "execution_count": 38,
     "metadata": {},
     "output_type": "execute_result"
    }
   ],
   "source": [
    "tfidf_matrix = tfidf.fit_transform(metadata_small['overview'])\n",
    "\n",
    "tfidf_matrix.shape"
   ]
  },
  {
   "cell_type": "markdown",
   "metadata": {
    "id": "XkHfnbGUwzm5"
   },
   "source": [
    "* Each row represents a movie overview as TF-IDF Vector with the length of unique number of words in overview column."
   ]
  },
  {
   "cell_type": "code",
   "execution_count": 39,
   "metadata": {
    "colab": {
     "base_uri": "https://localhost:8080/"
    },
    "id": "T5iy41YhvIXV",
    "outputId": "cadde497-25ba-4897-da74-80f9e5680e6a"
   },
   "outputs": [
    {
     "data": {
      "text/plain": [
       "<4555x19694 sparse matrix of type '<class 'numpy.float64'>'\n",
       "\twith 115437 stored elements in Compressed Sparse Row format>"
      ]
     },
     "execution_count": 39,
     "metadata": {},
     "output_type": "execute_result"
    }
   ],
   "source": [
    "tfidf_matrix"
   ]
  },
  {
   "cell_type": "markdown",
   "metadata": {
    "id": "r5XBGTqrBlHr"
   },
   "source": [
    "* **Similarity Score :** Cosine Similarity will be used. "
   ]
  },
  {
   "cell_type": "code",
   "execution_count": 40,
   "metadata": {
    "id": "O0mzpE9WlTkY"
   },
   "outputs": [],
   "source": [
    "from sklearn.metrics.pairwise import linear_kernel\n",
    "\n",
    "cosine_sim = linear_kernel(tfidf_matrix, tfidf_matrix)"
   ]
  },
  {
   "cell_type": "code",
   "execution_count": 41,
   "metadata": {
    "colab": {
     "base_uri": "https://localhost:8080/"
    },
    "id": "VqxVBJz_mFRp",
    "outputId": "e9647a9a-787d-438a-8cb0-06248f8d731a"
   },
   "outputs": [
    {
     "data": {
      "text/plain": [
       "(4555, 4555)"
      ]
     },
     "execution_count": 41,
     "metadata": {},
     "output_type": "execute_result"
    }
   ],
   "source": [
    "cosine_sim.shape"
   ]
  },
  {
   "cell_type": "code",
   "execution_count": 42,
   "metadata": {
    "colab": {
     "base_uri": "https://localhost:8080/"
    },
    "id": "iVT5o4jqCfcY",
    "outputId": "dbd4c6bf-5343-484e-e94d-811a0604c082"
   },
   "outputs": [
    {
     "data": {
      "text/plain": [
       "1.0"
      ]
     },
     "execution_count": 42,
     "metadata": {},
     "output_type": "execute_result"
    }
   ],
   "source": [
    "cosine_sim[0][0]"
   ]
  },
  {
   "cell_type": "markdown",
   "metadata": {
    "id": "t4Zu7xLsCszt"
   },
   "source": [
    "* Construct a serie for mapping movies and IDs  "
   ]
  },
  {
   "cell_type": "code",
   "execution_count": 43,
   "metadata": {
    "id": "D3jNCchMmLeW"
   },
   "outputs": [],
   "source": [
    "indices = pd.Series(metadata_small.index, index=metadata_small['title']).drop_duplicates()"
   ]
  },
  {
   "cell_type": "code",
   "execution_count": 44,
   "metadata": {
    "id": "rseSD5V1n5P1"
   },
   "outputs": [],
   "source": [
    "for i in range(len(indices)):\n",
    "  indices[i] = i"
   ]
  },
  {
   "cell_type": "code",
   "execution_count": 45,
   "metadata": {
    "colab": {
     "base_uri": "https://localhost:8080/"
    },
    "id": "4CAVbbMTzm-V",
    "outputId": "f15d8111-0b49-4ce6-bfc0-56b863f62872"
   },
   "outputs": [
    {
     "data": {
      "text/plain": [
       "title\n",
       "Toy Story                         0\n",
       "Jumanji                           1\n",
       "Father of the Bride Part II       2\n",
       "Heat                              3\n",
       "Sudden Death                      4\n",
       "                               ... \n",
       "Brice 3                        4550\n",
       "Girls Trip                     4551\n",
       "Descendants 2                  4552\n",
       "Force Majeure                  4553\n",
       "The Visitors: Bastille Day     4554\n",
       "Length: 4555, dtype: int64"
      ]
     },
     "execution_count": 45,
     "metadata": {},
     "output_type": "execute_result"
    }
   ],
   "source": [
    "indices"
   ]
  },
  {
   "cell_type": "markdown",
   "metadata": {
    "id": "LjTlIWd0DZXd"
   },
   "source": [
    "* **get_recommendations :** \n",
    "  * Takes title and similarity matrix as input parameters\n",
    "  * Returns k most similar movies as recommendations"
   ]
  },
  {
   "cell_type": "code",
   "execution_count": 46,
   "metadata": {
    "id": "bCOV2u42a_so"
   },
   "outputs": [],
   "source": [
    "def get_recommendations(title, cosine_sim, k):\n",
    "  \n",
    "    idx = indices[title] # get the index of title\n",
    "    sim_scores = list(enumerate(cosine_sim[idx])) # get that movies similarities with other movies \n",
    "    sim_scores = sorted(sim_scores, key=lambda x: x[1], reverse=True)  # sort that list\n",
    "    sim_scores = sim_scores[1:(k+1)] # get first k element \n",
    "    movie_indices = [i[0] for i in sim_scores] # get similar movies indexes\n",
    "\n",
    "    return pd.DataFrame(metadata_small['title'].iloc[movie_indices]).reset_index(drop=True) # return the titles with looking at metadata dataframe"
   ]
  },
  {
   "cell_type": "code",
   "execution_count": 47,
   "metadata": {
    "colab": {
     "base_uri": "https://localhost:8080/",
     "height": 206
    },
    "id": "TckLfiCVbEMw",
    "outputId": "f85005f4-dc46-41dc-cda4-d63bb3edff4d"
   },
   "outputs": [
    {
     "data": {
      "text/html": [
       "\n",
       "  <div id=\"df-e928c9d9-87be-4802-af62-eda71cdf5551\">\n",
       "    <div class=\"colab-df-container\">\n",
       "      <div>\n",
       "<style scoped>\n",
       "    .dataframe tbody tr th:only-of-type {\n",
       "        vertical-align: middle;\n",
       "    }\n",
       "\n",
       "    .dataframe tbody tr th {\n",
       "        vertical-align: top;\n",
       "    }\n",
       "\n",
       "    .dataframe thead th {\n",
       "        text-align: right;\n",
       "    }\n",
       "</style>\n",
       "<table border=\"1\" class=\"dataframe\">\n",
       "  <thead>\n",
       "    <tr style=\"text-align: right;\">\n",
       "      <th></th>\n",
       "      <th>title</th>\n",
       "    </tr>\n",
       "  </thead>\n",
       "  <tbody>\n",
       "    <tr>\n",
       "      <th>0</th>\n",
       "      <td>Black Book</td>\n",
       "    </tr>\n",
       "    <tr>\n",
       "      <th>1</th>\n",
       "      <td>Don't Look Now: We're Being Shot At</td>\n",
       "    </tr>\n",
       "    <tr>\n",
       "      <th>2</th>\n",
       "      <td>Kelly's Heroes</td>\n",
       "    </tr>\n",
       "    <tr>\n",
       "      <th>3</th>\n",
       "      <td>Schindler's List</td>\n",
       "    </tr>\n",
       "    <tr>\n",
       "      <th>4</th>\n",
       "      <td>Defiance</td>\n",
       "    </tr>\n",
       "  </tbody>\n",
       "</table>\n",
       "</div>\n",
       "      <button class=\"colab-df-convert\" onclick=\"convertToInteractive('df-e928c9d9-87be-4802-af62-eda71cdf5551')\"\n",
       "              title=\"Convert this dataframe to an interactive table.\"\n",
       "              style=\"display:none;\">\n",
       "        \n",
       "  <svg xmlns=\"http://www.w3.org/2000/svg\" height=\"24px\"viewBox=\"0 0 24 24\"\n",
       "       width=\"24px\">\n",
       "    <path d=\"M0 0h24v24H0V0z\" fill=\"none\"/>\n",
       "    <path d=\"M18.56 5.44l.94 2.06.94-2.06 2.06-.94-2.06-.94-.94-2.06-.94 2.06-2.06.94zm-11 1L8.5 8.5l.94-2.06 2.06-.94-2.06-.94L8.5 2.5l-.94 2.06-2.06.94zm10 10l.94 2.06.94-2.06 2.06-.94-2.06-.94-.94-2.06-.94 2.06-2.06.94z\"/><path d=\"M17.41 7.96l-1.37-1.37c-.4-.4-.92-.59-1.43-.59-.52 0-1.04.2-1.43.59L10.3 9.45l-7.72 7.72c-.78.78-.78 2.05 0 2.83L4 21.41c.39.39.9.59 1.41.59.51 0 1.02-.2 1.41-.59l7.78-7.78 2.81-2.81c.8-.78.8-2.07 0-2.86zM5.41 20L4 18.59l7.72-7.72 1.47 1.35L5.41 20z\"/>\n",
       "  </svg>\n",
       "      </button>\n",
       "      \n",
       "  <style>\n",
       "    .colab-df-container {\n",
       "      display:flex;\n",
       "      flex-wrap:wrap;\n",
       "      gap: 12px;\n",
       "    }\n",
       "\n",
       "    .colab-df-convert {\n",
       "      background-color: #E8F0FE;\n",
       "      border: none;\n",
       "      border-radius: 50%;\n",
       "      cursor: pointer;\n",
       "      display: none;\n",
       "      fill: #1967D2;\n",
       "      height: 32px;\n",
       "      padding: 0 0 0 0;\n",
       "      width: 32px;\n",
       "    }\n",
       "\n",
       "    .colab-df-convert:hover {\n",
       "      background-color: #E2EBFA;\n",
       "      box-shadow: 0px 1px 2px rgba(60, 64, 67, 0.3), 0px 1px 3px 1px rgba(60, 64, 67, 0.15);\n",
       "      fill: #174EA6;\n",
       "    }\n",
       "\n",
       "    [theme=dark] .colab-df-convert {\n",
       "      background-color: #3B4455;\n",
       "      fill: #D2E3FC;\n",
       "    }\n",
       "\n",
       "    [theme=dark] .colab-df-convert:hover {\n",
       "      background-color: #434B5C;\n",
       "      box-shadow: 0px 1px 3px 1px rgba(0, 0, 0, 0.15);\n",
       "      filter: drop-shadow(0px 1px 2px rgba(0, 0, 0, 0.3));\n",
       "      fill: #FFFFFF;\n",
       "    }\n",
       "  </style>\n",
       "\n",
       "      <script>\n",
       "        const buttonEl =\n",
       "          document.querySelector('#df-e928c9d9-87be-4802-af62-eda71cdf5551 button.colab-df-convert');\n",
       "        buttonEl.style.display =\n",
       "          google.colab.kernel.accessAllowed ? 'block' : 'none';\n",
       "\n",
       "        async function convertToInteractive(key) {\n",
       "          const element = document.querySelector('#df-e928c9d9-87be-4802-af62-eda71cdf5551');\n",
       "          const dataTable =\n",
       "            await google.colab.kernel.invokeFunction('convertToInteractive',\n",
       "                                                     [key], {});\n",
       "          if (!dataTable) return;\n",
       "\n",
       "          const docLinkHtml = 'Like what you see? Visit the ' +\n",
       "            '<a target=\"_blank\" href=https://colab.research.google.com/notebooks/data_table.ipynb>data table notebook</a>'\n",
       "            + ' to learn more about interactive tables.';\n",
       "          element.innerHTML = '';\n",
       "          dataTable['output_type'] = 'display_data';\n",
       "          await google.colab.output.renderOutput(dataTable, element);\n",
       "          const docLink = document.createElement('div');\n",
       "          docLink.innerHTML = docLinkHtml;\n",
       "          element.appendChild(docLink);\n",
       "        }\n",
       "      </script>\n",
       "    </div>\n",
       "  </div>\n",
       "  "
      ],
      "text/plain": [
       "                                 title\n",
       "0                           Black Book\n",
       "1  Don't Look Now: We're Being Shot At\n",
       "2                       Kelly's Heroes\n",
       "3                     Schindler's List\n",
       "4                             Defiance"
      ]
     },
     "execution_count": 47,
     "metadata": {},
     "output_type": "execute_result"
    }
   ],
   "source": [
    "get_recommendations(\"Inglourious Basterds\", cosine_sim, 5)"
   ]
  },
  {
   "cell_type": "code",
   "execution_count": 48,
   "metadata": {
    "colab": {
     "base_uri": "https://localhost:8080/",
     "height": 206
    },
    "id": "UxbvfHYRn4f4",
    "outputId": "1aaca377-7fe1-41a8-af04-2a50b9f03c7c"
   },
   "outputs": [
    {
     "data": {
      "text/html": [
       "\n",
       "  <div id=\"df-5b3f4b4d-6fb1-4e6d-8fa1-062b44a5f0e3\">\n",
       "    <div class=\"colab-df-container\">\n",
       "      <div>\n",
       "<style scoped>\n",
       "    .dataframe tbody tr th:only-of-type {\n",
       "        vertical-align: middle;\n",
       "    }\n",
       "\n",
       "    .dataframe tbody tr th {\n",
       "        vertical-align: top;\n",
       "    }\n",
       "\n",
       "    .dataframe thead th {\n",
       "        text-align: right;\n",
       "    }\n",
       "</style>\n",
       "<table border=\"1\" class=\"dataframe\">\n",
       "  <thead>\n",
       "    <tr style=\"text-align: right;\">\n",
       "      <th></th>\n",
       "      <th>title</th>\n",
       "    </tr>\n",
       "  </thead>\n",
       "  <tbody>\n",
       "    <tr>\n",
       "      <th>0</th>\n",
       "      <td>One for the Money</td>\n",
       "    </tr>\n",
       "    <tr>\n",
       "      <th>1</th>\n",
       "      <td>Mud</td>\n",
       "    </tr>\n",
       "    <tr>\n",
       "      <th>2</th>\n",
       "      <td>Domino</td>\n",
       "    </tr>\n",
       "    <tr>\n",
       "      <th>3</th>\n",
       "      <td>Hot Shots! Part Deux</td>\n",
       "    </tr>\n",
       "    <tr>\n",
       "      <th>4</th>\n",
       "      <td>Life</td>\n",
       "    </tr>\n",
       "  </tbody>\n",
       "</table>\n",
       "</div>\n",
       "      <button class=\"colab-df-convert\" onclick=\"convertToInteractive('df-5b3f4b4d-6fb1-4e6d-8fa1-062b44a5f0e3')\"\n",
       "              title=\"Convert this dataframe to an interactive table.\"\n",
       "              style=\"display:none;\">\n",
       "        \n",
       "  <svg xmlns=\"http://www.w3.org/2000/svg\" height=\"24px\"viewBox=\"0 0 24 24\"\n",
       "       width=\"24px\">\n",
       "    <path d=\"M0 0h24v24H0V0z\" fill=\"none\"/>\n",
       "    <path d=\"M18.56 5.44l.94 2.06.94-2.06 2.06-.94-2.06-.94-.94-2.06-.94 2.06-2.06.94zm-11 1L8.5 8.5l.94-2.06 2.06-.94-2.06-.94L8.5 2.5l-.94 2.06-2.06.94zm10 10l.94 2.06.94-2.06 2.06-.94-2.06-.94-.94-2.06-.94 2.06-2.06.94z\"/><path d=\"M17.41 7.96l-1.37-1.37c-.4-.4-.92-.59-1.43-.59-.52 0-1.04.2-1.43.59L10.3 9.45l-7.72 7.72c-.78.78-.78 2.05 0 2.83L4 21.41c.39.39.9.59 1.41.59.51 0 1.02-.2 1.41-.59l7.78-7.78 2.81-2.81c.8-.78.8-2.07 0-2.86zM5.41 20L4 18.59l7.72-7.72 1.47 1.35L5.41 20z\"/>\n",
       "  </svg>\n",
       "      </button>\n",
       "      \n",
       "  <style>\n",
       "    .colab-df-container {\n",
       "      display:flex;\n",
       "      flex-wrap:wrap;\n",
       "      gap: 12px;\n",
       "    }\n",
       "\n",
       "    .colab-df-convert {\n",
       "      background-color: #E8F0FE;\n",
       "      border: none;\n",
       "      border-radius: 50%;\n",
       "      cursor: pointer;\n",
       "      display: none;\n",
       "      fill: #1967D2;\n",
       "      height: 32px;\n",
       "      padding: 0 0 0 0;\n",
       "      width: 32px;\n",
       "    }\n",
       "\n",
       "    .colab-df-convert:hover {\n",
       "      background-color: #E2EBFA;\n",
       "      box-shadow: 0px 1px 2px rgba(60, 64, 67, 0.3), 0px 1px 3px 1px rgba(60, 64, 67, 0.15);\n",
       "      fill: #174EA6;\n",
       "    }\n",
       "\n",
       "    [theme=dark] .colab-df-convert {\n",
       "      background-color: #3B4455;\n",
       "      fill: #D2E3FC;\n",
       "    }\n",
       "\n",
       "    [theme=dark] .colab-df-convert:hover {\n",
       "      background-color: #434B5C;\n",
       "      box-shadow: 0px 1px 3px 1px rgba(0, 0, 0, 0.15);\n",
       "      filter: drop-shadow(0px 1px 2px rgba(0, 0, 0, 0.3));\n",
       "      fill: #FFFFFF;\n",
       "    }\n",
       "  </style>\n",
       "\n",
       "      <script>\n",
       "        const buttonEl =\n",
       "          document.querySelector('#df-5b3f4b4d-6fb1-4e6d-8fa1-062b44a5f0e3 button.colab-df-convert');\n",
       "        buttonEl.style.display =\n",
       "          google.colab.kernel.accessAllowed ? 'block' : 'none';\n",
       "\n",
       "        async function convertToInteractive(key) {\n",
       "          const element = document.querySelector('#df-5b3f4b4d-6fb1-4e6d-8fa1-062b44a5f0e3');\n",
       "          const dataTable =\n",
       "            await google.colab.kernel.invokeFunction('convertToInteractive',\n",
       "                                                     [key], {});\n",
       "          if (!dataTable) return;\n",
       "\n",
       "          const docLinkHtml = 'Like what you see? Visit the ' +\n",
       "            '<a target=\"_blank\" href=https://colab.research.google.com/notebooks/data_table.ipynb>data table notebook</a>'\n",
       "            + ' to learn more about interactive tables.';\n",
       "          element.innerHTML = '';\n",
       "          dataTable['output_type'] = 'display_data';\n",
       "          await google.colab.output.renderOutput(dataTable, element);\n",
       "          const docLink = document.createElement('div');\n",
       "          docLink.innerHTML = docLinkHtml;\n",
       "          element.appendChild(docLink);\n",
       "        }\n",
       "      </script>\n",
       "    </div>\n",
       "  </div>\n",
       "  "
      ],
      "text/plain": [
       "                  title\n",
       "0     One for the Money\n",
       "1                   Mud\n",
       "2                Domino\n",
       "3  Hot Shots! Part Deux\n",
       "4                  Life"
      ]
     },
     "execution_count": 48,
     "metadata": {},
     "output_type": "execute_result"
    }
   ],
   "source": [
    "get_recommendations('Django Unchained', cosine_sim, 5) # kesin izleyin..."
   ]
  },
  {
   "cell_type": "code",
   "execution_count": 49,
   "metadata": {
    "colab": {
     "base_uri": "https://localhost:8080/",
     "height": 206
    },
    "id": "hR_4hp6_bFy-",
    "outputId": "ca0510ad-bdcd-4abe-9976-28e99865a2df"
   },
   "outputs": [
    {
     "data": {
      "text/html": [
       "\n",
       "  <div id=\"df-eb5cedd0-1d0c-4640-8d3b-bac60f3fe12e\">\n",
       "    <div class=\"colab-df-container\">\n",
       "      <div>\n",
       "<style scoped>\n",
       "    .dataframe tbody tr th:only-of-type {\n",
       "        vertical-align: middle;\n",
       "    }\n",
       "\n",
       "    .dataframe tbody tr th {\n",
       "        vertical-align: top;\n",
       "    }\n",
       "\n",
       "    .dataframe thead th {\n",
       "        text-align: right;\n",
       "    }\n",
       "</style>\n",
       "<table border=\"1\" class=\"dataframe\">\n",
       "  <thead>\n",
       "    <tr style=\"text-align: right;\">\n",
       "      <th></th>\n",
       "      <th>title</th>\n",
       "    </tr>\n",
       "  </thead>\n",
       "  <tbody>\n",
       "    <tr>\n",
       "      <th>0</th>\n",
       "      <td>The World Is Not Enough</td>\n",
       "    </tr>\n",
       "    <tr>\n",
       "      <th>1</th>\n",
       "      <td>The Abyss</td>\n",
       "    </tr>\n",
       "    <tr>\n",
       "      <th>2</th>\n",
       "      <td>Harry Potter and the Half-Blood Prince</td>\n",
       "    </tr>\n",
       "    <tr>\n",
       "      <th>3</th>\n",
       "      <td>Pale Rider</td>\n",
       "    </tr>\n",
       "    <tr>\n",
       "      <th>4</th>\n",
       "      <td>Far and Away</td>\n",
       "    </tr>\n",
       "  </tbody>\n",
       "</table>\n",
       "</div>\n",
       "      <button class=\"colab-df-convert\" onclick=\"convertToInteractive('df-eb5cedd0-1d0c-4640-8d3b-bac60f3fe12e')\"\n",
       "              title=\"Convert this dataframe to an interactive table.\"\n",
       "              style=\"display:none;\">\n",
       "        \n",
       "  <svg xmlns=\"http://www.w3.org/2000/svg\" height=\"24px\"viewBox=\"0 0 24 24\"\n",
       "       width=\"24px\">\n",
       "    <path d=\"M0 0h24v24H0V0z\" fill=\"none\"/>\n",
       "    <path d=\"M18.56 5.44l.94 2.06.94-2.06 2.06-.94-2.06-.94-.94-2.06-.94 2.06-2.06.94zm-11 1L8.5 8.5l.94-2.06 2.06-.94-2.06-.94L8.5 2.5l-.94 2.06-2.06.94zm10 10l.94 2.06.94-2.06 2.06-.94-2.06-.94-.94-2.06-.94 2.06-2.06.94z\"/><path d=\"M17.41 7.96l-1.37-1.37c-.4-.4-.92-.59-1.43-.59-.52 0-1.04.2-1.43.59L10.3 9.45l-7.72 7.72c-.78.78-.78 2.05 0 2.83L4 21.41c.39.39.9.59 1.41.59.51 0 1.02-.2 1.41-.59l7.78-7.78 2.81-2.81c.8-.78.8-2.07 0-2.86zM5.41 20L4 18.59l7.72-7.72 1.47 1.35L5.41 20z\"/>\n",
       "  </svg>\n",
       "      </button>\n",
       "      \n",
       "  <style>\n",
       "    .colab-df-container {\n",
       "      display:flex;\n",
       "      flex-wrap:wrap;\n",
       "      gap: 12px;\n",
       "    }\n",
       "\n",
       "    .colab-df-convert {\n",
       "      background-color: #E8F0FE;\n",
       "      border: none;\n",
       "      border-radius: 50%;\n",
       "      cursor: pointer;\n",
       "      display: none;\n",
       "      fill: #1967D2;\n",
       "      height: 32px;\n",
       "      padding: 0 0 0 0;\n",
       "      width: 32px;\n",
       "    }\n",
       "\n",
       "    .colab-df-convert:hover {\n",
       "      background-color: #E2EBFA;\n",
       "      box-shadow: 0px 1px 2px rgba(60, 64, 67, 0.3), 0px 1px 3px 1px rgba(60, 64, 67, 0.15);\n",
       "      fill: #174EA6;\n",
       "    }\n",
       "\n",
       "    [theme=dark] .colab-df-convert {\n",
       "      background-color: #3B4455;\n",
       "      fill: #D2E3FC;\n",
       "    }\n",
       "\n",
       "    [theme=dark] .colab-df-convert:hover {\n",
       "      background-color: #434B5C;\n",
       "      box-shadow: 0px 1px 3px 1px rgba(0, 0, 0, 0.15);\n",
       "      filter: drop-shadow(0px 1px 2px rgba(0, 0, 0, 0.3));\n",
       "      fill: #FFFFFF;\n",
       "    }\n",
       "  </style>\n",
       "\n",
       "      <script>\n",
       "        const buttonEl =\n",
       "          document.querySelector('#df-eb5cedd0-1d0c-4640-8d3b-bac60f3fe12e button.colab-df-convert');\n",
       "        buttonEl.style.display =\n",
       "          google.colab.kernel.accessAllowed ? 'block' : 'none';\n",
       "\n",
       "        async function convertToInteractive(key) {\n",
       "          const element = document.querySelector('#df-eb5cedd0-1d0c-4640-8d3b-bac60f3fe12e');\n",
       "          const dataTable =\n",
       "            await google.colab.kernel.invokeFunction('convertToInteractive',\n",
       "                                                     [key], {});\n",
       "          if (!dataTable) return;\n",
       "\n",
       "          const docLinkHtml = 'Like what you see? Visit the ' +\n",
       "            '<a target=\"_blank\" href=https://colab.research.google.com/notebooks/data_table.ipynb>data table notebook</a>'\n",
       "            + ' to learn more about interactive tables.';\n",
       "          element.innerHTML = '';\n",
       "          dataTable['output_type'] = 'display_data';\n",
       "          await google.colab.output.renderOutput(dataTable, element);\n",
       "          const docLink = document.createElement('div');\n",
       "          docLink.innerHTML = docLinkHtml;\n",
       "          element.appendChild(docLink);\n",
       "        }\n",
       "      </script>\n",
       "    </div>\n",
       "  </div>\n",
       "  "
      ],
      "text/plain": [
       "                                    title\n",
       "0                 The World Is Not Enough\n",
       "1                               The Abyss\n",
       "2  Harry Potter and the Half-Blood Prince\n",
       "3                              Pale Rider\n",
       "4                            Far and Away"
      ]
     },
     "execution_count": 49,
     "metadata": {},
     "output_type": "execute_result"
    }
   ],
   "source": [
    "get_recommendations('There Will Be Blood', cosine_sim, 5) # kesin izleyin..."
   ]
  },
  {
   "cell_type": "markdown",
   "metadata": {
    "id": "G38vEkb-mRr8"
   },
   "source": [
    "#### Recommendation with Overview Vectors\n",
    "\n",
    "* Use overviews as content but this time, get the overview's vectors with using word model.\n",
    "\n",
    "* Use these vectors to find similarity between movies\n",
    "\n",
    "---\n",
    "\n",
    "\n"
   ]
  },
  {
   "cell_type": "markdown",
   "metadata": {
    "id": "JAwaztAzzSTE"
   },
   "source": [
    "* Imports"
   ]
  },
  {
   "cell_type": "code",
   "execution_count": 50,
   "metadata": {
    "colab": {
     "base_uri": "https://localhost:8080/"
    },
    "id": "mZIi6laizRtn",
    "outputId": "7e66819b-0df9-42bd-be16-5c551ed075b7"
   },
   "outputs": [
    {
     "name": "stdout",
     "output_type": "stream",
     "text": [
      "[nltk_data] Downloading package wordnet to /root/nltk_data...\n",
      "[nltk_data]   Unzipping corpora/wordnet.zip.\n",
      "[nltk_data] Downloading package stopwords to /root/nltk_data...\n",
      "[nltk_data]   Unzipping corpora/stopwords.zip.\n"
     ]
    }
   ],
   "source": [
    "import pandas as pd\n",
    "import re\n",
    "import numpy as np\n",
    "import string\n",
    "from gensim.models import KeyedVectors\n",
    "from gensim.scripts.glove2word2vec import glove2word2vec\n",
    "import string\n",
    "import nltk\n",
    "nltk.download('wordnet')\n",
    "nltk.download('stopwords')\n",
    "from keras.preprocessing.text import Tokenizer\n",
    "import scipy.stats"
   ]
  },
  {
   "cell_type": "markdown",
   "metadata": {
    "id": "ch4ot5HoCA_c"
   },
   "source": [
    "* Read the data again"
   ]
  },
  {
   "cell_type": "code",
   "execution_count": 51,
   "metadata": {
    "colab": {
     "base_uri": "https://localhost:8080/"
    },
    "id": "cwz45Eh15Lor",
    "outputId": "7ce76b02-4416-4cf5-964d-e622dc6ce2d7"
   },
   "outputs": [
    {
     "data": {
      "text/plain": [
       "45466"
      ]
     },
     "execution_count": 51,
     "metadata": {},
     "output_type": "execute_result"
    }
   ],
   "source": [
    "metadata = pd.read_csv('/content/drive/MyDrive/applied_ai_enes_safak/recommender_systems/MovieLens/movies_metadata.csv', low_memory=False)\n",
    "len(metadata)"
   ]
  },
  {
   "cell_type": "code",
   "execution_count": 52,
   "metadata": {
    "colab": {
     "base_uri": "https://localhost:8080/",
     "height": 363
    },
    "id": "24y-YHfhBSFD",
    "outputId": "3448b5c8-6a1a-4ee7-ac6d-4c660caf88ed"
   },
   "outputs": [
    {
     "data": {
      "text/html": [
       "\n",
       "  <div id=\"df-4f914fb7-3f4e-4c44-97a4-b8b28b32ab83\">\n",
       "    <div class=\"colab-df-container\">\n",
       "      <div>\n",
       "<style scoped>\n",
       "    .dataframe tbody tr th:only-of-type {\n",
       "        vertical-align: middle;\n",
       "    }\n",
       "\n",
       "    .dataframe tbody tr th {\n",
       "        vertical-align: top;\n",
       "    }\n",
       "\n",
       "    .dataframe thead th {\n",
       "        text-align: right;\n",
       "    }\n",
       "</style>\n",
       "<table border=\"1\" class=\"dataframe\">\n",
       "  <thead>\n",
       "    <tr style=\"text-align: right;\">\n",
       "      <th></th>\n",
       "      <th>original_title</th>\n",
       "      <th>overview</th>\n",
       "    </tr>\n",
       "  </thead>\n",
       "  <tbody>\n",
       "    <tr>\n",
       "      <th>0</th>\n",
       "      <td>Toy Story</td>\n",
       "      <td>Led by Woody, Andy's toys live happily in his ...</td>\n",
       "    </tr>\n",
       "    <tr>\n",
       "      <th>1</th>\n",
       "      <td>Jumanji</td>\n",
       "      <td>When siblings Judy and Peter discover an encha...</td>\n",
       "    </tr>\n",
       "    <tr>\n",
       "      <th>2</th>\n",
       "      <td>Grumpier Old Men</td>\n",
       "      <td>A family wedding reignites the ancient feud be...</td>\n",
       "    </tr>\n",
       "    <tr>\n",
       "      <th>3</th>\n",
       "      <td>Waiting to Exhale</td>\n",
       "      <td>Cheated on, mistreated and stepped on, the wom...</td>\n",
       "    </tr>\n",
       "    <tr>\n",
       "      <th>4</th>\n",
       "      <td>Father of the Bride Part II</td>\n",
       "      <td>Just when George Banks has recovered from his ...</td>\n",
       "    </tr>\n",
       "    <tr>\n",
       "      <th>5</th>\n",
       "      <td>Heat</td>\n",
       "      <td>Obsessive master thief, Neil McCauley leads a ...</td>\n",
       "    </tr>\n",
       "    <tr>\n",
       "      <th>6</th>\n",
       "      <td>Sabrina</td>\n",
       "      <td>An ugly duckling having undergone a remarkable...</td>\n",
       "    </tr>\n",
       "    <tr>\n",
       "      <th>7</th>\n",
       "      <td>Tom and Huck</td>\n",
       "      <td>A mischievous young boy, Tom Sawyer, witnesses...</td>\n",
       "    </tr>\n",
       "    <tr>\n",
       "      <th>8</th>\n",
       "      <td>Sudden Death</td>\n",
       "      <td>International action superstar Jean Claude Van...</td>\n",
       "    </tr>\n",
       "    <tr>\n",
       "      <th>9</th>\n",
       "      <td>GoldenEye</td>\n",
       "      <td>James Bond must unmask the mysterious head of ...</td>\n",
       "    </tr>\n",
       "  </tbody>\n",
       "</table>\n",
       "</div>\n",
       "      <button class=\"colab-df-convert\" onclick=\"convertToInteractive('df-4f914fb7-3f4e-4c44-97a4-b8b28b32ab83')\"\n",
       "              title=\"Convert this dataframe to an interactive table.\"\n",
       "              style=\"display:none;\">\n",
       "        \n",
       "  <svg xmlns=\"http://www.w3.org/2000/svg\" height=\"24px\"viewBox=\"0 0 24 24\"\n",
       "       width=\"24px\">\n",
       "    <path d=\"M0 0h24v24H0V0z\" fill=\"none\"/>\n",
       "    <path d=\"M18.56 5.44l.94 2.06.94-2.06 2.06-.94-2.06-.94-.94-2.06-.94 2.06-2.06.94zm-11 1L8.5 8.5l.94-2.06 2.06-.94-2.06-.94L8.5 2.5l-.94 2.06-2.06.94zm10 10l.94 2.06.94-2.06 2.06-.94-2.06-.94-.94-2.06-.94 2.06-2.06.94z\"/><path d=\"M17.41 7.96l-1.37-1.37c-.4-.4-.92-.59-1.43-.59-.52 0-1.04.2-1.43.59L10.3 9.45l-7.72 7.72c-.78.78-.78 2.05 0 2.83L4 21.41c.39.39.9.59 1.41.59.51 0 1.02-.2 1.41-.59l7.78-7.78 2.81-2.81c.8-.78.8-2.07 0-2.86zM5.41 20L4 18.59l7.72-7.72 1.47 1.35L5.41 20z\"/>\n",
       "  </svg>\n",
       "      </button>\n",
       "      \n",
       "  <style>\n",
       "    .colab-df-container {\n",
       "      display:flex;\n",
       "      flex-wrap:wrap;\n",
       "      gap: 12px;\n",
       "    }\n",
       "\n",
       "    .colab-df-convert {\n",
       "      background-color: #E8F0FE;\n",
       "      border: none;\n",
       "      border-radius: 50%;\n",
       "      cursor: pointer;\n",
       "      display: none;\n",
       "      fill: #1967D2;\n",
       "      height: 32px;\n",
       "      padding: 0 0 0 0;\n",
       "      width: 32px;\n",
       "    }\n",
       "\n",
       "    .colab-df-convert:hover {\n",
       "      background-color: #E2EBFA;\n",
       "      box-shadow: 0px 1px 2px rgba(60, 64, 67, 0.3), 0px 1px 3px 1px rgba(60, 64, 67, 0.15);\n",
       "      fill: #174EA6;\n",
       "    }\n",
       "\n",
       "    [theme=dark] .colab-df-convert {\n",
       "      background-color: #3B4455;\n",
       "      fill: #D2E3FC;\n",
       "    }\n",
       "\n",
       "    [theme=dark] .colab-df-convert:hover {\n",
       "      background-color: #434B5C;\n",
       "      box-shadow: 0px 1px 3px 1px rgba(0, 0, 0, 0.15);\n",
       "      filter: drop-shadow(0px 1px 2px rgba(0, 0, 0, 0.3));\n",
       "      fill: #FFFFFF;\n",
       "    }\n",
       "  </style>\n",
       "\n",
       "      <script>\n",
       "        const buttonEl =\n",
       "          document.querySelector('#df-4f914fb7-3f4e-4c44-97a4-b8b28b32ab83 button.colab-df-convert');\n",
       "        buttonEl.style.display =\n",
       "          google.colab.kernel.accessAllowed ? 'block' : 'none';\n",
       "\n",
       "        async function convertToInteractive(key) {\n",
       "          const element = document.querySelector('#df-4f914fb7-3f4e-4c44-97a4-b8b28b32ab83');\n",
       "          const dataTable =\n",
       "            await google.colab.kernel.invokeFunction('convertToInteractive',\n",
       "                                                     [key], {});\n",
       "          if (!dataTable) return;\n",
       "\n",
       "          const docLinkHtml = 'Like what you see? Visit the ' +\n",
       "            '<a target=\"_blank\" href=https://colab.research.google.com/notebooks/data_table.ipynb>data table notebook</a>'\n",
       "            + ' to learn more about interactive tables.';\n",
       "          element.innerHTML = '';\n",
       "          dataTable['output_type'] = 'display_data';\n",
       "          await google.colab.output.renderOutput(dataTable, element);\n",
       "          const docLink = document.createElement('div');\n",
       "          docLink.innerHTML = docLinkHtml;\n",
       "          element.appendChild(docLink);\n",
       "        }\n",
       "      </script>\n",
       "    </div>\n",
       "  </div>\n",
       "  "
      ],
      "text/plain": [
       "                original_title                                           overview\n",
       "0                    Toy Story  Led by Woody, Andy's toys live happily in his ...\n",
       "1                      Jumanji  When siblings Judy and Peter discover an encha...\n",
       "2             Grumpier Old Men  A family wedding reignites the ancient feud be...\n",
       "3            Waiting to Exhale  Cheated on, mistreated and stepped on, the wom...\n",
       "4  Father of the Bride Part II  Just when George Banks has recovered from his ...\n",
       "5                         Heat  Obsessive master thief, Neil McCauley leads a ...\n",
       "6                      Sabrina  An ugly duckling having undergone a remarkable...\n",
       "7                 Tom and Huck  A mischievous young boy, Tom Sawyer, witnesses...\n",
       "8                 Sudden Death  International action superstar Jean Claude Van...\n",
       "9                    GoldenEye  James Bond must unmask the mysterious head of ..."
      ]
     },
     "execution_count": 52,
     "metadata": {},
     "output_type": "execute_result"
    }
   ],
   "source": [
    "pd.DataFrame(metadata[['original_title','overview']].head(10))"
   ]
  },
  {
   "cell_type": "code",
   "execution_count": 53,
   "metadata": {
    "colab": {
     "base_uri": "https://localhost:8080/"
    },
    "id": "DiVWgmS35Mi8",
    "outputId": "a40eaf5f-01b4-4b55-dbb9-10a4d01cd06c"
   },
   "outputs": [
    {
     "data": {
      "text/plain": [
       "954"
      ]
     },
     "execution_count": 53,
     "metadata": {},
     "output_type": "execute_result"
    }
   ],
   "source": [
    "metadata['overview'].isna().sum()"
   ]
  },
  {
   "cell_type": "markdown",
   "metadata": {
    "id": "JuU4tUJRDEfH"
   },
   "source": [
    "* Drop empty rows"
   ]
  },
  {
   "cell_type": "code",
   "execution_count": 54,
   "metadata": {
    "id": "dLmJUryx5ToL"
   },
   "outputs": [],
   "source": [
    "metadata = metadata[metadata['overview'].isna() == False]"
   ]
  },
  {
   "cell_type": "code",
   "execution_count": 55,
   "metadata": {
    "colab": {
     "base_uri": "https://localhost:8080/"
    },
    "id": "GO11ts3e5dWq",
    "outputId": "764dc888-60ee-4f72-e0f2-434d5a27695d"
   },
   "outputs": [
    {
     "data": {
      "text/plain": [
       "0"
      ]
     },
     "execution_count": 55,
     "metadata": {},
     "output_type": "execute_result"
    }
   ],
   "source": [
    "metadata['overview'].isna().sum()"
   ]
  },
  {
   "cell_type": "code",
   "execution_count": 56,
   "metadata": {
    "colab": {
     "base_uri": "https://localhost:8080/"
    },
    "id": "AmuPF78j6h6-",
    "outputId": "87f2851c-b80f-47f1-9a8f-c46168f99483"
   },
   "outputs": [
    {
     "data": {
      "text/plain": [
       "44512"
      ]
     },
     "execution_count": 56,
     "metadata": {},
     "output_type": "execute_result"
    }
   ],
   "source": [
    "len(metadata)"
   ]
  },
  {
   "cell_type": "markdown",
   "metadata": {
    "id": "OYuERgpev4KC"
   },
   "source": [
    "* Create a Word2Vec model from GloVe vectors"
   ]
  },
  {
   "cell_type": "code",
   "execution_count": null,
   "metadata": {
    "id": "VEWp0itKvr_3"
   },
   "outputs": [],
   "source": [
    "'''\n",
    "glove_file = 'gloVe_eng.txt'\n",
    "word2vec_file = \"Word2Vec_eng.txt\"\n",
    "\n",
    "glove2word2vec(glove_file, word2vec_file)\n",
    "model = KeyedVectors.load_word2vec_format(word2vec_file)\n",
    "'''"
   ]
  },
  {
   "cell_type": "markdown",
   "metadata": {
    "id": "p-aEf4v8wcoi"
   },
   "source": [
    "* Load saved word model"
   ]
  },
  {
   "cell_type": "code",
   "execution_count": 58,
   "metadata": {
    "id": "eI04COhHuZz5"
   },
   "outputs": [],
   "source": [
    "import pickle\n",
    "filename = '/content/drive/MyDrive/applied_ai_enes_safak/recommender_systems/Word2Vec_model_eng.pkl'\n",
    "model = pickle.load(open(filename, 'rb'))"
   ]
  },
  {
   "cell_type": "markdown",
   "metadata": {
    "id": "85dzi8JqDkzt"
   },
   "source": [
    "![image.png](data:image/png;base64,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)"
   ]
  },
  {
   "cell_type": "code",
   "execution_count": 59,
   "metadata": {
    "colab": {
     "base_uri": "https://localhost:8080/"
    },
    "id": "r11Tbpmwv0ZN",
    "outputId": "db094346-c9e8-49f3-e1ab-9beed39082e1"
   },
   "outputs": [
    {
     "data": {
      "text/plain": [
       "[('cats', 0.7989761829376221),\n",
       " ('dog', 0.7885448932647705),\n",
       " ('kitten', 0.7550500631332397),\n",
       " ('pet', 0.7330316305160522),\n",
       " ('kitty', 0.6883490085601807),\n",
       " ('dogs', 0.6766945123672485),\n",
       " ('puppy', 0.6289974451065063),\n",
       " ('animal', 0.6256890296936035),\n",
       " ('kittens', 0.6217527985572815),\n",
       " ('pets', 0.609766960144043)]"
      ]
     },
     "execution_count": 59,
     "metadata": {},
     "output_type": "execute_result"
    }
   ],
   "source": [
    "model.most_similar('cat')"
   ]
  },
  {
   "cell_type": "markdown",
   "metadata": {
    "id": "dejO7aKIwmzc"
   },
   "source": [
    "* Each word represents with 300 dimentional vector"
   ]
  },
  {
   "cell_type": "code",
   "execution_count": 60,
   "metadata": {
    "colab": {
     "base_uri": "https://localhost:8080/"
    },
    "id": "dsOMmUVpuZxb",
    "outputId": "abd59bd3-2dbf-41f1-e720-96ce0f7eed22"
   },
   "outputs": [
    {
     "data": {
      "text/plain": [
       "300"
      ]
     },
     "execution_count": 60,
     "metadata": {},
     "output_type": "execute_result"
    }
   ],
   "source": [
    "len(model.get_vector('cat'))"
   ]
  },
  {
   "cell_type": "markdown",
   "metadata": {
    "id": "ytMVvuA2w_CN"
   },
   "source": [
    "* **Bag of Words** is used for finding unique words in the overviews\n",
    "\n",
    "\n",
    "\n",
    "> The bag-of-words model is a simplifying representation used in natural language processing and information retrieval (IR). In this model, a text (such as a sentence or a document) is represented as the bag (multiset) of its words, disregarding grammar and even word order but keeping multiplicity. The bag-of-words model has also been used for computer vision. (Wikipedia: bag of words)\n",
    "\n"
   ]
  },
  {
   "cell_type": "code",
   "execution_count": 61,
   "metadata": {
    "id": "ncLo7s65uZvJ"
   },
   "outputs": [],
   "source": [
    "def find_bow(sentence):\n",
    "    tokenizer = Tokenizer()\n",
    "    tokenizer.fit_on_texts(sentence)\n",
    "    sequences = tokenizer.texts_to_sequences(sentence)\n",
    "    word_index = tokenizer.word_index \n",
    "    bow = {}\n",
    "    for key in word_index:\n",
    "        bow[key] = sequences[0].count(word_index[key])\n",
    "\n",
    "    return bow, len(word_index)"
   ]
  },
  {
   "cell_type": "markdown",
   "metadata": {
    "id": "YS6284p5Dp0j"
   },
   "source": [
    "* A fucntion for removing all punctuations from texts"
   ]
  },
  {
   "cell_type": "code",
   "execution_count": 62,
   "metadata": {
    "id": "IZw7GOdtyVsw"
   },
   "outputs": [],
   "source": [
    "import string\n",
    "\n",
    "def remove_punctuation(text):\n",
    "  PUNCT_TO_REMOVE = string.punctuation\n",
    "  return text.translate(str.maketrans('', '', PUNCT_TO_REMOVE))"
   ]
  },
  {
   "cell_type": "code",
   "execution_count": 63,
   "metadata": {
    "id": "lmSWDa8ZyXmE"
   },
   "outputs": [],
   "source": [
    "metadata['overview'] = metadata['overview'].apply(lambda text: remove_punctuation(text))"
   ]
  },
  {
   "cell_type": "markdown",
   "metadata": {
    "id": "9WzHV66wDwF0"
   },
   "source": [
    "* Remove the stopwords like a, an, the, because etc. from text"
   ]
  },
  {
   "cell_type": "code",
   "execution_count": 64,
   "metadata": {
    "id": "l2u_sdIDyvtR"
   },
   "outputs": [],
   "source": [
    "docs = metadata['overview']\n",
    "docs_list = []\n",
    "\n",
    "WPT = nltk.WordPunctTokenizer()\n",
    "stop_word_list = nltk.corpus.stopwords.words('english')\n",
    "\n",
    "for doc in docs:\n",
    "    doc = re.sub(\"\\d+\",\" \",doc) # remove numbers\n",
    "    doc = WPT.tokenize(doc)\n",
    "    filtered_tokens = [item for item in doc if item not in stop_word_list]\n",
    "    lemma = nltk.WordNetLemmatizer()\n",
    "    lemma_word = [lemma.lemmatize(word) for word in filtered_tokens]\n",
    "\n",
    "    doc = \" \".join(lemma_word)\n",
    "\n",
    "    docs_list.append(doc)\n",
    "\n",
    "metadata['overview'] = pd.DataFrame(docs_list, columns=['overview'])"
   ]
  },
  {
   "cell_type": "markdown",
   "metadata": {
    "id": "jAi1R6nFFFco"
   },
   "source": [
    "* Remove null and empty rows again"
   ]
  },
  {
   "cell_type": "code",
   "execution_count": 65,
   "metadata": {
    "colab": {
     "base_uri": "https://localhost:8080/"
    },
    "id": "oIc3iEnv6rxO",
    "outputId": "40d8862a-4674-4aa6-9ddf-f08d819a07e4"
   },
   "outputs": [
    {
     "data": {
      "text/plain": [
       "914"
      ]
     },
     "execution_count": 65,
     "metadata": {},
     "output_type": "execute_result"
    }
   ],
   "source": [
    "metadata['overview'].isna().sum()"
   ]
  },
  {
   "cell_type": "code",
   "execution_count": 66,
   "metadata": {
    "id": "DcGi4mXn608F"
   },
   "outputs": [],
   "source": [
    "metadata = metadata[metadata['overview'].isna() == False]"
   ]
  },
  {
   "cell_type": "code",
   "execution_count": 67,
   "metadata": {
    "colab": {
     "base_uri": "https://localhost:8080/"
    },
    "id": "8R7a0oPX22bY",
    "outputId": "17905e87-5f02-4f39-c2b8-43ae48fd84eb"
   },
   "outputs": [
    {
     "data": {
      "text/plain": [
       "True     43592\n",
       "False        6\n",
       "Name: overview, dtype: int64"
      ]
     },
     "execution_count": 67,
     "metadata": {},
     "output_type": "execute_result"
    }
   ],
   "source": [
    "(metadata['overview'] != '').value_counts()"
   ]
  },
  {
   "cell_type": "code",
   "execution_count": 68,
   "metadata": {
    "id": "l-HA_EDy54-W"
   },
   "outputs": [],
   "source": [
    "metadata = metadata[metadata['overview'] != '']"
   ]
  },
  {
   "cell_type": "code",
   "execution_count": 69,
   "metadata": {
    "colab": {
     "base_uri": "https://localhost:8080/"
    },
    "id": "60UvUrZh6Q0u",
    "outputId": "be06f267-bdab-4b62-954d-b66a318323b4"
   },
   "outputs": [
    {
     "data": {
      "text/plain": [
       "0"
      ]
     },
     "execution_count": 69,
     "metadata": {},
     "output_type": "execute_result"
    }
   ],
   "source": [
    "metadata['overview'].isna().sum()"
   ]
  },
  {
   "cell_type": "code",
   "execution_count": 70,
   "metadata": {
    "colab": {
     "base_uri": "https://localhost:8080/"
    },
    "id": "w5cI67XP6Bau",
    "outputId": "8b5f272b-2420-4a15-b51f-54603f744bbf"
   },
   "outputs": [
    {
     "data": {
      "text/plain": [
       "True    43592\n",
       "Name: overview, dtype: int64"
      ]
     },
     "execution_count": 70,
     "metadata": {},
     "output_type": "execute_result"
    }
   ],
   "source": [
    "(metadata['overview'] != '').value_counts()"
   ]
  },
  {
   "cell_type": "code",
   "execution_count": 71,
   "metadata": {
    "colab": {
     "base_uri": "https://localhost:8080/"
    },
    "id": "fN-HYgCbuZtE",
    "outputId": "0928fbae-3e62-44a1-bd15-07f0616c50d1"
   },
   "outputs": [
    {
     "name": "stderr",
     "output_type": "stream",
     "text": [
      "/usr/local/lib/python3.7/dist-packages/ipykernel_launcher.py:14: SettingWithCopyWarning: \n",
      "A value is trying to be set on a copy of a slice from a DataFrame\n",
      "\n",
      "See the caveats in the documentation: https://pandas.pydata.org/pandas-docs/stable/user_guide/indexing.html#returning-a-view-versus-a-copy\n",
      "  \n"
     ]
    },
    {
     "name": "stdout",
     "output_type": "stream",
     "text": [
      "Average words which are not found in sentences : 0.5084877959258579\n"
     ]
    }
   ],
   "source": [
    "metadata['vectors'] = [np.zeros(300) for i in range(len(metadata))]\n",
    "not_found = 0\n",
    "for i,text in enumerate(metadata['overview']):\n",
    "  bow, count = find_bow([text])\n",
    "  word_list = list(bow.keys()) # finding bag of words for a sample\n",
    "  avg_vector = np.zeros(300) \n",
    "  for word in word_list:\n",
    "    try:\n",
    "      avg_vector += model.get_vector(word) # finding vectors of these words\n",
    "      count += 1\n",
    "    except:\n",
    "      not_found += 1\n",
    "  if count != 0:\n",
    "    metadata['vectors'][i] = avg_vector/count # taking average of all words in bag of words for this sample \n",
    "\n",
    "print(\"Average words which are not found in sentences : \" + str(not_found/len(metadata)))"
   ]
  },
  {
   "cell_type": "code",
   "execution_count": 72,
   "metadata": {
    "id": "ZCS9MNMS6N9m"
   },
   "outputs": [],
   "source": [
    "metadata = metadata.reset_index(drop=True)"
   ]
  },
  {
   "cell_type": "markdown",
   "metadata": {
    "id": "mOorI54qFUvn"
   },
   "source": [
    "* Drop zero vectors from overviews"
   ]
  },
  {
   "cell_type": "code",
   "execution_count": 73,
   "metadata": {
    "colab": {
     "base_uri": "https://localhost:8080/"
    },
    "id": "TFwA-5xjuZqo",
    "outputId": "b27626b0-0fe8-4369-91c1-80764b7900af"
   },
   "outputs": [
    {
     "name": "stdout",
     "output_type": "stream",
     "text": [
      "Dropped lines after vectorization: 882\n",
      "Number of remaining samples: 42710\n"
     ]
    }
   ],
   "source": [
    "drop_list = []\n",
    "[drop_list.append(k) for k,i in enumerate(metadata['vectors']) if i.sum() == 0]\n",
    "print(\"Dropped lines after vectorization: \" + str(len(drop_list)))\n",
    "metadata = metadata.drop(drop_list).reset_index(drop=True)\n",
    "print(\"Number of remaining samples: \" + str(len(metadata))) "
   ]
  },
  {
   "cell_type": "markdown",
   "metadata": {
    "id": "38MQb0GrGAk7"
   },
   "source": [
    "* Euclidean distance for getting distance of overview vectors"
   ]
  },
  {
   "cell_type": "code",
   "execution_count": 74,
   "metadata": {
    "id": "xE6QdiWK8ZQ8"
   },
   "outputs": [],
   "source": [
    "def euclidean(arr1, arr2):\n",
    "  return np.sqrt(((arr1 - arr2)**2).sum())"
   ]
  },
  {
   "cell_type": "markdown",
   "metadata": {
    "id": "gRyK6QIgGL9m"
   },
   "source": [
    "* Takes the movie title, metadata dataframe and number of movied which will be recommended as parameters.\n",
    "\n",
    "* Find the movie's distances with all movies and take the first n movie for recommendation"
   ]
  },
  {
   "cell_type": "code",
   "execution_count": 75,
   "metadata": {
    "id": "gMHXGH0K7p0X"
   },
   "outputs": [],
   "source": [
    "def closest_n(movie, metadata, n):\n",
    "  distances = np.zeros((len(metadata)))\n",
    "  \n",
    "  if len(metadata[metadata['title'] == movie]) == 0:\n",
    "    print(\"This movie is not in the dataset...\")\n",
    "    return\n",
    "\n",
    "  ind = metadata[metadata['title'] == movie].index[0]\n",
    "\n",
    "  k = 0\n",
    "  for i in range(len(metadata)):\n",
    "    distances[k] = (euclidean(metadata['vectors'][ind], metadata['vectors'][i]))\n",
    "    k += 1\n",
    "\n",
    "\n",
    "  closest = np.argsort(distances)\n",
    "\n",
    "  closest_labels = [metadata['title'][i] for i in closest[1:n+1]]\n",
    "\n",
    "  return pd.DataFrame(closest_labels, columns=['Movie'])"
   ]
  },
  {
   "cell_type": "code",
   "execution_count": 76,
   "metadata": {
    "colab": {
     "base_uri": "https://localhost:8080/",
     "height": 363
    },
    "id": "h_9H8H3D7pyF",
    "outputId": "fa676154-6bb2-4995-d0ac-e1dea35507cc"
   },
   "outputs": [
    {
     "data": {
      "text/html": [
       "\n",
       "  <div id=\"df-c12546b5-4ba2-4789-984e-e8138802d377\">\n",
       "    <div class=\"colab-df-container\">\n",
       "      <div>\n",
       "<style scoped>\n",
       "    .dataframe tbody tr th:only-of-type {\n",
       "        vertical-align: middle;\n",
       "    }\n",
       "\n",
       "    .dataframe tbody tr th {\n",
       "        vertical-align: top;\n",
       "    }\n",
       "\n",
       "    .dataframe thead th {\n",
       "        text-align: right;\n",
       "    }\n",
       "</style>\n",
       "<table border=\"1\" class=\"dataframe\">\n",
       "  <thead>\n",
       "    <tr style=\"text-align: right;\">\n",
       "      <th></th>\n",
       "      <th>Movie</th>\n",
       "    </tr>\n",
       "  </thead>\n",
       "  <tbody>\n",
       "    <tr>\n",
       "      <th>0</th>\n",
       "      <td>Frisky</td>\n",
       "    </tr>\n",
       "    <tr>\n",
       "      <th>1</th>\n",
       "      <td>Brink!</td>\n",
       "    </tr>\n",
       "    <tr>\n",
       "      <th>2</th>\n",
       "      <td>Mega Piranha</td>\n",
       "    </tr>\n",
       "    <tr>\n",
       "      <th>3</th>\n",
       "      <td>Western</td>\n",
       "    </tr>\n",
       "    <tr>\n",
       "      <th>4</th>\n",
       "      <td>Hellevator</td>\n",
       "    </tr>\n",
       "    <tr>\n",
       "      <th>5</th>\n",
       "      <td>Greyfriars Bobby: The True Story of a Dog</td>\n",
       "    </tr>\n",
       "    <tr>\n",
       "      <th>6</th>\n",
       "      <td>The Kill Hole</td>\n",
       "    </tr>\n",
       "    <tr>\n",
       "      <th>7</th>\n",
       "      <td>The Great Global Warming Swindle</td>\n",
       "    </tr>\n",
       "    <tr>\n",
       "      <th>8</th>\n",
       "      <td>Parasite Dolls</td>\n",
       "    </tr>\n",
       "    <tr>\n",
       "      <th>9</th>\n",
       "      <td>Times of Joy and Sorrow</td>\n",
       "    </tr>\n",
       "  </tbody>\n",
       "</table>\n",
       "</div>\n",
       "      <button class=\"colab-df-convert\" onclick=\"convertToInteractive('df-c12546b5-4ba2-4789-984e-e8138802d377')\"\n",
       "              title=\"Convert this dataframe to an interactive table.\"\n",
       "              style=\"display:none;\">\n",
       "        \n",
       "  <svg xmlns=\"http://www.w3.org/2000/svg\" height=\"24px\"viewBox=\"0 0 24 24\"\n",
       "       width=\"24px\">\n",
       "    <path d=\"M0 0h24v24H0V0z\" fill=\"none\"/>\n",
       "    <path d=\"M18.56 5.44l.94 2.06.94-2.06 2.06-.94-2.06-.94-.94-2.06-.94 2.06-2.06.94zm-11 1L8.5 8.5l.94-2.06 2.06-.94-2.06-.94L8.5 2.5l-.94 2.06-2.06.94zm10 10l.94 2.06.94-2.06 2.06-.94-2.06-.94-.94-2.06-.94 2.06-2.06.94z\"/><path d=\"M17.41 7.96l-1.37-1.37c-.4-.4-.92-.59-1.43-.59-.52 0-1.04.2-1.43.59L10.3 9.45l-7.72 7.72c-.78.78-.78 2.05 0 2.83L4 21.41c.39.39.9.59 1.41.59.51 0 1.02-.2 1.41-.59l7.78-7.78 2.81-2.81c.8-.78.8-2.07 0-2.86zM5.41 20L4 18.59l7.72-7.72 1.47 1.35L5.41 20z\"/>\n",
       "  </svg>\n",
       "      </button>\n",
       "      \n",
       "  <style>\n",
       "    .colab-df-container {\n",
       "      display:flex;\n",
       "      flex-wrap:wrap;\n",
       "      gap: 12px;\n",
       "    }\n",
       "\n",
       "    .colab-df-convert {\n",
       "      background-color: #E8F0FE;\n",
       "      border: none;\n",
       "      border-radius: 50%;\n",
       "      cursor: pointer;\n",
       "      display: none;\n",
       "      fill: #1967D2;\n",
       "      height: 32px;\n",
       "      padding: 0 0 0 0;\n",
       "      width: 32px;\n",
       "    }\n",
       "\n",
       "    .colab-df-convert:hover {\n",
       "      background-color: #E2EBFA;\n",
       "      box-shadow: 0px 1px 2px rgba(60, 64, 67, 0.3), 0px 1px 3px 1px rgba(60, 64, 67, 0.15);\n",
       "      fill: #174EA6;\n",
       "    }\n",
       "\n",
       "    [theme=dark] .colab-df-convert {\n",
       "      background-color: #3B4455;\n",
       "      fill: #D2E3FC;\n",
       "    }\n",
       "\n",
       "    [theme=dark] .colab-df-convert:hover {\n",
       "      background-color: #434B5C;\n",
       "      box-shadow: 0px 1px 3px 1px rgba(0, 0, 0, 0.15);\n",
       "      filter: drop-shadow(0px 1px 2px rgba(0, 0, 0, 0.3));\n",
       "      fill: #FFFFFF;\n",
       "    }\n",
       "  </style>\n",
       "\n",
       "      <script>\n",
       "        const buttonEl =\n",
       "          document.querySelector('#df-c12546b5-4ba2-4789-984e-e8138802d377 button.colab-df-convert');\n",
       "        buttonEl.style.display =\n",
       "          google.colab.kernel.accessAllowed ? 'block' : 'none';\n",
       "\n",
       "        async function convertToInteractive(key) {\n",
       "          const element = document.querySelector('#df-c12546b5-4ba2-4789-984e-e8138802d377');\n",
       "          const dataTable =\n",
       "            await google.colab.kernel.invokeFunction('convertToInteractive',\n",
       "                                                     [key], {});\n",
       "          if (!dataTable) return;\n",
       "\n",
       "          const docLinkHtml = 'Like what you see? Visit the ' +\n",
       "            '<a target=\"_blank\" href=https://colab.research.google.com/notebooks/data_table.ipynb>data table notebook</a>'\n",
       "            + ' to learn more about interactive tables.';\n",
       "          element.innerHTML = '';\n",
       "          dataTable['output_type'] = 'display_data';\n",
       "          await google.colab.output.renderOutput(dataTable, element);\n",
       "          const docLink = document.createElement('div');\n",
       "          docLink.innerHTML = docLinkHtml;\n",
       "          element.appendChild(docLink);\n",
       "        }\n",
       "      </script>\n",
       "    </div>\n",
       "  </div>\n",
       "  "
      ],
      "text/plain": [
       "                                       Movie\n",
       "0                                     Frisky\n",
       "1                                     Brink!\n",
       "2                               Mega Piranha\n",
       "3                                    Western\n",
       "4                                 Hellevator\n",
       "5  Greyfriars Bobby: The True Story of a Dog\n",
       "6                              The Kill Hole\n",
       "7           The Great Global Warming Swindle\n",
       "8                             Parasite Dolls\n",
       "9                    Times of Joy and Sorrow"
      ]
     },
     "execution_count": 76,
     "metadata": {},
     "output_type": "execute_result"
    }
   ],
   "source": [
    "closest_n('Toy Story', metadata, 10)"
   ]
  },
  {
   "cell_type": "code",
   "execution_count": 77,
   "metadata": {
    "colab": {
     "base_uri": "https://localhost:8080/",
     "height": 363
    },
    "id": "O0pgqv5t7pqx",
    "outputId": "e21a71bc-e9f3-47d7-9bf4-df54fbbeef76"
   },
   "outputs": [
    {
     "data": {
      "text/html": [
       "\n",
       "  <div id=\"df-ad58bcd1-328f-4898-9fb0-f0a979d20d4a\">\n",
       "    <div class=\"colab-df-container\">\n",
       "      <div>\n",
       "<style scoped>\n",
       "    .dataframe tbody tr th:only-of-type {\n",
       "        vertical-align: middle;\n",
       "    }\n",
       "\n",
       "    .dataframe tbody tr th {\n",
       "        vertical-align: top;\n",
       "    }\n",
       "\n",
       "    .dataframe thead th {\n",
       "        text-align: right;\n",
       "    }\n",
       "</style>\n",
       "<table border=\"1\" class=\"dataframe\">\n",
       "  <thead>\n",
       "    <tr style=\"text-align: right;\">\n",
       "      <th></th>\n",
       "      <th>Movie</th>\n",
       "    </tr>\n",
       "  </thead>\n",
       "  <tbody>\n",
       "    <tr>\n",
       "      <th>0</th>\n",
       "      <td>Chain Lightning</td>\n",
       "    </tr>\n",
       "    <tr>\n",
       "      <th>1</th>\n",
       "      <td>Haunted Castle</td>\n",
       "    </tr>\n",
       "    <tr>\n",
       "      <th>2</th>\n",
       "      <td>The Lost World</td>\n",
       "    </tr>\n",
       "    <tr>\n",
       "      <th>3</th>\n",
       "      <td>Sublime</td>\n",
       "    </tr>\n",
       "    <tr>\n",
       "      <th>4</th>\n",
       "      <td>Haunter</td>\n",
       "    </tr>\n",
       "    <tr>\n",
       "      <th>5</th>\n",
       "      <td>Hush!</td>\n",
       "    </tr>\n",
       "    <tr>\n",
       "      <th>6</th>\n",
       "      <td>The Outsiders</td>\n",
       "    </tr>\n",
       "    <tr>\n",
       "      <th>7</th>\n",
       "      <td>The Extraordinary Adventures of Adèle Blanc-Sec</td>\n",
       "    </tr>\n",
       "    <tr>\n",
       "      <th>8</th>\n",
       "      <td>Corridors of Blood</td>\n",
       "    </tr>\n",
       "    <tr>\n",
       "      <th>9</th>\n",
       "      <td>Interrupted Melody</td>\n",
       "    </tr>\n",
       "  </tbody>\n",
       "</table>\n",
       "</div>\n",
       "      <button class=\"colab-df-convert\" onclick=\"convertToInteractive('df-ad58bcd1-328f-4898-9fb0-f0a979d20d4a')\"\n",
       "              title=\"Convert this dataframe to an interactive table.\"\n",
       "              style=\"display:none;\">\n",
       "        \n",
       "  <svg xmlns=\"http://www.w3.org/2000/svg\" height=\"24px\"viewBox=\"0 0 24 24\"\n",
       "       width=\"24px\">\n",
       "    <path d=\"M0 0h24v24H0V0z\" fill=\"none\"/>\n",
       "    <path d=\"M18.56 5.44l.94 2.06.94-2.06 2.06-.94-2.06-.94-.94-2.06-.94 2.06-2.06.94zm-11 1L8.5 8.5l.94-2.06 2.06-.94-2.06-.94L8.5 2.5l-.94 2.06-2.06.94zm10 10l.94 2.06.94-2.06 2.06-.94-2.06-.94-.94-2.06-.94 2.06-2.06.94z\"/><path d=\"M17.41 7.96l-1.37-1.37c-.4-.4-.92-.59-1.43-.59-.52 0-1.04.2-1.43.59L10.3 9.45l-7.72 7.72c-.78.78-.78 2.05 0 2.83L4 21.41c.39.39.9.59 1.41.59.51 0 1.02-.2 1.41-.59l7.78-7.78 2.81-2.81c.8-.78.8-2.07 0-2.86zM5.41 20L4 18.59l7.72-7.72 1.47 1.35L5.41 20z\"/>\n",
       "  </svg>\n",
       "      </button>\n",
       "      \n",
       "  <style>\n",
       "    .colab-df-container {\n",
       "      display:flex;\n",
       "      flex-wrap:wrap;\n",
       "      gap: 12px;\n",
       "    }\n",
       "\n",
       "    .colab-df-convert {\n",
       "      background-color: #E8F0FE;\n",
       "      border: none;\n",
       "      border-radius: 50%;\n",
       "      cursor: pointer;\n",
       "      display: none;\n",
       "      fill: #1967D2;\n",
       "      height: 32px;\n",
       "      padding: 0 0 0 0;\n",
       "      width: 32px;\n",
       "    }\n",
       "\n",
       "    .colab-df-convert:hover {\n",
       "      background-color: #E2EBFA;\n",
       "      box-shadow: 0px 1px 2px rgba(60, 64, 67, 0.3), 0px 1px 3px 1px rgba(60, 64, 67, 0.15);\n",
       "      fill: #174EA6;\n",
       "    }\n",
       "\n",
       "    [theme=dark] .colab-df-convert {\n",
       "      background-color: #3B4455;\n",
       "      fill: #D2E3FC;\n",
       "    }\n",
       "\n",
       "    [theme=dark] .colab-df-convert:hover {\n",
       "      background-color: #434B5C;\n",
       "      box-shadow: 0px 1px 3px 1px rgba(0, 0, 0, 0.15);\n",
       "      filter: drop-shadow(0px 1px 2px rgba(0, 0, 0, 0.3));\n",
       "      fill: #FFFFFF;\n",
       "    }\n",
       "  </style>\n",
       "\n",
       "      <script>\n",
       "        const buttonEl =\n",
       "          document.querySelector('#df-ad58bcd1-328f-4898-9fb0-f0a979d20d4a button.colab-df-convert');\n",
       "        buttonEl.style.display =\n",
       "          google.colab.kernel.accessAllowed ? 'block' : 'none';\n",
       "\n",
       "        async function convertToInteractive(key) {\n",
       "          const element = document.querySelector('#df-ad58bcd1-328f-4898-9fb0-f0a979d20d4a');\n",
       "          const dataTable =\n",
       "            await google.colab.kernel.invokeFunction('convertToInteractive',\n",
       "                                                     [key], {});\n",
       "          if (!dataTable) return;\n",
       "\n",
       "          const docLinkHtml = 'Like what you see? Visit the ' +\n",
       "            '<a target=\"_blank\" href=https://colab.research.google.com/notebooks/data_table.ipynb>data table notebook</a>'\n",
       "            + ' to learn more about interactive tables.';\n",
       "          element.innerHTML = '';\n",
       "          dataTable['output_type'] = 'display_data';\n",
       "          await google.colab.output.renderOutput(dataTable, element);\n",
       "          const docLink = document.createElement('div');\n",
       "          docLink.innerHTML = docLinkHtml;\n",
       "          element.appendChild(docLink);\n",
       "        }\n",
       "      </script>\n",
       "    </div>\n",
       "  </div>\n",
       "  "
      ],
      "text/plain": [
       "                                             Movie\n",
       "0                                  Chain Lightning\n",
       "1                                   Haunted Castle\n",
       "2                                   The Lost World\n",
       "3                                          Sublime\n",
       "4                                          Haunter\n",
       "5                                            Hush!\n",
       "6                                    The Outsiders\n",
       "7  The Extraordinary Adventures of Adèle Blanc-Sec\n",
       "8                               Corridors of Blood\n",
       "9                               Interrupted Melody"
      ]
     },
     "execution_count": 77,
     "metadata": {},
     "output_type": "execute_result"
    }
   ],
   "source": [
    "closest_n('The Dark Knight', metadata, 10)"
   ]
  },
  {
   "cell_type": "code",
   "execution_count": null,
   "metadata": {
    "id": "VCRu68JvvwTY"
   },
   "outputs": [],
   "source": []
  },
  {
   "cell_type": "markdown",
   "metadata": {
    "id": "_V6lUaD6Bh_i"
   },
   "source": [
    "## Homework\n",
    "\n",
    "* Design a recommendation system with using cast of the movies and get recommendation from your system. (COULD BE CHANGED)"
   ]
  },
  {
   "cell_type": "code",
   "execution_count": null,
   "metadata": {
    "id": "Wc8RUFDFJuhi"
   },
   "outputs": [],
   "source": []
  }
 ],
 "metadata": {
  "colab": {
   "collapsed_sections": [],
   "name": "recommender_systems.ipynb",
   "provenance": []
  },
  "kernelspec": {
   "display_name": "Python 3",
   "language": "python",
   "name": "python3"
  },
  "language_info": {
   "codemirror_mode": {
    "name": "ipython",
    "version": 3
   },
   "file_extension": ".py",
   "mimetype": "text/x-python",
   "name": "python",
   "nbconvert_exporter": "python",
   "pygments_lexer": "ipython3",
   "version": "3.8.5"
  }
 },
 "nbformat": 4,
 "nbformat_minor": 1
}
