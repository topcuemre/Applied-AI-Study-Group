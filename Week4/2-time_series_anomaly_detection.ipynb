{
 "cells": [
  {
   "cell_type": "markdown",
   "metadata": {
    "id": "LI63INsr9YZ7"
   },
   "source": [
    "# Time Series Anomaly Detection With Autoencoders & LSTMs"
   ]
  },
  {
   "cell_type": "markdown",
   "metadata": {
    "id": "TcqIR6FpB_PP"
   },
   "source": [
    "In this notebook, we will train a LSTM autoencoder model for detection anomalies over heartbeats, using PyTorch.\n",
    "\n",
    "## About Dataset\n",
    "This dataset contains a set of N = 5000 univariate time series with 140 timesteps (T = 140).  Each sequence corresponds to one heartbeat. Five classes are annotated, corresponding to the following labels: Normal (N), R-on-T Premature Ventricular Contraction (R-on-T PVC), Premature Ventricular Contraction (PVC), Supra-ventricular Premature or Ectopic Beat (SP or EB) and Unclassified Beat (UB). \n",
    "\n",
    "[Dataset Decription Link 1](https://link.springer.com/article/10.1007%2Fs10618-014-0388-4)\n",
    "\n",
    "[Dataset Description Link 2](https://ieeexplore.ieee.org/document/8679157)"
   ]
  },
  {
   "cell_type": "markdown",
   "metadata": {
    "id": "xbsTpOZuB_PQ"
   },
   "source": [
    "## Preparation"
   ]
  },
  {
   "cell_type": "code",
   "execution_count": 1,
   "metadata": {
    "executionInfo": {
     "elapsed": 21927,
     "status": "ok",
     "timestamp": 1640364559400,
     "user": {
      "displayName": "M. Şafak Bilici",
      "photoUrl": "https://lh3.googleusercontent.com/a-/AOh14GiGws-KIvcIpNEMjqPHEpcw8w_sK9CVIeDdXUBQgQ=s64",
      "userId": "15429672687187391255"
     },
     "user_tz": -180
    },
    "id": "u5R_N7QD0N6C"
   },
   "outputs": [],
   "source": [
    "%%capture\n",
    "!pip install arff2pandas\n",
    "!pip install transformers"
   ]
  },
  {
   "cell_type": "code",
   "execution_count": 3,
   "metadata": {
    "executionInfo": {
     "elapsed": 8715,
     "status": "ok",
     "timestamp": 1640364613361,
     "user": {
      "displayName": "M. Şafak Bilici",
      "photoUrl": "https://lh3.googleusercontent.com/a-/AOh14GiGws-KIvcIpNEMjqPHEpcw8w_sK9CVIeDdXUBQgQ=s64",
      "userId": "15429672687187391255"
     },
     "user_tz": -180
    },
    "id": "KeTyhyFJVVTn"
   },
   "outputs": [],
   "source": [
    "import numpy as np\n",
    "import pandas as pd\n",
    "import torch\n",
    "\n",
    "from sklearn.metrics import (confusion_matrix, classification_report, \n",
    "                             f1_score, accuracy_score)\n",
    "from sklearn.model_selection import train_test_split\n",
    "\n",
    "from glob import glob\n",
    "import time\n",
    "import copy\n",
    "import shutil\n",
    "import matplotlib.pyplot as plt\n",
    "import seaborn as sns\n",
    "from pylab import rcParams\n",
    "from matplotlib import rc\n",
    "from matplotlib.ticker import MaxNLocator\n",
    "from multiprocess import cpu_count\n",
    "\n",
    "import torch.nn as nn\n",
    "import torch.optim as optim\n",
    "import torch.nn.functional as F\n",
    "from torch.utils.data import TensorDataset, DataLoader, RandomSampler, SequentialSampler, Dataset\n",
    "\n",
    "from arff2pandas import a2p\n",
    "from collections import defaultdict\n",
    "\n",
    "from transformers import get_linear_schedule_with_warmup, AdamW\n",
    "\n",
    "from tqdm.auto import tqdm\n",
    "\n",
    "import warnings\n",
    "warnings.simplefilter(action='ignore', category=FutureWarning)\n",
    "\n",
    "%matplotlib inline\n",
    "%config InlineBackend.figure_format='retina'\n",
    "\n",
    "sns.set(style=\"whitegrid\", palette=\"muted\", font_scale=1.2)\n",
    "HAPPY_COLORS_PALETTE = [\"#01BEFE\", \"#FFDD00\", \"#FF7D00\", \"#FF006D\", \"#ADFF02\", \"#8F00FF\"]\n",
    "sns.set_palette(sns.color_palette(HAPPY_COLORS_PALETTE))\n",
    "\n",
    "rcParams['figure.figsize'] = 10, 4"
   ]
  },
  {
   "cell_type": "markdown",
   "metadata": {
    "id": "tLQfOxJ1VyuA"
   },
   "source": [
    "Seed everything!"
   ]
  },
  {
   "cell_type": "code",
   "execution_count": 4,
   "metadata": {
    "executionInfo": {
     "elapsed": 327,
     "status": "ok",
     "timestamp": 1640364614891,
     "user": {
      "displayName": "M. Şafak Bilici",
      "photoUrl": "https://lh3.googleusercontent.com/a-/AOh14GiGws-KIvcIpNEMjqPHEpcw8w_sK9CVIeDdXUBQgQ=s64",
      "userId": "15429672687187391255"
     },
     "user_tz": -180
    },
    "id": "4FAThDrUWN3G"
   },
   "outputs": [],
   "source": [
    "RANDOM_SEED = 2112\n",
    "np.random.seed(RANDOM_SEED)\n",
    "torch.manual_seed(RANDOM_SEED)\n",
    "torch.backends.cudnn.deterministic = True\n",
    "torch.cuda.manual_seed_all(RANDOM_SEED)"
   ]
  },
  {
   "cell_type": "markdown",
   "metadata": {
    "id": "Mz0brTdCB_PU"
   },
   "source": [
    "Initialize the device."
   ]
  },
  {
   "cell_type": "code",
   "execution_count": 5,
   "metadata": {
    "colab": {
     "base_uri": "https://localhost:8080/"
    },
    "executionInfo": {
     "elapsed": 3,
     "status": "ok",
     "timestamp": 1640364615959,
     "user": {
      "displayName": "M. Şafak Bilici",
      "photoUrl": "https://lh3.googleusercontent.com/a-/AOh14GiGws-KIvcIpNEMjqPHEpcw8w_sK9CVIeDdXUBQgQ=s64",
      "userId": "15429672687187391255"
     },
     "user_tz": -180
    },
    "id": "Uud18orWW41l",
    "outputId": "e6b7d805-bd86-4781-a575-90b655a8b9f9"
   },
   "outputs": [
    {
     "name": "stdout",
     "output_type": "stream",
     "text": [
      "cuda\n"
     ]
    }
   ],
   "source": [
    "device = torch.device(\"cuda\" if torch.cuda.is_available() else \"cpu\")\n",
    "print(device.type)"
   ]
  },
  {
   "cell_type": "markdown",
   "metadata": {
    "id": "OENJxiurXikq"
   },
   "source": [
    "Load the dataset."
   ]
  },
  {
   "cell_type": "code",
   "execution_count": 6,
   "metadata": {
    "executionInfo": {
     "elapsed": 1853,
     "status": "ok",
     "timestamp": 1640364619206,
     "user": {
      "displayName": "M. Şafak Bilici",
      "photoUrl": "https://lh3.googleusercontent.com/a-/AOh14GiGws-KIvcIpNEMjqPHEpcw8w_sK9CVIeDdXUBQgQ=s64",
      "userId": "15429672687187391255"
     },
     "user_tz": -180
    },
    "id": "GPnMzxs5W9-C"
   },
   "outputs": [],
   "source": [
    "base_path = \"/content/drive/MyDrive/Applied AI #6 Source/data/ECG5000/\"\n",
    "with open(base_path + \"ECG5000_TRAIN.arff\") as f:\n",
    "    train = a2p.load(f)\n",
    "\n",
    "with open(base_path + \"ECG5000_TEST.arff\") as f:\n",
    "    test = a2p.load(f)"
   ]
  },
  {
   "cell_type": "code",
   "execution_count": 7,
   "metadata": {
    "colab": {
     "base_uri": "https://localhost:8080/",
     "height": 300
    },
    "executionInfo": {
     "elapsed": 415,
     "status": "ok",
     "timestamp": 1640364619617,
     "user": {
      "displayName": "M. Şafak Bilici",
      "photoUrl": "https://lh3.googleusercontent.com/a-/AOh14GiGws-KIvcIpNEMjqPHEpcw8w_sK9CVIeDdXUBQgQ=s64",
      "userId": "15429672687187391255"
     },
     "user_tz": -180
    },
    "id": "WgTZcE_UXXNA",
    "outputId": "4c8fe514-79ef-46b4-807d-799d503871d1"
   },
   "outputs": [
    {
     "data": {
      "text/html": [
       "\n",
       "  <div id=\"df-48ecc008-c16b-44c1-9ba3-594ffe61e3ad\">\n",
       "    <div class=\"colab-df-container\">\n",
       "      <div>\n",
       "<style scoped>\n",
       "    .dataframe tbody tr th:only-of-type {\n",
       "        vertical-align: middle;\n",
       "    }\n",
       "\n",
       "    .dataframe tbody tr th {\n",
       "        vertical-align: top;\n",
       "    }\n",
       "\n",
       "    .dataframe thead th {\n",
       "        text-align: right;\n",
       "    }\n",
       "</style>\n",
       "<table border=\"1\" class=\"dataframe\">\n",
       "  <thead>\n",
       "    <tr style=\"text-align: right;\">\n",
       "      <th></th>\n",
       "      <th>att1@NUMERIC</th>\n",
       "      <th>att2@NUMERIC</th>\n",
       "      <th>att3@NUMERIC</th>\n",
       "      <th>att4@NUMERIC</th>\n",
       "      <th>att5@NUMERIC</th>\n",
       "      <th>att6@NUMERIC</th>\n",
       "      <th>att7@NUMERIC</th>\n",
       "      <th>att8@NUMERIC</th>\n",
       "      <th>att9@NUMERIC</th>\n",
       "      <th>att10@NUMERIC</th>\n",
       "      <th>att11@NUMERIC</th>\n",
       "      <th>att12@NUMERIC</th>\n",
       "      <th>att13@NUMERIC</th>\n",
       "      <th>att14@NUMERIC</th>\n",
       "      <th>att15@NUMERIC</th>\n",
       "      <th>att16@NUMERIC</th>\n",
       "      <th>att17@NUMERIC</th>\n",
       "      <th>att18@NUMERIC</th>\n",
       "      <th>att19@NUMERIC</th>\n",
       "      <th>att20@NUMERIC</th>\n",
       "      <th>att21@NUMERIC</th>\n",
       "      <th>att22@NUMERIC</th>\n",
       "      <th>att23@NUMERIC</th>\n",
       "      <th>att24@NUMERIC</th>\n",
       "      <th>att25@NUMERIC</th>\n",
       "      <th>att26@NUMERIC</th>\n",
       "      <th>att27@NUMERIC</th>\n",
       "      <th>att28@NUMERIC</th>\n",
       "      <th>att29@NUMERIC</th>\n",
       "      <th>att30@NUMERIC</th>\n",
       "      <th>att31@NUMERIC</th>\n",
       "      <th>att32@NUMERIC</th>\n",
       "      <th>att33@NUMERIC</th>\n",
       "      <th>att34@NUMERIC</th>\n",
       "      <th>att35@NUMERIC</th>\n",
       "      <th>att36@NUMERIC</th>\n",
       "      <th>att37@NUMERIC</th>\n",
       "      <th>att38@NUMERIC</th>\n",
       "      <th>att39@NUMERIC</th>\n",
       "      <th>att40@NUMERIC</th>\n",
       "      <th>...</th>\n",
       "      <th>att102@NUMERIC</th>\n",
       "      <th>att103@NUMERIC</th>\n",
       "      <th>att104@NUMERIC</th>\n",
       "      <th>att105@NUMERIC</th>\n",
       "      <th>att106@NUMERIC</th>\n",
       "      <th>att107@NUMERIC</th>\n",
       "      <th>att108@NUMERIC</th>\n",
       "      <th>att109@NUMERIC</th>\n",
       "      <th>att110@NUMERIC</th>\n",
       "      <th>att111@NUMERIC</th>\n",
       "      <th>att112@NUMERIC</th>\n",
       "      <th>att113@NUMERIC</th>\n",
       "      <th>att114@NUMERIC</th>\n",
       "      <th>att115@NUMERIC</th>\n",
       "      <th>att116@NUMERIC</th>\n",
       "      <th>att117@NUMERIC</th>\n",
       "      <th>att118@NUMERIC</th>\n",
       "      <th>att119@NUMERIC</th>\n",
       "      <th>att120@NUMERIC</th>\n",
       "      <th>att121@NUMERIC</th>\n",
       "      <th>att122@NUMERIC</th>\n",
       "      <th>att123@NUMERIC</th>\n",
       "      <th>att124@NUMERIC</th>\n",
       "      <th>att125@NUMERIC</th>\n",
       "      <th>att126@NUMERIC</th>\n",
       "      <th>att127@NUMERIC</th>\n",
       "      <th>att128@NUMERIC</th>\n",
       "      <th>att129@NUMERIC</th>\n",
       "      <th>att130@NUMERIC</th>\n",
       "      <th>att131@NUMERIC</th>\n",
       "      <th>att132@NUMERIC</th>\n",
       "      <th>att133@NUMERIC</th>\n",
       "      <th>att134@NUMERIC</th>\n",
       "      <th>att135@NUMERIC</th>\n",
       "      <th>att136@NUMERIC</th>\n",
       "      <th>att137@NUMERIC</th>\n",
       "      <th>att138@NUMERIC</th>\n",
       "      <th>att139@NUMERIC</th>\n",
       "      <th>att140@NUMERIC</th>\n",
       "      <th>target@{1,2,3,4,5}</th>\n",
       "    </tr>\n",
       "  </thead>\n",
       "  <tbody>\n",
       "    <tr>\n",
       "      <th>0</th>\n",
       "      <td>-0.112522</td>\n",
       "      <td>-2.827204</td>\n",
       "      <td>-3.773897</td>\n",
       "      <td>-4.349751</td>\n",
       "      <td>-4.376041</td>\n",
       "      <td>-3.474986</td>\n",
       "      <td>-2.181408</td>\n",
       "      <td>-1.818286</td>\n",
       "      <td>-1.250522</td>\n",
       "      <td>-0.477492</td>\n",
       "      <td>-0.363808</td>\n",
       "      <td>-0.491957</td>\n",
       "      <td>-0.421855</td>\n",
       "      <td>-0.309201</td>\n",
       "      <td>-0.495939</td>\n",
       "      <td>-0.342119</td>\n",
       "      <td>-0.355336</td>\n",
       "      <td>-0.367913</td>\n",
       "      <td>-0.316503</td>\n",
       "      <td>-0.412374</td>\n",
       "      <td>-0.471672</td>\n",
       "      <td>-0.413458</td>\n",
       "      <td>-0.364617</td>\n",
       "      <td>-0.449298</td>\n",
       "      <td>-0.471419</td>\n",
       "      <td>-0.424777</td>\n",
       "      <td>-0.462517</td>\n",
       "      <td>-0.552472</td>\n",
       "      <td>-0.475375</td>\n",
       "      <td>-0.694200</td>\n",
       "      <td>-0.701868</td>\n",
       "      <td>-0.593812</td>\n",
       "      <td>-0.660684</td>\n",
       "      <td>-0.713831</td>\n",
       "      <td>-0.769807</td>\n",
       "      <td>-0.672282</td>\n",
       "      <td>-0.653676</td>\n",
       "      <td>-0.639406</td>\n",
       "      <td>-0.559302</td>\n",
       "      <td>-0.591670</td>\n",
       "      <td>...</td>\n",
       "      <td>1.258179</td>\n",
       "      <td>1.433789</td>\n",
       "      <td>1.700533</td>\n",
       "      <td>1.999043</td>\n",
       "      <td>2.125341</td>\n",
       "      <td>1.993291</td>\n",
       "      <td>1.932246</td>\n",
       "      <td>1.797437</td>\n",
       "      <td>1.522284</td>\n",
       "      <td>1.251168</td>\n",
       "      <td>0.998730</td>\n",
       "      <td>0.483722</td>\n",
       "      <td>0.023132</td>\n",
       "      <td>-0.194914</td>\n",
       "      <td>-0.220917</td>\n",
       "      <td>-0.243737</td>\n",
       "      <td>-0.254695</td>\n",
       "      <td>-0.291136</td>\n",
       "      <td>-0.256490</td>\n",
       "      <td>-0.227874</td>\n",
       "      <td>-0.322423</td>\n",
       "      <td>-0.289286</td>\n",
       "      <td>-0.318170</td>\n",
       "      <td>-0.363654</td>\n",
       "      <td>-0.393456</td>\n",
       "      <td>-0.266419</td>\n",
       "      <td>-0.256823</td>\n",
       "      <td>-0.288694</td>\n",
       "      <td>-0.162338</td>\n",
       "      <td>0.160348</td>\n",
       "      <td>0.792168</td>\n",
       "      <td>0.933541</td>\n",
       "      <td>0.796958</td>\n",
       "      <td>0.578621</td>\n",
       "      <td>0.257740</td>\n",
       "      <td>0.228077</td>\n",
       "      <td>0.123431</td>\n",
       "      <td>0.925286</td>\n",
       "      <td>0.193137</td>\n",
       "      <td>1</td>\n",
       "    </tr>\n",
       "    <tr>\n",
       "      <th>1</th>\n",
       "      <td>-1.100878</td>\n",
       "      <td>-3.996840</td>\n",
       "      <td>-4.285843</td>\n",
       "      <td>-4.506579</td>\n",
       "      <td>-4.022377</td>\n",
       "      <td>-3.234368</td>\n",
       "      <td>-1.566126</td>\n",
       "      <td>-0.992258</td>\n",
       "      <td>-0.754680</td>\n",
       "      <td>0.042321</td>\n",
       "      <td>0.148951</td>\n",
       "      <td>0.183527</td>\n",
       "      <td>0.294876</td>\n",
       "      <td>0.190233</td>\n",
       "      <td>0.235575</td>\n",
       "      <td>0.253487</td>\n",
       "      <td>0.221742</td>\n",
       "      <td>0.050233</td>\n",
       "      <td>0.178042</td>\n",
       "      <td>0.139563</td>\n",
       "      <td>0.046794</td>\n",
       "      <td>0.043007</td>\n",
       "      <td>0.106544</td>\n",
       "      <td>0.012654</td>\n",
       "      <td>0.003995</td>\n",
       "      <td>0.045724</td>\n",
       "      <td>-0.045999</td>\n",
       "      <td>-0.072667</td>\n",
       "      <td>-0.071078</td>\n",
       "      <td>-0.153866</td>\n",
       "      <td>-0.227254</td>\n",
       "      <td>-0.249270</td>\n",
       "      <td>-0.253489</td>\n",
       "      <td>-0.332835</td>\n",
       "      <td>-0.264330</td>\n",
       "      <td>-0.345825</td>\n",
       "      <td>-0.310781</td>\n",
       "      <td>-0.334160</td>\n",
       "      <td>-0.306178</td>\n",
       "      <td>-0.174563</td>\n",
       "      <td>...</td>\n",
       "      <td>1.808428</td>\n",
       "      <td>2.164346</td>\n",
       "      <td>2.070747</td>\n",
       "      <td>1.903614</td>\n",
       "      <td>1.764455</td>\n",
       "      <td>1.507769</td>\n",
       "      <td>1.293428</td>\n",
       "      <td>0.894562</td>\n",
       "      <td>0.578016</td>\n",
       "      <td>0.244343</td>\n",
       "      <td>-0.286443</td>\n",
       "      <td>-0.515881</td>\n",
       "      <td>-0.732707</td>\n",
       "      <td>-0.832465</td>\n",
       "      <td>-0.803318</td>\n",
       "      <td>-0.836252</td>\n",
       "      <td>-0.777865</td>\n",
       "      <td>-0.774753</td>\n",
       "      <td>-0.733404</td>\n",
       "      <td>-0.721386</td>\n",
       "      <td>-0.832095</td>\n",
       "      <td>-0.711982</td>\n",
       "      <td>-0.751867</td>\n",
       "      <td>-0.757720</td>\n",
       "      <td>-0.853120</td>\n",
       "      <td>-0.766988</td>\n",
       "      <td>-0.688161</td>\n",
       "      <td>-0.519923</td>\n",
       "      <td>0.039406</td>\n",
       "      <td>0.560327</td>\n",
       "      <td>0.538356</td>\n",
       "      <td>0.656881</td>\n",
       "      <td>0.787490</td>\n",
       "      <td>0.724046</td>\n",
       "      <td>0.555784</td>\n",
       "      <td>0.476333</td>\n",
       "      <td>0.773820</td>\n",
       "      <td>1.119621</td>\n",
       "      <td>-1.436250</td>\n",
       "      <td>1</td>\n",
       "    </tr>\n",
       "    <tr>\n",
       "      <th>2</th>\n",
       "      <td>-0.567088</td>\n",
       "      <td>-2.593450</td>\n",
       "      <td>-3.874230</td>\n",
       "      <td>-4.584095</td>\n",
       "      <td>-4.187449</td>\n",
       "      <td>-3.151462</td>\n",
       "      <td>-1.742940</td>\n",
       "      <td>-1.490659</td>\n",
       "      <td>-1.183580</td>\n",
       "      <td>-0.394229</td>\n",
       "      <td>-0.282897</td>\n",
       "      <td>-0.356926</td>\n",
       "      <td>-0.287297</td>\n",
       "      <td>-0.399489</td>\n",
       "      <td>-0.473244</td>\n",
       "      <td>-0.379048</td>\n",
       "      <td>-0.399039</td>\n",
       "      <td>-0.178594</td>\n",
       "      <td>-0.339522</td>\n",
       "      <td>-0.498447</td>\n",
       "      <td>-0.337251</td>\n",
       "      <td>-0.425480</td>\n",
       "      <td>-0.423952</td>\n",
       "      <td>-0.463170</td>\n",
       "      <td>-0.493253</td>\n",
       "      <td>-0.549749</td>\n",
       "      <td>-0.529831</td>\n",
       "      <td>-0.530935</td>\n",
       "      <td>-0.502365</td>\n",
       "      <td>-0.417368</td>\n",
       "      <td>-0.526346</td>\n",
       "      <td>-0.471005</td>\n",
       "      <td>-0.676784</td>\n",
       "      <td>-0.898612</td>\n",
       "      <td>-0.610571</td>\n",
       "      <td>-0.530164</td>\n",
       "      <td>-0.765674</td>\n",
       "      <td>-0.581937</td>\n",
       "      <td>-0.537848</td>\n",
       "      <td>-0.556386</td>\n",
       "      <td>...</td>\n",
       "      <td>1.810988</td>\n",
       "      <td>2.185398</td>\n",
       "      <td>2.262985</td>\n",
       "      <td>2.052920</td>\n",
       "      <td>1.890488</td>\n",
       "      <td>1.793033</td>\n",
       "      <td>1.564784</td>\n",
       "      <td>1.234619</td>\n",
       "      <td>0.900302</td>\n",
       "      <td>0.551957</td>\n",
       "      <td>0.258222</td>\n",
       "      <td>-0.128587</td>\n",
       "      <td>-0.092585</td>\n",
       "      <td>-0.168606</td>\n",
       "      <td>-0.495989</td>\n",
       "      <td>-0.395034</td>\n",
       "      <td>-0.328238</td>\n",
       "      <td>-0.448138</td>\n",
       "      <td>-0.268230</td>\n",
       "      <td>-0.456415</td>\n",
       "      <td>-0.357867</td>\n",
       "      <td>-0.317508</td>\n",
       "      <td>-0.434112</td>\n",
       "      <td>-0.549203</td>\n",
       "      <td>-0.324615</td>\n",
       "      <td>-0.268082</td>\n",
       "      <td>-0.220384</td>\n",
       "      <td>-0.117429</td>\n",
       "      <td>0.614059</td>\n",
       "      <td>1.284825</td>\n",
       "      <td>0.886073</td>\n",
       "      <td>0.531452</td>\n",
       "      <td>0.311377</td>\n",
       "      <td>-0.021919</td>\n",
       "      <td>-0.713683</td>\n",
       "      <td>-0.532197</td>\n",
       "      <td>0.321097</td>\n",
       "      <td>0.904227</td>\n",
       "      <td>-0.421797</td>\n",
       "      <td>1</td>\n",
       "    </tr>\n",
       "    <tr>\n",
       "      <th>3</th>\n",
       "      <td>0.490473</td>\n",
       "      <td>-1.914407</td>\n",
       "      <td>-3.616364</td>\n",
       "      <td>-4.318823</td>\n",
       "      <td>-4.268016</td>\n",
       "      <td>-3.881110</td>\n",
       "      <td>-2.993280</td>\n",
       "      <td>-1.671131</td>\n",
       "      <td>-1.333884</td>\n",
       "      <td>-0.965629</td>\n",
       "      <td>-0.183319</td>\n",
       "      <td>-0.101657</td>\n",
       "      <td>-0.273874</td>\n",
       "      <td>-0.127818</td>\n",
       "      <td>-0.195983</td>\n",
       "      <td>-0.213523</td>\n",
       "      <td>-0.176473</td>\n",
       "      <td>-0.156932</td>\n",
       "      <td>-0.149172</td>\n",
       "      <td>-0.181510</td>\n",
       "      <td>-0.180074</td>\n",
       "      <td>-0.246151</td>\n",
       "      <td>-0.274260</td>\n",
       "      <td>-0.140960</td>\n",
       "      <td>-0.277449</td>\n",
       "      <td>-0.382549</td>\n",
       "      <td>-0.311937</td>\n",
       "      <td>-0.360093</td>\n",
       "      <td>-0.405968</td>\n",
       "      <td>-0.571433</td>\n",
       "      <td>-0.524106</td>\n",
       "      <td>-0.537886</td>\n",
       "      <td>-0.606778</td>\n",
       "      <td>-0.661446</td>\n",
       "      <td>-0.683375</td>\n",
       "      <td>-0.746683</td>\n",
       "      <td>-0.635662</td>\n",
       "      <td>-0.625231</td>\n",
       "      <td>-0.540094</td>\n",
       "      <td>-0.674995</td>\n",
       "      <td>...</td>\n",
       "      <td>1.772155</td>\n",
       "      <td>2.000769</td>\n",
       "      <td>1.925003</td>\n",
       "      <td>1.898426</td>\n",
       "      <td>1.720953</td>\n",
       "      <td>1.501711</td>\n",
       "      <td>1.422492</td>\n",
       "      <td>1.023225</td>\n",
       "      <td>0.776341</td>\n",
       "      <td>0.504426</td>\n",
       "      <td>0.056382</td>\n",
       "      <td>-0.233161</td>\n",
       "      <td>-0.406388</td>\n",
       "      <td>-0.327528</td>\n",
       "      <td>-0.460868</td>\n",
       "      <td>-0.402536</td>\n",
       "      <td>-0.345752</td>\n",
       "      <td>-0.354206</td>\n",
       "      <td>-0.439959</td>\n",
       "      <td>-0.425326</td>\n",
       "      <td>-0.439789</td>\n",
       "      <td>-0.451835</td>\n",
       "      <td>-0.395926</td>\n",
       "      <td>-0.448762</td>\n",
       "      <td>-0.391789</td>\n",
       "      <td>-0.376307</td>\n",
       "      <td>-0.461069</td>\n",
       "      <td>-0.253524</td>\n",
       "      <td>0.213006</td>\n",
       "      <td>0.491173</td>\n",
       "      <td>0.350816</td>\n",
       "      <td>0.499111</td>\n",
       "      <td>0.600345</td>\n",
       "      <td>0.842069</td>\n",
       "      <td>0.952074</td>\n",
       "      <td>0.990133</td>\n",
       "      <td>1.086798</td>\n",
       "      <td>1.403011</td>\n",
       "      <td>-0.383564</td>\n",
       "      <td>1</td>\n",
       "    </tr>\n",
       "    <tr>\n",
       "      <th>4</th>\n",
       "      <td>0.800232</td>\n",
       "      <td>-0.874252</td>\n",
       "      <td>-2.384761</td>\n",
       "      <td>-3.973292</td>\n",
       "      <td>-4.338224</td>\n",
       "      <td>-3.802422</td>\n",
       "      <td>-2.534510</td>\n",
       "      <td>-1.783423</td>\n",
       "      <td>-1.594450</td>\n",
       "      <td>-0.753199</td>\n",
       "      <td>-0.298107</td>\n",
       "      <td>-0.428928</td>\n",
       "      <td>-0.491351</td>\n",
       "      <td>-0.361304</td>\n",
       "      <td>-0.339296</td>\n",
       "      <td>-0.324952</td>\n",
       "      <td>-0.290113</td>\n",
       "      <td>-0.363051</td>\n",
       "      <td>-0.525684</td>\n",
       "      <td>-0.597423</td>\n",
       "      <td>-0.575523</td>\n",
       "      <td>-0.567503</td>\n",
       "      <td>-0.504555</td>\n",
       "      <td>-0.618406</td>\n",
       "      <td>-0.682814</td>\n",
       "      <td>-0.743849</td>\n",
       "      <td>-0.815588</td>\n",
       "      <td>-0.826902</td>\n",
       "      <td>-0.782374</td>\n",
       "      <td>-0.929462</td>\n",
       "      <td>-0.999672</td>\n",
       "      <td>-1.060969</td>\n",
       "      <td>-1.007877</td>\n",
       "      <td>-1.028735</td>\n",
       "      <td>-1.122629</td>\n",
       "      <td>-1.028650</td>\n",
       "      <td>-1.046515</td>\n",
       "      <td>-1.063372</td>\n",
       "      <td>-1.122423</td>\n",
       "      <td>-0.983242</td>\n",
       "      <td>...</td>\n",
       "      <td>1.155363</td>\n",
       "      <td>1.336254</td>\n",
       "      <td>1.627534</td>\n",
       "      <td>1.717594</td>\n",
       "      <td>1.696487</td>\n",
       "      <td>1.741686</td>\n",
       "      <td>1.674078</td>\n",
       "      <td>1.546928</td>\n",
       "      <td>1.331738</td>\n",
       "      <td>1.110168</td>\n",
       "      <td>0.922210</td>\n",
       "      <td>0.521777</td>\n",
       "      <td>0.154852</td>\n",
       "      <td>-0.123861</td>\n",
       "      <td>-0.202998</td>\n",
       "      <td>-0.247956</td>\n",
       "      <td>-0.219122</td>\n",
       "      <td>-0.214695</td>\n",
       "      <td>-0.319215</td>\n",
       "      <td>-0.198597</td>\n",
       "      <td>-0.151618</td>\n",
       "      <td>-0.129593</td>\n",
       "      <td>-0.074939</td>\n",
       "      <td>-0.196807</td>\n",
       "      <td>-0.174795</td>\n",
       "      <td>-0.208833</td>\n",
       "      <td>-0.210754</td>\n",
       "      <td>-0.100485</td>\n",
       "      <td>0.197446</td>\n",
       "      <td>0.966606</td>\n",
       "      <td>1.148884</td>\n",
       "      <td>0.958434</td>\n",
       "      <td>1.059025</td>\n",
       "      <td>1.371682</td>\n",
       "      <td>1.277392</td>\n",
       "      <td>0.960304</td>\n",
       "      <td>0.971020</td>\n",
       "      <td>1.614392</td>\n",
       "      <td>1.421456</td>\n",
       "      <td>1</td>\n",
       "    </tr>\n",
       "  </tbody>\n",
       "</table>\n",
       "<p>5 rows × 141 columns</p>\n",
       "</div>\n",
       "      <button class=\"colab-df-convert\" onclick=\"convertToInteractive('df-48ecc008-c16b-44c1-9ba3-594ffe61e3ad')\"\n",
       "              title=\"Convert this dataframe to an interactive table.\"\n",
       "              style=\"display:none;\">\n",
       "        \n",
       "  <svg xmlns=\"http://www.w3.org/2000/svg\" height=\"24px\"viewBox=\"0 0 24 24\"\n",
       "       width=\"24px\">\n",
       "    <path d=\"M0 0h24v24H0V0z\" fill=\"none\"/>\n",
       "    <path d=\"M18.56 5.44l.94 2.06.94-2.06 2.06-.94-2.06-.94-.94-2.06-.94 2.06-2.06.94zm-11 1L8.5 8.5l.94-2.06 2.06-.94-2.06-.94L8.5 2.5l-.94 2.06-2.06.94zm10 10l.94 2.06.94-2.06 2.06-.94-2.06-.94-.94-2.06-.94 2.06-2.06.94z\"/><path d=\"M17.41 7.96l-1.37-1.37c-.4-.4-.92-.59-1.43-.59-.52 0-1.04.2-1.43.59L10.3 9.45l-7.72 7.72c-.78.78-.78 2.05 0 2.83L4 21.41c.39.39.9.59 1.41.59.51 0 1.02-.2 1.41-.59l7.78-7.78 2.81-2.81c.8-.78.8-2.07 0-2.86zM5.41 20L4 18.59l7.72-7.72 1.47 1.35L5.41 20z\"/>\n",
       "  </svg>\n",
       "      </button>\n",
       "      \n",
       "  <style>\n",
       "    .colab-df-container {\n",
       "      display:flex;\n",
       "      flex-wrap:wrap;\n",
       "      gap: 12px;\n",
       "    }\n",
       "\n",
       "    .colab-df-convert {\n",
       "      background-color: #E8F0FE;\n",
       "      border: none;\n",
       "      border-radius: 50%;\n",
       "      cursor: pointer;\n",
       "      display: none;\n",
       "      fill: #1967D2;\n",
       "      height: 32px;\n",
       "      padding: 0 0 0 0;\n",
       "      width: 32px;\n",
       "    }\n",
       "\n",
       "    .colab-df-convert:hover {\n",
       "      background-color: #E2EBFA;\n",
       "      box-shadow: 0px 1px 2px rgba(60, 64, 67, 0.3), 0px 1px 3px 1px rgba(60, 64, 67, 0.15);\n",
       "      fill: #174EA6;\n",
       "    }\n",
       "\n",
       "    [theme=dark] .colab-df-convert {\n",
       "      background-color: #3B4455;\n",
       "      fill: #D2E3FC;\n",
       "    }\n",
       "\n",
       "    [theme=dark] .colab-df-convert:hover {\n",
       "      background-color: #434B5C;\n",
       "      box-shadow: 0px 1px 3px 1px rgba(0, 0, 0, 0.15);\n",
       "      filter: drop-shadow(0px 1px 2px rgba(0, 0, 0, 0.3));\n",
       "      fill: #FFFFFF;\n",
       "    }\n",
       "  </style>\n",
       "\n",
       "      <script>\n",
       "        const buttonEl =\n",
       "          document.querySelector('#df-48ecc008-c16b-44c1-9ba3-594ffe61e3ad button.colab-df-convert');\n",
       "        buttonEl.style.display =\n",
       "          google.colab.kernel.accessAllowed ? 'block' : 'none';\n",
       "\n",
       "        async function convertToInteractive(key) {\n",
       "          const element = document.querySelector('#df-48ecc008-c16b-44c1-9ba3-594ffe61e3ad');\n",
       "          const dataTable =\n",
       "            await google.colab.kernel.invokeFunction('convertToInteractive',\n",
       "                                                     [key], {});\n",
       "          if (!dataTable) return;\n",
       "\n",
       "          const docLinkHtml = 'Like what you see? Visit the ' +\n",
       "            '<a target=\"_blank\" href=https://colab.research.google.com/notebooks/data_table.ipynb>data table notebook</a>'\n",
       "            + ' to learn more about interactive tables.';\n",
       "          element.innerHTML = '';\n",
       "          dataTable['output_type'] = 'display_data';\n",
       "          await google.colab.output.renderOutput(dataTable, element);\n",
       "          const docLink = document.createElement('div');\n",
       "          docLink.innerHTML = docLinkHtml;\n",
       "          element.appendChild(docLink);\n",
       "        }\n",
       "      </script>\n",
       "    </div>\n",
       "  </div>\n",
       "  "
      ],
      "text/plain": [
       "   att1@NUMERIC  att2@NUMERIC  ...  att140@NUMERIC  target@{1,2,3,4,5}\n",
       "0     -0.112522     -2.827204  ...        0.193137                   1\n",
       "1     -1.100878     -3.996840  ...       -1.436250                   1\n",
       "2     -0.567088     -2.593450  ...       -0.421797                   1\n",
       "3      0.490473     -1.914407  ...       -0.383564                   1\n",
       "4      0.800232     -0.874252  ...        1.421456                   1\n",
       "\n",
       "[5 rows x 141 columns]"
      ]
     },
     "execution_count": 7,
     "metadata": {},
     "output_type": "execute_result"
    }
   ],
   "source": [
    "train.head()"
   ]
  },
  {
   "cell_type": "code",
   "execution_count": 8,
   "metadata": {
    "colab": {
     "base_uri": "https://localhost:8080/"
    },
    "executionInfo": {
     "elapsed": 16,
     "status": "ok",
     "timestamp": 1640364619619,
     "user": {
      "displayName": "M. Şafak Bilici",
      "photoUrl": "https://lh3.googleusercontent.com/a-/AOh14GiGws-KIvcIpNEMjqPHEpcw8w_sK9CVIeDdXUBQgQ=s64",
      "userId": "15429672687187391255"
     },
     "user_tz": -180
    },
    "id": "OdZ7IXHCXgkF",
    "outputId": "c9472fbd-7c6b-43af-96f1-98b9cfcc19dd"
   },
   "outputs": [
    {
     "data": {
      "text/plain": [
       "(5000, 141)"
      ]
     },
     "execution_count": 8,
     "metadata": {},
     "output_type": "execute_result"
    }
   ],
   "source": [
    "df = train.append(test)\n",
    "df = df.sample(frac=1.0)\n",
    "df.shape"
   ]
  },
  {
   "cell_type": "code",
   "execution_count": 9,
   "metadata": {
    "executionInfo": {
     "elapsed": 4,
     "status": "ok",
     "timestamp": 1640364621087,
     "user": {
      "displayName": "M. Şafak Bilici",
      "photoUrl": "https://lh3.googleusercontent.com/a-/AOh14GiGws-KIvcIpNEMjqPHEpcw8w_sK9CVIeDdXUBQgQ=s64",
      "userId": "15429672687187391255"
     },
     "user_tz": -180
    },
    "id": "aNAARxO9Zapv"
   },
   "outputs": [],
   "source": [
    "new_columns = list(df.columns)\n",
    "new_columns[-1] = 'target'\n",
    "df.columns = new_columns"
   ]
  },
  {
   "cell_type": "code",
   "execution_count": 10,
   "metadata": {
    "executionInfo": {
     "elapsed": 2,
     "status": "ok",
     "timestamp": 1640364622600,
     "user": {
      "displayName": "M. Şafak Bilici",
      "photoUrl": "https://lh3.googleusercontent.com/a-/AOh14GiGws-KIvcIpNEMjqPHEpcw8w_sK9CVIeDdXUBQgQ=s64",
      "userId": "15429672687187391255"
     },
     "user_tz": -180
    },
    "id": "sywPub1VZpcr"
   },
   "outputs": [],
   "source": [
    "class_names = ['Normal','R on T','PVC','SP','UB']"
   ]
  },
  {
   "cell_type": "code",
   "execution_count": 11,
   "metadata": {
    "colab": {
     "base_uri": "https://localhost:8080/"
    },
    "executionInfo": {
     "elapsed": 8,
     "status": "ok",
     "timestamp": 1640364623091,
     "user": {
      "displayName": "M. Şafak Bilici",
      "photoUrl": "https://lh3.googleusercontent.com/a-/AOh14GiGws-KIvcIpNEMjqPHEpcw8w_sK9CVIeDdXUBQgQ=s64",
      "userId": "15429672687187391255"
     },
     "user_tz": -180
    },
    "id": "ZTxyjhiFTd-S",
    "outputId": "5092e894-7758-4c11-b594-02e48b82c08e"
   },
   "outputs": [
    {
     "data": {
      "text/plain": [
       "1    2919\n",
       "2    1767\n",
       "4     194\n",
       "3      96\n",
       "5      24\n",
       "Name: target, dtype: int64"
      ]
     },
     "execution_count": 11,
     "metadata": {},
     "output_type": "execute_result"
    }
   ],
   "source": [
    "df.target.value_counts()"
   ]
  },
  {
   "cell_type": "code",
   "execution_count": 12,
   "metadata": {
    "colab": {
     "base_uri": "https://localhost:8080/",
     "height": 289
    },
    "executionInfo": {
     "elapsed": 578,
     "status": "ok",
     "timestamp": 1640364624479,
     "user": {
      "displayName": "M. Şafak Bilici",
      "photoUrl": "https://lh3.googleusercontent.com/a-/AOh14GiGws-KIvcIpNEMjqPHEpcw8w_sK9CVIeDdXUBQgQ=s64",
      "userId": "15429672687187391255"
     },
     "user_tz": -180
    },
    "id": "JlK8Jk7ESpVO",
    "outputId": "30966c01-30c4-4f50-b1b5-2f543d30160e"
   },
   "outputs": [
    {
     "data": {
      "image/png": "[encoded data removed]",
      "text/plain": [
       "<Figure size 720x288 with 1 Axes>"
      ]
     },
     "metadata": {
      "image/png": {
       "height": 272,
       "width": 633
      }
     },
     "output_type": "display_data"
    }
   ],
   "source": [
    "ax = sns.countplot(df.target)"
   ]
  },
  {
   "cell_type": "markdown",
   "metadata": {
    "id": "zW3PG7v5Ygv8"
   },
   "source": [
    "* Normal: 1\n",
    "* R-on-T Premature Ventricular Contradiction (R-on-T PVC): 2\n",
    "* Prematyre Ventricular Contraction (PVC): 3\n",
    "* Supra-venctricular Premature or Ectopic Beat (SP or EB): 4\n",
    "* Unclassified Beat (UB): 5"
   ]
  },
  {
   "cell_type": "markdown",
   "metadata": {
    "id": "3yYuBUnUUiNB"
   },
   "source": [
    "# Preprocessing"
   ]
  },
  {
   "cell_type": "code",
   "execution_count": 13,
   "metadata": {
    "colab": {
     "base_uri": "https://localhost:8080/"
    },
    "executionInfo": {
     "elapsed": 353,
     "status": "ok",
     "timestamp": 1640364629946,
     "user": {
      "displayName": "M. Şafak Bilici",
      "photoUrl": "https://lh3.googleusercontent.com/a-/AOh14GiGws-KIvcIpNEMjqPHEpcw8w_sK9CVIeDdXUBQgQ=s64",
      "userId": "15429672687187391255"
     },
     "user_tz": -180
    },
    "id": "jWqIjEDUcfkf",
    "outputId": "eb22fcde-5587-45f0-98f9-b0a8f62acf7e"
   },
   "outputs": [
    {
     "name": "stdout",
     "output_type": "stream",
     "text": [
      "(2919, 140)\n"
     ]
    }
   ],
   "source": [
    "CLASS_NORMAL = 1\n",
    "normal_df = df[df[\"target\"] == str(CLASS_NORMAL)].drop(labels=\"target\", axis=1)\n",
    "print(normal_df.shape)"
   ]
  },
  {
   "cell_type": "code",
   "execution_count": 14,
   "metadata": {
    "colab": {
     "base_uri": "https://localhost:8080/"
    },
    "executionInfo": {
     "elapsed": 5,
     "status": "ok",
     "timestamp": 1640364630164,
     "user": {
      "displayName": "M. Şafak Bilici",
      "photoUrl": "https://lh3.googleusercontent.com/a-/AOh14GiGws-KIvcIpNEMjqPHEpcw8w_sK9CVIeDdXUBQgQ=s64",
      "userId": "15429672687187391255"
     },
     "user_tz": -180
    },
    "id": "Xa-2ytcnUqxs",
    "outputId": "9b899f6a-f7a5-45fd-dc18-f410969f2b85"
   },
   "outputs": [
    {
     "name": "stdout",
     "output_type": "stream",
     "text": [
      "(2081, 140)\n"
     ]
    }
   ],
   "source": [
    "anomaly_df = df[df[\"target\"] != str(CLASS_NORMAL)].drop(labels=\"target\", axis=1)\n",
    "print(anomaly_df.shape)"
   ]
  },
  {
   "cell_type": "code",
   "execution_count": 15,
   "metadata": {
    "colab": {
     "base_uri": "https://localhost:8080/"
    },
    "executionInfo": {
     "elapsed": 6,
     "status": "ok",
     "timestamp": 1640364631025,
     "user": {
      "displayName": "M. Şafak Bilici",
      "photoUrl": "https://lh3.googleusercontent.com/a-/AOh14GiGws-KIvcIpNEMjqPHEpcw8w_sK9CVIeDdXUBQgQ=s64",
      "userId": "15429672687187391255"
     },
     "user_tz": -180
    },
    "id": "aaScDVVbU3Dz",
    "outputId": "1b323fea-e4ee-4a69-ce2d-a308a7e99fc8"
   },
   "outputs": [
    {
     "name": "stdout",
     "output_type": "stream",
     "text": [
      "(2481, 140) (293, 140) (145, 140)\n"
     ]
    }
   ],
   "source": [
    "train_df, val_df = train_test_split(normal_df, test_size=0.15, random_state=RANDOM_SEED)\n",
    "val_df, test_df = train_test_split(val_df, test_size = 0.33, random_state=RANDOM_SEED)\n",
    "print(train_df.shape, val_df.shape, test_df.shape)"
   ]
  },
  {
   "cell_type": "markdown",
   "metadata": {
    "id": "XBmTRkkfB_Pb"
   },
   "source": [
    "We wrote a PyTorch dataset class before. We can create a dataset without it, by ```TensorDataset``` and ```RandomSampler```."
   ]
  },
  {
   "cell_type": "code",
   "execution_count": 16,
   "metadata": {
    "colab": {
     "base_uri": "https://localhost:8080/"
    },
    "executionInfo": {
     "elapsed": 374,
     "status": "ok",
     "timestamp": 1640364632058,
     "user": {
      "displayName": "M. Şafak Bilici",
      "photoUrl": "https://lh3.googleusercontent.com/a-/AOh14GiGws-KIvcIpNEMjqPHEpcw8w_sK9CVIeDdXUBQgQ=s64",
      "userId": "15429672687187391255"
     },
     "user_tz": -180
    },
    "id": "j-7bTQ8aB_Pb",
    "outputId": "8494d42d-e9e6-4d32-9c65-24ed4df9c1da"
   },
   "outputs": [
    {
     "name": "stdout",
     "output_type": "stream",
     "text": [
      "torch.Size([16, 140])\n",
      "torch.Size([16, 140])\n",
      "torch.Size([16, 140])\n",
      "torch.Size([1, 140])\n"
     ]
    }
   ],
   "source": [
    "BATCH_SIZE = 16\n",
    "SEQ_LEN = 140\n",
    "N_FEATURES = 1\n",
    "\n",
    "def train_dataset(df,batch_size):\n",
    "    torch_df = torch.tensor(df.to_numpy())\n",
    "    train_data = TensorDataset(torch_df)\n",
    "    train_sampler = RandomSampler(train_data)\n",
    "    train_dataloader = DataLoader(train_data, sampler=train_sampler, batch_size=batch_size)\n",
    "    return train_dataloader\n",
    "\n",
    "def test_dataset(df, batch_size):\n",
    "    torch_df = torch.tensor(df.to_numpy())\n",
    "    val_data = TensorDataset(torch_df)\n",
    "    val_sampler = SequentialSampler(val_data)\n",
    "    val_dataloader = DataLoader(val_data, sampler=val_sampler, batch_size=batch_size)\n",
    "    return val_dataloader\n",
    "\n",
    "train_dataloader = train_dataset(train_df, BATCH_SIZE)\n",
    "val_dataloader = test_dataset(val_df, BATCH_SIZE)\n",
    "test_dataloader = test_dataset(test_df, BATCH_SIZE)\n",
    "anomaly_dataloader = test_dataset(anomaly_df, 1)\n",
    "\n",
    "print(next(iter(train_dataloader))[0].shape)\n",
    "print(next(iter(val_dataloader))[0].shape)\n",
    "print(next(iter(test_dataloader))[0].shape)\n",
    "print(next(iter(anomaly_dataloader))[0].shape)"
   ]
  },
  {
   "cell_type": "code",
   "execution_count": 17,
   "metadata": {
    "colab": {
     "base_uri": "https://localhost:8080/",
     "height": 597
    },
    "executionInfo": {
     "elapsed": 1876,
     "status": "ok",
     "timestamp": 1640364635125,
     "user": {
      "displayName": "M. Şafak Bilici",
      "photoUrl": "https://lh3.googleusercontent.com/a-/AOh14GiGws-KIvcIpNEMjqPHEpcw8w_sK9CVIeDdXUBQgQ=s64",
      "userId": "15429672687187391255"
     },
     "user_tz": -180
    },
    "id": "SWBEvcraU1o-",
    "outputId": "f5bcb870-75eb-464f-c754-07fd658ce03b"
   },
   "outputs": [
    {
     "data": {
      "image/png": "[encoded data removed]",
      "text/plain": [
       "<Figure size 720x720 with 3 Axes>"
      ]
     },
     "metadata": {
      "image/png": {
       "height": 580,
       "width": 601
      }
     },
     "output_type": "display_data"
    }
   ],
   "source": [
    "fig, axs = plt.subplots(3,1, figsize=(10,10))\n",
    "samples = torch.randint(0, 16, (3,))\n",
    "axs[0].plot(next(iter(train_dataloader))[0][samples[0]].numpy(), color=\"black\")\n",
    "axs[1].plot(next(iter(train_dataloader))[0][samples[1]].numpy(), color=\"black\")\n",
    "axs[2].plot(next(iter(train_dataloader))[0][samples[2]].numpy(), color=\"black\");"
   ]
  },
  {
   "cell_type": "markdown",
   "metadata": {
    "id": "M9DdsuQoR8tt"
   },
   "source": [
    "# Model"
   ]
  },
  {
   "cell_type": "markdown",
   "metadata": {
    "id": "q7fBYW29lejB"
   },
   "source": [
    "![cdd.png](data:image/png;base64,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)"
   ]
  },
  {
   "cell_type": "code",
   "execution_count": 18,
   "metadata": {
    "executionInfo": {
     "elapsed": 258,
     "status": "ok",
     "timestamp": 1640364637581,
     "user": {
      "displayName": "M. Şafak Bilici",
      "photoUrl": "https://lh3.googleusercontent.com/a-/AOh14GiGws-KIvcIpNEMjqPHEpcw8w_sK9CVIeDdXUBQgQ=s64",
      "userId": "15429672687187391255"
     },
     "user_tz": -180
    },
    "id": "QDKmu9_LR5hl"
   },
   "outputs": [],
   "source": [
    "class Encoder(nn.Module):\n",
    "    def __init__(self, seq_len, n_features, hidden_dim = 64):\n",
    "        super(Encoder, self).__init__()\n",
    "        self.seq_len = seq_len\n",
    "        self.n_features = n_features\n",
    "        self.hidden_dim_1 = hidden_dim\n",
    "        self.hidden_dim_2 = hidden_dim * 2\n",
    "        \n",
    "        self.lstm1 = nn.LSTM(\n",
    "            input_size = n_features,\n",
    "            hidden_size = self.hidden_dim_2,\n",
    "            num_layers = 1,\n",
    "            batch_first = True\n",
    "        )\n",
    "        \n",
    "        self.lstm2 = nn.LSTM(\n",
    "            input_size = self.hidden_dim_2,\n",
    "            hidden_size = self.hidden_dim_1,\n",
    "            num_layers = 1,\n",
    "            batch_first = True\n",
    "        )\n",
    "        \n",
    "    def forward(self, x):\n",
    "        # x: [B, seq_len] == [B, 140]\n",
    "        x = torch.unsqueeze(x, dim = 2).float()\n",
    "        # x = x[:,:,None].float()\n",
    "        \n",
    "        out, (hidden, _) = self.lstm1(x)\n",
    "        #[B, seq_len, hidden_dim_1]\n",
    "        out, (hidden, _) = self.lstm2(out)\n",
    "        #[1, B, hidden_dim_2]\n",
    "        \n",
    "        out = torch.squeeze(hidden, dim = 0)\n",
    "        # [B, hidden_dim_2]\n",
    "        return out"
   ]
  },
  {
   "cell_type": "code",
   "execution_count": 19,
   "metadata": {
    "executionInfo": {
     "elapsed": 2,
     "status": "ok",
     "timestamp": 1640364637949,
     "user": {
      "displayName": "M. Şafak Bilici",
      "photoUrl": "https://lh3.googleusercontent.com/a-/AOh14GiGws-KIvcIpNEMjqPHEpcw8w_sK9CVIeDdXUBQgQ=s64",
      "userId": "15429672687187391255"
     },
     "user_tz": -180
    },
    "id": "LcNXwgmBS_hh"
   },
   "outputs": [],
   "source": [
    "class Decoder(nn.Module):\n",
    "    def __init__(self, seq_len, n_features = 1, encoder_hidden_dim = 64):\n",
    "        super(Decoder, self).__init__()\n",
    "        self.seq_len = seq_len\n",
    "        self.n_features = n_features\n",
    "        \n",
    "        self.encoder_hidden_dim = encoder_hidden_dim\n",
    "        self.hidden_dim = encoder_hidden_dim * 2\n",
    "        \n",
    "        self.lstm1 = nn.LSTM(\n",
    "            input_size = encoder_hidden_dim,\n",
    "            hidden_size = encoder_hidden_dim,\n",
    "            num_layers = 1,\n",
    "            batch_first = True\n",
    "        )\n",
    "        \n",
    "        self.lstm2 = nn.LSTM(\n",
    "            input_size = encoder_hidden_dim,\n",
    "            hidden_size = self.hidden_dim,\n",
    "            num_layers = 1,\n",
    "            batch_first = True\n",
    "        )\n",
    "        \n",
    "        self.fcn = nn.Linear(self.hidden_dim, n_features)\n",
    "        \n",
    "    def forward(self, x):\n",
    "        # x: [B, encoder_hidden_dim]\n",
    "        batch_size = x.size(0)\n",
    "        \n",
    "        x = x.repeat(self.seq_len, self.n_features)\n",
    "        \n",
    "        # x: [B * seq_len, encoder_hidden_dim]\n",
    "        x = x.reshape(batch_size, -1, self.encoder_hidden_dim)\n",
    "        \n",
    "        # x: [B, seq_len, encoder_hidden_dim]\n",
    "        \n",
    "        x, (hidden, _) = self.lstm1(x)\n",
    "        x, (hidden, _) = self.lstm2(x)\n",
    "        x = self.fcn(x)\n",
    "        # self.hidden_dim -> 1\n",
    "        #[b, 140, 1]\n",
    "        x = torch.squeeze(x, dim = -1)\n",
    "        return x"
   ]
  },
  {
   "cell_type": "code",
   "execution_count": 20,
   "metadata": {
    "executionInfo": {
     "elapsed": 4,
     "status": "ok",
     "timestamp": 1640364638559,
     "user": {
      "displayName": "M. Şafak Bilici",
      "photoUrl": "https://lh3.googleusercontent.com/a-/AOh14GiGws-KIvcIpNEMjqPHEpcw8w_sK9CVIeDdXUBQgQ=s64",
      "userId": "15429672687187391255"
     },
     "user_tz": -180
    },
    "id": "WfwCjRPkTroa"
   },
   "outputs": [],
   "source": [
    "class LSTMAE(nn.Module):\n",
    "    def __init__(self, seq_len, n_features, device, hidden_dim = 64):\n",
    "        super(LSTMAE, self).__init__()\n",
    "        \n",
    "        self.encoder = Encoder(seq_len, n_features, hidden_dim).to(device)\n",
    "        self.decoder = Decoder(seq_len, n_features, hidden_dim).to(device)\n",
    "        \n",
    "    def forward(self, x):\n",
    "        x = self.encoder(x)\n",
    "        x = self.decoder(x)\n",
    "        return x"
   ]
  },
  {
   "cell_type": "code",
   "execution_count": 21,
   "metadata": {
    "executionInfo": {
     "elapsed": 10854,
     "status": "ok",
     "timestamp": 1640364651002,
     "user": {
      "displayName": "M. Şafak Bilici",
      "photoUrl": "https://lh3.googleusercontent.com/a-/AOh14GiGws-KIvcIpNEMjqPHEpcw8w_sK9CVIeDdXUBQgQ=s64",
      "userId": "15429672687187391255"
     },
     "user_tz": -180
    },
    "id": "9c5_S0fTQLdL"
   },
   "outputs": [],
   "source": [
    "model = LSTMAE(SEQ_LEN, N_FEATURES, device, hidden_dim = 128).to(device)"
   ]
  },
  {
   "cell_type": "code",
   "execution_count": 22,
   "metadata": {
    "colab": {
     "base_uri": "https://localhost:8080/"
    },
    "executionInfo": {
     "elapsed": 306,
     "status": "ok",
     "timestamp": 1640364653286,
     "user": {
      "displayName": "M. Şafak Bilici",
      "photoUrl": "https://lh3.googleusercontent.com/a-/AOh14GiGws-KIvcIpNEMjqPHEpcw8w_sK9CVIeDdXUBQgQ=s64",
      "userId": "15429672687187391255"
     },
     "user_tz": -180
    },
    "id": "c0tcCO49l3SG",
    "outputId": "ab8e807d-c0af-4332-9fa1-584b949df928"
   },
   "outputs": [
    {
     "name": "stdout",
     "output_type": "stream",
     "text": [
      "Number of trainable parameters: 990465\n"
     ]
    }
   ],
   "source": [
    "model_parameters = filter(lambda p: p.requires_grad, model.parameters())\n",
    "params = sum([np.prod(p.size()) for p in model_parameters])\n",
    "print(f\"Number of trainable parameters: {params}\")"
   ]
  },
  {
   "cell_type": "code",
   "execution_count": 23,
   "metadata": {
    "colab": {
     "base_uri": "https://localhost:8080/"
    },
    "executionInfo": {
     "elapsed": 6,
     "status": "ok",
     "timestamp": 1640364655080,
     "user": {
      "displayName": "M. Şafak Bilici",
      "photoUrl": "https://lh3.googleusercontent.com/a-/AOh14GiGws-KIvcIpNEMjqPHEpcw8w_sK9CVIeDdXUBQgQ=s64",
      "userId": "15429672687187391255"
     },
     "user_tz": -180
    },
    "id": "q0Fcidy_l2Y4",
    "outputId": "14c6a2e7-6e64-4a3b-b4d6-dccbf3cde8a3"
   },
   "outputs": [
    {
     "name": "stdout",
     "output_type": "stream",
     "text": [
      "LSTMAE(\n",
      "  (encoder): Encoder(\n",
      "    (lstm1): LSTM(1, 256, batch_first=True)\n",
      "    (lstm2): LSTM(256, 128, batch_first=True)\n",
      "  )\n",
      "  (decoder): Decoder(\n",
      "    (lstm1): LSTM(128, 128, batch_first=True)\n",
      "    (lstm2): LSTM(128, 256, batch_first=True)\n",
      "    (fcn): Linear(in_features=256, out_features=1, bias=True)\n",
      "  )\n",
      ")\n"
     ]
    }
   ],
   "source": [
    "print(model)"
   ]
  },
  {
   "cell_type": "code",
   "execution_count": 24,
   "metadata": {
    "colab": {
     "base_uri": "https://localhost:8080/"
    },
    "executionInfo": {
     "elapsed": 312,
     "status": "ok",
     "timestamp": 1640364658515,
     "user": {
      "displayName": "M. Şafak Bilici",
      "photoUrl": "https://lh3.googleusercontent.com/a-/AOh14GiGws-KIvcIpNEMjqPHEpcw8w_sK9CVIeDdXUBQgQ=s64",
      "userId": "15429672687187391255"
     },
     "user_tz": -180
    },
    "id": "P4peHM7elMcF",
    "outputId": "78476bb3-ca05-40c1-dbff-c73319a64797"
   },
   "outputs": [
    {
     "data": {
      "text/plain": [
       "torch.Size([1, 140])"
      ]
     },
     "execution_count": 24,
     "metadata": {},
     "output_type": "execute_result"
    }
   ],
   "source": [
    "model(next(iter(anomaly_dataloader))[0].to(device)).shape"
   ]
  },
  {
   "cell_type": "markdown",
   "metadata": {
    "id": "60LPdq76TIMB"
   },
   "source": [
    "# Training"
   ]
  },
  {
   "cell_type": "code",
   "execution_count": 42,
   "metadata": {
    "executionInfo": {
     "elapsed": 291,
     "status": "ok",
     "timestamp": 1640364976488,
     "user": {
      "displayName": "M. Şafak Bilici",
      "photoUrl": "https://lh3.googleusercontent.com/a-/AOh14GiGws-KIvcIpNEMjqPHEpcw8w_sK9CVIeDdXUBQgQ=s64",
      "userId": "15429672687187391255"
     },
     "user_tz": -180
    },
    "id": "tjSYXGLeQ5SF"
   },
   "outputs": [],
   "source": [
    "def train(model, optimizer, criterion, train_dataloader, val_dataloader, device,\n",
    "         EPOCHS, EVALUATE_EVERY, scheduler = None, gradient_clipping = False,\n",
    "         gradient_clipping_rate = 1., evaluate_epoch = False):\n",
    "    \n",
    "    model = model.to(device)\n",
    "    total = len(train_dataloader) * EPOCHS\n",
    "    log = defaultdict(list)\n",
    "    log[\"train_loss\"] = []\n",
    "    log[\"eval_loss\"] = []\n",
    "    loss_a = []\n",
    "    \n",
    "    with tqdm(total = total, desc=\"Training Round\") as tt:\n",
    "        for epoch in range(EPOCHS):\n",
    "            total_loss, batch_loss, batch_counts = 0, 0, 0\n",
    "            for step, batch in enumerate(train_dataloader):\n",
    "                model.train()\n",
    "                batch_counts += 1\n",
    "                b_inputs, = tuple(t.to(device) for t in batch)\n",
    "                \n",
    "                optimizer.zero_grad()\n",
    "                \n",
    "                out = model(b_inputs)\n",
    "                loss = criterion(out, b_inputs)\n",
    "                \n",
    "                total_loss += loss.item()\n",
    "                loss.backward()\n",
    "                optimizer.step()\n",
    "                \n",
    "                loss_a.append(loss.item())\n",
    "                \n",
    "                if gradient_clipping:\n",
    "                    torch.nn.utils.clip_grad_norm_(model.parameters(), gradient_clipping_rate)\n",
    "                \n",
    "                if scheduler != None:\n",
    "                    scheduler.step()\n",
    "                tt.update()\n",
    "                    \n",
    "            if evaluate_epoch:\n",
    "                val_loss = evaluate(model, criterion, val_dataloader, device)\n",
    "                print(30*\"*\")\n",
    "                print(f\"{epoch+1}/{EPOCHS}:\")\n",
    "                print(f\"  - Train Loss: {np.mean(loss_a)}\")\n",
    "                print(f\"  - Validation Loss: {val_loss}\")\n",
    "                log[\"train_loss\"].append(total_loss / len(train_dataloader))\n",
    "                log[\"eval_loss\"].append(val_loss)\n",
    "                if log[\"eval_loss\"][np.argmin(log[\"eval_loss\"])] == val_loss:\n",
    "                  print(f\"Best model is stored with eval loss {val_loss}.\")\n",
    "                  best_model = model\n",
    "        print(\"Done.\")\n",
    "        tt.close()\n",
    "    return model, best_model, log\n",
    "                "
   ]
  },
  {
   "cell_type": "code",
   "execution_count": 43,
   "metadata": {
    "executionInfo": {
     "elapsed": 4,
     "status": "ok",
     "timestamp": 1640364976715,
     "user": {
      "displayName": "M. Şafak Bilici",
      "photoUrl": "https://lh3.googleusercontent.com/a-/AOh14GiGws-KIvcIpNEMjqPHEpcw8w_sK9CVIeDdXUBQgQ=s64",
      "userId": "15429672687187391255"
     },
     "user_tz": -180
    },
    "id": "BuUrF7MI3Dr6"
   },
   "outputs": [],
   "source": [
    "def evaluate(model, criterion, val_dataloader, device):\n",
    "  total = len(val_dataloader)\n",
    "  loss_a = []\n",
    "  with tqdm(total = total, leave=False, position=0, desc=\"Validation Round\") as ee:\n",
    "    val_loss, val_batch_loss, val_batch_counts = 0, 0, 0\n",
    "    for step, batch in enumerate(val_dataloader):\n",
    "      model.eval()\n",
    "      val_batch_loss += 1\n",
    "      b_inputs, = tuple(t.to(device) for t in batch)\n",
    "      \n",
    "      with torch.no_grad():\n",
    "        out = model.forward(b_inputs)\n",
    "\n",
    "      loss = criterion(out, b_inputs)\n",
    "      loss_a.append(loss.detach().cpu().numpy())\n",
    "      #val_batch_loss += loss.item()\n",
    "      #val_loss += loss.item()\n",
    "      ee.update()\n",
    "    ee.close()\n",
    "  #return val_loss/total\n",
    "  return np.mean(loss_a)"
   ]
  },
  {
   "cell_type": "code",
   "execution_count": 44,
   "metadata": {
    "executionInfo": {
     "elapsed": 2,
     "status": "ok",
     "timestamp": 1640364977280,
     "user": {
      "displayName": "M. Şafak Bilici",
      "photoUrl": "https://lh3.googleusercontent.com/a-/AOh14GiGws-KIvcIpNEMjqPHEpcw8w_sK9CVIeDdXUBQgQ=s64",
      "userId": "15429672687187391255"
     },
     "user_tz": -180
    },
    "id": "7CUUegLdJM3R"
   },
   "outputs": [],
   "source": [
    "device = torch.device(\"cuda\" if torch.cuda.is_available() else \"cpu\")\n",
    "optimizer = torch.optim.Adam(model.parameters())\n",
    "criterion = torch.nn.L1Loss(reduction=\"sum\")\n",
    "EPOCHS = 10\n",
    "EVALUATE_EVERY = 100\n",
    "\n",
    "optimizer = AdamW(\n",
    "    model.parameters(),\n",
    "    lr=0.0005,\n",
    "    eps=1e-9,\n",
    "    betas = (0.9, 0.98)\n",
    ")\n",
    "\n",
    "scheduler = get_linear_schedule_with_warmup(\n",
    "    optimizer,\n",
    "    num_warmup_steps=0,\n",
    "    num_training_steps=len(train_dataloader) * 5\n",
    ")"
   ]
  },
  {
   "cell_type": "code",
   "execution_count": 45,
   "metadata": {
    "colab": {
     "base_uri": "https://localhost:8080/",
     "height": 930,
     "referenced_widgets": [
      "2dc9c3f358dd48ee89fc05edc9d7411d",
      "f3244d43e8f34724a459454fb31abd63",
      "d41ab7dd7c0548e1a3c1a2da01d5cd66",
      "4cc592c3ad884b3cafe7eddd6f67ed7c",
      "e0ed957e1d4a46b2aca8423340fbadf1",
      "b76ca651c63f43c1919c07900c8cc1b0",
      "1aba6060252b4b198fd2c5462728709a",
      "9ed6e3ed1fec4256a456e339c6945037",
      "07a8c2238b2d4825b321b9264ac8a5f5",
      "6869c059c26040aa8e076fd2bf862e77",
      "a2657d8670ac49f4a8f67da970122b07",
      "6661f9d69e2746ff83479ce374a19d6d",
      "d4bade6457dd49aba387dbe84a956fe8",
      "fc696f2636a44dc6951aeb624fc7cd35",
      "c6b91f5ff8404990acb0023d4e261ce7",
      "d55ab61a6ef740a69c285beaed7684f8",
      "157c51349e1743c480fc40d89a83ebdb",
      "419d4af4b9fc47659d0dadbc028962b3",
      "168555859f0543efa3b24af861d0326d",
      "35482bcd68e648eaae7a24c53adf6145",
      "cbf53b10ec50491884e8546e1a97cdd9",
      "286ba626c8f64a129fa9073e309ff51a",
      "b9fa4eae594140fda885449218cf8d76",
      "a87bf3d3e9f24042aad39b0f13b68699",
      "7b67ac2ec3444f4b9d6de5b86bd93bd1",
      "73c8b9107f0448d6981f002ae5954024",
      "eb702b74bace4c8ea7ed47d6458defb7",
      "f74d61149bd7418d8c05924ea8a289a3",
      "4b398995299043dcad3745f88a7a6626",
      "33ada6a286e74d318c2c516c0dae4f84",
      "3a8c98d586324970852a6ad46f4909f3",
      "9001a853e25e45fca976d839551f41af",
      "1e7f1407976c4ff694aaed161b9070bc",
      "aa20176b3d14405cba74d356fad43cf4",
      "939c8abf812d4f0b92ccdf3279f2a012",
      "64cd07aebc51434faf0da12143bcc7b9",
      "e604a4b290e74d319b8937bc42a35645",
      "49490171d74041128a57163277affe29",
      "69e4eff46d494da9a1791e3460839495",
      "3a793e619c48466190001a1c3074c5a7",
      "f64cb74ab4ec48c4a48119d4b7ad10e1",
      "bc0c328058b84b53aeaa30d6c14c26f1",
      "213a8c5be5b54dc8bf0e904f26f9d9f4",
      "3afeb906574a4df18e4beac87e9f81e6",
      "e4a67f19ea2f420bb9e1670d15f7ffc8",
      "a18109c607ef4cedada6ed1b6640f959",
      "4a78cfa2fd9b400496e7a0b73d8c1f12",
      "2f23f3e0d40b4918be956dee074f7e25",
      "37730e2c74fe478da38e3da66bea1e76",
      "65ff857d22b44e4f8904bd2e33d589e6",
      "2cefa7b1e38d41c096089e34dd3ee0fd",
      "c911fff44b6b47f58b4a005d113f9d55",
      "291d6b2a795947168cafac759d330a89",
      "4c2f4daec2f04416ba5e05a0f14106b3",
      "58bc89f12ecb4d52ad1aa0d1b95e58bc",
      "fa100a30a80044b39291bb1b93c77852",
      "d136d13580d643c587be3b933bfe3ad2",
      "14112f5a3944428cb702b1b4690f5c51",
      "a1dab7f2fe78453e86519b89fdf03ea9",
      "a5a7b3ea317c4f4fb8b8b015ac21f204",
      "bb3b20ee899e460ba8e54f4a811aa908",
      "ce26099bcda447e896ea0b19ed6be282",
      "1cdc5375185341f1891de4000cfc46eb",
      "5250ded1cf2c416fbc15b8a0b05acfa7",
      "ea91699748924a568554fd14326838b6",
      "a1ada03a23fb44f69abae00a934e830b",
      "42bc3ef238cf4dafb10e533a87dc43bf",
      "3ec994e12c9b4870ae2c43f14b60c83d",
      "0e5a2ce725804c7eb97b6a9887bb3031",
      "8471a18dd341409181804954b2c9335f",
      "f2b0faedc283444e80d3a18a0cfc7b18",
      "2657a920dde942679dc041d487d95072",
      "2039429d0b3e49feb5734ee7928f9873",
      "225927a53d3e45f78eca0c55d902b9a3",
      "431010ab1909474784bddb20203b205d",
      "2054287b7f4a415aa9b80996c7bfe882",
      "3a72c0d2772d4e6c84a4215e82157494",
      "16d0ecf5f751430f80d0017fbcf597a1",
      "d41c12bb9b5c425eb73dc30fd482d530",
      "8835dcd4669c4d1ba8199fceb4e1b05c",
      "fec72540a14a4053add96bd94ec0c5b1",
      "11febb8cc9364a149dcd608627c4ffea",
      "837e10b237724824be0a9e981a4d5bc7",
      "97a3296803ff4f2782df77cf80ed5569",
      "b6c9f48a56f841a58356f3c107a9cc9c",
      "118472d533184bf1ab911bc34c044d83",
      "52248a5004b842ceb2f92dfcae7fb0c7",
      "77656c85d9314edb8074d4de9839936c",
      "693caeaf5ea747f89c378d522a7a2ad0",
      "f8186893cd1248b6a4a928eb53da220a",
      "17f149a476dc4a0bbbecf3dc81eb0d79",
      "5a1c454ee3e04a3f919fe5e5e80e5ef4",
      "b246dcf6a9544259b4b6e5c09864921a",
      "630b9f1f86d441d5aacd6d92ee203aec",
      "d58c3b98db114f55b22d9ca87d0cadc8",
      "6f2da7df033e4349a742d578cfd30672",
      "ee261ad9c1d940ab9b03bb7ea6241932",
      "8fcf8b55600d425cb9d456fb0d3c8d09",
      "8ddef6d8a44141ab9a95e861fb41b404",
      "cb6ed42c62e5489bbf1d17a4f608a3c3",
      "cafbb0e75b8140c5b4f6bfa21d350a15",
      "45c211a0af4f488d91c8c86887d49ffa",
      "ea012efbad3f40ef8c404da7e2158f08",
      "ef7e17a6a5e34f7f8a434aae8c2fa042",
      "b70c184882354ca6a4570d8c298beb5c",
      "367b7860e4cb49459e840917faad20b8",
      "99a707f1b2be4af1b8aba5c94ef3764f",
      "d03b1fa7f2eb47b2abb1128a225d4cb7",
      "515167d1905b4a208be8cdc362b5bd7e",
      "9421db35636644709c4bb539770d4067",
      "75b06100591b49848c4ee00454880583",
      "084fec9000bd47119269b452a3849d1d",
      "8aab733e3b3a466ab6eb836d3f0866c6",
      "ea3e2684e19b48be829011008068d4ab",
      "77fd712484a64c41a23dee47036e7797",
      "77214061b1304dd3ac4a664d26770af5",
      "bb748fc2de6d471cb4f125ea00258bb0",
      "e65580b0004f4536aa1869575ff16503",
      "54ce4807e48043ffbe5df49cbc82b7f0",
      "e6e3eb463c7a4c18af72d1078f78c145",
      "ce09d3c0b4664bf5a82b38d069215cf4"
     ]
    },
    "executionInfo": {
     "elapsed": 190088,
     "status": "ok",
     "timestamp": 1640365167680,
     "user": {
      "displayName": "M. Şafak Bilici",
      "photoUrl": "https://lh3.googleusercontent.com/a-/AOh14GiGws-KIvcIpNEMjqPHEpcw8w_sK9CVIeDdXUBQgQ=s64",
      "userId": "15429672687187391255"
     },
     "user_tz": -180
    },
    "id": "BicbDyVGmNVF",
    "outputId": "37c568dd-ae61-4c5d-97b3-11ee58b7b37e"
   },
   "outputs": [
    {
     "data": {
      "application/vnd.jupyter.widget-view+json": {
       "model_id": "2dc9c3f358dd48ee89fc05edc9d7411d",
       "version_major": 2,
       "version_minor": 0
      },
      "text/plain": [
       "Training Round:   0%|          | 0/1560 [00:00<?, ?it/s]"
      ]
     },
     "metadata": {},
     "output_type": "display_data"
    },
    {
     "data": {
      "application/vnd.jupyter.widget-view+json": {
       "model_id": "6661f9d69e2746ff83479ce374a19d6d",
       "version_major": 2,
       "version_minor": 0
      },
      "text/plain": [
       "Validation Round:   0%|          | 0/19 [00:00<?, ?it/s]"
      ]
     },
     "metadata": {},
     "output_type": "display_data"
    },
    {
     "name": "stdout",
     "output_type": "stream",
     "text": [
      "******************************\n",
      "1/10:\n",
      "  - Train Loss: 1279.7326009456929\n",
      "  - Validation Loss: 1096.3546142578125\n",
      "Best model is stored with eval loss 1096.3546142578125.\n"
     ]
    },
    {
     "data": {
      "application/vnd.jupyter.widget-view+json": {
       "model_id": "b9fa4eae594140fda885449218cf8d76",
       "version_major": 2,
       "version_minor": 0
      },
      "text/plain": [
       "Validation Round:   0%|          | 0/19 [00:00<?, ?it/s]"
      ]
     },
     "metadata": {},
     "output_type": "display_data"
    },
    {
     "name": "stdout",
     "output_type": "stream",
     "text": [
      "******************************\n",
      "2/10:\n",
      "  - Train Loss: 1154.640909268306\n",
      "  - Validation Loss: 872.4956665039062\n",
      "Best model is stored with eval loss 872.4956665039062.\n"
     ]
    },
    {
     "data": {
      "application/vnd.jupyter.widget-view+json": {
       "model_id": "aa20176b3d14405cba74d356fad43cf4",
       "version_major": 2,
       "version_minor": 0
      },
      "text/plain": [
       "Validation Round:   0%|          | 0/19 [00:00<?, ?it/s]"
      ]
     },
     "metadata": {},
     "output_type": "display_data"
    },
    {
     "name": "stdout",
     "output_type": "stream",
     "text": [
      "******************************\n",
      "3/10:\n",
      "  - Train Loss: 1065.9067034925151\n",
      "  - Validation Loss: 871.1947021484375\n",
      "Best model is stored with eval loss 871.1947021484375.\n"
     ]
    },
    {
     "data": {
      "application/vnd.jupyter.widget-view+json": {
       "model_id": "e4a67f19ea2f420bb9e1670d15f7ffc8",
       "version_major": 2,
       "version_minor": 0
      },
      "text/plain": [
       "Validation Round:   0%|          | 0/19 [00:00<?, ?it/s]"
      ]
     },
     "metadata": {},
     "output_type": "display_data"
    },
    {
     "name": "stdout",
     "output_type": "stream",
     "text": [
      "******************************\n",
      "4/10:\n",
      "  - Train Loss: 1019.6804057267996\n",
      "  - Validation Loss: 839.80908203125\n",
      "Best model is stored with eval loss 839.80908203125.\n"
     ]
    },
    {
     "data": {
      "application/vnd.jupyter.widget-view+json": {
       "model_id": "fa100a30a80044b39291bb1b93c77852",
       "version_major": 2,
       "version_minor": 0
      },
      "text/plain": [
       "Validation Round:   0%|          | 0/19 [00:00<?, ?it/s]"
      ]
     },
     "metadata": {},
     "output_type": "display_data"
    },
    {
     "name": "stdout",
     "output_type": "stream",
     "text": [
      "******************************\n",
      "5/10:\n",
      "  - Train Loss: 980.9084903717041\n",
      "  - Validation Loss: 754.2277221679688\n",
      "Best model is stored with eval loss 754.2277221679688.\n"
     ]
    },
    {
     "data": {
      "application/vnd.jupyter.widget-view+json": {
       "model_id": "42bc3ef238cf4dafb10e533a87dc43bf",
       "version_major": 2,
       "version_minor": 0
      },
      "text/plain": [
       "Validation Round:   0%|          | 0/19 [00:00<?, ?it/s]"
      ]
     },
     "metadata": {},
     "output_type": "display_data"
    },
    {
     "name": "stdout",
     "output_type": "stream",
     "text": [
      "******************************\n",
      "6/10:\n",
      "  - Train Loss: 929.9854487985627\n",
      "  - Validation Loss: 693.5830688476562\n",
      "Best model is stored with eval loss 693.5830688476562.\n"
     ]
    },
    {
     "data": {
      "application/vnd.jupyter.widget-view+json": {
       "model_id": "16d0ecf5f751430f80d0017fbcf597a1",
       "version_major": 2,
       "version_minor": 0
      },
      "text/plain": [
       "Validation Round:   0%|          | 0/19 [00:00<?, ?it/s]"
      ]
     },
     "metadata": {},
     "output_type": "display_data"
    },
    {
     "name": "stdout",
     "output_type": "stream",
     "text": [
      "******************************\n",
      "7/10:\n",
      "  - Train Loss: 905.226952620915\n",
      "  - Validation Loss: 777.0593872070312\n"
     ]
    },
    {
     "data": {
      "application/vnd.jupyter.widget-view+json": {
       "model_id": "693caeaf5ea747f89c378d522a7a2ad0",
       "version_major": 2,
       "version_minor": 0
      },
      "text/plain": [
       "Validation Round:   0%|          | 0/19 [00:00<?, ?it/s]"
      ]
     },
     "metadata": {},
     "output_type": "display_data"
    },
    {
     "name": "stdout",
     "output_type": "stream",
     "text": [
      "******************************\n",
      "8/10:\n",
      "  - Train Loss: 888.0162309331772\n",
      "  - Validation Loss: 606.08251953125\n",
      "Best model is stored with eval loss 606.08251953125.\n"
     ]
    },
    {
     "data": {
      "application/vnd.jupyter.widget-view+json": {
       "model_id": "cb6ed42c62e5489bbf1d17a4f608a3c3",
       "version_major": 2,
       "version_minor": 0
      },
      "text/plain": [
       "Validation Round:   0%|          | 0/19 [00:00<?, ?it/s]"
      ]
     },
     "metadata": {},
     "output_type": "display_data"
    },
    {
     "name": "stdout",
     "output_type": "stream",
     "text": [
      "******************************\n",
      "9/10:\n",
      "  - Train Loss: 861.8725644380619\n",
      "  - Validation Loss: 609.6063232421875\n"
     ]
    },
    {
     "data": {
      "application/vnd.jupyter.widget-view+json": {
       "model_id": "75b06100591b49848c4ee00454880583",
       "version_major": 2,
       "version_minor": 0
      },
      "text/plain": [
       "Validation Round:   0%|          | 0/19 [00:00<?, ?it/s]"
      ]
     },
     "metadata": {},
     "output_type": "display_data"
    },
    {
     "name": "stdout",
     "output_type": "stream",
     "text": [
      "******************************\n",
      "10/10:\n",
      "  - Train Loss: 840.6860397045428\n",
      "  - Validation Loss: 620.411865234375\n",
      "Done.\n"
     ]
    }
   ],
   "source": [
    "model, best_model, log = train(\n",
    "    model = model,\n",
    "    optimizer = optimizer, \n",
    "    criterion = criterion, \n",
    "    train_dataloader = train_dataloader, \n",
    "    val_dataloader = val_dataloader, \n",
    "    device = device, \n",
    "    EPOCHS = EPOCHS, \n",
    "    EVALUATE_EVERY = EVALUATE_EVERY, \n",
    "    evaluate_epoch=True\n",
    ")"
   ]
  },
  {
   "cell_type": "code",
   "execution_count": 46,
   "metadata": {
    "executionInfo": {
     "elapsed": 311,
     "status": "ok",
     "timestamp": 1640365172359,
     "user": {
      "displayName": "M. Şafak Bilici",
      "photoUrl": "https://lh3.googleusercontent.com/a-/AOh14GiGws-KIvcIpNEMjqPHEpcw8w_sK9CVIeDdXUBQgQ=s64",
      "userId": "15429672687187391255"
     },
     "user_tz": -180
    },
    "id": "w9i2ZDnOFgp0"
   },
   "outputs": [],
   "source": [
    "torch.save(best_model.state_dict(), \"/content/drive/MyDrive/Applied AI #6 Source/Time Series/anomaly_ckpts/best_model.pt\")\n",
    "torch.save(model.state_dict(), \"/content/drive/MyDrive/Applied AI #6 Source/Time Series/anomaly_ckpts/model.pt\")"
   ]
  },
  {
   "cell_type": "code",
   "execution_count": 47,
   "metadata": {
    "colab": {
     "base_uri": "https://localhost:8080/"
    },
    "executionInfo": {
     "elapsed": 241,
     "status": "ok",
     "timestamp": 1640365175945,
     "user": {
      "displayName": "M. Şafak Bilici",
      "photoUrl": "https://lh3.googleusercontent.com/a-/AOh14GiGws-KIvcIpNEMjqPHEpcw8w_sK9CVIeDdXUBQgQ=s64",
      "userId": "15429672687187391255"
     },
     "user_tz": -180
    },
    "id": "Q-OkaRGpFLbi",
    "outputId": "4ee3e99c-1fb0-4dff-b3e8-ff1da5bd1685"
   },
   "outputs": [
    {
     "data": {
      "text/plain": [
       "<All keys matched successfully>"
      ]
     },
     "execution_count": 47,
     "metadata": {},
     "output_type": "execute_result"
    }
   ],
   "source": [
    "model = LSTMAE(SEQ_LEN, N_FEATURES, device, hidden_dim = 128).to(device)\n",
    "model.load_state_dict(torch.load(\"/content/drive/MyDrive/Applied AI #6 Source/Time Series/anomaly_ckpts/best_model.pt\"))"
   ]
  },
  {
   "cell_type": "code",
   "execution_count": 48,
   "metadata": {
    "colab": {
     "base_uri": "https://localhost:8080/",
     "height": 290
    },
    "executionInfo": {
     "elapsed": 1042,
     "status": "ok",
     "timestamp": 1640365180045,
     "user": {
      "displayName": "M. Şafak Bilici",
      "photoUrl": "https://lh3.googleusercontent.com/a-/AOh14GiGws-KIvcIpNEMjqPHEpcw8w_sK9CVIeDdXUBQgQ=s64",
      "userId": "15429672687187391255"
     },
     "user_tz": -180
    },
    "id": "GI4iWzK6CwEP",
    "outputId": "e62450b0-e9bf-4d6f-feb6-24cf269131e5"
   },
   "outputs": [
    {
     "data": {
      "image/png": "[encoded data removed]",
      "text/plain": [
       "<Figure size 720x288 with 1 Axes>"
      ]
     },
     "metadata": {
      "image/png": {
       "height": 273,
       "width": 633
      }
     },
     "output_type": "display_data"
    }
   ],
   "source": [
    "plt.plot(log[\"train_loss\"], label = \"train loss\", color = \"black\")\n",
    "plt.plot(log[\"eval_loss\"], label = \"eval loss\", color = \"blue\")\n",
    "plt.xlabel(\"Epoch\")\n",
    "plt.ylabel(\"Loss\")\n",
    "plt.legend()\n",
    "plt.show()"
   ]
  },
  {
   "cell_type": "markdown",
   "metadata": {
    "id": "Yu11xWu7S_Zl"
   },
   "source": [
    "# Evaluation"
   ]
  },
  {
   "cell_type": "code",
   "execution_count": 49,
   "metadata": {
    "executionInfo": {
     "elapsed": 309,
     "status": "ok",
     "timestamp": 1640365186694,
     "user": {
      "displayName": "M. Şafak Bilici",
      "photoUrl": "https://lh3.googleusercontent.com/a-/AOh14GiGws-KIvcIpNEMjqPHEpcw8w_sK9CVIeDdXUBQgQ=s64",
      "userId": "15429672687187391255"
     },
     "user_tz": -180
    },
    "id": "J9fJhjTctuCS"
   },
   "outputs": [],
   "source": [
    "def thresholding(model, criterion, dataset, device):\n",
    "  preds, losses = [], []\n",
    "  total = len(dataset)\n",
    "  dataset = train_dataset(dataset, 1)\n",
    "  with tqdm(total = total) as ee:\n",
    "    with torch.no_grad():\n",
    "      for step, batch in enumerate(dataset):\n",
    "        model.eval()\n",
    "        b_inputs, = tuple(t.to(device) for t in batch)\n",
    "        out = model.forward(b_inputs)\n",
    "\n",
    "        loss = criterion(out, b_inputs)\n",
    "\n",
    "        preds.append([out.detach().cpu().numpy(), b_inputs.cpu().numpy()])\n",
    "        losses.append(loss.detach().cpu().numpy())\n",
    "        ee.update()\n",
    "    ee.close()\n",
    "\n",
    "  return preds, losses"
   ]
  },
  {
   "cell_type": "code",
   "execution_count": 50,
   "metadata": {
    "colab": {
     "base_uri": "https://localhost:8080/",
     "height": 49,
     "referenced_widgets": [
      "7ae911fce7134ab398c76a1ad108f1c0",
      "164b6e4626cb4e609999b2e7893c6721",
      "db4240c5c7454e7f899c40a98d7458e4",
      "b0f1896416c045108aaa3dfac4737796",
      "ca85adead36448b4bcd212bdad54de80",
      "97847f872d114a4b89cf7efeb8211aff",
      "afa55dba31974542a66314c9bb787375",
      "355dfe94d3c648a0a03858d94ae7addf",
      "176ab6d49385461ea69b641da657abbf",
      "8487db2231af466cbe5de5c45fd184b3",
      "200e1610549347bc9193b265c53c93f1"
     ]
    },
    "executionInfo": {
     "elapsed": 90557,
     "status": "ok",
     "timestamp": 1640365278583,
     "user": {
      "displayName": "M. Şafak Bilici",
      "photoUrl": "https://lh3.googleusercontent.com/a-/AOh14GiGws-KIvcIpNEMjqPHEpcw8w_sK9CVIeDdXUBQgQ=s64",
      "userId": "15429672687187391255"
     },
     "user_tz": -180
    },
    "id": "yYrdGI2tESz3",
    "outputId": "62fbd4f5-556d-4775-a1f4-f05818e65c0d"
   },
   "outputs": [
    {
     "data": {
      "application/vnd.jupyter.widget-view+json": {
       "model_id": "7ae911fce7134ab398c76a1ad108f1c0",
       "version_major": 2,
       "version_minor": 0
      },
      "text/plain": [
       "  0%|          | 0/2481 [00:00<?, ?it/s]"
      ]
     },
     "metadata": {},
     "output_type": "display_data"
    }
   ],
   "source": [
    "reconstructions, losses = thresholding(model, criterion, train_df, device)"
   ]
  },
  {
   "cell_type": "code",
   "execution_count": 51,
   "metadata": {
    "colab": {
     "base_uri": "https://localhost:8080/",
     "height": 271
    },
    "executionInfo": {
     "elapsed": 1169,
     "status": "ok",
     "timestamp": 1640365283605,
     "user": {
      "displayName": "M. Şafak Bilici",
      "photoUrl": "https://lh3.googleusercontent.com/a-/AOh14GiGws-KIvcIpNEMjqPHEpcw8w_sK9CVIeDdXUBQgQ=s64",
      "userId": "15429672687187391255"
     },
     "user_tz": -180
    },
    "id": "HuMhdyyUCmnV",
    "outputId": "22be7087-7b0d-422e-a6b9-65ebb7322d24"
   },
   "outputs": [
    {
     "data": {
      "image/png": "[encoded data removed]",
      "text/plain": [
       "<Figure size 720x288 with 1 Axes>"
      ]
     },
     "metadata": {
      "image/png": {
       "height": 254,
       "width": 637
      }
     },
     "output_type": "display_data"
    }
   ],
   "source": [
    "sns.distplot(losses, bins=50, kde=True);"
   ]
  },
  {
   "cell_type": "code",
   "execution_count": 52,
   "metadata": {
    "colab": {
     "base_uri": "https://localhost:8080/"
    },
    "executionInfo": {
     "elapsed": 310,
     "status": "ok",
     "timestamp": 1640365286946,
     "user": {
      "displayName": "M. Şafak Bilici",
      "photoUrl": "https://lh3.googleusercontent.com/a-/AOh14GiGws-KIvcIpNEMjqPHEpcw8w_sK9CVIeDdXUBQgQ=s64",
      "userId": "15429672687187391255"
     },
     "user_tz": -180
    },
    "id": "FDVDHB4BJn84",
    "outputId": "3783e56c-e663-4fa8-ad94-db0364060c1e"
   },
   "outputs": [
    {
     "name": "stdout",
     "output_type": "stream",
     "text": [
      "40.491\n"
     ]
    }
   ],
   "source": [
    "threshold = np.mean(losses)\n",
    "print(threshold)"
   ]
  },
  {
   "cell_type": "code",
   "execution_count": 53,
   "metadata": {
    "executionInfo": {
     "elapsed": 281,
     "status": "ok",
     "timestamp": 1640365289196,
     "user": {
      "displayName": "M. Şafak Bilici",
      "photoUrl": "https://lh3.googleusercontent.com/a-/AOh14GiGws-KIvcIpNEMjqPHEpcw8w_sK9CVIeDdXUBQgQ=s64",
      "userId": "15429672687187391255"
     },
     "user_tz": -180
    },
    "id": "jhf44eeyEchu"
   },
   "outputs": [],
   "source": [
    "def torch_classification_report(model, criterion, df_all, \n",
    "                                device, threshold, print_report = True, disable=False):\n",
    "  all_data = TensorDataset(torch.tensor(df_all.iloc[:,:-1].to_numpy()), torch.tensor(df_all[\"target\"].to_numpy()))\n",
    "  all_sampler = SequentialSampler(all_data)\n",
    "  all_dataloader = DataLoader(all_data, sampler=all_sampler, batch_size=1)\n",
    "  total = len(all_dataloader)\n",
    "  preds = []\n",
    "  targets = []\n",
    "  with tqdm(total = total, disable=disable) as ee:\n",
    "    with torch.no_grad():\n",
    "      for step, batch in enumerate(all_dataloader):\n",
    "        model.eval()\n",
    "        b_inputs, b_targets = tuple(t.to(device) for t in batch)\n",
    "        out = model.forward(b_inputs)\n",
    "        loss = criterion(out, b_inputs)\n",
    "\n",
    "        targets.append(b_targets.item())\n",
    "\n",
    "        if loss> threshold:\n",
    "          preds.append(1)\n",
    "        else:\n",
    "          preds.append(0)\n",
    "        ee.update()\n",
    "    ee.close()\n",
    "  f1 = f1_score(targets, preds)\n",
    "  acc = accuracy_score(targets, preds)\n",
    "  if print_report:\n",
    "    print(classification_report(targets, preds))\n",
    "  return acc, f1\n",
    "\n",
    "def density_classification_report(model, criterion, df_all, device, losses, disable):\n",
    "  f1s = []\n",
    "  accs = []\n",
    "  for loss in losses:\n",
    "    acc, f1 = torch_classification_report(\n",
    "        model = model, \n",
    "        criterion = criterion, \n",
    "        df_all = df_all, \n",
    "        device = device, \n",
    "        threshold = loss, \n",
    "        print_report = False, \n",
    "        disable = disable\n",
    "    )\n",
    "    f1s.append(f1)\n",
    "    accs.append(acc)\n",
    "  return accs, f1s"
   ]
  },
  {
   "cell_type": "code",
   "execution_count": 54,
   "metadata": {
    "executionInfo": {
     "elapsed": 4,
     "status": "ok",
     "timestamp": 1640365290458,
     "user": {
      "displayName": "M. Şafak Bilici",
      "photoUrl": "https://lh3.googleusercontent.com/a-/AOh14GiGws-KIvcIpNEMjqPHEpcw8w_sK9CVIeDdXUBQgQ=s64",
      "userId": "15429672687187391255"
     },
     "user_tz": -180
    },
    "id": "82FtshD9L2A3"
   },
   "outputs": [],
   "source": [
    "anomaly_df = anomaly_df.reset_index(drop = True)\n",
    "test_df = test_df.reset_index(drop = True)\n",
    "anomaly_df[\"target\"] = 1\n",
    "test_df[\"target\"] = 0\n",
    "\n",
    "all_df = pd.concat([anomaly_df,test_df]).reset_index(drop = True)"
   ]
  },
  {
   "cell_type": "code",
   "execution_count": 55,
   "metadata": {
    "colab": {
     "base_uri": "https://localhost:8080/",
     "height": 214,
     "referenced_widgets": [
      "30878e9e5d9f45c5b58c0fdd7deea4e5",
      "fd7b96a00df94bf6a3076fc9d3a910dc",
      "94ad9759755d4beabca64707dc644715",
      "a4811b13e29b49bf9a669b927f5cf544",
      "1cbd32f0525c4257a36fdc82329ae1fd",
      "b5237f57f8774bb380f869f24af45603",
      "e3a1c48a71e34bfd9ea2ade761bc25a6",
      "b7b4bca5ac4d48e090782bd32f7459dc",
      "474dbb7aa2114322a469e412c076ba70",
      "c30cebddd84e452fb915e3231e01e44e",
      "2f5bfa3b1d9c43afbd4d7e31a93b6c57"
     ]
    },
    "executionInfo": {
     "elapsed": 76750,
     "status": "ok",
     "timestamp": 1640365369222,
     "user": {
      "displayName": "M. Şafak Bilici",
      "photoUrl": "https://lh3.googleusercontent.com/a-/AOh14GiGws-KIvcIpNEMjqPHEpcw8w_sK9CVIeDdXUBQgQ=s64",
      "userId": "15429672687187391255"
     },
     "user_tz": -180
    },
    "id": "9euIN6eZOMz6",
    "outputId": "4bc6d52c-fc79-42ec-d52f-90c5483cfa63"
   },
   "outputs": [
    {
     "data": {
      "application/vnd.jupyter.widget-view+json": {
       "model_id": "30878e9e5d9f45c5b58c0fdd7deea4e5",
       "version_major": 2,
       "version_minor": 0
      },
      "text/plain": [
       "  0%|          | 0/2226 [00:00<?, ?it/s]"
      ]
     },
     "metadata": {},
     "output_type": "display_data"
    },
    {
     "name": "stdout",
     "output_type": "stream",
     "text": [
      "              precision    recall  f1-score   support\n",
      "\n",
      "           0       0.96      0.72      0.82       145\n",
      "           1       0.98      1.00      0.99      2081\n",
      "\n",
      "    accuracy                           0.98      2226\n",
      "   macro avg       0.97      0.86      0.91      2226\n",
      "weighted avg       0.98      0.98      0.98      2226\n",
      "\n"
     ]
    }
   ],
   "source": [
    "acc, f1 = torch_classification_report(model, criterion, all_df, device, threshold, disable=False)"
   ]
  },
  {
   "cell_type": "code",
   "execution_count": 56,
   "metadata": {
    "colab": {
     "base_uri": "https://localhost:8080/"
    },
    "executionInfo": {
     "elapsed": 312,
     "status": "ok",
     "timestamp": 1640365371733,
     "user": {
      "displayName": "M. Şafak Bilici",
      "photoUrl": "https://lh3.googleusercontent.com/a-/AOh14GiGws-KIvcIpNEMjqPHEpcw8w_sK9CVIeDdXUBQgQ=s64",
      "userId": "15429672687187391255"
     },
     "user_tz": -180
    },
    "id": "DjyHXKWyLwF-",
    "outputId": "70d91884-5392-493a-efd3-6d17dce39d1f"
   },
   "outputs": [
    {
     "name": "stdout",
     "output_type": "stream",
     "text": [
      "Accuracy: 0.9797843665768194\n",
      "F1: 0.9892831626577757\n"
     ]
    }
   ],
   "source": [
    "print(f\"Accuracy: {acc}\\nF1: {f1}\")"
   ]
  },
  {
   "cell_type": "code",
   "execution_count": 58,
   "metadata": {
    "colab": {
     "base_uri": "https://localhost:8080/",
     "height": 325
    },
    "executionInfo": {
     "elapsed": 3632,
     "status": "ok",
     "timestamp": 1640365390670,
     "user": {
      "displayName": "M. Şafak Bilici",
      "photoUrl": "https://lh3.googleusercontent.com/a-/AOh14GiGws-KIvcIpNEMjqPHEpcw8w_sK9CVIeDdXUBQgQ=s64",
      "userId": "15429672687187391255"
     },
     "user_tz": -180
    },
    "id": "UPit7t9-WTFj",
    "outputId": "426d40b9-77ca-4d7e-d29c-f1624c813707"
   },
   "outputs": [
    {
     "data": {
      "image/png": "[encoded data removed]",
      "text/plain": [
       "<Figure size 2160x360 with 6 Axes>"
      ]
     },
     "metadata": {
      "image/png": {
       "height": 308,
       "width": 1717
      }
     },
     "output_type": "display_data"
    }
   ],
   "source": [
    "fig, axs = plt.subplots(1,6,figsize=(30,5))\n",
    "\n",
    "for i in range(6):\n",
    "  axs[i].plot(reconstructions[i][0][0,:])\n",
    "  axs[i].plot(reconstructions[i][1][0,:])"
   ]
  },
  {
   "cell_type": "code",
   "execution_count": null,
   "metadata": {
    "id": "2JTrlmpCXcyS"
   },
   "outputs": [],
   "source": []
  }
 ],
 "metadata": {
  "accelerator": "GPU",
  "colab": {
   "collapsed_sections": [],
   "name": "Time Series Anomaly Detection.ipynb",
   "provenance": []
  },
  "kernelspec": {
   "display_name": "Python 3",
   "language": "python",
   "name": "python3"
  },
  "language_info": {
   "codemirror_mode": {
    "name": "ipython",
    "version": 3
   },
   "file_extension": ".py",
   "mimetype": "text/x-python",
   "name": "python",
   "nbconvert_exporter": "python",
   "pygments_lexer": "ipython3",
   "version": "3.8.5"
  },
  "widgets": {
   "application/vnd.jupyter.widget-state+json": {
    "07a8c2238b2d4825b321b9264ac8a5f5": {
     "model_module": "@jupyter-widgets/base",
     "model_module_version": "1.2.0",
     "model_name": "LayoutModel",
     "state": {
      "_model_module": "@jupyter-widgets/base",
      "_model_module_version": "1.2.0",
      "_model_name": "LayoutModel",
      "_view_count": null,
      "_view_module": "@jupyter-widgets/base",
      "_view_module_version": "1.2.0",
      "_view_name": "LayoutView",
      "align_content": null,
      "align_items": null,
      "align_self": null,
      "border": null,
      "bottom": null,
      "display": null,
      "flex": null,
      "flex_flow": null,
      "grid_area": null,
      "grid_auto_columns": null,
      "grid_auto_flow": null,
      "grid_auto_rows": null,
      "grid_column": null,
      "grid_gap": null,
      "grid_row": null,
      "grid_template_areas": null,
      "grid_template_columns": null,
      "grid_template_rows": null,
      "height": null,
      "justify_content": null,
      "justify_items": null,
      "left": null,
      "margin": null,
      "max_height": null,
      "max_width": null,
      "min_height": null,
      "min_width": null,
      "object_fit": null,
      "object_position": null,
      "order": null,
      "overflow": null,
      "overflow_x": null,
      "overflow_y": null,
      "padding": null,
      "right": null,
      "top": null,
      "visibility": null,
      "width": null
     }
    },
    "084fec9000bd47119269b452a3849d1d": {
     "model_module": "@jupyter-widgets/base",
     "model_module_version": "1.2.0",
     "model_name": "LayoutModel",
     "state": {
      "_model_module": "@jupyter-widgets/base",
      "_model_module_version": "1.2.0",
      "_model_name": "LayoutModel",
      "_view_count": null,
      "_view_module": "@jupyter-widgets/base",
      "_view_module_version": "1.2.0",
      "_view_name": "LayoutView",
      "align_content": null,
      "align_items": null,
      "align_self": null,
      "border": null,
      "bottom": null,
      "display": null,
      "flex": null,
      "flex_flow": null,
      "grid_area": null,
      "grid_auto_columns": null,
      "grid_auto_flow": null,
      "grid_auto_rows": null,
      "grid_column": null,
      "grid_gap": null,
      "grid_row": null,
      "grid_template_areas": null,
      "grid_template_columns": null,
      "grid_template_rows": null,
      "height": null,
      "justify_content": null,
      "justify_items": null,
      "left": null,
      "margin": null,
      "max_height": null,
      "max_width": null,
      "min_height": null,
      "min_width": null,
      "object_fit": null,
      "object_position": null,
      "order": null,
      "overflow": null,
      "overflow_x": null,
      "overflow_y": null,
      "padding": null,
      "right": null,
      "top": null,
      "visibility": null,
      "width": null
     }
    },
    "0e5a2ce725804c7eb97b6a9887bb3031": {
     "model_module": "@jupyter-widgets/controls",
     "model_module_version": "1.5.0",
     "model_name": "HTMLModel",
     "state": {
      "_dom_classes": [],
      "_model_module": "@jupyter-widgets/controls",
      "_model_module_version": "1.5.0",
      "_model_name": "HTMLModel",
      "_view_count": null,
      "_view_module": "@jupyter-widgets/controls",
      "_view_module_version": "1.5.0",
      "_view_name": "HTMLView",
      "description": "",
      "description_tooltip": null,
      "layout": "IPY_MODEL_2039429d0b3e49feb5734ee7928f9873",
      "placeholder": "​",
      "style": "IPY_MODEL_2657a920dde942679dc041d487d95072",
      "value": "Validation Round:  89%"
     }
    },
    "118472d533184bf1ab911bc34c044d83": {
     "model_module": "@jupyter-widgets/base",
     "model_module_version": "1.2.0",
     "model_name": "LayoutModel",
     "state": {
      "_model_module": "@jupyter-widgets/base",
      "_model_module_version": "1.2.0",
      "_model_name": "LayoutModel",
      "_view_count": null,
      "_view_module": "@jupyter-widgets/base",
      "_view_module_version": "1.2.0",
      "_view_name": "LayoutView",
      "align_content": null,
      "align_items": null,
      "align_self": null,
      "border": null,
      "bottom": null,
      "display": null,
      "flex": null,
      "flex_flow": null,
      "grid_area": null,
      "grid_auto_columns": null,
      "grid_auto_flow": null,
      "grid_auto_rows": null,
      "grid_column": null,
      "grid_gap": null,
      "grid_row": null,
      "grid_template_areas": null,
      "grid_template_columns": null,
      "grid_template_rows": null,
      "height": null,
      "justify_content": null,
      "justify_items": null,
      "left": null,
      "margin": null,
      "max_height": null,
      "max_width": null,
      "min_height": null,
      "min_width": null,
      "object_fit": null,
      "object_position": null,
      "order": null,
      "overflow": null,
      "overflow_x": null,
      "overflow_y": null,
      "padding": null,
      "right": null,
      "top": null,
      "visibility": null,
      "width": null
     }
    },
    "11febb8cc9364a149dcd608627c4ffea": {
     "model_module": "@jupyter-widgets/controls",
     "model_module_version": "1.5.0",
     "model_name": "HTMLModel",
     "state": {
      "_dom_classes": [],
      "_model_module": "@jupyter-widgets/controls",
      "_model_module_version": "1.5.0",
      "_model_name": "HTMLModel",
      "_view_count": null,
      "_view_module": "@jupyter-widgets/controls",
      "_view_module_version": "1.5.0",
      "_view_name": "HTMLView",
      "description": "",
      "description_tooltip": null,
      "layout": "IPY_MODEL_77656c85d9314edb8074d4de9839936c",
      "placeholder": "​",
      "style": "IPY_MODEL_52248a5004b842ceb2f92dfcae7fb0c7",
      "value": " 17/19 [00:00&lt;00:00, 24.49it/s]"
     }
    },
    "14112f5a3944428cb702b1b4690f5c51": {
     "model_module": "@jupyter-widgets/controls",
     "model_module_version": "1.5.0",
     "model_name": "HTMLModel",
     "state": {
      "_dom_classes": [],
      "_model_module": "@jupyter-widgets/controls",
      "_model_module_version": "1.5.0",
      "_model_name": "HTMLModel",
      "_view_count": null,
      "_view_module": "@jupyter-widgets/controls",
      "_view_module_version": "1.5.0",
      "_view_name": "HTMLView",
      "description": "",
      "description_tooltip": null,
      "layout": "IPY_MODEL_ce26099bcda447e896ea0b19ed6be282",
      "placeholder": "​",
      "style": "IPY_MODEL_bb3b20ee899e460ba8e54f4a811aa908",
      "value": "Validation Round:  89%"
     }
    },
    "157c51349e1743c480fc40d89a83ebdb": {
     "model_module": "@jupyter-widgets/controls",
     "model_module_version": "1.5.0",
     "model_name": "DescriptionStyleModel",
     "state": {
      "_model_module": "@jupyter-widgets/controls",
      "_model_module_version": "1.5.0",
      "_model_name": "DescriptionStyleModel",
      "_view_count": null,
      "_view_module": "@jupyter-widgets/base",
      "_view_module_version": "1.2.0",
      "_view_name": "StyleView",
      "description_width": ""
     }
    },
    "164b6e4626cb4e609999b2e7893c6721": {
     "model_module": "@jupyter-widgets/base",
     "model_module_version": "1.2.0",
     "model_name": "LayoutModel",
     "state": {
      "_model_module": "@jupyter-widgets/base",
      "_model_module_version": "1.2.0",
      "_model_name": "LayoutModel",
      "_view_count": null,
      "_view_module": "@jupyter-widgets/base",
      "_view_module_version": "1.2.0",
      "_view_name": "LayoutView",
      "align_content": null,
      "align_items": null,
      "align_self": null,
      "border": null,
      "bottom": null,
      "display": null,
      "flex": null,
      "flex_flow": null,
      "grid_area": null,
      "grid_auto_columns": null,
      "grid_auto_flow": null,
      "grid_auto_rows": null,
      "grid_column": null,
      "grid_gap": null,
      "grid_row": null,
      "grid_template_areas": null,
      "grid_template_columns": null,
      "grid_template_rows": null,
      "height": null,
      "justify_content": null,
      "justify_items": null,
      "left": null,
      "margin": null,
      "max_height": null,
      "max_width": null,
      "min_height": null,
      "min_width": null,
      "object_fit": null,
      "object_position": null,
      "order": null,
      "overflow": null,
      "overflow_x": null,
      "overflow_y": null,
      "padding": null,
      "right": null,
      "top": null,
      "visibility": null,
      "width": null
     }
    },
    "168555859f0543efa3b24af861d0326d": {
     "model_module": "@jupyter-widgets/controls",
     "model_module_version": "1.5.0",
     "model_name": "ProgressStyleModel",
     "state": {
      "_model_module": "@jupyter-widgets/controls",
      "_model_module_version": "1.5.0",
      "_model_name": "ProgressStyleModel",
      "_view_count": null,
      "_view_module": "@jupyter-widgets/base",
      "_view_module_version": "1.2.0",
      "_view_name": "StyleView",
      "bar_color": null,
      "description_width": ""
     }
    },
    "16d0ecf5f751430f80d0017fbcf597a1": {
     "model_module": "@jupyter-widgets/controls",
     "model_module_version": "1.5.0",
     "model_name": "HBoxModel",
     "state": {
      "_dom_classes": [],
      "_model_module": "@jupyter-widgets/controls",
      "_model_module_version": "1.5.0",
      "_model_name": "HBoxModel",
      "_view_count": null,
      "_view_module": "@jupyter-widgets/controls",
      "_view_module_version": "1.5.0",
      "_view_name": "HBoxView",
      "box_style": "",
      "children": [
       "IPY_MODEL_8835dcd4669c4d1ba8199fceb4e1b05c",
       "IPY_MODEL_fec72540a14a4053add96bd94ec0c5b1",
       "IPY_MODEL_11febb8cc9364a149dcd608627c4ffea"
      ],
      "layout": "IPY_MODEL_d41c12bb9b5c425eb73dc30fd482d530"
     }
    },
    "176ab6d49385461ea69b641da657abbf": {
     "model_module": "@jupyter-widgets/base",
     "model_module_version": "1.2.0",
     "model_name": "LayoutModel",
     "state": {
      "_model_module": "@jupyter-widgets/base",
      "_model_module_version": "1.2.0",
      "_model_name": "LayoutModel",
      "_view_count": null,
      "_view_module": "@jupyter-widgets/base",
      "_view_module_version": "1.2.0",
      "_view_name": "LayoutView",
      "align_content": null,
      "align_items": null,
      "align_self": null,
      "border": null,
      "bottom": null,
      "display": null,
      "flex": null,
      "flex_flow": null,
      "grid_area": null,
      "grid_auto_columns": null,
      "grid_auto_flow": null,
      "grid_auto_rows": null,
      "grid_column": null,
      "grid_gap": null,
      "grid_row": null,
      "grid_template_areas": null,
      "grid_template_columns": null,
      "grid_template_rows": null,
      "height": null,
      "justify_content": null,
      "justify_items": null,
      "left": null,
      "margin": null,
      "max_height": null,
      "max_width": null,
      "min_height": null,
      "min_width": null,
      "object_fit": null,
      "object_position": null,
      "order": null,
      "overflow": null,
      "overflow_x": null,
      "overflow_y": null,
      "padding": null,
      "right": null,
      "top": null,
      "visibility": null,
      "width": null
     }
    },
    "17f149a476dc4a0bbbecf3dc81eb0d79": {
     "model_module": "@jupyter-widgets/controls",
     "model_module_version": "1.5.0",
     "model_name": "HTMLModel",
     "state": {
      "_dom_classes": [],
      "_model_module": "@jupyter-widgets/controls",
      "_model_module_version": "1.5.0",
      "_model_name": "HTMLModel",
      "_view_count": null,
      "_view_module": "@jupyter-widgets/controls",
      "_view_module_version": "1.5.0",
      "_view_name": "HTMLView",
      "description": "",
      "description_tooltip": null,
      "layout": "IPY_MODEL_d58c3b98db114f55b22d9ca87d0cadc8",
      "placeholder": "​",
      "style": "IPY_MODEL_630b9f1f86d441d5aacd6d92ee203aec",
      "value": "Validation Round:  89%"
     }
    },
    "1aba6060252b4b198fd2c5462728709a": {
     "model_module": "@jupyter-widgets/base",
     "model_module_version": "1.2.0",
     "model_name": "LayoutModel",
     "state": {
      "_model_module": "@jupyter-widgets/base",
      "_model_module_version": "1.2.0",
      "_model_name": "LayoutModel",
      "_view_count": null,
      "_view_module": "@jupyter-widgets/base",
      "_view_module_version": "1.2.0",
      "_view_name": "LayoutView",
      "align_content": null,
      "align_items": null,
      "align_self": null,
      "border": null,
      "bottom": null,
      "display": null,
      "flex": null,
      "flex_flow": null,
      "grid_area": null,
      "grid_auto_columns": null,
      "grid_auto_flow": null,
      "grid_auto_rows": null,
      "grid_column": null,
      "grid_gap": null,
      "grid_row": null,
      "grid_template_areas": null,
      "grid_template_columns": null,
      "grid_template_rows": null,
      "height": null,
      "justify_content": null,
      "justify_items": null,
      "left": null,
      "margin": null,
      "max_height": null,
      "max_width": null,
      "min_height": null,
      "min_width": null,
      "object_fit": null,
      "object_position": null,
      "order": null,
      "overflow": null,
      "overflow_x": null,
      "overflow_y": null,
      "padding": null,
      "right": null,
      "top": null,
      "visibility": null,
      "width": null
     }
    },
    "1cbd32f0525c4257a36fdc82329ae1fd": {
     "model_module": "@jupyter-widgets/controls",
     "model_module_version": "1.5.0",
     "model_name": "HTMLModel",
     "state": {
      "_dom_classes": [],
      "_model_module": "@jupyter-widgets/controls",
      "_model_module_version": "1.5.0",
      "_model_name": "HTMLModel",
      "_view_count": null,
      "_view_module": "@jupyter-widgets/controls",
      "_view_module_version": "1.5.0",
      "_view_name": "HTMLView",
      "description": "",
      "description_tooltip": null,
      "layout": "IPY_MODEL_2f5bfa3b1d9c43afbd4d7e31a93b6c57",
      "placeholder": "​",
      "style": "IPY_MODEL_c30cebddd84e452fb915e3231e01e44e",
      "value": " 2226/2226 [01:16&lt;00:00, 27.67it/s]"
     }
    },
    "1cdc5375185341f1891de4000cfc46eb": {
     "model_module": "@jupyter-widgets/controls",
     "model_module_version": "1.5.0",
     "model_name": "ProgressStyleModel",
     "state": {
      "_model_module": "@jupyter-widgets/controls",
      "_model_module_version": "1.5.0",
      "_model_name": "ProgressStyleModel",
      "_view_count": null,
      "_view_module": "@jupyter-widgets/base",
      "_view_module_version": "1.2.0",
      "_view_name": "StyleView",
      "bar_color": null,
      "description_width": ""
     }
    },
    "1e7f1407976c4ff694aaed161b9070bc": {
     "model_module": "@jupyter-widgets/base",
     "model_module_version": "1.2.0",
     "model_name": "LayoutModel",
     "state": {
      "_model_module": "@jupyter-widgets/base",
      "_model_module_version": "1.2.0",
      "_model_name": "LayoutModel",
      "_view_count": null,
      "_view_module": "@jupyter-widgets/base",
      "_view_module_version": "1.2.0",
      "_view_name": "LayoutView",
      "align_content": null,
      "align_items": null,
      "align_self": null,
      "border": null,
      "bottom": null,
      "display": null,
      "flex": null,
      "flex_flow": null,
      "grid_area": null,
      "grid_auto_columns": null,
      "grid_auto_flow": null,
      "grid_auto_rows": null,
      "grid_column": null,
      "grid_gap": null,
      "grid_row": null,
      "grid_template_areas": null,
      "grid_template_columns": null,
      "grid_template_rows": null,
      "height": null,
      "justify_content": null,
      "justify_items": null,
      "left": null,
      "margin": null,
      "max_height": null,
      "max_width": null,
      "min_height": null,
      "min_width": null,
      "object_fit": null,
      "object_position": null,
      "order": null,
      "overflow": null,
      "overflow_x": null,
      "overflow_y": null,
      "padding": null,
      "right": null,
      "top": null,
      "visibility": null,
      "width": null
     }
    },
    "200e1610549347bc9193b265c53c93f1": {
     "model_module": "@jupyter-widgets/base",
     "model_module_version": "1.2.0",
     "model_name": "LayoutModel",
     "state": {
      "_model_module": "@jupyter-widgets/base",
      "_model_module_version": "1.2.0",
      "_model_name": "LayoutModel",
      "_view_count": null,
      "_view_module": "@jupyter-widgets/base",
      "_view_module_version": "1.2.0",
      "_view_name": "LayoutView",
      "align_content": null,
      "align_items": null,
      "align_self": null,
      "border": null,
      "bottom": null,
      "display": null,
      "flex": null,
      "flex_flow": null,
      "grid_area": null,
      "grid_auto_columns": null,
      "grid_auto_flow": null,
      "grid_auto_rows": null,
      "grid_column": null,
      "grid_gap": null,
      "grid_row": null,
      "grid_template_areas": null,
      "grid_template_columns": null,
      "grid_template_rows": null,
      "height": null,
      "justify_content": null,
      "justify_items": null,
      "left": null,
      "margin": null,
      "max_height": null,
      "max_width": null,
      "min_height": null,
      "min_width": null,
      "object_fit": null,
      "object_position": null,
      "order": null,
      "overflow": null,
      "overflow_x": null,
      "overflow_y": null,
      "padding": null,
      "right": null,
      "top": null,
      "visibility": null,
      "width": null
     }
    },
    "2039429d0b3e49feb5734ee7928f9873": {
     "model_module": "@jupyter-widgets/base",
     "model_module_version": "1.2.0",
     "model_name": "LayoutModel",
     "state": {
      "_model_module": "@jupyter-widgets/base",
      "_model_module_version": "1.2.0",
      "_model_name": "LayoutModel",
      "_view_count": null,
      "_view_module": "@jupyter-widgets/base",
      "_view_module_version": "1.2.0",
      "_view_name": "LayoutView",
      "align_content": null,
      "align_items": null,
      "align_self": null,
      "border": null,
      "bottom": null,
      "display": null,
      "flex": null,
      "flex_flow": null,
      "grid_area": null,
      "grid_auto_columns": null,
      "grid_auto_flow": null,
      "grid_auto_rows": null,
      "grid_column": null,
      "grid_gap": null,
      "grid_row": null,
      "grid_template_areas": null,
      "grid_template_columns": null,
      "grid_template_rows": null,
      "height": null,
      "justify_content": null,
      "justify_items": null,
      "left": null,
      "margin": null,
      "max_height": null,
      "max_width": null,
      "min_height": null,
      "min_width": null,
      "object_fit": null,
      "object_position": null,
      "order": null,
      "overflow": null,
      "overflow_x": null,
      "overflow_y": null,
      "padding": null,
      "right": null,
      "top": null,
      "visibility": null,
      "width": null
     }
    },
    "2054287b7f4a415aa9b80996c7bfe882": {
     "model_module": "@jupyter-widgets/controls",
     "model_module_version": "1.5.0",
     "model_name": "DescriptionStyleModel",
     "state": {
      "_model_module": "@jupyter-widgets/controls",
      "_model_module_version": "1.5.0",
      "_model_name": "DescriptionStyleModel",
      "_view_count": null,
      "_view_module": "@jupyter-widgets/base",
      "_view_module_version": "1.2.0",
      "_view_name": "StyleView",
      "description_width": ""
     }
    },
    "213a8c5be5b54dc8bf0e904f26f9d9f4": {
     "model_module": "@jupyter-widgets/controls",
     "model_module_version": "1.5.0",
     "model_name": "DescriptionStyleModel",
     "state": {
      "_model_module": "@jupyter-widgets/controls",
      "_model_module_version": "1.5.0",
      "_model_name": "DescriptionStyleModel",
      "_view_count": null,
      "_view_module": "@jupyter-widgets/base",
      "_view_module_version": "1.2.0",
      "_view_name": "StyleView",
      "description_width": ""
     }
    },
    "225927a53d3e45f78eca0c55d902b9a3": {
     "model_module": "@jupyter-widgets/controls",
     "model_module_version": "1.5.0",
     "model_name": "ProgressStyleModel",
     "state": {
      "_model_module": "@jupyter-widgets/controls",
      "_model_module_version": "1.5.0",
      "_model_name": "ProgressStyleModel",
      "_view_count": null,
      "_view_module": "@jupyter-widgets/base",
      "_view_module_version": "1.2.0",
      "_view_name": "StyleView",
      "bar_color": null,
      "description_width": ""
     }
    },
    "2657a920dde942679dc041d487d95072": {
     "model_module": "@jupyter-widgets/controls",
     "model_module_version": "1.5.0",
     "model_name": "DescriptionStyleModel",
     "state": {
      "_model_module": "@jupyter-widgets/controls",
      "_model_module_version": "1.5.0",
      "_model_name": "DescriptionStyleModel",
      "_view_count": null,
      "_view_module": "@jupyter-widgets/base",
      "_view_module_version": "1.2.0",
      "_view_name": "StyleView",
      "description_width": ""
     }
    },
    "286ba626c8f64a129fa9073e309ff51a": {
     "model_module": "@jupyter-widgets/base",
     "model_module_version": "1.2.0",
     "model_name": "LayoutModel",
     "state": {
      "_model_module": "@jupyter-widgets/base",
      "_model_module_version": "1.2.0",
      "_model_name": "LayoutModel",
      "_view_count": null,
      "_view_module": "@jupyter-widgets/base",
      "_view_module_version": "1.2.0",
      "_view_name": "LayoutView",
      "align_content": null,
      "align_items": null,
      "align_self": null,
      "border": null,
      "bottom": null,
      "display": null,
      "flex": null,
      "flex_flow": null,
      "grid_area": null,
      "grid_auto_columns": null,
      "grid_auto_flow": null,
      "grid_auto_rows": null,
      "grid_column": null,
      "grid_gap": null,
      "grid_row": null,
      "grid_template_areas": null,
      "grid_template_columns": null,
      "grid_template_rows": null,
      "height": null,
      "justify_content": null,
      "justify_items": null,
      "left": null,
      "margin": null,
      "max_height": null,
      "max_width": null,
      "min_height": null,
      "min_width": null,
      "object_fit": null,
      "object_position": null,
      "order": null,
      "overflow": null,
      "overflow_x": null,
      "overflow_y": null,
      "padding": null,
      "right": null,
      "top": null,
      "visibility": null,
      "width": null
     }
    },
    "291d6b2a795947168cafac759d330a89": {
     "model_module": "@jupyter-widgets/base",
     "model_module_version": "1.2.0",
     "model_name": "LayoutModel",
     "state": {
      "_model_module": "@jupyter-widgets/base",
      "_model_module_version": "1.2.0",
      "_model_name": "LayoutModel",
      "_view_count": null,
      "_view_module": "@jupyter-widgets/base",
      "_view_module_version": "1.2.0",
      "_view_name": "LayoutView",
      "align_content": null,
      "align_items": null,
      "align_self": null,
      "border": null,
      "bottom": null,
      "display": null,
      "flex": null,
      "flex_flow": null,
      "grid_area": null,
      "grid_auto_columns": null,
      "grid_auto_flow": null,
      "grid_auto_rows": null,
      "grid_column": null,
      "grid_gap": null,
      "grid_row": null,
      "grid_template_areas": null,
      "grid_template_columns": null,
      "grid_template_rows": null,
      "height": null,
      "justify_content": null,
      "justify_items": null,
      "left": null,
      "margin": null,
      "max_height": null,
      "max_width": null,
      "min_height": null,
      "min_width": null,
      "object_fit": null,
      "object_position": null,
      "order": null,
      "overflow": null,
      "overflow_x": null,
      "overflow_y": null,
      "padding": null,
      "right": null,
      "top": null,
      "visibility": null,
      "width": null
     }
    },
    "2cefa7b1e38d41c096089e34dd3ee0fd": {
     "model_module": "@jupyter-widgets/base",
     "model_module_version": "1.2.0",
     "model_name": "LayoutModel",
     "state": {
      "_model_module": "@jupyter-widgets/base",
      "_model_module_version": "1.2.0",
      "_model_name": "LayoutModel",
      "_view_count": null,
      "_view_module": "@jupyter-widgets/base",
      "_view_module_version": "1.2.0",
      "_view_name": "LayoutView",
      "align_content": null,
      "align_items": null,
      "align_self": null,
      "border": null,
      "bottom": null,
      "display": null,
      "flex": null,
      "flex_flow": null,
      "grid_area": null,
      "grid_auto_columns": null,
      "grid_auto_flow": null,
      "grid_auto_rows": null,
      "grid_column": null,
      "grid_gap": null,
      "grid_row": null,
      "grid_template_areas": null,
      "grid_template_columns": null,
      "grid_template_rows": null,
      "height": null,
      "justify_content": null,
      "justify_items": null,
      "left": null,
      "margin": null,
      "max_height": null,
      "max_width": null,
      "min_height": null,
      "min_width": null,
      "object_fit": null,
      "object_position": null,
      "order": null,
      "overflow": null,
      "overflow_x": null,
      "overflow_y": null,
      "padding": null,
      "right": null,
      "top": null,
      "visibility": null,
      "width": null
     }
    },
    "2dc9c3f358dd48ee89fc05edc9d7411d": {
     "model_module": "@jupyter-widgets/controls",
     "model_module_version": "1.5.0",
     "model_name": "HBoxModel",
     "state": {
      "_dom_classes": [],
      "_model_module": "@jupyter-widgets/controls",
      "_model_module_version": "1.5.0",
      "_model_name": "HBoxModel",
      "_view_count": null,
      "_view_module": "@jupyter-widgets/controls",
      "_view_module_version": "1.5.0",
      "_view_name": "HBoxView",
      "box_style": "",
      "children": [
       "IPY_MODEL_d41ab7dd7c0548e1a3c1a2da01d5cd66",
       "IPY_MODEL_4cc592c3ad884b3cafe7eddd6f67ed7c",
       "IPY_MODEL_e0ed957e1d4a46b2aca8423340fbadf1"
      ],
      "layout": "IPY_MODEL_f3244d43e8f34724a459454fb31abd63"
     }
    },
    "2f23f3e0d40b4918be956dee074f7e25": {
     "model_module": "@jupyter-widgets/controls",
     "model_module_version": "1.5.0",
     "model_name": "FloatProgressModel",
     "state": {
      "_dom_classes": [],
      "_model_module": "@jupyter-widgets/controls",
      "_model_module_version": "1.5.0",
      "_model_name": "FloatProgressModel",
      "_view_count": null,
      "_view_module": "@jupyter-widgets/controls",
      "_view_module_version": "1.5.0",
      "_view_name": "ProgressView",
      "bar_style": "",
      "description": "",
      "description_tooltip": null,
      "layout": "IPY_MODEL_291d6b2a795947168cafac759d330a89",
      "max": 19,
      "min": 0,
      "orientation": "horizontal",
      "style": "IPY_MODEL_c911fff44b6b47f58b4a005d113f9d55",
      "value": 19
     }
    },
    "2f5bfa3b1d9c43afbd4d7e31a93b6c57": {
     "model_module": "@jupyter-widgets/base",
     "model_module_version": "1.2.0",
     "model_name": "LayoutModel",
     "state": {
      "_model_module": "@jupyter-widgets/base",
      "_model_module_version": "1.2.0",
      "_model_name": "LayoutModel",
      "_view_count": null,
      "_view_module": "@jupyter-widgets/base",
      "_view_module_version": "1.2.0",
      "_view_name": "LayoutView",
      "align_content": null,
      "align_items": null,
      "align_self": null,
      "border": null,
      "bottom": null,
      "display": null,
      "flex": null,
      "flex_flow": null,
      "grid_area": null,
      "grid_auto_columns": null,
      "grid_auto_flow": null,
      "grid_auto_rows": null,
      "grid_column": null,
      "grid_gap": null,
      "grid_row": null,
      "grid_template_areas": null,
      "grid_template_columns": null,
      "grid_template_rows": null,
      "height": null,
      "justify_content": null,
      "justify_items": null,
      "left": null,
      "margin": null,
      "max_height": null,
      "max_width": null,
      "min_height": null,
      "min_width": null,
      "object_fit": null,
      "object_position": null,
      "order": null,
      "overflow": null,
      "overflow_x": null,
      "overflow_y": null,
      "padding": null,
      "right": null,
      "top": null,
      "visibility": null,
      "width": null
     }
    },
    "30878e9e5d9f45c5b58c0fdd7deea4e5": {
     "model_module": "@jupyter-widgets/controls",
     "model_module_version": "1.5.0",
     "model_name": "HBoxModel",
     "state": {
      "_dom_classes": [],
      "_model_module": "@jupyter-widgets/controls",
      "_model_module_version": "1.5.0",
      "_model_name": "HBoxModel",
      "_view_count": null,
      "_view_module": "@jupyter-widgets/controls",
      "_view_module_version": "1.5.0",
      "_view_name": "HBoxView",
      "box_style": "",
      "children": [
       "IPY_MODEL_94ad9759755d4beabca64707dc644715",
       "IPY_MODEL_a4811b13e29b49bf9a669b927f5cf544",
       "IPY_MODEL_1cbd32f0525c4257a36fdc82329ae1fd"
      ],
      "layout": "IPY_MODEL_fd7b96a00df94bf6a3076fc9d3a910dc"
     }
    },
    "33ada6a286e74d318c2c516c0dae4f84": {
     "model_module": "@jupyter-widgets/controls",
     "model_module_version": "1.5.0",
     "model_name": "ProgressStyleModel",
     "state": {
      "_model_module": "@jupyter-widgets/controls",
      "_model_module_version": "1.5.0",
      "_model_name": "ProgressStyleModel",
      "_view_count": null,
      "_view_module": "@jupyter-widgets/base",
      "_view_module_version": "1.2.0",
      "_view_name": "StyleView",
      "bar_color": null,
      "description_width": ""
     }
    },
    "35482bcd68e648eaae7a24c53adf6145": {
     "model_module": "@jupyter-widgets/base",
     "model_module_version": "1.2.0",
     "model_name": "LayoutModel",
     "state": {
      "_model_module": "@jupyter-widgets/base",
      "_model_module_version": "1.2.0",
      "_model_name": "LayoutModel",
      "_view_count": null,
      "_view_module": "@jupyter-widgets/base",
      "_view_module_version": "1.2.0",
      "_view_name": "LayoutView",
      "align_content": null,
      "align_items": null,
      "align_self": null,
      "border": null,
      "bottom": null,
      "display": null,
      "flex": null,
      "flex_flow": null,
      "grid_area": null,
      "grid_auto_columns": null,
      "grid_auto_flow": null,
      "grid_auto_rows": null,
      "grid_column": null,
      "grid_gap": null,
      "grid_row": null,
      "grid_template_areas": null,
      "grid_template_columns": null,
      "grid_template_rows": null,
      "height": null,
      "justify_content": null,
      "justify_items": null,
      "left": null,
      "margin": null,
      "max_height": null,
      "max_width": null,
      "min_height": null,
      "min_width": null,
      "object_fit": null,
      "object_position": null,
      "order": null,
      "overflow": null,
      "overflow_x": null,
      "overflow_y": null,
      "padding": null,
      "right": null,
      "top": null,
      "visibility": null,
      "width": null
     }
    },
    "355dfe94d3c648a0a03858d94ae7addf": {
     "model_module": "@jupyter-widgets/controls",
     "model_module_version": "1.5.0",
     "model_name": "ProgressStyleModel",
     "state": {
      "_model_module": "@jupyter-widgets/controls",
      "_model_module_version": "1.5.0",
      "_model_name": "ProgressStyleModel",
      "_view_count": null,
      "_view_module": "@jupyter-widgets/base",
      "_view_module_version": "1.2.0",
      "_view_name": "StyleView",
      "bar_color": null,
      "description_width": ""
     }
    },
    "367b7860e4cb49459e840917faad20b8": {
     "model_module": "@jupyter-widgets/base",
     "model_module_version": "1.2.0",
     "model_name": "LayoutModel",
     "state": {
      "_model_module": "@jupyter-widgets/base",
      "_model_module_version": "1.2.0",
      "_model_name": "LayoutModel",
      "_view_count": null,
      "_view_module": "@jupyter-widgets/base",
      "_view_module_version": "1.2.0",
      "_view_name": "LayoutView",
      "align_content": null,
      "align_items": null,
      "align_self": null,
      "border": null,
      "bottom": null,
      "display": null,
      "flex": null,
      "flex_flow": null,
      "grid_area": null,
      "grid_auto_columns": null,
      "grid_auto_flow": null,
      "grid_auto_rows": null,
      "grid_column": null,
      "grid_gap": null,
      "grid_row": null,
      "grid_template_areas": null,
      "grid_template_columns": null,
      "grid_template_rows": null,
      "height": null,
      "justify_content": null,
      "justify_items": null,
      "left": null,
      "margin": null,
      "max_height": null,
      "max_width": null,
      "min_height": null,
      "min_width": null,
      "object_fit": null,
      "object_position": null,
      "order": null,
      "overflow": null,
      "overflow_x": null,
      "overflow_y": null,
      "padding": null,
      "right": null,
      "top": null,
      "visibility": null,
      "width": null
     }
    },
    "37730e2c74fe478da38e3da66bea1e76": {
     "model_module": "@jupyter-widgets/controls",
     "model_module_version": "1.5.0",
     "model_name": "HTMLModel",
     "state": {
      "_dom_classes": [],
      "_model_module": "@jupyter-widgets/controls",
      "_model_module_version": "1.5.0",
      "_model_name": "HTMLModel",
      "_view_count": null,
      "_view_module": "@jupyter-widgets/controls",
      "_view_module_version": "1.5.0",
      "_view_name": "HTMLView",
      "description": "",
      "description_tooltip": null,
      "layout": "IPY_MODEL_58bc89f12ecb4d52ad1aa0d1b95e58bc",
      "placeholder": "​",
      "style": "IPY_MODEL_4c2f4daec2f04416ba5e05a0f14106b3",
      "value": " 19/19 [00:00&lt;00:00, 22.62it/s]"
     }
    },
    "3a72c0d2772d4e6c84a4215e82157494": {
     "model_module": "@jupyter-widgets/base",
     "model_module_version": "1.2.0",
     "model_name": "LayoutModel",
     "state": {
      "_model_module": "@jupyter-widgets/base",
      "_model_module_version": "1.2.0",
      "_model_name": "LayoutModel",
      "_view_count": null,
      "_view_module": "@jupyter-widgets/base",
      "_view_module_version": "1.2.0",
      "_view_name": "LayoutView",
      "align_content": null,
      "align_items": null,
      "align_self": null,
      "border": null,
      "bottom": null,
      "display": null,
      "flex": null,
      "flex_flow": null,
      "grid_area": null,
      "grid_auto_columns": null,
      "grid_auto_flow": null,
      "grid_auto_rows": null,
      "grid_column": null,
      "grid_gap": null,
      "grid_row": null,
      "grid_template_areas": null,
      "grid_template_columns": null,
      "grid_template_rows": null,
      "height": null,
      "justify_content": null,
      "justify_items": null,
      "left": null,
      "margin": null,
      "max_height": null,
      "max_width": null,
      "min_height": null,
      "min_width": null,
      "object_fit": null,
      "object_position": null,
      "order": null,
      "overflow": null,
      "overflow_x": null,
      "overflow_y": null,
      "padding": null,
      "right": null,
      "top": null,
      "visibility": null,
      "width": null
     }
    },
    "3a793e619c48466190001a1c3074c5a7": {
     "model_module": "@jupyter-widgets/base",
     "model_module_version": "1.2.0",
     "model_name": "LayoutModel",
     "state": {
      "_model_module": "@jupyter-widgets/base",
      "_model_module_version": "1.2.0",
      "_model_name": "LayoutModel",
      "_view_count": null,
      "_view_module": "@jupyter-widgets/base",
      "_view_module_version": "1.2.0",
      "_view_name": "LayoutView",
      "align_content": null,
      "align_items": null,
      "align_self": null,
      "border": null,
      "bottom": null,
      "display": null,
      "flex": null,
      "flex_flow": null,
      "grid_area": null,
      "grid_auto_columns": null,
      "grid_auto_flow": null,
      "grid_auto_rows": null,
      "grid_column": null,
      "grid_gap": null,
      "grid_row": null,
      "grid_template_areas": null,
      "grid_template_columns": null,
      "grid_template_rows": null,
      "height": null,
      "justify_content": null,
      "justify_items": null,
      "left": null,
      "margin": null,
      "max_height": null,
      "max_width": null,
      "min_height": null,
      "min_width": null,
      "object_fit": null,
      "object_position": null,
      "order": null,
      "overflow": null,
      "overflow_x": null,
      "overflow_y": null,
      "padding": null,
      "right": null,
      "top": null,
      "visibility": null,
      "width": null
     }
    },
    "3a8c98d586324970852a6ad46f4909f3": {
     "model_module": "@jupyter-widgets/base",
     "model_module_version": "1.2.0",
     "model_name": "LayoutModel",
     "state": {
      "_model_module": "@jupyter-widgets/base",
      "_model_module_version": "1.2.0",
      "_model_name": "LayoutModel",
      "_view_count": null,
      "_view_module": "@jupyter-widgets/base",
      "_view_module_version": "1.2.0",
      "_view_name": "LayoutView",
      "align_content": null,
      "align_items": null,
      "align_self": null,
      "border": null,
      "bottom": null,
      "display": null,
      "flex": null,
      "flex_flow": null,
      "grid_area": null,
      "grid_auto_columns": null,
      "grid_auto_flow": null,
      "grid_auto_rows": null,
      "grid_column": null,
      "grid_gap": null,
      "grid_row": null,
      "grid_template_areas": null,
      "grid_template_columns": null,
      "grid_template_rows": null,
      "height": null,
      "justify_content": null,
      "justify_items": null,
      "left": null,
      "margin": null,
      "max_height": null,
      "max_width": null,
      "min_height": null,
      "min_width": null,
      "object_fit": null,
      "object_position": null,
      "order": null,
      "overflow": null,
      "overflow_x": null,
      "overflow_y": null,
      "padding": null,
      "right": null,
      "top": null,
      "visibility": null,
      "width": null
     }
    },
    "3afeb906574a4df18e4beac87e9f81e6": {
     "model_module": "@jupyter-widgets/base",
     "model_module_version": "1.2.0",
     "model_name": "LayoutModel",
     "state": {
      "_model_module": "@jupyter-widgets/base",
      "_model_module_version": "1.2.0",
      "_model_name": "LayoutModel",
      "_view_count": null,
      "_view_module": "@jupyter-widgets/base",
      "_view_module_version": "1.2.0",
      "_view_name": "LayoutView",
      "align_content": null,
      "align_items": null,
      "align_self": null,
      "border": null,
      "bottom": null,
      "display": null,
      "flex": null,
      "flex_flow": null,
      "grid_area": null,
      "grid_auto_columns": null,
      "grid_auto_flow": null,
      "grid_auto_rows": null,
      "grid_column": null,
      "grid_gap": null,
      "grid_row": null,
      "grid_template_areas": null,
      "grid_template_columns": null,
      "grid_template_rows": null,
      "height": null,
      "justify_content": null,
      "justify_items": null,
      "left": null,
      "margin": null,
      "max_height": null,
      "max_width": null,
      "min_height": null,
      "min_width": null,
      "object_fit": null,
      "object_position": null,
      "order": null,
      "overflow": null,
      "overflow_x": null,
      "overflow_y": null,
      "padding": null,
      "right": null,
      "top": null,
      "visibility": null,
      "width": null
     }
    },
    "3ec994e12c9b4870ae2c43f14b60c83d": {
     "model_module": "@jupyter-widgets/base",
     "model_module_version": "1.2.0",
     "model_name": "LayoutModel",
     "state": {
      "_model_module": "@jupyter-widgets/base",
      "_model_module_version": "1.2.0",
      "_model_name": "LayoutModel",
      "_view_count": null,
      "_view_module": "@jupyter-widgets/base",
      "_view_module_version": "1.2.0",
      "_view_name": "LayoutView",
      "align_content": null,
      "align_items": null,
      "align_self": null,
      "border": null,
      "bottom": null,
      "display": null,
      "flex": null,
      "flex_flow": null,
      "grid_area": null,
      "grid_auto_columns": null,
      "grid_auto_flow": null,
      "grid_auto_rows": null,
      "grid_column": null,
      "grid_gap": null,
      "grid_row": null,
      "grid_template_areas": null,
      "grid_template_columns": null,
      "grid_template_rows": null,
      "height": null,
      "justify_content": null,
      "justify_items": null,
      "left": null,
      "margin": null,
      "max_height": null,
      "max_width": null,
      "min_height": null,
      "min_width": null,
      "object_fit": null,
      "object_position": null,
      "order": null,
      "overflow": null,
      "overflow_x": null,
      "overflow_y": null,
      "padding": null,
      "right": null,
      "top": null,
      "visibility": null,
      "width": null
     }
    },
    "419d4af4b9fc47659d0dadbc028962b3": {
     "model_module": "@jupyter-widgets/base",
     "model_module_version": "1.2.0",
     "model_name": "LayoutModel",
     "state": {
      "_model_module": "@jupyter-widgets/base",
      "_model_module_version": "1.2.0",
      "_model_name": "LayoutModel",
      "_view_count": null,
      "_view_module": "@jupyter-widgets/base",
      "_view_module_version": "1.2.0",
      "_view_name": "LayoutView",
      "align_content": null,
      "align_items": null,
      "align_self": null,
      "border": null,
      "bottom": null,
      "display": null,
      "flex": null,
      "flex_flow": null,
      "grid_area": null,
      "grid_auto_columns": null,
      "grid_auto_flow": null,
      "grid_auto_rows": null,
      "grid_column": null,
      "grid_gap": null,
      "grid_row": null,
      "grid_template_areas": null,
      "grid_template_columns": null,
      "grid_template_rows": null,
      "height": null,
      "justify_content": null,
      "justify_items": null,
      "left": null,
      "margin": null,
      "max_height": null,
      "max_width": null,
      "min_height": null,
      "min_width": null,
      "object_fit": null,
      "object_position": null,
      "order": null,
      "overflow": null,
      "overflow_x": null,
      "overflow_y": null,
      "padding": null,
      "right": null,
      "top": null,
      "visibility": null,
      "width": null
     }
    },
    "42bc3ef238cf4dafb10e533a87dc43bf": {
     "model_module": "@jupyter-widgets/controls",
     "model_module_version": "1.5.0",
     "model_name": "HBoxModel",
     "state": {
      "_dom_classes": [],
      "_model_module": "@jupyter-widgets/controls",
      "_model_module_version": "1.5.0",
      "_model_name": "HBoxModel",
      "_view_count": null,
      "_view_module": "@jupyter-widgets/controls",
      "_view_module_version": "1.5.0",
      "_view_name": "HBoxView",
      "box_style": "",
      "children": [
       "IPY_MODEL_0e5a2ce725804c7eb97b6a9887bb3031",
       "IPY_MODEL_8471a18dd341409181804954b2c9335f",
       "IPY_MODEL_f2b0faedc283444e80d3a18a0cfc7b18"
      ],
      "layout": "IPY_MODEL_3ec994e12c9b4870ae2c43f14b60c83d"
     }
    },
    "431010ab1909474784bddb20203b205d": {
     "model_module": "@jupyter-widgets/base",
     "model_module_version": "1.2.0",
     "model_name": "LayoutModel",
     "state": {
      "_model_module": "@jupyter-widgets/base",
      "_model_module_version": "1.2.0",
      "_model_name": "LayoutModel",
      "_view_count": null,
      "_view_module": "@jupyter-widgets/base",
      "_view_module_version": "1.2.0",
      "_view_name": "LayoutView",
      "align_content": null,
      "align_items": null,
      "align_self": null,
      "border": null,
      "bottom": null,
      "display": null,
      "flex": null,
      "flex_flow": null,
      "grid_area": null,
      "grid_auto_columns": null,
      "grid_auto_flow": null,
      "grid_auto_rows": null,
      "grid_column": null,
      "grid_gap": null,
      "grid_row": null,
      "grid_template_areas": null,
      "grid_template_columns": null,
      "grid_template_rows": null,
      "height": null,
      "justify_content": null,
      "justify_items": null,
      "left": null,
      "margin": null,
      "max_height": null,
      "max_width": null,
      "min_height": null,
      "min_width": null,
      "object_fit": null,
      "object_position": null,
      "order": null,
      "overflow": null,
      "overflow_x": null,
      "overflow_y": null,
      "padding": null,
      "right": null,
      "top": null,
      "visibility": null,
      "width": null
     }
    },
    "45c211a0af4f488d91c8c86887d49ffa": {
     "model_module": "@jupyter-widgets/controls",
     "model_module_version": "1.5.0",
     "model_name": "HTMLModel",
     "state": {
      "_dom_classes": [],
      "_model_module": "@jupyter-widgets/controls",
      "_model_module_version": "1.5.0",
      "_model_name": "HTMLModel",
      "_view_count": null,
      "_view_module": "@jupyter-widgets/controls",
      "_view_module_version": "1.5.0",
      "_view_name": "HTMLView",
      "description": "",
      "description_tooltip": null,
      "layout": "IPY_MODEL_367b7860e4cb49459e840917faad20b8",
      "placeholder": "​",
      "style": "IPY_MODEL_b70c184882354ca6a4570d8c298beb5c",
      "value": "Validation Round:  89%"
     }
    },
    "474dbb7aa2114322a469e412c076ba70": {
     "model_module": "@jupyter-widgets/base",
     "model_module_version": "1.2.0",
     "model_name": "LayoutModel",
     "state": {
      "_model_module": "@jupyter-widgets/base",
      "_model_module_version": "1.2.0",
      "_model_name": "LayoutModel",
      "_view_count": null,
      "_view_module": "@jupyter-widgets/base",
      "_view_module_version": "1.2.0",
      "_view_name": "LayoutView",
      "align_content": null,
      "align_items": null,
      "align_self": null,
      "border": null,
      "bottom": null,
      "display": null,
      "flex": null,
      "flex_flow": null,
      "grid_area": null,
      "grid_auto_columns": null,
      "grid_auto_flow": null,
      "grid_auto_rows": null,
      "grid_column": null,
      "grid_gap": null,
      "grid_row": null,
      "grid_template_areas": null,
      "grid_template_columns": null,
      "grid_template_rows": null,
      "height": null,
      "justify_content": null,
      "justify_items": null,
      "left": null,
      "margin": null,
      "max_height": null,
      "max_width": null,
      "min_height": null,
      "min_width": null,
      "object_fit": null,
      "object_position": null,
      "order": null,
      "overflow": null,
      "overflow_x": null,
      "overflow_y": null,
      "padding": null,
      "right": null,
      "top": null,
      "visibility": null,
      "width": null
     }
    },
    "49490171d74041128a57163277affe29": {
     "model_module": "@jupyter-widgets/controls",
     "model_module_version": "1.5.0",
     "model_name": "HTMLModel",
     "state": {
      "_dom_classes": [],
      "_model_module": "@jupyter-widgets/controls",
      "_model_module_version": "1.5.0",
      "_model_name": "HTMLModel",
      "_view_count": null,
      "_view_module": "@jupyter-widgets/controls",
      "_view_module_version": "1.5.0",
      "_view_name": "HTMLView",
      "description": "",
      "description_tooltip": null,
      "layout": "IPY_MODEL_3afeb906574a4df18e4beac87e9f81e6",
      "placeholder": "​",
      "style": "IPY_MODEL_213a8c5be5b54dc8bf0e904f26f9d9f4",
      "value": " 19/19 [00:00&lt;00:00, 23.71it/s]"
     }
    },
    "4a78cfa2fd9b400496e7a0b73d8c1f12": {
     "model_module": "@jupyter-widgets/controls",
     "model_module_version": "1.5.0",
     "model_name": "HTMLModel",
     "state": {
      "_dom_classes": [],
      "_model_module": "@jupyter-widgets/controls",
      "_model_module_version": "1.5.0",
      "_model_name": "HTMLModel",
      "_view_count": null,
      "_view_module": "@jupyter-widgets/controls",
      "_view_module_version": "1.5.0",
      "_view_name": "HTMLView",
      "description": "",
      "description_tooltip": null,
      "layout": "IPY_MODEL_2cefa7b1e38d41c096089e34dd3ee0fd",
      "placeholder": "​",
      "style": "IPY_MODEL_65ff857d22b44e4f8904bd2e33d589e6",
      "value": "Validation Round: 100%"
     }
    },
    "4b398995299043dcad3745f88a7a6626": {
     "model_module": "@jupyter-widgets/base",
     "model_module_version": "1.2.0",
     "model_name": "LayoutModel",
     "state": {
      "_model_module": "@jupyter-widgets/base",
      "_model_module_version": "1.2.0",
      "_model_name": "LayoutModel",
      "_view_count": null,
      "_view_module": "@jupyter-widgets/base",
      "_view_module_version": "1.2.0",
      "_view_name": "LayoutView",
      "align_content": null,
      "align_items": null,
      "align_self": null,
      "border": null,
      "bottom": null,
      "display": null,
      "flex": null,
      "flex_flow": null,
      "grid_area": null,
      "grid_auto_columns": null,
      "grid_auto_flow": null,
      "grid_auto_rows": null,
      "grid_column": null,
      "grid_gap": null,
      "grid_row": null,
      "grid_template_areas": null,
      "grid_template_columns": null,
      "grid_template_rows": null,
      "height": null,
      "justify_content": null,
      "justify_items": null,
      "left": null,
      "margin": null,
      "max_height": null,
      "max_width": null,
      "min_height": null,
      "min_width": null,
      "object_fit": null,
      "object_position": null,
      "order": null,
      "overflow": null,
      "overflow_x": null,
      "overflow_y": null,
      "padding": null,
      "right": null,
      "top": null,
      "visibility": null,
      "width": null
     }
    },
    "4c2f4daec2f04416ba5e05a0f14106b3": {
     "model_module": "@jupyter-widgets/controls",
     "model_module_version": "1.5.0",
     "model_name": "DescriptionStyleModel",
     "state": {
      "_model_module": "@jupyter-widgets/controls",
      "_model_module_version": "1.5.0",
      "_model_name": "DescriptionStyleModel",
      "_view_count": null,
      "_view_module": "@jupyter-widgets/base",
      "_view_module_version": "1.2.0",
      "_view_name": "StyleView",
      "description_width": ""
     }
    },
    "4cc592c3ad884b3cafe7eddd6f67ed7c": {
     "model_module": "@jupyter-widgets/controls",
     "model_module_version": "1.5.0",
     "model_name": "FloatProgressModel",
     "state": {
      "_dom_classes": [],
      "_model_module": "@jupyter-widgets/controls",
      "_model_module_version": "1.5.0",
      "_model_name": "FloatProgressModel",
      "_view_count": null,
      "_view_module": "@jupyter-widgets/controls",
      "_view_module_version": "1.5.0",
      "_view_name": "ProgressView",
      "bar_style": "success",
      "description": "",
      "description_tooltip": null,
      "layout": "IPY_MODEL_07a8c2238b2d4825b321b9264ac8a5f5",
      "max": 1560,
      "min": 0,
      "orientation": "horizontal",
      "style": "IPY_MODEL_9ed6e3ed1fec4256a456e339c6945037",
      "value": 1560
     }
    },
    "515167d1905b4a208be8cdc362b5bd7e": {
     "model_module": "@jupyter-widgets/controls",
     "model_module_version": "1.5.0",
     "model_name": "DescriptionStyleModel",
     "state": {
      "_model_module": "@jupyter-widgets/controls",
      "_model_module_version": "1.5.0",
      "_model_name": "DescriptionStyleModel",
      "_view_count": null,
      "_view_module": "@jupyter-widgets/base",
      "_view_module_version": "1.2.0",
      "_view_name": "StyleView",
      "description_width": ""
     }
    },
    "52248a5004b842ceb2f92dfcae7fb0c7": {
     "model_module": "@jupyter-widgets/controls",
     "model_module_version": "1.5.0",
     "model_name": "DescriptionStyleModel",
     "state": {
      "_model_module": "@jupyter-widgets/controls",
      "_model_module_version": "1.5.0",
      "_model_name": "DescriptionStyleModel",
      "_view_count": null,
      "_view_module": "@jupyter-widgets/base",
      "_view_module_version": "1.2.0",
      "_view_name": "StyleView",
      "description_width": ""
     }
    },
    "5250ded1cf2c416fbc15b8a0b05acfa7": {
     "model_module": "@jupyter-widgets/base",
     "model_module_version": "1.2.0",
     "model_name": "LayoutModel",
     "state": {
      "_model_module": "@jupyter-widgets/base",
      "_model_module_version": "1.2.0",
      "_model_name": "LayoutModel",
      "_view_count": null,
      "_view_module": "@jupyter-widgets/base",
      "_view_module_version": "1.2.0",
      "_view_name": "LayoutView",
      "align_content": null,
      "align_items": null,
      "align_self": null,
      "border": null,
      "bottom": null,
      "display": null,
      "flex": null,
      "flex_flow": null,
      "grid_area": null,
      "grid_auto_columns": null,
      "grid_auto_flow": null,
      "grid_auto_rows": null,
      "grid_column": null,
      "grid_gap": null,
      "grid_row": null,
      "grid_template_areas": null,
      "grid_template_columns": null,
      "grid_template_rows": null,
      "height": null,
      "justify_content": null,
      "justify_items": null,
      "left": null,
      "margin": null,
      "max_height": null,
      "max_width": null,
      "min_height": null,
      "min_width": null,
      "object_fit": null,
      "object_position": null,
      "order": null,
      "overflow": null,
      "overflow_x": null,
      "overflow_y": null,
      "padding": null,
      "right": null,
      "top": null,
      "visibility": null,
      "width": null
     }
    },
    "54ce4807e48043ffbe5df49cbc82b7f0": {
     "model_module": "@jupyter-widgets/base",
     "model_module_version": "1.2.0",
     "model_name": "LayoutModel",
     "state": {
      "_model_module": "@jupyter-widgets/base",
      "_model_module_version": "1.2.0",
      "_model_name": "LayoutModel",
      "_view_count": null,
      "_view_module": "@jupyter-widgets/base",
      "_view_module_version": "1.2.0",
      "_view_name": "LayoutView",
      "align_content": null,
      "align_items": null,
      "align_self": null,
      "border": null,
      "bottom": null,
      "display": null,
      "flex": null,
      "flex_flow": null,
      "grid_area": null,
      "grid_auto_columns": null,
      "grid_auto_flow": null,
      "grid_auto_rows": null,
      "grid_column": null,
      "grid_gap": null,
      "grid_row": null,
      "grid_template_areas": null,
      "grid_template_columns": null,
      "grid_template_rows": null,
      "height": null,
      "justify_content": null,
      "justify_items": null,
      "left": null,
      "margin": null,
      "max_height": null,
      "max_width": null,
      "min_height": null,
      "min_width": null,
      "object_fit": null,
      "object_position": null,
      "order": null,
      "overflow": null,
      "overflow_x": null,
      "overflow_y": null,
      "padding": null,
      "right": null,
      "top": null,
      "visibility": null,
      "width": null
     }
    },
    "58bc89f12ecb4d52ad1aa0d1b95e58bc": {
     "model_module": "@jupyter-widgets/base",
     "model_module_version": "1.2.0",
     "model_name": "LayoutModel",
     "state": {
      "_model_module": "@jupyter-widgets/base",
      "_model_module_version": "1.2.0",
      "_model_name": "LayoutModel",
      "_view_count": null,
      "_view_module": "@jupyter-widgets/base",
      "_view_module_version": "1.2.0",
      "_view_name": "LayoutView",
      "align_content": null,
      "align_items": null,
      "align_self": null,
      "border": null,
      "bottom": null,
      "display": null,
      "flex": null,
      "flex_flow": null,
      "grid_area": null,
      "grid_auto_columns": null,
      "grid_auto_flow": null,
      "grid_auto_rows": null,
      "grid_column": null,
      "grid_gap": null,
      "grid_row": null,
      "grid_template_areas": null,
      "grid_template_columns": null,
      "grid_template_rows": null,
      "height": null,
      "justify_content": null,
      "justify_items": null,
      "left": null,
      "margin": null,
      "max_height": null,
      "max_width": null,
      "min_height": null,
      "min_width": null,
      "object_fit": null,
      "object_position": null,
      "order": null,
      "overflow": null,
      "overflow_x": null,
      "overflow_y": null,
      "padding": null,
      "right": null,
      "top": null,
      "visibility": null,
      "width": null
     }
    },
    "5a1c454ee3e04a3f919fe5e5e80e5ef4": {
     "model_module": "@jupyter-widgets/controls",
     "model_module_version": "1.5.0",
     "model_name": "FloatProgressModel",
     "state": {
      "_dom_classes": [],
      "_model_module": "@jupyter-widgets/controls",
      "_model_module_version": "1.5.0",
      "_model_name": "FloatProgressModel",
      "_view_count": null,
      "_view_module": "@jupyter-widgets/controls",
      "_view_module_version": "1.5.0",
      "_view_name": "ProgressView",
      "bar_style": "",
      "description": "",
      "description_tooltip": null,
      "layout": "IPY_MODEL_ee261ad9c1d940ab9b03bb7ea6241932",
      "max": 19,
      "min": 0,
      "orientation": "horizontal",
      "style": "IPY_MODEL_6f2da7df033e4349a742d578cfd30672",
      "value": 19
     }
    },
    "630b9f1f86d441d5aacd6d92ee203aec": {
     "model_module": "@jupyter-widgets/controls",
     "model_module_version": "1.5.0",
     "model_name": "DescriptionStyleModel",
     "state": {
      "_model_module": "@jupyter-widgets/controls",
      "_model_module_version": "1.5.0",
      "_model_name": "DescriptionStyleModel",
      "_view_count": null,
      "_view_module": "@jupyter-widgets/base",
      "_view_module_version": "1.2.0",
      "_view_name": "StyleView",
      "description_width": ""
     }
    },
    "64cd07aebc51434faf0da12143bcc7b9": {
     "model_module": "@jupyter-widgets/controls",
     "model_module_version": "1.5.0",
     "model_name": "HTMLModel",
     "state": {
      "_dom_classes": [],
      "_model_module": "@jupyter-widgets/controls",
      "_model_module_version": "1.5.0",
      "_model_name": "HTMLModel",
      "_view_count": null,
      "_view_module": "@jupyter-widgets/controls",
      "_view_module_version": "1.5.0",
      "_view_name": "HTMLView",
      "description": "",
      "description_tooltip": null,
      "layout": "IPY_MODEL_3a793e619c48466190001a1c3074c5a7",
      "placeholder": "​",
      "style": "IPY_MODEL_69e4eff46d494da9a1791e3460839495",
      "value": "Validation Round: 100%"
     }
    },
    "65ff857d22b44e4f8904bd2e33d589e6": {
     "model_module": "@jupyter-widgets/controls",
     "model_module_version": "1.5.0",
     "model_name": "DescriptionStyleModel",
     "state": {
      "_model_module": "@jupyter-widgets/controls",
      "_model_module_version": "1.5.0",
      "_model_name": "DescriptionStyleModel",
      "_view_count": null,
      "_view_module": "@jupyter-widgets/base",
      "_view_module_version": "1.2.0",
      "_view_name": "StyleView",
      "description_width": ""
     }
    },
    "6661f9d69e2746ff83479ce374a19d6d": {
     "model_module": "@jupyter-widgets/controls",
     "model_module_version": "1.5.0",
     "model_name": "HBoxModel",
     "state": {
      "_dom_classes": [],
      "_model_module": "@jupyter-widgets/controls",
      "_model_module_version": "1.5.0",
      "_model_name": "HBoxModel",
      "_view_count": null,
      "_view_module": "@jupyter-widgets/controls",
      "_view_module_version": "1.5.0",
      "_view_name": "HBoxView",
      "box_style": "",
      "children": [
       "IPY_MODEL_fc696f2636a44dc6951aeb624fc7cd35",
       "IPY_MODEL_c6b91f5ff8404990acb0023d4e261ce7",
       "IPY_MODEL_d55ab61a6ef740a69c285beaed7684f8"
      ],
      "layout": "IPY_MODEL_d4bade6457dd49aba387dbe84a956fe8"
     }
    },
    "6869c059c26040aa8e076fd2bf862e77": {
     "model_module": "@jupyter-widgets/controls",
     "model_module_version": "1.5.0",
     "model_name": "DescriptionStyleModel",
     "state": {
      "_model_module": "@jupyter-widgets/controls",
      "_model_module_version": "1.5.0",
      "_model_name": "DescriptionStyleModel",
      "_view_count": null,
      "_view_module": "@jupyter-widgets/base",
      "_view_module_version": "1.2.0",
      "_view_name": "StyleView",
      "description_width": ""
     }
    },
    "693caeaf5ea747f89c378d522a7a2ad0": {
     "model_module": "@jupyter-widgets/controls",
     "model_module_version": "1.5.0",
     "model_name": "HBoxModel",
     "state": {
      "_dom_classes": [],
      "_model_module": "@jupyter-widgets/controls",
      "_model_module_version": "1.5.0",
      "_model_name": "HBoxModel",
      "_view_count": null,
      "_view_module": "@jupyter-widgets/controls",
      "_view_module_version": "1.5.0",
      "_view_name": "HBoxView",
      "box_style": "",
      "children": [
       "IPY_MODEL_17f149a476dc4a0bbbecf3dc81eb0d79",
       "IPY_MODEL_5a1c454ee3e04a3f919fe5e5e80e5ef4",
       "IPY_MODEL_b246dcf6a9544259b4b6e5c09864921a"
      ],
      "layout": "IPY_MODEL_f8186893cd1248b6a4a928eb53da220a"
     }
    },
    "69e4eff46d494da9a1791e3460839495": {
     "model_module": "@jupyter-widgets/controls",
     "model_module_version": "1.5.0",
     "model_name": "DescriptionStyleModel",
     "state": {
      "_model_module": "@jupyter-widgets/controls",
      "_model_module_version": "1.5.0",
      "_model_name": "DescriptionStyleModel",
      "_view_count": null,
      "_view_module": "@jupyter-widgets/base",
      "_view_module_version": "1.2.0",
      "_view_name": "StyleView",
      "description_width": ""
     }
    },
    "6f2da7df033e4349a742d578cfd30672": {
     "model_module": "@jupyter-widgets/controls",
     "model_module_version": "1.5.0",
     "model_name": "ProgressStyleModel",
     "state": {
      "_model_module": "@jupyter-widgets/controls",
      "_model_module_version": "1.5.0",
      "_model_name": "ProgressStyleModel",
      "_view_count": null,
      "_view_module": "@jupyter-widgets/base",
      "_view_module_version": "1.2.0",
      "_view_name": "StyleView",
      "bar_color": null,
      "description_width": ""
     }
    },
    "73c8b9107f0448d6981f002ae5954024": {
     "model_module": "@jupyter-widgets/controls",
     "model_module_version": "1.5.0",
     "model_name": "FloatProgressModel",
     "state": {
      "_dom_classes": [],
      "_model_module": "@jupyter-widgets/controls",
      "_model_module_version": "1.5.0",
      "_model_name": "FloatProgressModel",
      "_view_count": null,
      "_view_module": "@jupyter-widgets/controls",
      "_view_module_version": "1.5.0",
      "_view_name": "ProgressView",
      "bar_style": "",
      "description": "",
      "description_tooltip": null,
      "layout": "IPY_MODEL_3a8c98d586324970852a6ad46f4909f3",
      "max": 19,
      "min": 0,
      "orientation": "horizontal",
      "style": "IPY_MODEL_33ada6a286e74d318c2c516c0dae4f84",
      "value": 19
     }
    },
    "75b06100591b49848c4ee00454880583": {
     "model_module": "@jupyter-widgets/controls",
     "model_module_version": "1.5.0",
     "model_name": "HBoxModel",
     "state": {
      "_dom_classes": [],
      "_model_module": "@jupyter-widgets/controls",
      "_model_module_version": "1.5.0",
      "_model_name": "HBoxModel",
      "_view_count": null,
      "_view_module": "@jupyter-widgets/controls",
      "_view_module_version": "1.5.0",
      "_view_name": "HBoxView",
      "box_style": "",
      "children": [
       "IPY_MODEL_8aab733e3b3a466ab6eb836d3f0866c6",
       "IPY_MODEL_ea3e2684e19b48be829011008068d4ab",
       "IPY_MODEL_77fd712484a64c41a23dee47036e7797"
      ],
      "layout": "IPY_MODEL_084fec9000bd47119269b452a3849d1d"
     }
    },
    "77214061b1304dd3ac4a664d26770af5": {
     "model_module": "@jupyter-widgets/controls",
     "model_module_version": "1.5.0",
     "model_name": "DescriptionStyleModel",
     "state": {
      "_model_module": "@jupyter-widgets/controls",
      "_model_module_version": "1.5.0",
      "_model_name": "DescriptionStyleModel",
      "_view_count": null,
      "_view_module": "@jupyter-widgets/base",
      "_view_module_version": "1.2.0",
      "_view_name": "StyleView",
      "description_width": ""
     }
    },
    "77656c85d9314edb8074d4de9839936c": {
     "model_module": "@jupyter-widgets/base",
     "model_module_version": "1.2.0",
     "model_name": "LayoutModel",
     "state": {
      "_model_module": "@jupyter-widgets/base",
      "_model_module_version": "1.2.0",
      "_model_name": "LayoutModel",
      "_view_count": null,
      "_view_module": "@jupyter-widgets/base",
      "_view_module_version": "1.2.0",
      "_view_name": "LayoutView",
      "align_content": null,
      "align_items": null,
      "align_self": null,
      "border": null,
      "bottom": null,
      "display": null,
      "flex": null,
      "flex_flow": null,
      "grid_area": null,
      "grid_auto_columns": null,
      "grid_auto_flow": null,
      "grid_auto_rows": null,
      "grid_column": null,
      "grid_gap": null,
      "grid_row": null,
      "grid_template_areas": null,
      "grid_template_columns": null,
      "grid_template_rows": null,
      "height": null,
      "justify_content": null,
      "justify_items": null,
      "left": null,
      "margin": null,
      "max_height": null,
      "max_width": null,
      "min_height": null,
      "min_width": null,
      "object_fit": null,
      "object_position": null,
      "order": null,
      "overflow": null,
      "overflow_x": null,
      "overflow_y": null,
      "padding": null,
      "right": null,
      "top": null,
      "visibility": null,
      "width": null
     }
    },
    "77fd712484a64c41a23dee47036e7797": {
     "model_module": "@jupyter-widgets/controls",
     "model_module_version": "1.5.0",
     "model_name": "HTMLModel",
     "state": {
      "_dom_classes": [],
      "_model_module": "@jupyter-widgets/controls",
      "_model_module_version": "1.5.0",
      "_model_name": "HTMLModel",
      "_view_count": null,
      "_view_module": "@jupyter-widgets/controls",
      "_view_module_version": "1.5.0",
      "_view_name": "HTMLView",
      "description": "",
      "description_tooltip": null,
      "layout": "IPY_MODEL_ce09d3c0b4664bf5a82b38d069215cf4",
      "placeholder": "​",
      "style": "IPY_MODEL_e6e3eb463c7a4c18af72d1078f78c145",
      "value": " 17/19 [00:00&lt;00:00, 24.15it/s]"
     }
    },
    "7ae911fce7134ab398c76a1ad108f1c0": {
     "model_module": "@jupyter-widgets/controls",
     "model_module_version": "1.5.0",
     "model_name": "HBoxModel",
     "state": {
      "_dom_classes": [],
      "_model_module": "@jupyter-widgets/controls",
      "_model_module_version": "1.5.0",
      "_model_name": "HBoxModel",
      "_view_count": null,
      "_view_module": "@jupyter-widgets/controls",
      "_view_module_version": "1.5.0",
      "_view_name": "HBoxView",
      "box_style": "",
      "children": [
       "IPY_MODEL_db4240c5c7454e7f899c40a98d7458e4",
       "IPY_MODEL_b0f1896416c045108aaa3dfac4737796",
       "IPY_MODEL_ca85adead36448b4bcd212bdad54de80"
      ],
      "layout": "IPY_MODEL_164b6e4626cb4e609999b2e7893c6721"
     }
    },
    "7b67ac2ec3444f4b9d6de5b86bd93bd1": {
     "model_module": "@jupyter-widgets/controls",
     "model_module_version": "1.5.0",
     "model_name": "HTMLModel",
     "state": {
      "_dom_classes": [],
      "_model_module": "@jupyter-widgets/controls",
      "_model_module_version": "1.5.0",
      "_model_name": "HTMLModel",
      "_view_count": null,
      "_view_module": "@jupyter-widgets/controls",
      "_view_module_version": "1.5.0",
      "_view_name": "HTMLView",
      "description": "",
      "description_tooltip": null,
      "layout": "IPY_MODEL_4b398995299043dcad3745f88a7a6626",
      "placeholder": "​",
      "style": "IPY_MODEL_f74d61149bd7418d8c05924ea8a289a3",
      "value": "Validation Round:  89%"
     }
    },
    "837e10b237724824be0a9e981a4d5bc7": {
     "model_module": "@jupyter-widgets/controls",
     "model_module_version": "1.5.0",
     "model_name": "DescriptionStyleModel",
     "state": {
      "_model_module": "@jupyter-widgets/controls",
      "_model_module_version": "1.5.0",
      "_model_name": "DescriptionStyleModel",
      "_view_count": null,
      "_view_module": "@jupyter-widgets/base",
      "_view_module_version": "1.2.0",
      "_view_name": "StyleView",
      "description_width": ""
     }
    },
    "8471a18dd341409181804954b2c9335f": {
     "model_module": "@jupyter-widgets/controls",
     "model_module_version": "1.5.0",
     "model_name": "FloatProgressModel",
     "state": {
      "_dom_classes": [],
      "_model_module": "@jupyter-widgets/controls",
      "_model_module_version": "1.5.0",
      "_model_name": "FloatProgressModel",
      "_view_count": null,
      "_view_module": "@jupyter-widgets/controls",
      "_view_module_version": "1.5.0",
      "_view_name": "ProgressView",
      "bar_style": "",
      "description": "",
      "description_tooltip": null,
      "layout": "IPY_MODEL_431010ab1909474784bddb20203b205d",
      "max": 19,
      "min": 0,
      "orientation": "horizontal",
      "style": "IPY_MODEL_225927a53d3e45f78eca0c55d902b9a3",
      "value": 19
     }
    },
    "8487db2231af466cbe5de5c45fd184b3": {
     "model_module": "@jupyter-widgets/controls",
     "model_module_version": "1.5.0",
     "model_name": "DescriptionStyleModel",
     "state": {
      "_model_module": "@jupyter-widgets/controls",
      "_model_module_version": "1.5.0",
      "_model_name": "DescriptionStyleModel",
      "_view_count": null,
      "_view_module": "@jupyter-widgets/base",
      "_view_module_version": "1.2.0",
      "_view_name": "StyleView",
      "description_width": ""
     }
    },
    "8835dcd4669c4d1ba8199fceb4e1b05c": {
     "model_module": "@jupyter-widgets/controls",
     "model_module_version": "1.5.0",
     "model_name": "HTMLModel",
     "state": {
      "_dom_classes": [],
      "_model_module": "@jupyter-widgets/controls",
      "_model_module_version": "1.5.0",
      "_model_name": "HTMLModel",
      "_view_count": null,
      "_view_module": "@jupyter-widgets/controls",
      "_view_module_version": "1.5.0",
      "_view_name": "HTMLView",
      "description": "",
      "description_tooltip": null,
      "layout": "IPY_MODEL_97a3296803ff4f2782df77cf80ed5569",
      "placeholder": "​",
      "style": "IPY_MODEL_837e10b237724824be0a9e981a4d5bc7",
      "value": "Validation Round:  89%"
     }
    },
    "8aab733e3b3a466ab6eb836d3f0866c6": {
     "model_module": "@jupyter-widgets/controls",
     "model_module_version": "1.5.0",
     "model_name": "HTMLModel",
     "state": {
      "_dom_classes": [],
      "_model_module": "@jupyter-widgets/controls",
      "_model_module_version": "1.5.0",
      "_model_name": "HTMLModel",
      "_view_count": null,
      "_view_module": "@jupyter-widgets/controls",
      "_view_module_version": "1.5.0",
      "_view_name": "HTMLView",
      "description": "",
      "description_tooltip": null,
      "layout": "IPY_MODEL_bb748fc2de6d471cb4f125ea00258bb0",
      "placeholder": "​",
      "style": "IPY_MODEL_77214061b1304dd3ac4a664d26770af5",
      "value": "Validation Round:  89%"
     }
    },
    "8ddef6d8a44141ab9a95e861fb41b404": {
     "model_module": "@jupyter-widgets/base",
     "model_module_version": "1.2.0",
     "model_name": "LayoutModel",
     "state": {
      "_model_module": "@jupyter-widgets/base",
      "_model_module_version": "1.2.0",
      "_model_name": "LayoutModel",
      "_view_count": null,
      "_view_module": "@jupyter-widgets/base",
      "_view_module_version": "1.2.0",
      "_view_name": "LayoutView",
      "align_content": null,
      "align_items": null,
      "align_self": null,
      "border": null,
      "bottom": null,
      "display": null,
      "flex": null,
      "flex_flow": null,
      "grid_area": null,
      "grid_auto_columns": null,
      "grid_auto_flow": null,
      "grid_auto_rows": null,
      "grid_column": null,
      "grid_gap": null,
      "grid_row": null,
      "grid_template_areas": null,
      "grid_template_columns": null,
      "grid_template_rows": null,
      "height": null,
      "justify_content": null,
      "justify_items": null,
      "left": null,
      "margin": null,
      "max_height": null,
      "max_width": null,
      "min_height": null,
      "min_width": null,
      "object_fit": null,
      "object_position": null,
      "order": null,
      "overflow": null,
      "overflow_x": null,
      "overflow_y": null,
      "padding": null,
      "right": null,
      "top": null,
      "visibility": null,
      "width": null
     }
    },
    "8fcf8b55600d425cb9d456fb0d3c8d09": {
     "model_module": "@jupyter-widgets/controls",
     "model_module_version": "1.5.0",
     "model_name": "DescriptionStyleModel",
     "state": {
      "_model_module": "@jupyter-widgets/controls",
      "_model_module_version": "1.5.0",
      "_model_name": "DescriptionStyleModel",
      "_view_count": null,
      "_view_module": "@jupyter-widgets/base",
      "_view_module_version": "1.2.0",
      "_view_name": "StyleView",
      "description_width": ""
     }
    },
    "9001a853e25e45fca976d839551f41af": {
     "model_module": "@jupyter-widgets/controls",
     "model_module_version": "1.5.0",
     "model_name": "DescriptionStyleModel",
     "state": {
      "_model_module": "@jupyter-widgets/controls",
      "_model_module_version": "1.5.0",
      "_model_name": "DescriptionStyleModel",
      "_view_count": null,
      "_view_module": "@jupyter-widgets/base",
      "_view_module_version": "1.2.0",
      "_view_name": "StyleView",
      "description_width": ""
     }
    },
    "939c8abf812d4f0b92ccdf3279f2a012": {
     "model_module": "@jupyter-widgets/base",
     "model_module_version": "1.2.0",
     "model_name": "LayoutModel",
     "state": {
      "_model_module": "@jupyter-widgets/base",
      "_model_module_version": "1.2.0",
      "_model_name": "LayoutModel",
      "_view_count": null,
      "_view_module": "@jupyter-widgets/base",
      "_view_module_version": "1.2.0",
      "_view_name": "LayoutView",
      "align_content": null,
      "align_items": null,
      "align_self": null,
      "border": null,
      "bottom": null,
      "display": null,
      "flex": null,
      "flex_flow": null,
      "grid_area": null,
      "grid_auto_columns": null,
      "grid_auto_flow": null,
      "grid_auto_rows": null,
      "grid_column": null,
      "grid_gap": null,
      "grid_row": null,
      "grid_template_areas": null,
      "grid_template_columns": null,
      "grid_template_rows": null,
      "height": null,
      "justify_content": null,
      "justify_items": null,
      "left": null,
      "margin": null,
      "max_height": null,
      "max_width": null,
      "min_height": null,
      "min_width": null,
      "object_fit": null,
      "object_position": null,
      "order": null,
      "overflow": null,
      "overflow_x": null,
      "overflow_y": null,
      "padding": null,
      "right": null,
      "top": null,
      "visibility": null,
      "width": null
     }
    },
    "9421db35636644709c4bb539770d4067": {
     "model_module": "@jupyter-widgets/base",
     "model_module_version": "1.2.0",
     "model_name": "LayoutModel",
     "state": {
      "_model_module": "@jupyter-widgets/base",
      "_model_module_version": "1.2.0",
      "_model_name": "LayoutModel",
      "_view_count": null,
      "_view_module": "@jupyter-widgets/base",
      "_view_module_version": "1.2.0",
      "_view_name": "LayoutView",
      "align_content": null,
      "align_items": null,
      "align_self": null,
      "border": null,
      "bottom": null,
      "display": null,
      "flex": null,
      "flex_flow": null,
      "grid_area": null,
      "grid_auto_columns": null,
      "grid_auto_flow": null,
      "grid_auto_rows": null,
      "grid_column": null,
      "grid_gap": null,
      "grid_row": null,
      "grid_template_areas": null,
      "grid_template_columns": null,
      "grid_template_rows": null,
      "height": null,
      "justify_content": null,
      "justify_items": null,
      "left": null,
      "margin": null,
      "max_height": null,
      "max_width": null,
      "min_height": null,
      "min_width": null,
      "object_fit": null,
      "object_position": null,
      "order": null,
      "overflow": null,
      "overflow_x": null,
      "overflow_y": null,
      "padding": null,
      "right": null,
      "top": null,
      "visibility": null,
      "width": null
     }
    },
    "94ad9759755d4beabca64707dc644715": {
     "model_module": "@jupyter-widgets/controls",
     "model_module_version": "1.5.0",
     "model_name": "HTMLModel",
     "state": {
      "_dom_classes": [],
      "_model_module": "@jupyter-widgets/controls",
      "_model_module_version": "1.5.0",
      "_model_name": "HTMLModel",
      "_view_count": null,
      "_view_module": "@jupyter-widgets/controls",
      "_view_module_version": "1.5.0",
      "_view_name": "HTMLView",
      "description": "",
      "description_tooltip": null,
      "layout": "IPY_MODEL_e3a1c48a71e34bfd9ea2ade761bc25a6",
      "placeholder": "​",
      "style": "IPY_MODEL_b5237f57f8774bb380f869f24af45603",
      "value": "100%"
     }
    },
    "97847f872d114a4b89cf7efeb8211aff": {
     "model_module": "@jupyter-widgets/controls",
     "model_module_version": "1.5.0",
     "model_name": "DescriptionStyleModel",
     "state": {
      "_model_module": "@jupyter-widgets/controls",
      "_model_module_version": "1.5.0",
      "_model_name": "DescriptionStyleModel",
      "_view_count": null,
      "_view_module": "@jupyter-widgets/base",
      "_view_module_version": "1.2.0",
      "_view_name": "StyleView",
      "description_width": ""
     }
    },
    "97a3296803ff4f2782df77cf80ed5569": {
     "model_module": "@jupyter-widgets/base",
     "model_module_version": "1.2.0",
     "model_name": "LayoutModel",
     "state": {
      "_model_module": "@jupyter-widgets/base",
      "_model_module_version": "1.2.0",
      "_model_name": "LayoutModel",
      "_view_count": null,
      "_view_module": "@jupyter-widgets/base",
      "_view_module_version": "1.2.0",
      "_view_name": "LayoutView",
      "align_content": null,
      "align_items": null,
      "align_self": null,
      "border": null,
      "bottom": null,
      "display": null,
      "flex": null,
      "flex_flow": null,
      "grid_area": null,
      "grid_auto_columns": null,
      "grid_auto_flow": null,
      "grid_auto_rows": null,
      "grid_column": null,
      "grid_gap": null,
      "grid_row": null,
      "grid_template_areas": null,
      "grid_template_columns": null,
      "grid_template_rows": null,
      "height": null,
      "justify_content": null,
      "justify_items": null,
      "left": null,
      "margin": null,
      "max_height": null,
      "max_width": null,
      "min_height": null,
      "min_width": null,
      "object_fit": null,
      "object_position": null,
      "order": null,
      "overflow": null,
      "overflow_x": null,
      "overflow_y": null,
      "padding": null,
      "right": null,
      "top": null,
      "visibility": null,
      "width": null
     }
    },
    "99a707f1b2be4af1b8aba5c94ef3764f": {
     "model_module": "@jupyter-widgets/controls",
     "model_module_version": "1.5.0",
     "model_name": "ProgressStyleModel",
     "state": {
      "_model_module": "@jupyter-widgets/controls",
      "_model_module_version": "1.5.0",
      "_model_name": "ProgressStyleModel",
      "_view_count": null,
      "_view_module": "@jupyter-widgets/base",
      "_view_module_version": "1.2.0",
      "_view_name": "StyleView",
      "bar_color": null,
      "description_width": ""
     }
    },
    "9ed6e3ed1fec4256a456e339c6945037": {
     "model_module": "@jupyter-widgets/controls",
     "model_module_version": "1.5.0",
     "model_name": "ProgressStyleModel",
     "state": {
      "_model_module": "@jupyter-widgets/controls",
      "_model_module_version": "1.5.0",
      "_model_name": "ProgressStyleModel",
      "_view_count": null,
      "_view_module": "@jupyter-widgets/base",
      "_view_module_version": "1.2.0",
      "_view_name": "StyleView",
      "bar_color": null,
      "description_width": ""
     }
    },
    "a18109c607ef4cedada6ed1b6640f959": {
     "model_module": "@jupyter-widgets/base",
     "model_module_version": "1.2.0",
     "model_name": "LayoutModel",
     "state": {
      "_model_module": "@jupyter-widgets/base",
      "_model_module_version": "1.2.0",
      "_model_name": "LayoutModel",
      "_view_count": null,
      "_view_module": "@jupyter-widgets/base",
      "_view_module_version": "1.2.0",
      "_view_name": "LayoutView",
      "align_content": null,
      "align_items": null,
      "align_self": null,
      "border": null,
      "bottom": null,
      "display": null,
      "flex": null,
      "flex_flow": null,
      "grid_area": null,
      "grid_auto_columns": null,
      "grid_auto_flow": null,
      "grid_auto_rows": null,
      "grid_column": null,
      "grid_gap": null,
      "grid_row": null,
      "grid_template_areas": null,
      "grid_template_columns": null,
      "grid_template_rows": null,
      "height": null,
      "justify_content": null,
      "justify_items": null,
      "left": null,
      "margin": null,
      "max_height": null,
      "max_width": null,
      "min_height": null,
      "min_width": null,
      "object_fit": null,
      "object_position": null,
      "order": null,
      "overflow": null,
      "overflow_x": null,
      "overflow_y": null,
      "padding": null,
      "right": null,
      "top": null,
      "visibility": null,
      "width": null
     }
    },
    "a1ada03a23fb44f69abae00a934e830b": {
     "model_module": "@jupyter-widgets/base",
     "model_module_version": "1.2.0",
     "model_name": "LayoutModel",
     "state": {
      "_model_module": "@jupyter-widgets/base",
      "_model_module_version": "1.2.0",
      "_model_name": "LayoutModel",
      "_view_count": null,
      "_view_module": "@jupyter-widgets/base",
      "_view_module_version": "1.2.0",
      "_view_name": "LayoutView",
      "align_content": null,
      "align_items": null,
      "align_self": null,
      "border": null,
      "bottom": null,
      "display": null,
      "flex": null,
      "flex_flow": null,
      "grid_area": null,
      "grid_auto_columns": null,
      "grid_auto_flow": null,
      "grid_auto_rows": null,
      "grid_column": null,
      "grid_gap": null,
      "grid_row": null,
      "grid_template_areas": null,
      "grid_template_columns": null,
      "grid_template_rows": null,
      "height": null,
      "justify_content": null,
      "justify_items": null,
      "left": null,
      "margin": null,
      "max_height": null,
      "max_width": null,
      "min_height": null,
      "min_width": null,
      "object_fit": null,
      "object_position": null,
      "order": null,
      "overflow": null,
      "overflow_x": null,
      "overflow_y": null,
      "padding": null,
      "right": null,
      "top": null,
      "visibility": null,
      "width": null
     }
    },
    "a1dab7f2fe78453e86519b89fdf03ea9": {
     "model_module": "@jupyter-widgets/controls",
     "model_module_version": "1.5.0",
     "model_name": "FloatProgressModel",
     "state": {
      "_dom_classes": [],
      "_model_module": "@jupyter-widgets/controls",
      "_model_module_version": "1.5.0",
      "_model_name": "FloatProgressModel",
      "_view_count": null,
      "_view_module": "@jupyter-widgets/controls",
      "_view_module_version": "1.5.0",
      "_view_name": "ProgressView",
      "bar_style": "",
      "description": "",
      "description_tooltip": null,
      "layout": "IPY_MODEL_5250ded1cf2c416fbc15b8a0b05acfa7",
      "max": 19,
      "min": 0,
      "orientation": "horizontal",
      "style": "IPY_MODEL_1cdc5375185341f1891de4000cfc46eb",
      "value": 19
     }
    },
    "a2657d8670ac49f4a8f67da970122b07": {
     "model_module": "@jupyter-widgets/base",
     "model_module_version": "1.2.0",
     "model_name": "LayoutModel",
     "state": {
      "_model_module": "@jupyter-widgets/base",
      "_model_module_version": "1.2.0",
      "_model_name": "LayoutModel",
      "_view_count": null,
      "_view_module": "@jupyter-widgets/base",
      "_view_module_version": "1.2.0",
      "_view_name": "LayoutView",
      "align_content": null,
      "align_items": null,
      "align_self": null,
      "border": null,
      "bottom": null,
      "display": null,
      "flex": null,
      "flex_flow": null,
      "grid_area": null,
      "grid_auto_columns": null,
      "grid_auto_flow": null,
      "grid_auto_rows": null,
      "grid_column": null,
      "grid_gap": null,
      "grid_row": null,
      "grid_template_areas": null,
      "grid_template_columns": null,
      "grid_template_rows": null,
      "height": null,
      "justify_content": null,
      "justify_items": null,
      "left": null,
      "margin": null,
      "max_height": null,
      "max_width": null,
      "min_height": null,
      "min_width": null,
      "object_fit": null,
      "object_position": null,
      "order": null,
      "overflow": null,
      "overflow_x": null,
      "overflow_y": null,
      "padding": null,
      "right": null,
      "top": null,
      "visibility": null,
      "width": null
     }
    },
    "a4811b13e29b49bf9a669b927f5cf544": {
     "model_module": "@jupyter-widgets/controls",
     "model_module_version": "1.5.0",
     "model_name": "FloatProgressModel",
     "state": {
      "_dom_classes": [],
      "_model_module": "@jupyter-widgets/controls",
      "_model_module_version": "1.5.0",
      "_model_name": "FloatProgressModel",
      "_view_count": null,
      "_view_module": "@jupyter-widgets/controls",
      "_view_module_version": "1.5.0",
      "_view_name": "ProgressView",
      "bar_style": "success",
      "description": "",
      "description_tooltip": null,
      "layout": "IPY_MODEL_474dbb7aa2114322a469e412c076ba70",
      "max": 2226,
      "min": 0,
      "orientation": "horizontal",
      "style": "IPY_MODEL_b7b4bca5ac4d48e090782bd32f7459dc",
      "value": 2226
     }
    },
    "a5a7b3ea317c4f4fb8b8b015ac21f204": {
     "model_module": "@jupyter-widgets/controls",
     "model_module_version": "1.5.0",
     "model_name": "HTMLModel",
     "state": {
      "_dom_classes": [],
      "_model_module": "@jupyter-widgets/controls",
      "_model_module_version": "1.5.0",
      "_model_name": "HTMLModel",
      "_view_count": null,
      "_view_module": "@jupyter-widgets/controls",
      "_view_module_version": "1.5.0",
      "_view_name": "HTMLView",
      "description": "",
      "description_tooltip": null,
      "layout": "IPY_MODEL_a1ada03a23fb44f69abae00a934e830b",
      "placeholder": "​",
      "style": "IPY_MODEL_ea91699748924a568554fd14326838b6",
      "value": " 17/19 [00:00&lt;00:00, 24.54it/s]"
     }
    },
    "a87bf3d3e9f24042aad39b0f13b68699": {
     "model_module": "@jupyter-widgets/base",
     "model_module_version": "1.2.0",
     "model_name": "LayoutModel",
     "state": {
      "_model_module": "@jupyter-widgets/base",
      "_model_module_version": "1.2.0",
      "_model_name": "LayoutModel",
      "_view_count": null,
      "_view_module": "@jupyter-widgets/base",
      "_view_module_version": "1.2.0",
      "_view_name": "LayoutView",
      "align_content": null,
      "align_items": null,
      "align_self": null,
      "border": null,
      "bottom": null,
      "display": null,
      "flex": null,
      "flex_flow": null,
      "grid_area": null,
      "grid_auto_columns": null,
      "grid_auto_flow": null,
      "grid_auto_rows": null,
      "grid_column": null,
      "grid_gap": null,
      "grid_row": null,
      "grid_template_areas": null,
      "grid_template_columns": null,
      "grid_template_rows": null,
      "height": null,
      "justify_content": null,
      "justify_items": null,
      "left": null,
      "margin": null,
      "max_height": null,
      "max_width": null,
      "min_height": null,
      "min_width": null,
      "object_fit": null,
      "object_position": null,
      "order": null,
      "overflow": null,
      "overflow_x": null,
      "overflow_y": null,
      "padding": null,
      "right": null,
      "top": null,
      "visibility": null,
      "width": null
     }
    },
    "aa20176b3d14405cba74d356fad43cf4": {
     "model_module": "@jupyter-widgets/controls",
     "model_module_version": "1.5.0",
     "model_name": "HBoxModel",
     "state": {
      "_dom_classes": [],
      "_model_module": "@jupyter-widgets/controls",
      "_model_module_version": "1.5.0",
      "_model_name": "HBoxModel",
      "_view_count": null,
      "_view_module": "@jupyter-widgets/controls",
      "_view_module_version": "1.5.0",
      "_view_name": "HBoxView",
      "box_style": "",
      "children": [
       "IPY_MODEL_64cd07aebc51434faf0da12143bcc7b9",
       "IPY_MODEL_e604a4b290e74d319b8937bc42a35645",
       "IPY_MODEL_49490171d74041128a57163277affe29"
      ],
      "layout": "IPY_MODEL_939c8abf812d4f0b92ccdf3279f2a012"
     }
    },
    "afa55dba31974542a66314c9bb787375": {
     "model_module": "@jupyter-widgets/base",
     "model_module_version": "1.2.0",
     "model_name": "LayoutModel",
     "state": {
      "_model_module": "@jupyter-widgets/base",
      "_model_module_version": "1.2.0",
      "_model_name": "LayoutModel",
      "_view_count": null,
      "_view_module": "@jupyter-widgets/base",
      "_view_module_version": "1.2.0",
      "_view_name": "LayoutView",
      "align_content": null,
      "align_items": null,
      "align_self": null,
      "border": null,
      "bottom": null,
      "display": null,
      "flex": null,
      "flex_flow": null,
      "grid_area": null,
      "grid_auto_columns": null,
      "grid_auto_flow": null,
      "grid_auto_rows": null,
      "grid_column": null,
      "grid_gap": null,
      "grid_row": null,
      "grid_template_areas": null,
      "grid_template_columns": null,
      "grid_template_rows": null,
      "height": null,
      "justify_content": null,
      "justify_items": null,
      "left": null,
      "margin": null,
      "max_height": null,
      "max_width": null,
      "min_height": null,
      "min_width": null,
      "object_fit": null,
      "object_position": null,
      "order": null,
      "overflow": null,
      "overflow_x": null,
      "overflow_y": null,
      "padding": null,
      "right": null,
      "top": null,
      "visibility": null,
      "width": null
     }
    },
    "b0f1896416c045108aaa3dfac4737796": {
     "model_module": "@jupyter-widgets/controls",
     "model_module_version": "1.5.0",
     "model_name": "FloatProgressModel",
     "state": {
      "_dom_classes": [],
      "_model_module": "@jupyter-widgets/controls",
      "_model_module_version": "1.5.0",
      "_model_name": "FloatProgressModel",
      "_view_count": null,
      "_view_module": "@jupyter-widgets/controls",
      "_view_module_version": "1.5.0",
      "_view_name": "ProgressView",
      "bar_style": "success",
      "description": "",
      "description_tooltip": null,
      "layout": "IPY_MODEL_176ab6d49385461ea69b641da657abbf",
      "max": 2481,
      "min": 0,
      "orientation": "horizontal",
      "style": "IPY_MODEL_355dfe94d3c648a0a03858d94ae7addf",
      "value": 2481
     }
    },
    "b246dcf6a9544259b4b6e5c09864921a": {
     "model_module": "@jupyter-widgets/controls",
     "model_module_version": "1.5.0",
     "model_name": "HTMLModel",
     "state": {
      "_dom_classes": [],
      "_model_module": "@jupyter-widgets/controls",
      "_model_module_version": "1.5.0",
      "_model_name": "HTMLModel",
      "_view_count": null,
      "_view_module": "@jupyter-widgets/controls",
      "_view_module_version": "1.5.0",
      "_view_name": "HTMLView",
      "description": "",
      "description_tooltip": null,
      "layout": "IPY_MODEL_8ddef6d8a44141ab9a95e861fb41b404",
      "placeholder": "​",
      "style": "IPY_MODEL_8fcf8b55600d425cb9d456fb0d3c8d09",
      "value": " 17/19 [00:00&lt;00:00, 24.41it/s]"
     }
    },
    "b5237f57f8774bb380f869f24af45603": {
     "model_module": "@jupyter-widgets/controls",
     "model_module_version": "1.5.0",
     "model_name": "DescriptionStyleModel",
     "state": {
      "_model_module": "@jupyter-widgets/controls",
      "_model_module_version": "1.5.0",
      "_model_name": "DescriptionStyleModel",
      "_view_count": null,
      "_view_module": "@jupyter-widgets/base",
      "_view_module_version": "1.2.0",
      "_view_name": "StyleView",
      "description_width": ""
     }
    },
    "b6c9f48a56f841a58356f3c107a9cc9c": {
     "model_module": "@jupyter-widgets/controls",
     "model_module_version": "1.5.0",
     "model_name": "ProgressStyleModel",
     "state": {
      "_model_module": "@jupyter-widgets/controls",
      "_model_module_version": "1.5.0",
      "_model_name": "ProgressStyleModel",
      "_view_count": null,
      "_view_module": "@jupyter-widgets/base",
      "_view_module_version": "1.2.0",
      "_view_name": "StyleView",
      "bar_color": null,
      "description_width": ""
     }
    },
    "b70c184882354ca6a4570d8c298beb5c": {
     "model_module": "@jupyter-widgets/controls",
     "model_module_version": "1.5.0",
     "model_name": "DescriptionStyleModel",
     "state": {
      "_model_module": "@jupyter-widgets/controls",
      "_model_module_version": "1.5.0",
      "_model_name": "DescriptionStyleModel",
      "_view_count": null,
      "_view_module": "@jupyter-widgets/base",
      "_view_module_version": "1.2.0",
      "_view_name": "StyleView",
      "description_width": ""
     }
    },
    "b76ca651c63f43c1919c07900c8cc1b0": {
     "model_module": "@jupyter-widgets/controls",
     "model_module_version": "1.5.0",
     "model_name": "DescriptionStyleModel",
     "state": {
      "_model_module": "@jupyter-widgets/controls",
      "_model_module_version": "1.5.0",
      "_model_name": "DescriptionStyleModel",
      "_view_count": null,
      "_view_module": "@jupyter-widgets/base",
      "_view_module_version": "1.2.0",
      "_view_name": "StyleView",
      "description_width": ""
     }
    },
    "b7b4bca5ac4d48e090782bd32f7459dc": {
     "model_module": "@jupyter-widgets/controls",
     "model_module_version": "1.5.0",
     "model_name": "ProgressStyleModel",
     "state": {
      "_model_module": "@jupyter-widgets/controls",
      "_model_module_version": "1.5.0",
      "_model_name": "ProgressStyleModel",
      "_view_count": null,
      "_view_module": "@jupyter-widgets/base",
      "_view_module_version": "1.2.0",
      "_view_name": "StyleView",
      "bar_color": null,
      "description_width": ""
     }
    },
    "b9fa4eae594140fda885449218cf8d76": {
     "model_module": "@jupyter-widgets/controls",
     "model_module_version": "1.5.0",
     "model_name": "HBoxModel",
     "state": {
      "_dom_classes": [],
      "_model_module": "@jupyter-widgets/controls",
      "_model_module_version": "1.5.0",
      "_model_name": "HBoxModel",
      "_view_count": null,
      "_view_module": "@jupyter-widgets/controls",
      "_view_module_version": "1.5.0",
      "_view_name": "HBoxView",
      "box_style": "",
      "children": [
       "IPY_MODEL_7b67ac2ec3444f4b9d6de5b86bd93bd1",
       "IPY_MODEL_73c8b9107f0448d6981f002ae5954024",
       "IPY_MODEL_eb702b74bace4c8ea7ed47d6458defb7"
      ],
      "layout": "IPY_MODEL_a87bf3d3e9f24042aad39b0f13b68699"
     }
    },
    "bb3b20ee899e460ba8e54f4a811aa908": {
     "model_module": "@jupyter-widgets/controls",
     "model_module_version": "1.5.0",
     "model_name": "DescriptionStyleModel",
     "state": {
      "_model_module": "@jupyter-widgets/controls",
      "_model_module_version": "1.5.0",
      "_model_name": "DescriptionStyleModel",
      "_view_count": null,
      "_view_module": "@jupyter-widgets/base",
      "_view_module_version": "1.2.0",
      "_view_name": "StyleView",
      "description_width": ""
     }
    },
    "bb748fc2de6d471cb4f125ea00258bb0": {
     "model_module": "@jupyter-widgets/base",
     "model_module_version": "1.2.0",
     "model_name": "LayoutModel",
     "state": {
      "_model_module": "@jupyter-widgets/base",
      "_model_module_version": "1.2.0",
      "_model_name": "LayoutModel",
      "_view_count": null,
      "_view_module": "@jupyter-widgets/base",
      "_view_module_version": "1.2.0",
      "_view_name": "LayoutView",
      "align_content": null,
      "align_items": null,
      "align_self": null,
      "border": null,
      "bottom": null,
      "display": null,
      "flex": null,
      "flex_flow": null,
      "grid_area": null,
      "grid_auto_columns": null,
      "grid_auto_flow": null,
      "grid_auto_rows": null,
      "grid_column": null,
      "grid_gap": null,
      "grid_row": null,
      "grid_template_areas": null,
      "grid_template_columns": null,
      "grid_template_rows": null,
      "height": null,
      "justify_content": null,
      "justify_items": null,
      "left": null,
      "margin": null,
      "max_height": null,
      "max_width": null,
      "min_height": null,
      "min_width": null,
      "object_fit": null,
      "object_position": null,
      "order": null,
      "overflow": null,
      "overflow_x": null,
      "overflow_y": null,
      "padding": null,
      "right": null,
      "top": null,
      "visibility": null,
      "width": null
     }
    },
    "bc0c328058b84b53aeaa30d6c14c26f1": {
     "model_module": "@jupyter-widgets/base",
     "model_module_version": "1.2.0",
     "model_name": "LayoutModel",
     "state": {
      "_model_module": "@jupyter-widgets/base",
      "_model_module_version": "1.2.0",
      "_model_name": "LayoutModel",
      "_view_count": null,
      "_view_module": "@jupyter-widgets/base",
      "_view_module_version": "1.2.0",
      "_view_name": "LayoutView",
      "align_content": null,
      "align_items": null,
      "align_self": null,
      "border": null,
      "bottom": null,
      "display": null,
      "flex": null,
      "flex_flow": null,
      "grid_area": null,
      "grid_auto_columns": null,
      "grid_auto_flow": null,
      "grid_auto_rows": null,
      "grid_column": null,
      "grid_gap": null,
      "grid_row": null,
      "grid_template_areas": null,
      "grid_template_columns": null,
      "grid_template_rows": null,
      "height": null,
      "justify_content": null,
      "justify_items": null,
      "left": null,
      "margin": null,
      "max_height": null,
      "max_width": null,
      "min_height": null,
      "min_width": null,
      "object_fit": null,
      "object_position": null,
      "order": null,
      "overflow": null,
      "overflow_x": null,
      "overflow_y": null,
      "padding": null,
      "right": null,
      "top": null,
      "visibility": null,
      "width": null
     }
    },
    "c30cebddd84e452fb915e3231e01e44e": {
     "model_module": "@jupyter-widgets/controls",
     "model_module_version": "1.5.0",
     "model_name": "DescriptionStyleModel",
     "state": {
      "_model_module": "@jupyter-widgets/controls",
      "_model_module_version": "1.5.0",
      "_model_name": "DescriptionStyleModel",
      "_view_count": null,
      "_view_module": "@jupyter-widgets/base",
      "_view_module_version": "1.2.0",
      "_view_name": "StyleView",
      "description_width": ""
     }
    },
    "c6b91f5ff8404990acb0023d4e261ce7": {
     "model_module": "@jupyter-widgets/controls",
     "model_module_version": "1.5.0",
     "model_name": "FloatProgressModel",
     "state": {
      "_dom_classes": [],
      "_model_module": "@jupyter-widgets/controls",
      "_model_module_version": "1.5.0",
      "_model_name": "FloatProgressModel",
      "_view_count": null,
      "_view_module": "@jupyter-widgets/controls",
      "_view_module_version": "1.5.0",
      "_view_name": "ProgressView",
      "bar_style": "",
      "description": "",
      "description_tooltip": null,
      "layout": "IPY_MODEL_35482bcd68e648eaae7a24c53adf6145",
      "max": 19,
      "min": 0,
      "orientation": "horizontal",
      "style": "IPY_MODEL_168555859f0543efa3b24af861d0326d",
      "value": 19
     }
    },
    "c911fff44b6b47f58b4a005d113f9d55": {
     "model_module": "@jupyter-widgets/controls",
     "model_module_version": "1.5.0",
     "model_name": "ProgressStyleModel",
     "state": {
      "_model_module": "@jupyter-widgets/controls",
      "_model_module_version": "1.5.0",
      "_model_name": "ProgressStyleModel",
      "_view_count": null,
      "_view_module": "@jupyter-widgets/base",
      "_view_module_version": "1.2.0",
      "_view_name": "StyleView",
      "bar_color": null,
      "description_width": ""
     }
    },
    "ca85adead36448b4bcd212bdad54de80": {
     "model_module": "@jupyter-widgets/controls",
     "model_module_version": "1.5.0",
     "model_name": "HTMLModel",
     "state": {
      "_dom_classes": [],
      "_model_module": "@jupyter-widgets/controls",
      "_model_module_version": "1.5.0",
      "_model_name": "HTMLModel",
      "_view_count": null,
      "_view_module": "@jupyter-widgets/controls",
      "_view_module_version": "1.5.0",
      "_view_name": "HTMLView",
      "description": "",
      "description_tooltip": null,
      "layout": "IPY_MODEL_200e1610549347bc9193b265c53c93f1",
      "placeholder": "​",
      "style": "IPY_MODEL_8487db2231af466cbe5de5c45fd184b3",
      "value": " 2481/2481 [01:30&lt;00:00, 27.06it/s]"
     }
    },
    "cafbb0e75b8140c5b4f6bfa21d350a15": {
     "model_module": "@jupyter-widgets/base",
     "model_module_version": "1.2.0",
     "model_name": "LayoutModel",
     "state": {
      "_model_module": "@jupyter-widgets/base",
      "_model_module_version": "1.2.0",
      "_model_name": "LayoutModel",
      "_view_count": null,
      "_view_module": "@jupyter-widgets/base",
      "_view_module_version": "1.2.0",
      "_view_name": "LayoutView",
      "align_content": null,
      "align_items": null,
      "align_self": null,
      "border": null,
      "bottom": null,
      "display": null,
      "flex": null,
      "flex_flow": null,
      "grid_area": null,
      "grid_auto_columns": null,
      "grid_auto_flow": null,
      "grid_auto_rows": null,
      "grid_column": null,
      "grid_gap": null,
      "grid_row": null,
      "grid_template_areas": null,
      "grid_template_columns": null,
      "grid_template_rows": null,
      "height": null,
      "justify_content": null,
      "justify_items": null,
      "left": null,
      "margin": null,
      "max_height": null,
      "max_width": null,
      "min_height": null,
      "min_width": null,
      "object_fit": null,
      "object_position": null,
      "order": null,
      "overflow": null,
      "overflow_x": null,
      "overflow_y": null,
      "padding": null,
      "right": null,
      "top": null,
      "visibility": null,
      "width": null
     }
    },
    "cb6ed42c62e5489bbf1d17a4f608a3c3": {
     "model_module": "@jupyter-widgets/controls",
     "model_module_version": "1.5.0",
     "model_name": "HBoxModel",
     "state": {
      "_dom_classes": [],
      "_model_module": "@jupyter-widgets/controls",
      "_model_module_version": "1.5.0",
      "_model_name": "HBoxModel",
      "_view_count": null,
      "_view_module": "@jupyter-widgets/controls",
      "_view_module_version": "1.5.0",
      "_view_name": "HBoxView",
      "box_style": "",
      "children": [
       "IPY_MODEL_45c211a0af4f488d91c8c86887d49ffa",
       "IPY_MODEL_ea012efbad3f40ef8c404da7e2158f08",
       "IPY_MODEL_ef7e17a6a5e34f7f8a434aae8c2fa042"
      ],
      "layout": "IPY_MODEL_cafbb0e75b8140c5b4f6bfa21d350a15"
     }
    },
    "cbf53b10ec50491884e8546e1a97cdd9": {
     "model_module": "@jupyter-widgets/controls",
     "model_module_version": "1.5.0",
     "model_name": "DescriptionStyleModel",
     "state": {
      "_model_module": "@jupyter-widgets/controls",
      "_model_module_version": "1.5.0",
      "_model_name": "DescriptionStyleModel",
      "_view_count": null,
      "_view_module": "@jupyter-widgets/base",
      "_view_module_version": "1.2.0",
      "_view_name": "StyleView",
      "description_width": ""
     }
    },
    "ce09d3c0b4664bf5a82b38d069215cf4": {
     "model_module": "@jupyter-widgets/base",
     "model_module_version": "1.2.0",
     "model_name": "LayoutModel",
     "state": {
      "_model_module": "@jupyter-widgets/base",
      "_model_module_version": "1.2.0",
      "_model_name": "LayoutModel",
      "_view_count": null,
      "_view_module": "@jupyter-widgets/base",
      "_view_module_version": "1.2.0",
      "_view_name": "LayoutView",
      "align_content": null,
      "align_items": null,
      "align_self": null,
      "border": null,
      "bottom": null,
      "display": null,
      "flex": null,
      "flex_flow": null,
      "grid_area": null,
      "grid_auto_columns": null,
      "grid_auto_flow": null,
      "grid_auto_rows": null,
      "grid_column": null,
      "grid_gap": null,
      "grid_row": null,
      "grid_template_areas": null,
      "grid_template_columns": null,
      "grid_template_rows": null,
      "height": null,
      "justify_content": null,
      "justify_items": null,
      "left": null,
      "margin": null,
      "max_height": null,
      "max_width": null,
      "min_height": null,
      "min_width": null,
      "object_fit": null,
      "object_position": null,
      "order": null,
      "overflow": null,
      "overflow_x": null,
      "overflow_y": null,
      "padding": null,
      "right": null,
      "top": null,
      "visibility": null,
      "width": null
     }
    },
    "ce26099bcda447e896ea0b19ed6be282": {
     "model_module": "@jupyter-widgets/base",
     "model_module_version": "1.2.0",
     "model_name": "LayoutModel",
     "state": {
      "_model_module": "@jupyter-widgets/base",
      "_model_module_version": "1.2.0",
      "_model_name": "LayoutModel",
      "_view_count": null,
      "_view_module": "@jupyter-widgets/base",
      "_view_module_version": "1.2.0",
      "_view_name": "LayoutView",
      "align_content": null,
      "align_items": null,
      "align_self": null,
      "border": null,
      "bottom": null,
      "display": null,
      "flex": null,
      "flex_flow": null,
      "grid_area": null,
      "grid_auto_columns": null,
      "grid_auto_flow": null,
      "grid_auto_rows": null,
      "grid_column": null,
      "grid_gap": null,
      "grid_row": null,
      "grid_template_areas": null,
      "grid_template_columns": null,
      "grid_template_rows": null,
      "height": null,
      "justify_content": null,
      "justify_items": null,
      "left": null,
      "margin": null,
      "max_height": null,
      "max_width": null,
      "min_height": null,
      "min_width": null,
      "object_fit": null,
      "object_position": null,
      "order": null,
      "overflow": null,
      "overflow_x": null,
      "overflow_y": null,
      "padding": null,
      "right": null,
      "top": null,
      "visibility": null,
      "width": null
     }
    },
    "d03b1fa7f2eb47b2abb1128a225d4cb7": {
     "model_module": "@jupyter-widgets/base",
     "model_module_version": "1.2.0",
     "model_name": "LayoutModel",
     "state": {
      "_model_module": "@jupyter-widgets/base",
      "_model_module_version": "1.2.0",
      "_model_name": "LayoutModel",
      "_view_count": null,
      "_view_module": "@jupyter-widgets/base",
      "_view_module_version": "1.2.0",
      "_view_name": "LayoutView",
      "align_content": null,
      "align_items": null,
      "align_self": null,
      "border": null,
      "bottom": null,
      "display": null,
      "flex": null,
      "flex_flow": null,
      "grid_area": null,
      "grid_auto_columns": null,
      "grid_auto_flow": null,
      "grid_auto_rows": null,
      "grid_column": null,
      "grid_gap": null,
      "grid_row": null,
      "grid_template_areas": null,
      "grid_template_columns": null,
      "grid_template_rows": null,
      "height": null,
      "justify_content": null,
      "justify_items": null,
      "left": null,
      "margin": null,
      "max_height": null,
      "max_width": null,
      "min_height": null,
      "min_width": null,
      "object_fit": null,
      "object_position": null,
      "order": null,
      "overflow": null,
      "overflow_x": null,
      "overflow_y": null,
      "padding": null,
      "right": null,
      "top": null,
      "visibility": null,
      "width": null
     }
    },
    "d136d13580d643c587be3b933bfe3ad2": {
     "model_module": "@jupyter-widgets/base",
     "model_module_version": "1.2.0",
     "model_name": "LayoutModel",
     "state": {
      "_model_module": "@jupyter-widgets/base",
      "_model_module_version": "1.2.0",
      "_model_name": "LayoutModel",
      "_view_count": null,
      "_view_module": "@jupyter-widgets/base",
      "_view_module_version": "1.2.0",
      "_view_name": "LayoutView",
      "align_content": null,
      "align_items": null,
      "align_self": null,
      "border": null,
      "bottom": null,
      "display": null,
      "flex": null,
      "flex_flow": null,
      "grid_area": null,
      "grid_auto_columns": null,
      "grid_auto_flow": null,
      "grid_auto_rows": null,
      "grid_column": null,
      "grid_gap": null,
      "grid_row": null,
      "grid_template_areas": null,
      "grid_template_columns": null,
      "grid_template_rows": null,
      "height": null,
      "justify_content": null,
      "justify_items": null,
      "left": null,
      "margin": null,
      "max_height": null,
      "max_width": null,
      "min_height": null,
      "min_width": null,
      "object_fit": null,
      "object_position": null,
      "order": null,
      "overflow": null,
      "overflow_x": null,
      "overflow_y": null,
      "padding": null,
      "right": null,
      "top": null,
      "visibility": null,
      "width": null
     }
    },
    "d41ab7dd7c0548e1a3c1a2da01d5cd66": {
     "model_module": "@jupyter-widgets/controls",
     "model_module_version": "1.5.0",
     "model_name": "HTMLModel",
     "state": {
      "_dom_classes": [],
      "_model_module": "@jupyter-widgets/controls",
      "_model_module_version": "1.5.0",
      "_model_name": "HTMLModel",
      "_view_count": null,
      "_view_module": "@jupyter-widgets/controls",
      "_view_module_version": "1.5.0",
      "_view_name": "HTMLView",
      "description": "",
      "description_tooltip": null,
      "layout": "IPY_MODEL_1aba6060252b4b198fd2c5462728709a",
      "placeholder": "​",
      "style": "IPY_MODEL_b76ca651c63f43c1919c07900c8cc1b0",
      "value": "Training Round: 100%"
     }
    },
    "d41c12bb9b5c425eb73dc30fd482d530": {
     "model_module": "@jupyter-widgets/base",
     "model_module_version": "1.2.0",
     "model_name": "LayoutModel",
     "state": {
      "_model_module": "@jupyter-widgets/base",
      "_model_module_version": "1.2.0",
      "_model_name": "LayoutModel",
      "_view_count": null,
      "_view_module": "@jupyter-widgets/base",
      "_view_module_version": "1.2.0",
      "_view_name": "LayoutView",
      "align_content": null,
      "align_items": null,
      "align_self": null,
      "border": null,
      "bottom": null,
      "display": null,
      "flex": null,
      "flex_flow": null,
      "grid_area": null,
      "grid_auto_columns": null,
      "grid_auto_flow": null,
      "grid_auto_rows": null,
      "grid_column": null,
      "grid_gap": null,
      "grid_row": null,
      "grid_template_areas": null,
      "grid_template_columns": null,
      "grid_template_rows": null,
      "height": null,
      "justify_content": null,
      "justify_items": null,
      "left": null,
      "margin": null,
      "max_height": null,
      "max_width": null,
      "min_height": null,
      "min_width": null,
      "object_fit": null,
      "object_position": null,
      "order": null,
      "overflow": null,
      "overflow_x": null,
      "overflow_y": null,
      "padding": null,
      "right": null,
      "top": null,
      "visibility": null,
      "width": null
     }
    },
    "d4bade6457dd49aba387dbe84a956fe8": {
     "model_module": "@jupyter-widgets/base",
     "model_module_version": "1.2.0",
     "model_name": "LayoutModel",
     "state": {
      "_model_module": "@jupyter-widgets/base",
      "_model_module_version": "1.2.0",
      "_model_name": "LayoutModel",
      "_view_count": null,
      "_view_module": "@jupyter-widgets/base",
      "_view_module_version": "1.2.0",
      "_view_name": "LayoutView",
      "align_content": null,
      "align_items": null,
      "align_self": null,
      "border": null,
      "bottom": null,
      "display": null,
      "flex": null,
      "flex_flow": null,
      "grid_area": null,
      "grid_auto_columns": null,
      "grid_auto_flow": null,
      "grid_auto_rows": null,
      "grid_column": null,
      "grid_gap": null,
      "grid_row": null,
      "grid_template_areas": null,
      "grid_template_columns": null,
      "grid_template_rows": null,
      "height": null,
      "justify_content": null,
      "justify_items": null,
      "left": null,
      "margin": null,
      "max_height": null,
      "max_width": null,
      "min_height": null,
      "min_width": null,
      "object_fit": null,
      "object_position": null,
      "order": null,
      "overflow": null,
      "overflow_x": null,
      "overflow_y": null,
      "padding": null,
      "right": null,
      "top": null,
      "visibility": null,
      "width": null
     }
    },
    "d55ab61a6ef740a69c285beaed7684f8": {
     "model_module": "@jupyter-widgets/controls",
     "model_module_version": "1.5.0",
     "model_name": "HTMLModel",
     "state": {
      "_dom_classes": [],
      "_model_module": "@jupyter-widgets/controls",
      "_model_module_version": "1.5.0",
      "_model_name": "HTMLModel",
      "_view_count": null,
      "_view_module": "@jupyter-widgets/controls",
      "_view_module_version": "1.5.0",
      "_view_name": "HTMLView",
      "description": "",
      "description_tooltip": null,
      "layout": "IPY_MODEL_286ba626c8f64a129fa9073e309ff51a",
      "placeholder": "​",
      "style": "IPY_MODEL_cbf53b10ec50491884e8546e1a97cdd9",
      "value": " 17/19 [00:00&lt;00:00, 23.80it/s]"
     }
    },
    "d58c3b98db114f55b22d9ca87d0cadc8": {
     "model_module": "@jupyter-widgets/base",
     "model_module_version": "1.2.0",
     "model_name": "LayoutModel",
     "state": {
      "_model_module": "@jupyter-widgets/base",
      "_model_module_version": "1.2.0",
      "_model_name": "LayoutModel",
      "_view_count": null,
      "_view_module": "@jupyter-widgets/base",
      "_view_module_version": "1.2.0",
      "_view_name": "LayoutView",
      "align_content": null,
      "align_items": null,
      "align_self": null,
      "border": null,
      "bottom": null,
      "display": null,
      "flex": null,
      "flex_flow": null,
      "grid_area": null,
      "grid_auto_columns": null,
      "grid_auto_flow": null,
      "grid_auto_rows": null,
      "grid_column": null,
      "grid_gap": null,
      "grid_row": null,
      "grid_template_areas": null,
      "grid_template_columns": null,
      "grid_template_rows": null,
      "height": null,
      "justify_content": null,
      "justify_items": null,
      "left": null,
      "margin": null,
      "max_height": null,
      "max_width": null,
      "min_height": null,
      "min_width": null,
      "object_fit": null,
      "object_position": null,
      "order": null,
      "overflow": null,
      "overflow_x": null,
      "overflow_y": null,
      "padding": null,
      "right": null,
      "top": null,
      "visibility": null,
      "width": null
     }
    },
    "db4240c5c7454e7f899c40a98d7458e4": {
     "model_module": "@jupyter-widgets/controls",
     "model_module_version": "1.5.0",
     "model_name": "HTMLModel",
     "state": {
      "_dom_classes": [],
      "_model_module": "@jupyter-widgets/controls",
      "_model_module_version": "1.5.0",
      "_model_name": "HTMLModel",
      "_view_count": null,
      "_view_module": "@jupyter-widgets/controls",
      "_view_module_version": "1.5.0",
      "_view_name": "HTMLView",
      "description": "",
      "description_tooltip": null,
      "layout": "IPY_MODEL_afa55dba31974542a66314c9bb787375",
      "placeholder": "​",
      "style": "IPY_MODEL_97847f872d114a4b89cf7efeb8211aff",
      "value": "100%"
     }
    },
    "e0ed957e1d4a46b2aca8423340fbadf1": {
     "model_module": "@jupyter-widgets/controls",
     "model_module_version": "1.5.0",
     "model_name": "HTMLModel",
     "state": {
      "_dom_classes": [],
      "_model_module": "@jupyter-widgets/controls",
      "_model_module_version": "1.5.0",
      "_model_name": "HTMLModel",
      "_view_count": null,
      "_view_module": "@jupyter-widgets/controls",
      "_view_module_version": "1.5.0",
      "_view_name": "HTMLView",
      "description": "",
      "description_tooltip": null,
      "layout": "IPY_MODEL_a2657d8670ac49f4a8f67da970122b07",
      "placeholder": "​",
      "style": "IPY_MODEL_6869c059c26040aa8e076fd2bf862e77",
      "value": " 1560/1560 [03:09&lt;00:00,  8.68it/s]"
     }
    },
    "e3a1c48a71e34bfd9ea2ade761bc25a6": {
     "model_module": "@jupyter-widgets/base",
     "model_module_version": "1.2.0",
     "model_name": "LayoutModel",
     "state": {
      "_model_module": "@jupyter-widgets/base",
      "_model_module_version": "1.2.0",
      "_model_name": "LayoutModel",
      "_view_count": null,
      "_view_module": "@jupyter-widgets/base",
      "_view_module_version": "1.2.0",
      "_view_name": "LayoutView",
      "align_content": null,
      "align_items": null,
      "align_self": null,
      "border": null,
      "bottom": null,
      "display": null,
      "flex": null,
      "flex_flow": null,
      "grid_area": null,
      "grid_auto_columns": null,
      "grid_auto_flow": null,
      "grid_auto_rows": null,
      "grid_column": null,
      "grid_gap": null,
      "grid_row": null,
      "grid_template_areas": null,
      "grid_template_columns": null,
      "grid_template_rows": null,
      "height": null,
      "justify_content": null,
      "justify_items": null,
      "left": null,
      "margin": null,
      "max_height": null,
      "max_width": null,
      "min_height": null,
      "min_width": null,
      "object_fit": null,
      "object_position": null,
      "order": null,
      "overflow": null,
      "overflow_x": null,
      "overflow_y": null,
      "padding": null,
      "right": null,
      "top": null,
      "visibility": null,
      "width": null
     }
    },
    "e4a67f19ea2f420bb9e1670d15f7ffc8": {
     "model_module": "@jupyter-widgets/controls",
     "model_module_version": "1.5.0",
     "model_name": "HBoxModel",
     "state": {
      "_dom_classes": [],
      "_model_module": "@jupyter-widgets/controls",
      "_model_module_version": "1.5.0",
      "_model_name": "HBoxModel",
      "_view_count": null,
      "_view_module": "@jupyter-widgets/controls",
      "_view_module_version": "1.5.0",
      "_view_name": "HBoxView",
      "box_style": "",
      "children": [
       "IPY_MODEL_4a78cfa2fd9b400496e7a0b73d8c1f12",
       "IPY_MODEL_2f23f3e0d40b4918be956dee074f7e25",
       "IPY_MODEL_37730e2c74fe478da38e3da66bea1e76"
      ],
      "layout": "IPY_MODEL_a18109c607ef4cedada6ed1b6640f959"
     }
    },
    "e604a4b290e74d319b8937bc42a35645": {
     "model_module": "@jupyter-widgets/controls",
     "model_module_version": "1.5.0",
     "model_name": "FloatProgressModel",
     "state": {
      "_dom_classes": [],
      "_model_module": "@jupyter-widgets/controls",
      "_model_module_version": "1.5.0",
      "_model_name": "FloatProgressModel",
      "_view_count": null,
      "_view_module": "@jupyter-widgets/controls",
      "_view_module_version": "1.5.0",
      "_view_name": "ProgressView",
      "bar_style": "",
      "description": "",
      "description_tooltip": null,
      "layout": "IPY_MODEL_bc0c328058b84b53aeaa30d6c14c26f1",
      "max": 19,
      "min": 0,
      "orientation": "horizontal",
      "style": "IPY_MODEL_f64cb74ab4ec48c4a48119d4b7ad10e1",
      "value": 19
     }
    },
    "e65580b0004f4536aa1869575ff16503": {
     "model_module": "@jupyter-widgets/controls",
     "model_module_version": "1.5.0",
     "model_name": "ProgressStyleModel",
     "state": {
      "_model_module": "@jupyter-widgets/controls",
      "_model_module_version": "1.5.0",
      "_model_name": "ProgressStyleModel",
      "_view_count": null,
      "_view_module": "@jupyter-widgets/base",
      "_view_module_version": "1.2.0",
      "_view_name": "StyleView",
      "bar_color": null,
      "description_width": ""
     }
    },
    "e6e3eb463c7a4c18af72d1078f78c145": {
     "model_module": "@jupyter-widgets/controls",
     "model_module_version": "1.5.0",
     "model_name": "DescriptionStyleModel",
     "state": {
      "_model_module": "@jupyter-widgets/controls",
      "_model_module_version": "1.5.0",
      "_model_name": "DescriptionStyleModel",
      "_view_count": null,
      "_view_module": "@jupyter-widgets/base",
      "_view_module_version": "1.2.0",
      "_view_name": "StyleView",
      "description_width": ""
     }
    },
    "ea012efbad3f40ef8c404da7e2158f08": {
     "model_module": "@jupyter-widgets/controls",
     "model_module_version": "1.5.0",
     "model_name": "FloatProgressModel",
     "state": {
      "_dom_classes": [],
      "_model_module": "@jupyter-widgets/controls",
      "_model_module_version": "1.5.0",
      "_model_name": "FloatProgressModel",
      "_view_count": null,
      "_view_module": "@jupyter-widgets/controls",
      "_view_module_version": "1.5.0",
      "_view_name": "ProgressView",
      "bar_style": "",
      "description": "",
      "description_tooltip": null,
      "layout": "IPY_MODEL_d03b1fa7f2eb47b2abb1128a225d4cb7",
      "max": 19,
      "min": 0,
      "orientation": "horizontal",
      "style": "IPY_MODEL_99a707f1b2be4af1b8aba5c94ef3764f",
      "value": 19
     }
    },
    "ea3e2684e19b48be829011008068d4ab": {
     "model_module": "@jupyter-widgets/controls",
     "model_module_version": "1.5.0",
     "model_name": "FloatProgressModel",
     "state": {
      "_dom_classes": [],
      "_model_module": "@jupyter-widgets/controls",
      "_model_module_version": "1.5.0",
      "_model_name": "FloatProgressModel",
      "_view_count": null,
      "_view_module": "@jupyter-widgets/controls",
      "_view_module_version": "1.5.0",
      "_view_name": "ProgressView",
      "bar_style": "",
      "description": "",
      "description_tooltip": null,
      "layout": "IPY_MODEL_54ce4807e48043ffbe5df49cbc82b7f0",
      "max": 19,
      "min": 0,
      "orientation": "horizontal",
      "style": "IPY_MODEL_e65580b0004f4536aa1869575ff16503",
      "value": 19
     }
    },
    "ea91699748924a568554fd14326838b6": {
     "model_module": "@jupyter-widgets/controls",
     "model_module_version": "1.5.0",
     "model_name": "DescriptionStyleModel",
     "state": {
      "_model_module": "@jupyter-widgets/controls",
      "_model_module_version": "1.5.0",
      "_model_name": "DescriptionStyleModel",
      "_view_count": null,
      "_view_module": "@jupyter-widgets/base",
      "_view_module_version": "1.2.0",
      "_view_name": "StyleView",
      "description_width": ""
     }
    },
    "eb702b74bace4c8ea7ed47d6458defb7": {
     "model_module": "@jupyter-widgets/controls",
     "model_module_version": "1.5.0",
     "model_name": "HTMLModel",
     "state": {
      "_dom_classes": [],
      "_model_module": "@jupyter-widgets/controls",
      "_model_module_version": "1.5.0",
      "_model_name": "HTMLModel",
      "_view_count": null,
      "_view_module": "@jupyter-widgets/controls",
      "_view_module_version": "1.5.0",
      "_view_name": "HTMLView",
      "description": "",
      "description_tooltip": null,
      "layout": "IPY_MODEL_1e7f1407976c4ff694aaed161b9070bc",
      "placeholder": "​",
      "style": "IPY_MODEL_9001a853e25e45fca976d839551f41af",
      "value": " 17/19 [00:00&lt;00:00, 24.28it/s]"
     }
    },
    "ee261ad9c1d940ab9b03bb7ea6241932": {
     "model_module": "@jupyter-widgets/base",
     "model_module_version": "1.2.0",
     "model_name": "LayoutModel",
     "state": {
      "_model_module": "@jupyter-widgets/base",
      "_model_module_version": "1.2.0",
      "_model_name": "LayoutModel",
      "_view_count": null,
      "_view_module": "@jupyter-widgets/base",
      "_view_module_version": "1.2.0",
      "_view_name": "LayoutView",
      "align_content": null,
      "align_items": null,
      "align_self": null,
      "border": null,
      "bottom": null,
      "display": null,
      "flex": null,
      "flex_flow": null,
      "grid_area": null,
      "grid_auto_columns": null,
      "grid_auto_flow": null,
      "grid_auto_rows": null,
      "grid_column": null,
      "grid_gap": null,
      "grid_row": null,
      "grid_template_areas": null,
      "grid_template_columns": null,
      "grid_template_rows": null,
      "height": null,
      "justify_content": null,
      "justify_items": null,
      "left": null,
      "margin": null,
      "max_height": null,
      "max_width": null,
      "min_height": null,
      "min_width": null,
      "object_fit": null,
      "object_position": null,
      "order": null,
      "overflow": null,
      "overflow_x": null,
      "overflow_y": null,
      "padding": null,
      "right": null,
      "top": null,
      "visibility": null,
      "width": null
     }
    },
    "ef7e17a6a5e34f7f8a434aae8c2fa042": {
     "model_module": "@jupyter-widgets/controls",
     "model_module_version": "1.5.0",
     "model_name": "HTMLModel",
     "state": {
      "_dom_classes": [],
      "_model_module": "@jupyter-widgets/controls",
      "_model_module_version": "1.5.0",
      "_model_name": "HTMLModel",
      "_view_count": null,
      "_view_module": "@jupyter-widgets/controls",
      "_view_module_version": "1.5.0",
      "_view_name": "HTMLView",
      "description": "",
      "description_tooltip": null,
      "layout": "IPY_MODEL_9421db35636644709c4bb539770d4067",
      "placeholder": "​",
      "style": "IPY_MODEL_515167d1905b4a208be8cdc362b5bd7e",
      "value": " 17/19 [00:00&lt;00:00, 23.73it/s]"
     }
    },
    "f2b0faedc283444e80d3a18a0cfc7b18": {
     "model_module": "@jupyter-widgets/controls",
     "model_module_version": "1.5.0",
     "model_name": "HTMLModel",
     "state": {
      "_dom_classes": [],
      "_model_module": "@jupyter-widgets/controls",
      "_model_module_version": "1.5.0",
      "_model_name": "HTMLModel",
      "_view_count": null,
      "_view_module": "@jupyter-widgets/controls",
      "_view_module_version": "1.5.0",
      "_view_name": "HTMLView",
      "description": "",
      "description_tooltip": null,
      "layout": "IPY_MODEL_3a72c0d2772d4e6c84a4215e82157494",
      "placeholder": "​",
      "style": "IPY_MODEL_2054287b7f4a415aa9b80996c7bfe882",
      "value": " 17/19 [00:00&lt;00:00, 24.27it/s]"
     }
    },
    "f3244d43e8f34724a459454fb31abd63": {
     "model_module": "@jupyter-widgets/base",
     "model_module_version": "1.2.0",
     "model_name": "LayoutModel",
     "state": {
      "_model_module": "@jupyter-widgets/base",
      "_model_module_version": "1.2.0",
      "_model_name": "LayoutModel",
      "_view_count": null,
      "_view_module": "@jupyter-widgets/base",
      "_view_module_version": "1.2.0",
      "_view_name": "LayoutView",
      "align_content": null,
      "align_items": null,
      "align_self": null,
      "border": null,
      "bottom": null,
      "display": null,
      "flex": null,
      "flex_flow": null,
      "grid_area": null,
      "grid_auto_columns": null,
      "grid_auto_flow": null,
      "grid_auto_rows": null,
      "grid_column": null,
      "grid_gap": null,
      "grid_row": null,
      "grid_template_areas": null,
      "grid_template_columns": null,
      "grid_template_rows": null,
      "height": null,
      "justify_content": null,
      "justify_items": null,
      "left": null,
      "margin": null,
      "max_height": null,
      "max_width": null,
      "min_height": null,
      "min_width": null,
      "object_fit": null,
      "object_position": null,
      "order": null,
      "overflow": null,
      "overflow_x": null,
      "overflow_y": null,
      "padding": null,
      "right": null,
      "top": null,
      "visibility": null,
      "width": null
     }
    },
    "f64cb74ab4ec48c4a48119d4b7ad10e1": {
     "model_module": "@jupyter-widgets/controls",
     "model_module_version": "1.5.0",
     "model_name": "ProgressStyleModel",
     "state": {
      "_model_module": "@jupyter-widgets/controls",
      "_model_module_version": "1.5.0",
      "_model_name": "ProgressStyleModel",
      "_view_count": null,
      "_view_module": "@jupyter-widgets/base",
      "_view_module_version": "1.2.0",
      "_view_name": "StyleView",
      "bar_color": null,
      "description_width": ""
     }
    },
    "f74d61149bd7418d8c05924ea8a289a3": {
     "model_module": "@jupyter-widgets/controls",
     "model_module_version": "1.5.0",
     "model_name": "DescriptionStyleModel",
     "state": {
      "_model_module": "@jupyter-widgets/controls",
      "_model_module_version": "1.5.0",
      "_model_name": "DescriptionStyleModel",
      "_view_count": null,
      "_view_module": "@jupyter-widgets/base",
      "_view_module_version": "1.2.0",
      "_view_name": "StyleView",
      "description_width": ""
     }
    },
    "f8186893cd1248b6a4a928eb53da220a": {
     "model_module": "@jupyter-widgets/base",
     "model_module_version": "1.2.0",
     "model_name": "LayoutModel",
     "state": {
      "_model_module": "@jupyter-widgets/base",
      "_model_module_version": "1.2.0",
      "_model_name": "LayoutModel",
      "_view_count": null,
      "_view_module": "@jupyter-widgets/base",
      "_view_module_version": "1.2.0",
      "_view_name": "LayoutView",
      "align_content": null,
      "align_items": null,
      "align_self": null,
      "border": null,
      "bottom": null,
      "display": null,
      "flex": null,
      "flex_flow": null,
      "grid_area": null,
      "grid_auto_columns": null,
      "grid_auto_flow": null,
      "grid_auto_rows": null,
      "grid_column": null,
      "grid_gap": null,
      "grid_row": null,
      "grid_template_areas": null,
      "grid_template_columns": null,
      "grid_template_rows": null,
      "height": null,
      "justify_content": null,
      "justify_items": null,
      "left": null,
      "margin": null,
      "max_height": null,
      "max_width": null,
      "min_height": null,
      "min_width": null,
      "object_fit": null,
      "object_position": null,
      "order": null,
      "overflow": null,
      "overflow_x": null,
      "overflow_y": null,
      "padding": null,
      "right": null,
      "top": null,
      "visibility": null,
      "width": null
     }
    },
    "fa100a30a80044b39291bb1b93c77852": {
     "model_module": "@jupyter-widgets/controls",
     "model_module_version": "1.5.0",
     "model_name": "HBoxModel",
     "state": {
      "_dom_classes": [],
      "_model_module": "@jupyter-widgets/controls",
      "_model_module_version": "1.5.0",
      "_model_name": "HBoxModel",
      "_view_count": null,
      "_view_module": "@jupyter-widgets/controls",
      "_view_module_version": "1.5.0",
      "_view_name": "HBoxView",
      "box_style": "",
      "children": [
       "IPY_MODEL_14112f5a3944428cb702b1b4690f5c51",
       "IPY_MODEL_a1dab7f2fe78453e86519b89fdf03ea9",
       "IPY_MODEL_a5a7b3ea317c4f4fb8b8b015ac21f204"
      ],
      "layout": "IPY_MODEL_d136d13580d643c587be3b933bfe3ad2"
     }
    },
    "fc696f2636a44dc6951aeb624fc7cd35": {
     "model_module": "@jupyter-widgets/controls",
     "model_module_version": "1.5.0",
     "model_name": "HTMLModel",
     "state": {
      "_dom_classes": [],
      "_model_module": "@jupyter-widgets/controls",
      "_model_module_version": "1.5.0",
      "_model_name": "HTMLModel",
      "_view_count": null,
      "_view_module": "@jupyter-widgets/controls",
      "_view_module_version": "1.5.0",
      "_view_name": "HTMLView",
      "description": "",
      "description_tooltip": null,
      "layout": "IPY_MODEL_419d4af4b9fc47659d0dadbc028962b3",
      "placeholder": "​",
      "style": "IPY_MODEL_157c51349e1743c480fc40d89a83ebdb",
      "value": "Validation Round:  89%"
     }
    },
    "fd7b96a00df94bf6a3076fc9d3a910dc": {
     "model_module": "@jupyter-widgets/base",
     "model_module_version": "1.2.0",
     "model_name": "LayoutModel",
     "state": {
      "_model_module": "@jupyter-widgets/base",
      "_model_module_version": "1.2.0",
      "_model_name": "LayoutModel",
      "_view_count": null,
      "_view_module": "@jupyter-widgets/base",
      "_view_module_version": "1.2.0",
      "_view_name": "LayoutView",
      "align_content": null,
      "align_items": null,
      "align_self": null,
      "border": null,
      "bottom": null,
      "display": null,
      "flex": null,
      "flex_flow": null,
      "grid_area": null,
      "grid_auto_columns": null,
      "grid_auto_flow": null,
      "grid_auto_rows": null,
      "grid_column": null,
      "grid_gap": null,
      "grid_row": null,
      "grid_template_areas": null,
      "grid_template_columns": null,
      "grid_template_rows": null,
      "height": null,
      "justify_content": null,
      "justify_items": null,
      "left": null,
      "margin": null,
      "max_height": null,
      "max_width": null,
      "min_height": null,
      "min_width": null,
      "object_fit": null,
      "object_position": null,
      "order": null,
      "overflow": null,
      "overflow_x": null,
      "overflow_y": null,
      "padding": null,
      "right": null,
      "top": null,
      "visibility": null,
      "width": null
     }
    },
    "fec72540a14a4053add96bd94ec0c5b1": {
     "model_module": "@jupyter-widgets/controls",
     "model_module_version": "1.5.0",
     "model_name": "FloatProgressModel",
     "state": {
      "_dom_classes": [],
      "_model_module": "@jupyter-widgets/controls",
      "_model_module_version": "1.5.0",
      "_model_name": "FloatProgressModel",
      "_view_count": null,
      "_view_module": "@jupyter-widgets/controls",
      "_view_module_version": "1.5.0",
      "_view_name": "ProgressView",
      "bar_style": "",
      "description": "",
      "description_tooltip": null,
      "layout": "IPY_MODEL_118472d533184bf1ab911bc34c044d83",
      "max": 19,
      "min": 0,
      "orientation": "horizontal",
      "style": "IPY_MODEL_b6c9f48a56f841a58356f3c107a9cc9c",
      "value": 19
     }
    }
   }
  }
 },
 "nbformat": 4,
 "nbformat_minor": 1
}
