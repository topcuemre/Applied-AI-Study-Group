{
 "cells": [
  {
   "cell_type": "markdown",
   "metadata": {
    "id": "xsVIVac9D0Ob"
   },
   "source": [
    "# Anomaly Detection"
   ]
  },
  {
   "cell_type": "markdown",
   "metadata": {
    "id": "4mqRLmjX3QRa"
   },
   "source": [
    "In this notebook, we will examine applications for Anomaly Detection on different real word datasets. We use some of the Anomaly Detection algorithms.\n",
    "\n",
    "**Used Anomaly Detection Algorithms in This Notebook**:\n",
    "- Isolation Forest\n",
    "- Local Outlier Factor\n",
    "- XGBoost\n",
    "- CatBoost\n",
    "- LightGBM\n",
    "\n",
    "Also, we will those methods with subsampling.\n",
    "\n",
    "**Used Dataset in This Notebook**\n",
    "- [Credit Card Fraud Detection](https://www.kaggle.com/mlg-ulb/creditcardfraud)"
   ]
  },
  {
   "cell_type": "markdown",
   "metadata": {
    "id": "Nko6uksS3QRc"
   },
   "source": [
    "# Preparation"
   ]
  },
  {
   "cell_type": "markdown",
   "metadata": {
    "id": "j3Lt3F4f3QRd"
   },
   "source": [
    "First of all, we need to install catboost and xgboost libraries to use them."
   ]
  },
  {
   "cell_type": "code",
   "execution_count": null,
   "metadata": {
    "id": "oj1kj-mMbE80"
   },
   "outputs": [],
   "source": [
    "%%capture\n",
    "!pip install catboost\n",
    "!pip install xgboost"
   ]
  },
  {
   "cell_type": "markdown",
   "metadata": {
    "id": "I_CEngcR3QRg"
   },
   "source": [
    "Import libraries, set the seed and suppress all warnings."
   ]
  },
  {
   "cell_type": "code",
   "execution_count": null,
   "metadata": {
    "id": "Mb27FP17DvpN"
   },
   "outputs": [],
   "source": [
    "import pandas as pd\n",
    "import numpy as np\n",
    "from sklearn.ensemble import IsolationForest\n",
    "from sklearn.model_selection import train_test_split\n",
    "\n",
    "from sklearn.metrics import (\n",
    "    classification_report, \n",
    "    confusion_matrix,\n",
    "    roc_auc_score,\n",
    "    f1_score,\n",
    "    accuracy_score\n",
    ")\n",
    "from sklearn.neighbors import LocalOutlierFactor\n",
    "\n",
    "import matplotlib.pyplot as plt\n",
    "import seaborn as sns\n",
    "\n",
    "from xgboost import XGBClassifier\n",
    "import xgboost as xgb\n",
    "\n",
    "from catboost import Pool, CatBoostClassifier, cv\n",
    "\n",
    "SEED = 2112\n",
    "import warnings\n",
    "warnings.filterwarnings('ignore')"
   ]
  },
  {
   "cell_type": "markdown",
   "metadata": {
    "id": "EcHDJStF3QRj"
   },
   "source": [
    "Load pandas dataframe and show."
   ]
  },
  {
   "cell_type": "code",
   "execution_count": null,
   "metadata": {
    "id": "a32s-3h5D7IN"
   },
   "outputs": [],
   "source": [
    "df = pd.read_csv(\"../data/creditcard.csv\")"
   ]
  },
  {
   "cell_type": "code",
   "execution_count": null,
   "metadata": {
    "colab": {
     "base_uri": "https://localhost:8080/",
     "height": 224
    },
    "executionInfo": {
     "elapsed": 44,
     "status": "ok",
     "timestamp": 1626794207383,
     "user": {
      "displayName": "M. Şafak Bilici",
      "photoUrl": "https://lh3.googleusercontent.com/a-/AOh14GiGws-KIvcIpNEMjqPHEpcw8w_sK9CVIeDdXUBQgQ=s64",
      "userId": "15429672687187391255"
     },
     "user_tz": -180
    },
    "id": "HBosbjzDERLK",
    "outputId": "0ceda174-48de-43ee-9e4c-b0b3d22a9e4e"
   },
   "outputs": [
    {
     "data": {
      "text/html": [
       "<div>\n",
       "<style scoped>\n",
       "    .dataframe tbody tr th:only-of-type {\n",
       "        vertical-align: middle;\n",
       "    }\n",
       "\n",
       "    .dataframe tbody tr th {\n",
       "        vertical-align: top;\n",
       "    }\n",
       "\n",
       "    .dataframe thead th {\n",
       "        text-align: right;\n",
       "    }\n",
       "</style>\n",
       "<table border=\"1\" class=\"dataframe\">\n",
       "  <thead>\n",
       "    <tr style=\"text-align: right;\">\n",
       "      <th></th>\n",
       "      <th>Time</th>\n",
       "      <th>V1</th>\n",
       "      <th>V2</th>\n",
       "      <th>V3</th>\n",
       "      <th>V4</th>\n",
       "      <th>V5</th>\n",
       "      <th>V6</th>\n",
       "      <th>V7</th>\n",
       "      <th>V8</th>\n",
       "      <th>V9</th>\n",
       "      <th>...</th>\n",
       "      <th>V21</th>\n",
       "      <th>V22</th>\n",
       "      <th>V23</th>\n",
       "      <th>V24</th>\n",
       "      <th>V25</th>\n",
       "      <th>V26</th>\n",
       "      <th>V27</th>\n",
       "      <th>V28</th>\n",
       "      <th>Amount</th>\n",
       "      <th>Class</th>\n",
       "    </tr>\n",
       "  </thead>\n",
       "  <tbody>\n",
       "    <tr>\n",
       "      <th>0</th>\n",
       "      <td>0.0</td>\n",
       "      <td>-1.359807</td>\n",
       "      <td>-0.072781</td>\n",
       "      <td>2.536347</td>\n",
       "      <td>1.378155</td>\n",
       "      <td>-0.338321</td>\n",
       "      <td>0.462388</td>\n",
       "      <td>0.239599</td>\n",
       "      <td>0.098698</td>\n",
       "      <td>0.363787</td>\n",
       "      <td>...</td>\n",
       "      <td>-0.018307</td>\n",
       "      <td>0.277838</td>\n",
       "      <td>-0.110474</td>\n",
       "      <td>0.066928</td>\n",
       "      <td>0.128539</td>\n",
       "      <td>-0.189115</td>\n",
       "      <td>0.133558</td>\n",
       "      <td>-0.021053</td>\n",
       "      <td>149.62</td>\n",
       "      <td>0</td>\n",
       "    </tr>\n",
       "    <tr>\n",
       "      <th>1</th>\n",
       "      <td>0.0</td>\n",
       "      <td>1.191857</td>\n",
       "      <td>0.266151</td>\n",
       "      <td>0.166480</td>\n",
       "      <td>0.448154</td>\n",
       "      <td>0.060018</td>\n",
       "      <td>-0.082361</td>\n",
       "      <td>-0.078803</td>\n",
       "      <td>0.085102</td>\n",
       "      <td>-0.255425</td>\n",
       "      <td>...</td>\n",
       "      <td>-0.225775</td>\n",
       "      <td>-0.638672</td>\n",
       "      <td>0.101288</td>\n",
       "      <td>-0.339846</td>\n",
       "      <td>0.167170</td>\n",
       "      <td>0.125895</td>\n",
       "      <td>-0.008983</td>\n",
       "      <td>0.014724</td>\n",
       "      <td>2.69</td>\n",
       "      <td>0</td>\n",
       "    </tr>\n",
       "    <tr>\n",
       "      <th>2</th>\n",
       "      <td>1.0</td>\n",
       "      <td>-1.358354</td>\n",
       "      <td>-1.340163</td>\n",
       "      <td>1.773209</td>\n",
       "      <td>0.379780</td>\n",
       "      <td>-0.503198</td>\n",
       "      <td>1.800499</td>\n",
       "      <td>0.791461</td>\n",
       "      <td>0.247676</td>\n",
       "      <td>-1.514654</td>\n",
       "      <td>...</td>\n",
       "      <td>0.247998</td>\n",
       "      <td>0.771679</td>\n",
       "      <td>0.909412</td>\n",
       "      <td>-0.689281</td>\n",
       "      <td>-0.327642</td>\n",
       "      <td>-0.139097</td>\n",
       "      <td>-0.055353</td>\n",
       "      <td>-0.059752</td>\n",
       "      <td>378.66</td>\n",
       "      <td>0</td>\n",
       "    </tr>\n",
       "    <tr>\n",
       "      <th>3</th>\n",
       "      <td>1.0</td>\n",
       "      <td>-0.966272</td>\n",
       "      <td>-0.185226</td>\n",
       "      <td>1.792993</td>\n",
       "      <td>-0.863291</td>\n",
       "      <td>-0.010309</td>\n",
       "      <td>1.247203</td>\n",
       "      <td>0.237609</td>\n",
       "      <td>0.377436</td>\n",
       "      <td>-1.387024</td>\n",
       "      <td>...</td>\n",
       "      <td>-0.108300</td>\n",
       "      <td>0.005274</td>\n",
       "      <td>-0.190321</td>\n",
       "      <td>-1.175575</td>\n",
       "      <td>0.647376</td>\n",
       "      <td>-0.221929</td>\n",
       "      <td>0.062723</td>\n",
       "      <td>0.061458</td>\n",
       "      <td>123.50</td>\n",
       "      <td>0</td>\n",
       "    </tr>\n",
       "    <tr>\n",
       "      <th>4</th>\n",
       "      <td>2.0</td>\n",
       "      <td>-1.158233</td>\n",
       "      <td>0.877737</td>\n",
       "      <td>1.548718</td>\n",
       "      <td>0.403034</td>\n",
       "      <td>-0.407193</td>\n",
       "      <td>0.095921</td>\n",
       "      <td>0.592941</td>\n",
       "      <td>-0.270533</td>\n",
       "      <td>0.817739</td>\n",
       "      <td>...</td>\n",
       "      <td>-0.009431</td>\n",
       "      <td>0.798278</td>\n",
       "      <td>-0.137458</td>\n",
       "      <td>0.141267</td>\n",
       "      <td>-0.206010</td>\n",
       "      <td>0.502292</td>\n",
       "      <td>0.219422</td>\n",
       "      <td>0.215153</td>\n",
       "      <td>69.99</td>\n",
       "      <td>0</td>\n",
       "    </tr>\n",
       "  </tbody>\n",
       "</table>\n",
       "<p>5 rows × 31 columns</p>\n",
       "</div>"
      ],
      "text/plain": [
       "   Time        V1        V2        V3        V4        V5        V6        V7  \\\n",
       "0   0.0 -1.359807 -0.072781  2.536347  1.378155 -0.338321  0.462388  0.239599   \n",
       "1   0.0  1.191857  0.266151  0.166480  0.448154  0.060018 -0.082361 -0.078803   \n",
       "2   1.0 -1.358354 -1.340163  1.773209  0.379780 -0.503198  1.800499  0.791461   \n",
       "3   1.0 -0.966272 -0.185226  1.792993 -0.863291 -0.010309  1.247203  0.237609   \n",
       "4   2.0 -1.158233  0.877737  1.548718  0.403034 -0.407193  0.095921  0.592941   \n",
       "\n",
       "         V8        V9  ...       V21       V22       V23       V24       V25  \\\n",
       "0  0.098698  0.363787  ... -0.018307  0.277838 -0.110474  0.066928  0.128539   \n",
       "1  0.085102 -0.255425  ... -0.225775 -0.638672  0.101288 -0.339846  0.167170   \n",
       "2  0.247676 -1.514654  ...  0.247998  0.771679  0.909412 -0.689281 -0.327642   \n",
       "3  0.377436 -1.387024  ... -0.108300  0.005274 -0.190321 -1.175575  0.647376   \n",
       "4 -0.270533  0.817739  ... -0.009431  0.798278 -0.137458  0.141267 -0.206010   \n",
       "\n",
       "        V26       V27       V28  Amount  Class  \n",
       "0 -0.189115  0.133558 -0.021053  149.62      0  \n",
       "1  0.125895 -0.008983  0.014724    2.69      0  \n",
       "2 -0.139097 -0.055353 -0.059752  378.66      0  \n",
       "3 -0.221929  0.062723  0.061458  123.50      0  \n",
       "4  0.502292  0.219422  0.215153   69.99      0  \n",
       "\n",
       "[5 rows x 31 columns]"
      ]
     },
     "execution_count": 3,
     "metadata": {},
     "output_type": "execute_result"
    }
   ],
   "source": [
    "df.head()"
   ]
  },
  {
   "cell_type": "markdown",
   "metadata": {
    "id": "Lj8VVWHa3QRn"
   },
   "source": [
    "As you can see, there is a imblancing between classes. The dataset is highky imblanaced. \n",
    "\n",
    "- Class 0 (normal): 284315 samples\n",
    "- Class 1 (anomaly): 492 samples.    "
   ]
  },
  {
   "cell_type": "code",
   "execution_count": null,
   "metadata": {
    "colab": {
     "base_uri": "https://localhost:8080/"
    },
    "executionInfo": {
     "elapsed": 10,
     "status": "ok",
     "timestamp": 1626794207383,
     "user": {
      "displayName": "M. Şafak Bilici",
      "photoUrl": "https://lh3.googleusercontent.com/a-/AOh14GiGws-KIvcIpNEMjqPHEpcw8w_sK9CVIeDdXUBQgQ=s64",
      "userId": "15429672687187391255"
     },
     "user_tz": -180
    },
    "id": "tMR25cX3ET0N",
    "outputId": "853f5b6e-859f-460b-cbaa-227034fbce3a"
   },
   "outputs": [
    {
     "data": {
      "text/plain": [
       "0    284315\n",
       "1       492\n",
       "Name: Class, dtype: int64"
      ]
     },
     "execution_count": 4,
     "metadata": {},
     "output_type": "execute_result"
    }
   ],
   "source": [
    "df.Class.value_counts()"
   ]
  },
  {
   "cell_type": "markdown",
   "metadata": {
    "id": "e7e23_R_3QRo"
   },
   "source": [
    "Implement our confusion matrix visualizer. "
   ]
  },
  {
   "cell_type": "code",
   "execution_count": null,
   "metadata": {
    "id": "Z5Nmfk05H_Qy"
   },
   "outputs": [],
   "source": [
    "def show_confusion_matrix(confusion_matrix):\n",
    "  hmap = sns.heatmap(confusion_matrix, annot=True, fmt=\"d\",cmap=\"Blues\")\n",
    "  hmap.yaxis.set_ticklabels(hmap.yaxis.get_ticklabels(), rotation=0, ha=\"right\")\n",
    "  hmap.xaxis.set_ticklabels(hmap.xaxis.get_ticklabels(), rotation=30, ha=\"right\")\n",
    "  plt.xlabel(\"Prediction\")\n",
    "  plt.ylabel(\"Ground Truth\")"
   ]
  },
  {
   "cell_type": "markdown",
   "metadata": {
    "id": "qBPZhd30FUPx"
   },
   "source": [
    "# Isolation Forest"
   ]
  },
  {
   "cell_type": "markdown",
   "metadata": {
    "id": "yGK7jHrO3QRp"
   },
   "source": [
    "<img src=\"images/1.png\" height=600 width=600>\n",
    "\n",
    "The Isolation Forest “isolates” observations by randomly selecting a feature and then randomly selecting a split value between the maximum and minimum values of the selected feature. iForest utilizes no distance or density measures to detect anomalies. \n",
    "\n",
    "solation means ‘separating an instance from the rest of the instances’. Since anomalies are “few and different” and therefore they are more susceptible to isolation. This random partitioning produces noticeable shorter paths for anomalies:\n",
    "- The fewer instances of anomalies result in a smaller number of partitions – shorter paths in a tree structure\n",
    "- Instances with distinguishable attribute-values are more likely to be separated in early partitioning. \n",
    "\n",
    "Hence, when a forest of random trees collectively produce shorter path lengths for some particular points, then they are highly likely to be anomalies.\n"
   ]
  },
  {
   "cell_type": "markdown",
   "metadata": {
    "id": "YBMZO9_K3QRq"
   },
   "source": [
    "Split our dataset as train - test."
   ]
  },
  {
   "cell_type": "code",
   "execution_count": null,
   "metadata": {
    "colab": {
     "base_uri": "https://localhost:8080/"
    },
    "executionInfo": {
     "elapsed": 277,
     "status": "ok",
     "timestamp": 1626790966638,
     "user": {
      "displayName": "M. Şafak Bilici",
      "photoUrl": "https://lh3.googleusercontent.com/a-/AOh14GiGws-KIvcIpNEMjqPHEpcw8w_sK9CVIeDdXUBQgQ=s64",
      "userId": "15429672687187391255"
     },
     "user_tz": -180
    },
    "id": "S9wJ2QFVJ9rm",
    "outputId": "96536130-4474-4693-92d3-d01f0d360efa"
   },
   "outputs": [
    {
     "name": "stdout",
     "output_type": "stream",
     "text": [
      "(190820, 31) (93987, 31)\n"
     ]
    }
   ],
   "source": [
    "train_df, test_df = train_test_split(df,test_size=0.33, random_state=SEED)\n",
    "train_df, test_df = train_df.reset_index(drop=True), test_df.reset_index(drop=True)\n",
    "print(train_df.shape, test_df.shape)"
   ]
  },
  {
   "cell_type": "markdown",
   "metadata": {
    "id": "vC5fyjGz3QRr"
   },
   "source": [
    "Replace anomalies as -1, normal samples as 1."
   ]
  },
  {
   "cell_type": "code",
   "execution_count": null,
   "metadata": {
    "id": "8n7WCPWaFJ0y"
   },
   "outputs": [],
   "source": [
    "train_df['Class'] = np.where(train_df.Class == 0, 1, -1)\n",
    "test_df['Class'] = np.where(test_df.Class == 0, 1, -1)"
   ]
  },
  {
   "cell_type": "markdown",
   "metadata": {
    "id": "kB_zUzmM3QRs"
   },
   "source": [
    "Create X_train and y_train, X_test and y_test."
   ]
  },
  {
   "cell_type": "code",
   "execution_count": null,
   "metadata": {
    "id": "XIRO6Uu8GGVP"
   },
   "outputs": [],
   "source": [
    "X_train = train_df.drop(['Class'], axis = 1)\n",
    "y_train = train_df['Class']\n",
    "\n",
    "X_test = test_df.drop(['Class'], axis = 1)\n",
    "y_test = test_df['Class']"
   ]
  },
  {
   "cell_type": "markdown",
   "metadata": {
    "id": "tYACbOin3QRs"
   },
   "source": [
    "Initialize our Isolation Forest.\n",
    "\n",
    "- max_samples: The number of samples to draw from X to train each base estimator.\n",
    "- random_state: the seed.\n",
    "- contamination: The amount of contamination of the data set, i.e. the proportion of outliers in the data set. Used when fitting to define the threshold on the scores of the samples.\n",
    "- n_estimators: The number of base estimators in the ensemble."
   ]
  },
  {
   "cell_type": "code",
   "execution_count": null,
   "metadata": {
    "id": "Dz_h-prqGhds"
   },
   "outputs": [],
   "source": [
    "clfIF = IsolationForest(\n",
    "    max_samples = 0.25, \n",
    "    random_state = SEED, \n",
    "    contamination = 0.05,#\n",
    "    n_estimators = 30, \n",
    "    n_jobs =- 1\n",
    ")"
   ]
  },
  {
   "cell_type": "markdown",
   "metadata": {
    "id": "iI0jI0r-3QRt"
   },
   "source": [
    "Fit our model. Normally, Isolation Forest is an unsupervised learning algorithm. Passing y_train does not make sense. However, sklearn presents this argument due to API consistency by convention."
   ]
  },
  {
   "cell_type": "code",
   "execution_count": null,
   "metadata": {
    "colab": {
     "base_uri": "https://localhost:8080/"
    },
    "executionInfo": {
     "elapsed": 4360,
     "status": "ok",
     "timestamp": 1626791017362,
     "user": {
      "displayName": "M. Şafak Bilici",
      "photoUrl": "https://lh3.googleusercontent.com/a-/AOh14GiGws-KIvcIpNEMjqPHEpcw8w_sK9CVIeDdXUBQgQ=s64",
      "userId": "15429672687187391255"
     },
     "user_tz": -180
    },
    "id": "cNgR1ReRGn2w",
    "outputId": "216b3794-598f-4113-ad8b-bd37e58ab9ad"
   },
   "outputs": [
    {
     "data": {
      "text/plain": [
       "IsolationForest(contamination=0.05, max_samples=0.25, n_estimators=30,\n",
       "                n_jobs=-1, random_state=2112)"
      ]
     },
     "execution_count": 10,
     "metadata": {},
     "output_type": "execute_result"
    }
   ],
   "source": [
    "clfIF.fit(X_train, y_train)"
   ]
  },
  {
   "cell_type": "markdown",
   "metadata": {
    "id": "CsaIDGKv3QRu"
   },
   "source": [
    "Let's predict $\\hat{y}$ regard to X_test."
   ]
  },
  {
   "cell_type": "code",
   "execution_count": null,
   "metadata": {
    "id": "CHHHkrh_GwnM"
   },
   "outputs": [],
   "source": [
    "y_pred_test = clfIF.predict(X_test)"
   ]
  },
  {
   "cell_type": "markdown",
   "metadata": {
    "id": "q6Mtbo4K3QRu"
   },
   "source": [
    "Use ```classification_report``` to see all metrics."
   ]
  },
  {
   "cell_type": "code",
   "execution_count": null,
   "metadata": {
    "colab": {
     "base_uri": "https://localhost:8080/"
    },
    "executionInfo": {
     "elapsed": 12,
     "status": "ok",
     "timestamp": 1626791018832,
     "user": {
      "displayName": "M. Şafak Bilici",
      "photoUrl": "https://lh3.googleusercontent.com/a-/AOh14GiGws-KIvcIpNEMjqPHEpcw8w_sK9CVIeDdXUBQgQ=s64",
      "userId": "15429672687187391255"
     },
     "user_tz": -180
    },
    "id": "43SAJBb2G4X5",
    "outputId": "2ddba8ba-9f5f-4045-d045-f57e72afc7d3"
   },
   "outputs": [
    {
     "name": "stdout",
     "output_type": "stream",
     "text": [
      "              precision    recall  f1-score   support\n",
      "\n",
      "          -1       0.03      0.84      0.06       173\n",
      "           1       1.00      0.95      0.97     93814\n",
      "\n",
      "    accuracy                           0.95     93987\n",
      "   macro avg       0.52      0.90      0.52     93987\n",
      "weighted avg       1.00      0.95      0.97     93987\n",
      "\n"
     ]
    }
   ],
   "source": [
    "print(classification_report(y_test, y_pred_test))"
   ]
  },
  {
   "cell_type": "code",
   "execution_count": null,
   "metadata": {
    "id": "oAK6FnNyHJ41"
   },
   "outputs": [],
   "source": [
    "cm = confusion_matrix(y_test, y_pred_test)\n",
    "df_cm = pd.DataFrame(\n",
    "    cm,\n",
    "    index = [\"-1\",\"1\"], columns=[\"-1\",\"1\"]\n",
    ")"
   ]
  },
  {
   "cell_type": "code",
   "execution_count": null,
   "metadata": {
    "colab": {
     "base_uri": "https://localhost:8080/",
     "height": 283
    },
    "executionInfo": {
     "elapsed": 491,
     "status": "ok",
     "timestamp": 1626791019315,
     "user": {
      "displayName": "M. Şafak Bilici",
      "photoUrl": "https://lh3.googleusercontent.com/a-/AOh14GiGws-KIvcIpNEMjqPHEpcw8w_sK9CVIeDdXUBQgQ=s64",
      "userId": "15429672687187391255"
     },
     "user_tz": -180
    },
    "id": "9B1CBQylH01E",
    "outputId": "3602e6c4-6836-4c3f-cb44-f5a8349e0dab"
   },
   "outputs": [
    {
     "data": {
      "image/png": "[encoded data removed]",
      "text/plain": [
       "<Figure size 432x288 with 2 Axes>"
      ]
     },
     "metadata": {
      "needs_background": "light"
     },
     "output_type": "display_data"
    }
   ],
   "source": [
    "show_confusion_matrix(df_cm)"
   ]
  },
  {
   "cell_type": "markdown",
   "metadata": {
    "id": "ABV4YtSbIceM"
   },
   "source": [
    "# Isolation Forest With Subsampling"
   ]
  },
  {
   "cell_type": "markdown",
   "metadata": {
    "id": "7TYff5Dy3QRv"
   },
   "source": [
    "What about subsampling on dominant class? Will this helpful for us? Let's see."
   ]
  },
  {
   "cell_type": "code",
   "execution_count": null,
   "metadata": {
    "colab": {
     "base_uri": "https://localhost:8080/"
    },
    "executionInfo": {
     "elapsed": 317,
     "status": "ok",
     "timestamp": 1626791050841,
     "user": {
      "displayName": "M. Şafak Bilici",
      "photoUrl": "https://lh3.googleusercontent.com/a-/AOh14GiGws-KIvcIpNEMjqPHEpcw8w_sK9CVIeDdXUBQgQ=s64",
      "userId": "15429672687187391255"
     },
     "user_tz": -180
    },
    "id": "TKXg__qfJ-iB",
    "outputId": "feaf371e-66aa-47cc-fd40-ebd5b134a866"
   },
   "outputs": [
    {
     "name": "stdout",
     "output_type": "stream",
     "text": [
      "(190820, 31) (93987, 31)\n"
     ]
    }
   ],
   "source": [
    "train_df, test_df = train_test_split(df,test_size=0.33, random_state=SEED)\n",
    "train_df, test_df = train_df.reset_index(drop=True), test_df.reset_index(drop=True)\n",
    "print(train_df.shape, test_df.shape)"
   ]
  },
  {
   "cell_type": "markdown",
   "metadata": {
    "id": "4E9EphLD3QRw"
   },
   "source": [
    "Replace anomalies as -1, normal samples as 1."
   ]
  },
  {
   "cell_type": "code",
   "execution_count": null,
   "metadata": {
    "colab": {
     "base_uri": "https://localhost:8080/"
    },
    "executionInfo": {
     "elapsed": 15,
     "status": "ok",
     "timestamp": 1626791051256,
     "user": {
      "displayName": "M. Şafak Bilici",
      "photoUrl": "https://lh3.googleusercontent.com/a-/AOh14GiGws-KIvcIpNEMjqPHEpcw8w_sK9CVIeDdXUBQgQ=s64",
      "userId": "15429672687187391255"
     },
     "user_tz": -180
    },
    "id": "O38uPB-XIklz",
    "outputId": "9430bd9c-0c9d-4b10-cf72-f9d02324d7ca"
   },
   "outputs": [
    {
     "name": "stdout",
     "output_type": "stream",
     "text": [
      "319 190501\n"
     ]
    }
   ],
   "source": [
    "train_df['Class'] = np.where(train_df.Class == 0, 1, -1)\n",
    "test_df['Class'] = np.where(test_df.Class == 0, 1, -1)\n",
    "print(train_df[train_df[\"Class\"] == -1].shape[0], train_df[train_df[\"Class\"] == 1].shape[0])"
   ]
  },
  {
   "cell_type": "markdown",
   "metadata": {
    "id": "SLAewq5C3QRw"
   },
   "source": [
    "Let's subsample normal class (1) with proportion of $\\lceil\\frac{len(data)}{35}\\rceil$."
   ]
  },
  {
   "cell_type": "code",
   "execution_count": null,
   "metadata": {
    "colab": {
     "base_uri": "https://localhost:8080/"
    },
    "executionInfo": {
     "elapsed": 15,
     "status": "ok",
     "timestamp": 1626791051258,
     "user": {
      "displayName": "M. Şafak Bilici",
      "photoUrl": "https://lh3.googleusercontent.com/a-/AOh14GiGws-KIvcIpNEMjqPHEpcw8w_sK9CVIeDdXUBQgQ=s64",
      "userId": "15429672687187391255"
     },
     "user_tz": -180
    },
    "id": "cx086GkyJWSQ",
    "outputId": "1b86cb6e-7046-49f7-89d3-56d62df6f7fe"
   },
   "outputs": [
    {
     "name": "stdout",
     "output_type": "stream",
     "text": [
      "319 5442\n"
     ]
    }
   ],
   "source": [
    "n_samples = train_df[train_df[\"Class\"] == 1].shape[0] // 35\n",
    "anomalies = train_df[train_df[\"Class\"] == -1].reset_index(drop=True)\n",
    "subsample_normal = train_df[train_df[\"Class\"] == 1].sample(n=n_samples, random_state=SEED).reset_index(drop=True)\n",
    "\n",
    "sub_train_df = pd.concat([subsample_normal, anomalies], axis=0).sample(frac=1).reset_index(drop=True)\n",
    "print(sub_train_df[sub_train_df[\"Class\"] == -1].shape[0], sub_train_df[sub_train_df[\"Class\"] == 1].shape[0])"
   ]
  },
  {
   "cell_type": "markdown",
   "metadata": {
    "id": "d-EUk8T83QRx"
   },
   "source": [
    "Now, we have 5442 normal and 319 anomaly in our train dataset. Lastly, we will do the same things. Initialize the estimator, fit it, then predict and evaluate."
   ]
  },
  {
   "cell_type": "code",
   "execution_count": null,
   "metadata": {
    "id": "xdEWANlDIkl0"
   },
   "outputs": [],
   "source": [
    "X_train = sub_train_df.drop(['Class'], axis = 1)\n",
    "y_train = sub_train_df['Class']\n",
    "\n",
    "X_test = test_df.drop(['Class'], axis = 1)\n",
    "y_test = test_df['Class']"
   ]
  },
  {
   "cell_type": "code",
   "execution_count": null,
   "metadata": {
    "id": "ZyBcZAdtI645"
   },
   "outputs": [],
   "source": [
    "clfIF = IsolationForest(\n",
    "    max_samples = 0.25,\n",
    "    contamination = 0.25,\n",
    "    random_state=SEED, \n",
    "    n_estimators=30, \n",
    "    n_jobs=-1)"
   ]
  },
  {
   "cell_type": "code",
   "execution_count": null,
   "metadata": {
    "colab": {
     "base_uri": "https://localhost:8080/"
    },
    "executionInfo": {
     "elapsed": 4,
     "status": "ok",
     "timestamp": 1626791076937,
     "user": {
      "displayName": "M. Şafak Bilici",
      "photoUrl": "https://lh3.googleusercontent.com/a-/AOh14GiGws-KIvcIpNEMjqPHEpcw8w_sK9CVIeDdXUBQgQ=s64",
      "userId": "15429672687187391255"
     },
     "user_tz": -180
    },
    "id": "HEMYA6TFKPpy",
    "outputId": "92153a04-502d-42df-8a5a-696b9d79b6c9"
   },
   "outputs": [
    {
     "data": {
      "text/plain": [
       "IsolationForest(contamination=0.25, max_samples=0.25, n_estimators=30,\n",
       "                n_jobs=-1, random_state=2112)"
      ]
     },
     "execution_count": 20,
     "metadata": {},
     "output_type": "execute_result"
    }
   ],
   "source": [
    "clfIF.fit(X_train, y_train)"
   ]
  },
  {
   "cell_type": "code",
   "execution_count": null,
   "metadata": {
    "id": "mErhYy-fKStx"
   },
   "outputs": [],
   "source": [
    "y_pred_test = clfIF.predict(X_test)"
   ]
  },
  {
   "cell_type": "code",
   "execution_count": null,
   "metadata": {
    "colab": {
     "base_uri": "https://localhost:8080/"
    },
    "executionInfo": {
     "elapsed": 4,
     "status": "ok",
     "timestamp": 1626791078243,
     "user": {
      "displayName": "M. Şafak Bilici",
      "photoUrl": "https://lh3.googleusercontent.com/a-/AOh14GiGws-KIvcIpNEMjqPHEpcw8w_sK9CVIeDdXUBQgQ=s64",
      "userId": "15429672687187391255"
     },
     "user_tz": -180
    },
    "id": "TIBPzrSzKa5V",
    "outputId": "35247160-ed09-4710-a39f-48977a0dedc0"
   },
   "outputs": [
    {
     "name": "stdout",
     "output_type": "stream",
     "text": [
      "              precision    recall  f1-score   support\n",
      "\n",
      "          -1       0.01      0.89      0.02       173\n",
      "           1       1.00      0.79      0.88     93814\n",
      "\n",
      "    accuracy                           0.79     93987\n",
      "   macro avg       0.50      0.84      0.45     93987\n",
      "weighted avg       1.00      0.79      0.88     93987\n",
      "\n"
     ]
    }
   ],
   "source": [
    "print(classification_report(y_test, y_pred_test))"
   ]
  },
  {
   "cell_type": "code",
   "execution_count": null,
   "metadata": {
    "colab": {
     "base_uri": "https://localhost:8080/",
     "height": 283
    },
    "executionInfo": {
     "elapsed": 767,
     "status": "ok",
     "timestamp": 1626791079008,
     "user": {
      "displayName": "M. Şafak Bilici",
      "photoUrl": "https://lh3.googleusercontent.com/a-/AOh14GiGws-KIvcIpNEMjqPHEpcw8w_sK9CVIeDdXUBQgQ=s64",
      "userId": "15429672687187391255"
     },
     "user_tz": -180
    },
    "id": "dhuqQIdLK5Qx",
    "outputId": "fb7dc899-921b-4ed7-b278-7770eba71d56"
   },
   "outputs": [
    {
     "data": {
      "image/png": "[encoded data removed]",
      "text/plain": [
       "<Figure size 432x288 with 2 Axes>"
      ]
     },
     "metadata": {
      "needs_background": "light"
     },
     "output_type": "display_data"
    }
   ],
   "source": [
    "cm = confusion_matrix(y_test, y_pred_test)\n",
    "df_cm = pd.DataFrame(\n",
    "    cm,\n",
    "    index = [\"-1\",\"1\"], columns=[\"-1\",\"1\"]\n",
    ")\n",
    "show_confusion_matrix(df_cm)"
   ]
  },
  {
   "cell_type": "markdown",
   "metadata": {
    "id": "7qoX6qCiRdUT"
   },
   "source": [
    "# Local Outlier Factor"
   ]
  },
  {
   "cell_type": "markdown",
   "metadata": {
    "id": "8HdnXwp43QRz"
   },
   "source": [
    "<img src=\"images/3.png\" height=250 width=250>\n",
    "\n",
    "The local outlier factor is based on a concept of a local density, where locality is given by k nearest neighbors, whose distance is used to estimate the density. \n",
    "\n",
    "By comparing the local density of an object to the local densities of its neighbors, one can identify regions of similar density, and points that have a substantially lower density than their neighbors. These are considered to be outliers.\n",
    "\n",
    "There are such terms that acts as a building blocks of Local Outlier Factor.\n",
    "\n",
    "**K-distance** is based on neighborhood style distance calculation. The distances of a point A to its neighbors are calculated, and if these distances are ordered from smallest to largest, the kth distance gives us the k-distance.\n",
    "\n",
    "**Reachability distance:** Let $k$ be a natural number. The reachability distance of object $p$ with respect to object o is defined as:\n",
    "\n",
    "$$reach-distk(p, o) = max\\{k-distance(o), d(p,o)\\}$$\n",
    "\n",
    "Intuitively, the local reachability density of an object p is the inverse of the average reachability distance based on the MinPts-nearest neighbors of p. \n",
    "\n",
    "$$lrd_{MinPts}(p) = \\frac{1}{\\frac{\\sum_{o \\in N_{MinPts}(p)}  reach\\_dist_{MinPts}(o)}{\\mid N_{MinPts}(p)\\mid}}$$\n",
    "\n",
    "The outlier factor of object $p$ captures the degree to which we call $p$ an outlier. It is the average of the ratio of the local reachability density of $p$ and those of $p$’s MinPts-nearest neighbors. LOF generates a score for each point. A value below 1 indicates a denser region, while values significantly greater than 1 indicate outliers.\n",
    "\n",
    "$$LOF_{MinPts}(p) = \\frac{ \\sum_{o \\in N_{MinPts}(p)} \\frac{lrd_{MinPts}(o)}{lrd_{MinPts}(p)}}{\\mid N_{MinPts}(p)\\mid}$$\n",
    "\n",
    "\n",
    "<img src=\"images/2.jpg\" height=400 width=400>"
   ]
  },
  {
   "cell_type": "markdown",
   "metadata": {
    "id": "ArpNG1O73QRz"
   },
   "source": [
    "Now, we will do the same things before."
   ]
  },
  {
   "cell_type": "code",
   "execution_count": null,
   "metadata": {
    "colab": {
     "base_uri": "https://localhost:8080/"
    },
    "executionInfo": {
     "elapsed": 420,
     "status": "ok",
     "timestamp": 1626791092199,
     "user": {
      "displayName": "M. Şafak Bilici",
      "photoUrl": "https://lh3.googleusercontent.com/a-/AOh14GiGws-KIvcIpNEMjqPHEpcw8w_sK9CVIeDdXUBQgQ=s64",
      "userId": "15429672687187391255"
     },
     "user_tz": -180
    },
    "id": "DNytOh6BRiQd",
    "outputId": "c5b000c3-0638-4e47-cd0d-b46fa65a34cf"
   },
   "outputs": [
    {
     "name": "stdout",
     "output_type": "stream",
     "text": [
      "(190820, 31) (93987, 31)\n"
     ]
    }
   ],
   "source": [
    "train_df, test_df = train_test_split(df,test_size=0.33, random_state=SEED)\n",
    "train_df, test_df = train_df.reset_index(drop=True), test_df.reset_index(drop=True)\n",
    "print(train_df.shape, test_df.shape)"
   ]
  },
  {
   "cell_type": "code",
   "execution_count": null,
   "metadata": {
    "id": "0GPXO4SnRiQh"
   },
   "outputs": [],
   "source": [
    "train_df['Class'] = np.where(train_df.Class == 0, 1, -1)\n",
    "test_df['Class'] = np.where(test_df.Class == 0, 1, -1)"
   ]
  },
  {
   "cell_type": "code",
   "execution_count": null,
   "metadata": {
    "id": "Ao-wYCGHRiQi"
   },
   "outputs": [],
   "source": [
    "X_train = train_df.drop(['Class'], axis = 1)\n",
    "y_train = train_df['Class']\n",
    "\n",
    "X_test = test_df.drop(['Class'], axis = 1)\n",
    "y_test = test_df['Class']"
   ]
  },
  {
   "cell_type": "markdown",
   "metadata": {
    "id": "KaO5blNI3QR0"
   },
   "source": [
    "Initialize the Local Outlier Factor algorithm.\n",
    "\n",
    "- n_neighbors: Number of neighbors to use by default for kneighbors queries. If n_neighbors is larger than the number of samples provided, all samples will be used.\n",
    "- algorithm: Algorithm used to compute the nearest neighbors:\n",
    "- metric: The metric is used for distance computation. Any metric from scikit-learn or scipy.spatial.distance can be used.\n",
    "- contamination: The amount of contamination of the data set, i.e. the proportion of outliers in the data set. When fitting this is used to define the threshold on the scores of the samples."
   ]
  },
  {
   "cell_type": "code",
   "execution_count": null,
   "metadata": {
    "id": "DcQPR77aRmGD"
   },
   "outputs": [],
   "source": [
    "clfLOF = LocalOutlierFactor(\n",
    "    n_neighbors=7, \n",
    "    metric='l1', \n",
    "    algorithm='auto', \n",
    "    contamination=0.05, \n",
    "    n_jobs=-1,\n",
    ")"
   ]
  },
  {
   "cell_type": "markdown",
   "metadata": {
    "id": "P92ZmszV3QR0"
   },
   "source": [
    "Fit the model."
   ]
  },
  {
   "cell_type": "code",
   "execution_count": null,
   "metadata": {
    "id": "C0PjQNYYRmGE"
   },
   "outputs": [],
   "source": [
    "clfLOF.fit(X_train, y_train)"
   ]
  },
  {
   "cell_type": "markdown",
   "metadata": {
    "id": "cIe3YdON3QR1"
   },
   "source": [
    "Let's predict $\\hat{y}$ regard to X_test."
   ]
  },
  {
   "cell_type": "code",
   "execution_count": null,
   "metadata": {
    "id": "ky8DoYlERmGG"
   },
   "outputs": [],
   "source": [
    "y_pred_test = clfLOF.fit_predict(X_test)"
   ]
  },
  {
   "cell_type": "markdown",
   "metadata": {
    "id": "2LD_aPNw3QR1"
   },
   "source": [
    "Use ```classification_report``` to see all metrics."
   ]
  },
  {
   "cell_type": "code",
   "execution_count": null,
   "metadata": {
    "colab": {
     "base_uri": "https://localhost:8080/"
    },
    "executionInfo": {
     "elapsed": 6,
     "status": "ok",
     "timestamp": 1626791242952,
     "user": {
      "displayName": "M. Şafak Bilici",
      "photoUrl": "https://lh3.googleusercontent.com/a-/AOh14GiGws-KIvcIpNEMjqPHEpcw8w_sK9CVIeDdXUBQgQ=s64",
      "userId": "15429672687187391255"
     },
     "user_tz": -180
    },
    "id": "gmY96l25RmGH",
    "outputId": "6cc9bf33-1381-4ba2-ab4f-231987364a6d"
   },
   "outputs": [
    {
     "name": "stdout",
     "output_type": "stream",
     "text": [
      "              precision    recall  f1-score   support\n",
      "\n",
      "          -1       0.02      0.65      0.05       173\n",
      "           1       1.00      0.95      0.97     93814\n",
      "\n",
      "    accuracy                           0.95     93987\n",
      "   macro avg       0.51      0.80      0.51     93987\n",
      "weighted avg       1.00      0.95      0.97     93987\n",
      "\n"
     ]
    }
   ],
   "source": [
    "print(classification_report(y_test, y_pred_test))"
   ]
  },
  {
   "cell_type": "code",
   "execution_count": null,
   "metadata": {
    "id": "xQaE1InzRmGH"
   },
   "outputs": [],
   "source": [
    "cm = confusion_matrix(y_test, y_pred_test)\n",
    "df_cm = pd.DataFrame(\n",
    "    cm,\n",
    "    index = [\"-1\",\"1\"], columns=[\"-1\",\"1\"]\n",
    ")"
   ]
  },
  {
   "cell_type": "code",
   "execution_count": null,
   "metadata": {
    "colab": {
     "base_uri": "https://localhost:8080/",
     "height": 283
    },
    "executionInfo": {
     "elapsed": 535,
     "status": "ok",
     "timestamp": 1626791243484,
     "user": {
      "displayName": "M. Şafak Bilici",
      "photoUrl": "https://lh3.googleusercontent.com/a-/AOh14GiGws-KIvcIpNEMjqPHEpcw8w_sK9CVIeDdXUBQgQ=s64",
      "userId": "15429672687187391255"
     },
     "user_tz": -180
    },
    "id": "Gi-yF6i6RmGI",
    "outputId": "2c3d73e3-754a-4284-810e-ca6c5409a4c2"
   },
   "outputs": [
    {
     "data": {
      "image/png": "[encoded data removed]",
      "text/plain": [
       "<Figure size 432x288 with 2 Axes>"
      ]
     },
     "metadata": {
      "needs_background": "light",
      "tags": []
     },
     "output_type": "display_data"
    }
   ],
   "source": [
    "show_confusion_matrix(df_cm)"
   ]
  },
  {
   "cell_type": "markdown",
   "metadata": {
    "id": "9sG55UWbPX0e"
   },
   "source": [
    "# Local Outlier Factor With Subsampling"
   ]
  },
  {
   "cell_type": "markdown",
   "metadata": {
    "id": "7lC0t3l13QR2"
   },
   "source": [
    "What about subsampling on dominant class? Will this helpful for us? Let's see."
   ]
  },
  {
   "cell_type": "code",
   "execution_count": null,
   "metadata": {
    "colab": {
     "base_uri": "https://localhost:8080/"
    },
    "executionInfo": {
     "elapsed": 334,
     "status": "ok",
     "timestamp": 1626791337738,
     "user": {
      "displayName": "M. Şafak Bilici",
      "photoUrl": "https://lh3.googleusercontent.com/a-/AOh14GiGws-KIvcIpNEMjqPHEpcw8w_sK9CVIeDdXUBQgQ=s64",
      "userId": "15429672687187391255"
     },
     "user_tz": -180
    },
    "id": "grFR6HjgPgd0",
    "outputId": "bee10383-f827-48bb-c3f3-aec6054da4b6"
   },
   "outputs": [
    {
     "name": "stdout",
     "output_type": "stream",
     "text": [
      "(190820, 31) (93987, 31)\n"
     ]
    }
   ],
   "source": [
    "train_df, test_df = train_test_split(df,test_size=0.33, random_state=SEED)\n",
    "train_df, test_df = train_df.reset_index(drop=True), test_df.reset_index(drop=True)\n",
    "print(train_df.shape, test_df.shape)"
   ]
  },
  {
   "cell_type": "code",
   "execution_count": null,
   "metadata": {
    "id": "t86TqIzpPgeD"
   },
   "outputs": [],
   "source": [
    "train_df['Class'] = np.where(train_df.Class == 0, 1, -1)\n",
    "test_df['Class'] = np.where(test_df.Class == 0, 1, -1)"
   ]
  },
  {
   "cell_type": "markdown",
   "metadata": {
    "id": "2g68gskV3QR3"
   },
   "source": [
    "Let's subsample normal class (1) with proportion of $\\lceil\\frac{len(data)}{200}\\rceil$."
   ]
  },
  {
   "cell_type": "code",
   "execution_count": null,
   "metadata": {
    "colab": {
     "base_uri": "https://localhost:8080/"
    },
    "executionInfo": {
     "elapsed": 4,
     "status": "ok",
     "timestamp": 1626791338133,
     "user": {
      "displayName": "M. Şafak Bilici",
      "photoUrl": "https://lh3.googleusercontent.com/a-/AOh14GiGws-KIvcIpNEMjqPHEpcw8w_sK9CVIeDdXUBQgQ=s64",
      "userId": "15429672687187391255"
     },
     "user_tz": -180
    },
    "id": "0zw5mC91Qy85",
    "outputId": "849e1a16-0876-456d-fcb2-b4920619ba82"
   },
   "outputs": [
    {
     "name": "stdout",
     "output_type": "stream",
     "text": [
      "319 952\n"
     ]
    }
   ],
   "source": [
    "n_samples = train_df[train_df[\"Class\"] == 1].shape[0] // 200\n",
    "anomalies = train_df[train_df[\"Class\"] == -1].reset_index(drop=True)\n",
    "subsample_normal = train_df[train_df[\"Class\"] == 1].sample(n=n_samples, random_state=SEED).reset_index(drop=True)\n",
    "\n",
    "sub_train_df = pd.concat([subsample_normal, anomalies], axis=0).sample(frac=1).reset_index(drop=True)\n",
    "print(sub_train_df[sub_train_df[\"Class\"] == -1].shape[0], sub_train_df[sub_train_df[\"Class\"] == 1].shape[0])"
   ]
  },
  {
   "cell_type": "markdown",
   "metadata": {
    "id": "5izkb4xY3QR3"
   },
   "source": [
    "Now, we have 952 normal and 319 anomaly in our train dataset. Lastly, we will do the same things. Initialize the estimator, fit it, then predict and evaluate."
   ]
  },
  {
   "cell_type": "code",
   "execution_count": null,
   "metadata": {
    "id": "YQOQQufXQy87"
   },
   "outputs": [],
   "source": [
    "X_train = sub_train_df.drop(['Class'], axis = 1)\n",
    "y_train = sub_train_df['Class']\n",
    "\n",
    "X_test = test_df.drop(['Class'], axis = 1)\n",
    "y_test = test_df['Class']"
   ]
  },
  {
   "cell_type": "code",
   "execution_count": null,
   "metadata": {
    "id": "MnaItyCqPhyF"
   },
   "outputs": [],
   "source": [
    "clfLOF = LocalOutlierFactor(\n",
    "    n_neighbors=7, \n",
    "    metric='l1', \n",
    "    algorithm='auto', \n",
    "    contamination=0.10,# len(y_train[y_train == -1])/len(y_train[y_train == 1]), \n",
    "    n_jobs=-1,\n",
    ")"
   ]
  },
  {
   "cell_type": "code",
   "execution_count": null,
   "metadata": {
    "colab": {
     "base_uri": "https://localhost:8080/"
    },
    "executionInfo": {
     "elapsed": 3,
     "status": "ok",
     "timestamp": 1626791455379,
     "user": {
      "displayName": "M. Şafak Bilici",
      "photoUrl": "https://lh3.googleusercontent.com/a-/AOh14GiGws-KIvcIpNEMjqPHEpcw8w_sK9CVIeDdXUBQgQ=s64",
      "userId": "15429672687187391255"
     },
     "user_tz": -180
    },
    "id": "2Qy_dqsaPkbA",
    "outputId": "f877f384-3a1f-4524-d271-c8183058755c"
   },
   "outputs": [
    {
     "data": {
      "text/plain": [
       "LocalOutlierFactor(contamination=0.1, metric='l1', n_jobs=-1, n_neighbors=7)"
      ]
     },
     "execution_count": 38,
     "metadata": {},
     "output_type": "execute_result"
    }
   ],
   "source": [
    "clfLOF.fit(X_train, y_train)"
   ]
  },
  {
   "cell_type": "code",
   "execution_count": null,
   "metadata": {
    "id": "izaRFjddP9Vd"
   },
   "outputs": [],
   "source": [
    "y_pred_test = clfLOF.fit_predict(X_test)"
   ]
  },
  {
   "cell_type": "code",
   "execution_count": null,
   "metadata": {
    "colab": {
     "base_uri": "https://localhost:8080/"
    },
    "executionInfo": {
     "elapsed": 14,
     "status": "ok",
     "timestamp": 1626791458717,
     "user": {
      "displayName": "M. Şafak Bilici",
      "photoUrl": "https://lh3.googleusercontent.com/a-/AOh14GiGws-KIvcIpNEMjqPHEpcw8w_sK9CVIeDdXUBQgQ=s64",
      "userId": "15429672687187391255"
     },
     "user_tz": -180
    },
    "id": "hohaJBMmP9Vj",
    "outputId": "9da6e0bc-2a2a-4ce4-976e-25928c02db25"
   },
   "outputs": [
    {
     "name": "stdout",
     "output_type": "stream",
     "text": [
      "              precision    recall  f1-score   support\n",
      "\n",
      "          -1       0.01      0.75      0.03       173\n",
      "           1       1.00      0.90      0.95     93814\n",
      "\n",
      "    accuracy                           0.90     93987\n",
      "   macro avg       0.51      0.82      0.49     93987\n",
      "weighted avg       1.00      0.90      0.95     93987\n",
      "\n"
     ]
    }
   ],
   "source": [
    "print(classification_report(y_test, y_pred_test))"
   ]
  },
  {
   "cell_type": "code",
   "execution_count": null,
   "metadata": {
    "id": "ph0GzP5qP9Vk"
   },
   "outputs": [],
   "source": [
    "cm = confusion_matrix(y_test, y_pred_test)\n",
    "df_cm = pd.DataFrame(\n",
    "    cm,\n",
    "    index = [\"-1\",\"1\"], columns=[\"-1\",\"1\"]\n",
    ")"
   ]
  },
  {
   "cell_type": "code",
   "execution_count": null,
   "metadata": {
    "colab": {
     "base_uri": "https://localhost:8080/",
     "height": 283
    },
    "executionInfo": {
     "elapsed": 5,
     "status": "ok",
     "timestamp": 1626791459134,
     "user": {
      "displayName": "M. Şafak Bilici",
      "photoUrl": "https://lh3.googleusercontent.com/a-/AOh14GiGws-KIvcIpNEMjqPHEpcw8w_sK9CVIeDdXUBQgQ=s64",
      "userId": "15429672687187391255"
     },
     "user_tz": -180
    },
    "id": "vzP60cgaP9Vl",
    "outputId": "ea2fda0f-0f50-4b29-b497-6b76c5c59847"
   },
   "outputs": [
    {
     "data": {
      "image/png": "[encoded data removed]",
      "text/plain": [
       "<Figure size 432x288 with 2 Axes>"
      ]
     },
     "metadata": {
      "needs_background": "light",
      "tags": []
     },
     "output_type": "display_data"
    }
   ],
   "source": [
    "show_confusion_matrix(df_cm)"
   ]
  },
  {
   "cell_type": "markdown",
   "metadata": {
    "id": "kY4kvPTWVdSy"
   },
   "source": [
    "# XGBoost"
   ]
  },
  {
   "cell_type": "code",
   "execution_count": null,
   "metadata": {
    "colab": {
     "base_uri": "https://localhost:8080/"
    },
    "executionInfo": {
     "elapsed": 245,
     "status": "ok",
     "timestamp": 1626792363134,
     "user": {
      "displayName": "M. Şafak Bilici",
      "photoUrl": "https://lh3.googleusercontent.com/a-/AOh14GiGws-KIvcIpNEMjqPHEpcw8w_sK9CVIeDdXUBQgQ=s64",
      "userId": "15429672687187391255"
     },
     "user_tz": -180
    },
    "id": "wZDe-aQ9Vf0Y",
    "outputId": "f50328ff-1f65-435b-f012-3276f7108be8"
   },
   "outputs": [
    {
     "name": "stdout",
     "output_type": "stream",
     "text": [
      "(190820, 31) (93987, 31)\n"
     ]
    }
   ],
   "source": [
    "train_df, test_df = train_test_split(df,test_size=0.33, random_state=SEED)\n",
    "train_df, test_df = train_df.reset_index(drop=True), test_df.reset_index(drop=True)\n",
    "print(train_df.shape, test_df.shape)"
   ]
  },
  {
   "cell_type": "code",
   "execution_count": null,
   "metadata": {
    "id": "Q48kkR7OVrke"
   },
   "outputs": [],
   "source": [
    "def lets_make_some_xgb(X_train, X_test, y_train, y_test, useTrainCV=True, cv_folds=5,  early_stopping_rounds=50):\n",
    "    clf = XGBClassifier(\n",
    "      learning_rate=0.1, \n",
    "      n_estimators=140, \n",
    "      max_depth=5,\n",
    "      min_child_weight=3, \n",
    "      gamma=0.2, \n",
    "      subsample=0.6,\n",
    "      colsample_bytree=0.6,\n",
    "      objective='binary:logistic', \n",
    "      nthread=4, \n",
    "      scale_pos_weight=20, \n",
    "      seed=27,\n",
    "      tree_method = \"gpu_hist\"\n",
    "    )\n",
    "\n",
    "    if useTrainCV:\n",
    "        print(\"Started cross-validation...\")\n",
    "        xgb_param = clf.get_xgb_params()\n",
    "        xgtrain = xgb.DMatrix(X_train.values, label=y_train.values)\n",
    "        cvresult = xgb.cv(\n",
    "            xgb_param, \n",
    "            xgtrain, \n",
    "            num_boost_round=clf.get_params()['n_estimators'], \n",
    "            nfold=cv_folds,\n",
    "            early_stopping_rounds=early_stopping_rounds\n",
    "        )\n",
    "        clf.set_params(n_estimators=cvresult.shape[0])\n",
    "    print('Started Training...')\n",
    "    clf.fit(X_train, y_train, eval_metric='auc')\n",
    "\n",
    "    print(\"Started Predicting...\")\n",
    "    predictions = clf.predict(X_test)\n",
    "    pred_proba = clf.predict_proba(X_test)[:, 1]\n",
    "\n",
    "    print(\"\\nResulting Metrics\")\n",
    "    print(\"Accuracy : %.4g\" % accuracy_score(y_test, predictions))\n",
    "    print(\"AUC : %f\" % roc_auc_score(y_test, pred_proba))\n",
    "    print(\"F1 Score : %f\" % f1_score(y_test, predictions))\n",
    "    print()\n",
    "    print(f\"{classification_report(y_test, predictions)}\")\n",
    "    print()\n",
    "    cm = confusion_matrix(y_test, predictions)\n",
    "    df_cm = pd.DataFrame(\n",
    "      cm,\n",
    "      index = [\"0\",\"1\"], columns=[\"0\",\"1\"]\n",
    "    )\n",
    "    show_confusion_matrix(df_cm)\n",
    "    print()\n",
    "\n",
    "    feat_imp = clf.feature_importances_\n",
    "    feat = X_train.columns.tolist()\n",
    "    res_df = pd.DataFrame({'Features': feat, 'Importance': feat_imp}).sort_values(by='Importance', ascending=False)\n",
    "    res_df.plot('Features', 'Importance', kind='bar', title='Feature Importances')\n",
    "    plt.ylabel('Feature Importance Score')\n",
    "    plt.show()\n",
    "    print(res_df)\n",
    "    print(res_df[\"Features\"].tolist())\n",
    "    return clf"
   ]
  },
  {
   "cell_type": "code",
   "execution_count": null,
   "metadata": {
    "id": "Iy5ba7JqW7rP"
   },
   "outputs": [],
   "source": [
    "X_train = train_df.drop(['Class'], axis = 1)\n",
    "y_train = train_df['Class']\n",
    "\n",
    "X_test = test_df.drop(['Class'], axis = 1)\n",
    "y_test = test_df['Class']"
   ]
  },
  {
   "cell_type": "code",
   "execution_count": null,
   "metadata": {
    "colab": {
     "base_uri": "https://localhost:8080/",
     "height": 1000
    },
    "executionInfo": {
     "elapsed": 8082,
     "status": "ok",
     "timestamp": 1626792613761,
     "user": {
      "displayName": "M. Şafak Bilici",
      "photoUrl": "https://lh3.googleusercontent.com/a-/AOh14GiGws-KIvcIpNEMjqPHEpcw8w_sK9CVIeDdXUBQgQ=s64",
      "userId": "15429672687187391255"
     },
     "user_tz": -180
    },
    "id": "7Epuhm2UXEba",
    "outputId": "1798985d-4928-448f-f7b4-2ceac397c0d0"
   },
   "outputs": [
    {
     "name": "stdout",
     "output_type": "stream",
     "text": [
      "Started cross-validation...\n",
      "Started Training...\n",
      "Started Predicting...\n",
      "\n",
      "Resulting Metrics\n",
      "Accuracy : 0.9996\n",
      "AUC : 0.985039\n",
      "F1 Score : 0.875776\n",
      "\n",
      "              precision    recall  f1-score   support\n",
      "\n",
      "           0       1.00      1.00      1.00     93814\n",
      "           1       0.95      0.82      0.88       173\n",
      "\n",
      "    accuracy                           1.00     93987\n",
      "   macro avg       0.97      0.91      0.94     93987\n",
      "weighted avg       1.00      1.00      1.00     93987\n",
      "\n",
      "\n",
      "\n"
     ]
    },
    {
     "data": {
      "image/png": "[encoded data removed]",
      "text/plain": [
       "<Figure size 432x288 with 2 Axes>"
      ]
     },
     "metadata": {
      "needs_background": "light",
      "tags": []
     },
     "output_type": "display_data"
    },
    {
     "data": {
      "image/png": "[encoded data removed]",
      "text/plain": [
       "<Figure size 432x288 with 1 Axes>"
      ]
     },
     "metadata": {
      "needs_background": "light",
      "tags": []
     },
     "output_type": "display_data"
    },
    {
     "name": "stdout",
     "output_type": "stream",
     "text": [
      "   Features  Importance\n",
      "14      V14    0.206884\n",
      "10      V10    0.112688\n",
      "12      V12    0.109912\n",
      "17      V17    0.097805\n",
      "4        V4    0.032179\n",
      "11      V11    0.031522\n",
      "9        V9    0.026765\n",
      "16      V16    0.026674\n",
      "3        V3    0.024978\n",
      "13      V13    0.023629\n",
      "8        V8    0.022582\n",
      "19      V19    0.020566\n",
      "15      V15    0.019934\n",
      "7        V7    0.019934\n",
      "29   Amount    0.019374\n",
      "1        V1    0.018434\n",
      "5        V5    0.016630\n",
      "0      Time    0.016514\n",
      "23      V23    0.015023\n",
      "21      V21    0.014945\n",
      "22      V22    0.014287\n",
      "26      V26    0.014155\n",
      "20      V20    0.014104\n",
      "2        V2    0.014098\n",
      "25      V25    0.013489\n",
      "28      V28    0.011912\n",
      "24      V24    0.011179\n",
      "6        V6    0.011123\n",
      "18      V18    0.009896\n",
      "27      V27    0.008785\n",
      "['V14', 'V10', 'V12', 'V17', 'V4', 'V11', 'V9', 'V16', 'V3', 'V13', 'V8', 'V19', 'V15', 'V7', 'Amount', 'V1', 'V5', 'Time', 'V23', 'V21', 'V22', 'V26', 'V20', 'V2', 'V25', 'V28', 'V24', 'V6', 'V18', 'V27']\n"
     ]
    }
   ],
   "source": [
    "clf = lets_make_some_xgb(X_train, X_test, y_train, y_test, useTrainCV=True)"
   ]
  },
  {
   "cell_type": "markdown",
   "metadata": {
    "id": "QAQQ54g6Zd3e"
   },
   "source": [
    "# XGBoost With Subsampling"
   ]
  },
  {
   "cell_type": "code",
   "execution_count": null,
   "metadata": {
    "colab": {
     "base_uri": "https://localhost:8080/"
    },
    "executionInfo": {
     "elapsed": 349,
     "status": "ok",
     "timestamp": 1626792922818,
     "user": {
      "displayName": "M. Şafak Bilici",
      "photoUrl": "https://lh3.googleusercontent.com/a-/AOh14GiGws-KIvcIpNEMjqPHEpcw8w_sK9CVIeDdXUBQgQ=s64",
      "userId": "15429672687187391255"
     },
     "user_tz": -180
    },
    "id": "G8hi_KX0ZjpX",
    "outputId": "48ac1642-1dcf-4b7e-be7d-885b921df88b"
   },
   "outputs": [
    {
     "name": "stdout",
     "output_type": "stream",
     "text": [
      "(190820, 31) (93987, 31)\n"
     ]
    }
   ],
   "source": [
    "train_df, test_df = train_test_split(df,test_size=0.33, random_state=SEED)\n",
    "train_df, test_df = train_df.reset_index(drop=True), test_df.reset_index(drop=True)\n",
    "print(train_df.shape, test_df.shape)"
   ]
  },
  {
   "cell_type": "code",
   "execution_count": null,
   "metadata": {
    "colab": {
     "base_uri": "https://localhost:8080/"
    },
    "executionInfo": {
     "elapsed": 2,
     "status": "ok",
     "timestamp": 1626792923113,
     "user": {
      "displayName": "M. Şafak Bilici",
      "photoUrl": "https://lh3.googleusercontent.com/a-/AOh14GiGws-KIvcIpNEMjqPHEpcw8w_sK9CVIeDdXUBQgQ=s64",
      "userId": "15429672687187391255"
     },
     "user_tz": -180
    },
    "id": "PBZYkyodZjpc",
    "outputId": "9d912fc7-c391-4e17-9c9e-f4f3cbd82049"
   },
   "outputs": [
    {
     "name": "stdout",
     "output_type": "stream",
     "text": [
      "12700 319\n"
     ]
    }
   ],
   "source": [
    "n_samples = train_df[train_df[\"Class\"] == 0].shape[0] // 15\n",
    "anomalies = train_df[train_df[\"Class\"] == 1].reset_index(drop=True)\n",
    "subsample_normal = train_df[train_df[\"Class\"] == 0].sample(n=n_samples, random_state=SEED).reset_index(drop=True)\n",
    "\n",
    "sub_train_df = pd.concat([subsample_normal, anomalies], axis=0).sample(frac=1).reset_index(drop=True)\n",
    "print(sub_train_df[sub_train_df[\"Class\"] == 0].shape[0], sub_train_df[sub_train_df[\"Class\"] == 1].shape[0])"
   ]
  },
  {
   "cell_type": "code",
   "execution_count": null,
   "metadata": {
    "id": "HJNEl-otZjpd"
   },
   "outputs": [],
   "source": [
    "X_train = sub_train_df.drop(['Class'], axis = 1)\n",
    "y_train = sub_train_df['Class']\n",
    "\n",
    "X_test = test_df.drop(['Class'], axis = 1)\n",
    "y_test = test_df['Class']"
   ]
  },
  {
   "cell_type": "code",
   "execution_count": null,
   "metadata": {
    "colab": {
     "base_uri": "https://localhost:8080/",
     "height": 1000
    },
    "executionInfo": {
     "elapsed": 5070,
     "status": "ok",
     "timestamp": 1626792928599,
     "user": {
      "displayName": "M. Şafak Bilici",
      "photoUrl": "https://lh3.googleusercontent.com/a-/AOh14GiGws-KIvcIpNEMjqPHEpcw8w_sK9CVIeDdXUBQgQ=s64",
      "userId": "15429672687187391255"
     },
     "user_tz": -180
    },
    "id": "e5tYMYi2ZmNs",
    "outputId": "997b0b89-c5ab-43e3-a7d4-941ae4cb3b5a"
   },
   "outputs": [
    {
     "name": "stdout",
     "output_type": "stream",
     "text": [
      "Started cross-validation...\n",
      "Started Training...\n",
      "Started Predicting...\n",
      "\n",
      "Resulting Metrics\n",
      "Accuracy : 0.9986\n",
      "AUC : 0.989380\n",
      "F1 Score : 0.683721\n",
      "\n",
      "              precision    recall  f1-score   support\n",
      "\n",
      "           0       1.00      1.00      1.00     93814\n",
      "           1       0.57      0.85      0.68       173\n",
      "\n",
      "    accuracy                           1.00     93987\n",
      "   macro avg       0.79      0.92      0.84     93987\n",
      "weighted avg       1.00      1.00      1.00     93987\n",
      "\n",
      "\n",
      "\n"
     ]
    },
    {
     "data": {
      "image/png": "[encoded data removed]",
      "text/plain": [
       "<Figure size 432x288 with 2 Axes>"
      ]
     },
     "metadata": {
      "needs_background": "light",
      "tags": []
     },
     "output_type": "display_data"
    },
    {
     "data": {
      "image/png": "[encoded data removed]",
      "text/plain": [
       "<Figure size 432x288 with 1 Axes>"
      ]
     },
     "metadata": {
      "needs_background": "light",
      "tags": []
     },
     "output_type": "display_data"
    },
    {
     "name": "stdout",
     "output_type": "stream",
     "text": [
      "   Features  Importance\n",
      "11      V11    0.167779\n",
      "14      V14    0.151345\n",
      "10      V10    0.130727\n",
      "4        V4    0.065934\n",
      "21      V21    0.041173\n",
      "17      V17    0.038774\n",
      "12      V12    0.031367\n",
      "13      V13    0.027234\n",
      "3        V3    0.024417\n",
      "0      Time    0.021430\n",
      "20      V20    0.020741\n",
      "8        V8    0.020324\n",
      "29   Amount    0.020023\n",
      "7        V7    0.019364\n",
      "22      V22    0.017303\n",
      "16      V16    0.016987\n",
      "19      V19    0.016576\n",
      "24      V24    0.016510\n",
      "6        V6    0.016197\n",
      "15      V15    0.015621\n",
      "28      V28    0.014812\n",
      "26      V26    0.014585\n",
      "5        V5    0.014246\n",
      "2        V2    0.012579\n",
      "9        V9    0.012082\n",
      "25      V25    0.011446\n",
      "18      V18    0.010901\n",
      "1        V1    0.010754\n",
      "27      V27    0.009821\n",
      "23      V23    0.008947\n",
      "['V11', 'V14', 'V10', 'V4', 'V21', 'V17', 'V12', 'V13', 'V3', 'Time', 'V20', 'V8', 'Amount', 'V7', 'V22', 'V16', 'V19', 'V24', 'V6', 'V15', 'V28', 'V26', 'V5', 'V2', 'V9', 'V25', 'V18', 'V1', 'V27', 'V23']\n"
     ]
    }
   ],
   "source": [
    "clf = lets_make_some_xgb(X_train, X_test, y_train, y_test, useTrainCV=True)"
   ]
  },
  {
   "cell_type": "markdown",
   "metadata": {
    "id": "1NyZSwo5bNjV"
   },
   "source": [
    "# Catboost"
   ]
  },
  {
   "cell_type": "code",
   "execution_count": null,
   "metadata": {
    "colab": {
     "base_uri": "https://localhost:8080/"
    },
    "executionInfo": {
     "elapsed": 333,
     "status": "ok",
     "timestamp": 1626793850501,
     "user": {
      "displayName": "M. Şafak Bilici",
      "photoUrl": "https://lh3.googleusercontent.com/a-/AOh14GiGws-KIvcIpNEMjqPHEpcw8w_sK9CVIeDdXUBQgQ=s64",
      "userId": "15429672687187391255"
     },
     "user_tz": -180
    },
    "id": "raFdFJ-xeCq5",
    "outputId": "525fa384-bca6-448f-d961-447375d8f671"
   },
   "outputs": [
    {
     "name": "stdout",
     "output_type": "stream",
     "text": [
      "(190820, 31) (93987, 31)\n"
     ]
    }
   ],
   "source": [
    "train_df, test_df = train_test_split(df,test_size=0.33, random_state=SEED)\n",
    "train_df, test_df = train_df.reset_index(drop=True), test_df.reset_index(drop=True)\n",
    "print(train_df.shape, test_df.shape)"
   ]
  },
  {
   "cell_type": "code",
   "execution_count": null,
   "metadata": {
    "id": "wA-ChMyoeCq8"
   },
   "outputs": [],
   "source": [
    "X_train = train_df.drop(['Class'], axis = 1)\n",
    "y_train = train_df['Class']\n",
    "\n",
    "X_test = test_df.drop(['Class'], axis = 1)\n",
    "y_test = test_df['Class']"
   ]
  },
  {
   "cell_type": "code",
   "execution_count": null,
   "metadata": {
    "colab": {
     "base_uri": "https://localhost:8080/"
    },
    "executionInfo": {
     "elapsed": 13767,
     "status": "ok",
     "timestamp": 1626793919011,
     "user": {
      "displayName": "M. Şafak Bilici",
      "photoUrl": "https://lh3.googleusercontent.com/a-/AOh14GiGws-KIvcIpNEMjqPHEpcw8w_sK9CVIeDdXUBQgQ=s64",
      "userId": "15429672687187391255"
     },
     "user_tz": -180
    },
    "id": "MF2kUwZdbOO6",
    "outputId": "cb94a93b-3e5d-41db-a46b-4958976296cd"
   },
   "outputs": [
    {
     "data": {
      "text/plain": [
       "<catboost.core.CatBoostClassifier at 0x7f8f363b7b50>"
      ]
     },
     "execution_count": 11,
     "metadata": {
      "tags": []
     },
     "output_type": "execute_result"
    }
   ],
   "source": [
    "model = CatBoostClassifier(\n",
    "    iterations=200,\n",
    "    learning_rate=0.02,\n",
    "    depth=12,\n",
    "    eval_metric='AUC',\n",
    "    random_seed = SEED,\n",
    "    bagging_temperature = 0.2,\n",
    "    od_type='Iter',\n",
    "    od_wait=100,\n",
    "    task_type=\"GPU\",\n",
    "    verbose=0\n",
    ")\n",
    "\n",
    "model.fit(X_train,y_train,eval_set=(X_test,y_test))"
   ]
  },
  {
   "cell_type": "code",
   "execution_count": null,
   "metadata": {
    "colab": {
     "base_uri": "https://localhost:8080/",
     "height": 569
    },
    "executionInfo": {
     "elapsed": 777,
     "status": "ok",
     "timestamp": 1626793924760,
     "user": {
      "displayName": "M. Şafak Bilici",
      "photoUrl": "https://lh3.googleusercontent.com/a-/AOh14GiGws-KIvcIpNEMjqPHEpcw8w_sK9CVIeDdXUBQgQ=s64",
      "userId": "15429672687187391255"
     },
     "user_tz": -180
    },
    "id": "GGSMYUINbSRp",
    "outputId": "3fca0573-fca3-45fe-b0be-99c58e29d6fb"
   },
   "outputs": [
    {
     "name": "stdout",
     "output_type": "stream",
     "text": [
      "\n",
      "Resulting Metrics\n",
      "Accuracy : 0.9996\n",
      "AUC : 0.980661\n",
      "F1 Score : 0.876190\n",
      "\n",
      "              precision    recall  f1-score   support\n",
      "\n",
      "           0       1.00      1.00      1.00     93814\n",
      "           1       0.97      0.80      0.88       173\n",
      "\n",
      "    accuracy                           1.00     93987\n",
      "   macro avg       0.99      0.90      0.94     93987\n",
      "weighted avg       1.00      1.00      1.00     93987\n",
      "\n",
      "\n"
     ]
    },
    {
     "data": {
      "image/png": "[encoded data removed]",
      "text/plain": [
       "<Figure size 432x288 with 2 Axes>"
      ]
     },
     "metadata": {
      "needs_background": "light",
      "tags": []
     },
     "output_type": "display_data"
    }
   ],
   "source": [
    "predictions = model.predict(X_test)\n",
    "pred_proba = model.predict_proba(X_test)[:, 1]\n",
    "\n",
    "print(\"\\nResulting Metrics\")\n",
    "print(\"Accuracy : %.4g\" % accuracy_score(y_test, predictions))\n",
    "print(\"AUC : %f\" % roc_auc_score(y_test, pred_proba))\n",
    "print(\"F1 Score : %f\" % f1_score(y_test, predictions))\n",
    "\n",
    "print()\n",
    "print(f\"{classification_report(y_test, predictions)}\")\n",
    "print()\n",
    "cm = confusion_matrix(y_test, predictions)\n",
    "df_cm = pd.DataFrame(\n",
    "    cm,\n",
    "    index = [\"0\",\"1\"], columns=[\"0\",\"1\"]\n",
    ")\n",
    "show_confusion_matrix(df_cm)"
   ]
  }
 ],
 "metadata": {
  "accelerator": "GPU",
  "colab": {
   "collapsed_sections": [
    "xsVIVac9D0Ob",
    "qBPZhd30FUPx",
    "ABV4YtSbIceM",
    "7qoX6qCiRdUT",
    "9sG55UWbPX0e",
    "kY4kvPTWVdSy",
    "QAQQ54g6Zd3e"
   ],
   "name": "anomaly.ipynb",
   "provenance": []
  },
  "kernelspec": {
   "display_name": "Python 3",
   "language": "python",
   "name": "python3"
  },
  "language_info": {
   "codemirror_mode": {
    "name": "ipython",
    "version": 3
   },
   "file_extension": ".py",
   "mimetype": "text/x-python",
   "name": "python",
   "nbconvert_exporter": "python",
   "pygments_lexer": "ipython3",
   "version": "3.8.5"
  }
 },
 "nbformat": 4,
 "nbformat_minor": 1
}
