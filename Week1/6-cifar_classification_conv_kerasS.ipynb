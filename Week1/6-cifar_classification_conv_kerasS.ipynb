{
 "cells": [
  {
   "cell_type": "code",
   "execution_count": 1,
   "metadata": {},
   "outputs": [],
   "source": [
    "# import keras directly, not using tensorflow: tell it is also possible!\n",
    "import keras\n",
    "import numpy as np\n",
    "import matplotlib.pyplot as plt\n",
    "import math\n",
    "import random"
   ]
  },
  {
   "cell_type": "code",
   "execution_count": 2,
   "metadata": {},
   "outputs": [],
   "source": [
    "# cifar-10 using keras\n",
    "(x_train, y_train), (x_test, y_test) = keras.datasets.cifar10.load_data()"
   ]
  },
  {
   "cell_type": "code",
   "execution_count": 3,
   "metadata": {},
   "outputs": [
    {
     "name": "stdout",
     "output_type": "stream",
     "text": [
      "(50000, 32, 32, 3)\n",
      "(50000, 1)\n",
      "(10000, 32, 32, 3)\n",
      "(10000, 1)\n"
     ]
    }
   ],
   "source": [
    "# dataset check\n",
    "print(x_train.shape)\n",
    "print(y_train.shape)\n",
    "\n",
    "print(x_test.shape)\n",
    "print(y_test.shape)"
   ]
  },
  {
   "cell_type": "code",
   "execution_count": 4,
   "metadata": {},
   "outputs": [
    {
     "name": "stdout",
     "output_type": "stream",
     "text": [
      "[6]\n"
     ]
    },
    {
     "data": {
      "image/png": "[encoded data removed]",
      "text/plain": [
       "<Figure size 432x288 with 1 Axes>"
      ]
     },
     "metadata": {
      "needs_background": "light"
     },
     "output_type": "display_data"
    }
   ],
   "source": [
    "# let's visualize first training image\n",
    "plt.imshow(x_train[0])\n",
    "print(y_train[0])"
   ]
  },
  {
   "cell_type": "code",
   "execution_count": 5,
   "metadata": {},
   "outputs": [
    {
     "name": "stdout",
     "output_type": "stream",
     "text": [
      "255 0\n",
      "9 0\n"
     ]
    }
   ],
   "source": [
    "print(np.amax(x_train[0]),np.amin(x_train[0]))\n",
    "print(np.amax(y_train),np.amin(y_train))"
   ]
  },
  {
   "cell_type": "code",
   "execution_count": 6,
   "metadata": {},
   "outputs": [],
   "source": [
    "# normalization and one-hot encoding\n",
    "x_train = x_train.astype(\"float32\") / 255.0\n",
    "x_test = x_test.astype(\"float32\") / 255.0\n",
    "y_train = keras.utils.to_categorical(y_train, 10)\n",
    "y_test = keras.utils.to_categorical(y_test, 10)"
   ]
  },
  {
   "cell_type": "code",
   "execution_count": 7,
   "metadata": {},
   "outputs": [],
   "source": [
    "# difference between sequential and functional\n",
    "# linear-wise layer adding!\n",
    "from keras.layers import Conv2D, BatchNormalization, Dropout, Dense, Flatten, MaxPool2D\n",
    "from keras.models import Sequential\n",
    "\n",
    "inzvaNet = Sequential()\n",
    "\n",
    "inzvaNet.add(BatchNormalization())\n",
    "inzvaNet.add(Conv2D(64,(5,5),activation = 'tanh', padding = 'same'))\n",
    "inzvaNet.add(MaxPool2D())\n",
    "inzvaNet.add(Dropout(0.2))\n",
    "\n",
    "inzvaNet.add(BatchNormalization())\n",
    "inzvaNet.add(Conv2D(128,(5,5),activation = 'tanh', padding = 'same'))\n",
    "inzvaNet.add(MaxPool2D())\n",
    "inzvaNet.add(Dropout(0.2))\n",
    "\n",
    "inzvaNet.add(BatchNormalization())\n",
    "inzvaNet.add(Conv2D(256,(5,5),activation = 'tanh', padding = 'same'))\n",
    "inzvaNet.add(MaxPool2D())\n",
    "inzvaNet.add(Dropout(0.2))\n",
    "\n",
    "inzvaNet.add(Flatten())\n",
    "inzvaNet.add(Dense(10,activation = 'softmax'))"
   ]
  },
  {
   "cell_type": "code",
   "execution_count": 8,
   "metadata": {},
   "outputs": [],
   "source": [
    "# just like functional API, optimizer and compile\n",
    "from keras.optimizers import Adam\n",
    "opt = Adam(lr = 0.001)\n",
    "inzvaNet.compile(optimizer = opt,\n",
    "               loss = 'categorical_crossentropy',\n",
    "               metrics = ['accuracy'])"
   ]
  },
  {
   "cell_type": "code",
   "execution_count": 9,
   "metadata": {},
   "outputs": [
    {
     "name": "stdout",
     "output_type": "stream",
     "text": [
      "450/450 [==============================] - 243s 540ms/step - loss: 1.5770 - accuracy: 0.4672 - val_loss: 1.2639 - val_accuracy: 0.5712\n"
     ]
    },
    {
     "data": {
      "text/plain": [
       "<tensorflow.python.keras.callbacks.History at 0x7fc799458a00>"
      ]
     },
     "execution_count": 9,
     "metadata": {},
     "output_type": "execute_result"
    }
   ],
   "source": [
    "inzvaNet.fit(x_train, y_train, batch_size=100, epochs=1, validation_split = 0.1)"
   ]
  },
  {
   "cell_type": "code",
   "execution_count": 10,
   "metadata": {},
   "outputs": [
    {
     "name": "stdout",
     "output_type": "stream",
     "text": [
      "313/313 [==============================] - 23s 74ms/step - loss: 1.2830 - accuracy: 0.5647\n"
     ]
    },
    {
     "data": {
      "text/plain": [
       "[1.2830151319503784, 0.5647000074386597]"
      ]
     },
     "execution_count": 10,
     "metadata": {},
     "output_type": "execute_result"
    }
   ],
   "source": [
    "inzvaNet.evaluate(x_test, y_test)"
   ]
  },
  {
   "cell_type": "code",
   "execution_count": 11,
   "metadata": {},
   "outputs": [
    {
     "name": "stdout",
     "output_type": "stream",
     "text": [
      "3\n",
      "2\n"
     ]
    },
    {
     "data": {
      "image/png": "[encoded data removed]",
      "text/plain": [
       "<Figure size 432x288 with 1 Axes>"
      ]
     },
     "metadata": {
      "needs_background": "light"
     },
     "output_type": "display_data"
    }
   ],
   "source": [
    "# checking some predictions of our model\n",
    "randind = int(random.random() * 1000)\n",
    "plt.imshow(x_test[randind])\n",
    "print(np.argmax(inzvaNet.predict(x_test[[randind]])))\n",
    "print(np.argmax(y_test[randind]))"
   ]
  },
  {
   "cell_type": "code",
   "execution_count": 12,
   "metadata": {},
   "outputs": [],
   "source": [
    "import os\n",
    "import glob"
   ]
  },
  {
   "cell_type": "code",
   "execution_count": 13,
   "metadata": {},
   "outputs": [],
   "source": [
    "# new dataset pre-processing to use in transfer learning\n",
    "# show dataset's first form from kaggle\n",
    "# explain the aim of each function\n",
    "def getFilenames(exts):\n",
    "    fnames = [glob.glob(ext) for ext in exts]\n",
    "    return fnames[0]"
   ]
  },
  {
   "cell_type": "code",
   "execution_count": 17,
   "metadata": {},
   "outputs": [],
   "source": [
    "def rename_all(curr_list, name, file):\n",
    "    for count, filename in enumerate(curr_list):\n",
    "        dst = name + file + \"_test\" + str(count) + \".jpg\"\n",
    "        src = name + filename\n",
    "        os.rename(src, dst)"
   ]
  },
  {
   "cell_type": "code",
   "execution_count": 18,
   "metadata": {},
   "outputs": [],
   "source": [
    "#exts = [\"GoT_dataset/train/arya/*.jpg\"]\n",
    "#res = getFilenames(exts)\n",
    "\n",
    "\n",
    "# renaming dataset into an order!\n",
    "# apply twice for both train and test. Change /test/ to /train/ for training data!\n",
    "# change also in rename_all function! _test -> _train!\n",
    "files = [\"arya\", \"cersie\", \"danerys\", \"Jaimie\", \"john\", \"ned stark\", \"peter baelish\", \"sansa\", \"Tyrion\"]\n",
    "for file in files:\n",
    "   curr_list = os.listdir(\"./datasets/GoT_dataset/test/\"+file)\n",
    "   rename_all(curr_list, \"./datasets/GoT_dataset/test/\"+file+\"/\", file)"
   ]
  },
  {
   "cell_type": "code",
   "execution_count": 19,
   "metadata": {
    "scrolled": true
   },
   "outputs": [],
   "source": [
    "# get name of all images\n",
    "train_exts = [\"./datasets/GoT_dataset/train/*/*.jpg\"]\n",
    "train_res = getFilenames(train_exts)\n",
    "\n",
    "test_exts = [\"./datasets/GoT_dataset/test/*/*.jpg\"]\n",
    "test_res = getFilenames(test_exts)\n",
    "\n",
    "# print(res)"
   ]
  },
  {
   "cell_type": "code",
   "execution_count": 20,
   "metadata": {},
   "outputs": [
    {
     "name": "stdout",
     "output_type": "stream",
     "text": [
      "663\n",
      "663\n"
     ]
    }
   ],
   "source": [
    "# labeling of training data\n",
    "print(len(train_res))\n",
    "train_labels = []\n",
    "for data in train_res:\n",
    "    if data.find(\"arya\") != -1: train_labels.append(0)\n",
    "    if data.find(\"cersie\") != -1: train_labels.append(1)\n",
    "    if data.find(\"danerys\") != -1: train_labels.append(2)\n",
    "    if data.find(\"Jaimie\") != -1: train_labels.append(3)\n",
    "    if data.find(\"john\") != -1: train_labels.append(4)\n",
    "    if data.find(\"ned stark\") != -1: train_labels.append(5)\n",
    "    if data.find(\"peter baelish\") != -1: train_labels.append(6)\n",
    "    if data.find(\"sansa\") != -1: train_labels.append(7)\n",
    "    if data.find(\"Tyrion\") != -1: train_labels.append(8)\n",
    "\n",
    "print(len(train_labels))\n",
    "# print(train_labels)"
   ]
  },
  {
   "cell_type": "code",
   "execution_count": 21,
   "metadata": {},
   "outputs": [
    {
     "name": "stdout",
     "output_type": "stream",
     "text": [
      "104\n",
      "104\n"
     ]
    }
   ],
   "source": [
    "# labeling of test data\n",
    "print(len(test_res))\n",
    "test_labels = []\n",
    "for data in test_res:\n",
    "    if data.find(\"arya\") != -1: test_labels.append(0)\n",
    "    if data.find(\"cersie\") != -1: test_labels.append(1)\n",
    "    if data.find(\"danerys\") != -1: test_labels.append(2)\n",
    "    if data.find(\"Jaimie\") != -1: test_labels.append(3)\n",
    "    if data.find(\"john\") != -1: test_labels.append(4)\n",
    "    if data.find(\"ned stark\") != -1: test_labels.append(5)\n",
    "    if data.find(\"peter baelish\") != -1: test_labels.append(6)\n",
    "    if data.find(\"sansa\") != -1: test_labels.append(7)\n",
    "    if data.find(\"Tyrion\") != -1: test_labels.append(8)\n",
    "\n",
    "print(len(test_labels))\n",
    "# print(test_labels)"
   ]
  },
  {
   "cell_type": "code",
   "execution_count": 22,
   "metadata": {},
   "outputs": [],
   "source": [
    "import cv2\n",
    "from PIL import Image"
   ]
  },
  {
   "cell_type": "code",
   "execution_count": 23,
   "metadata": {},
   "outputs": [],
   "source": [
    "# read all images using cv2\n",
    "def image_loader(folder):\n",
    "    images = []\n",
    "    for image in folder:\n",
    "        img = cv2.imread(image, 1)\n",
    "        if img is not None:\n",
    "            images.append(img[:, :, ::-1])\n",
    "    return images"
   ]
  },
  {
   "cell_type": "code",
   "execution_count": 24,
   "metadata": {},
   "outputs": [
    {
     "name": "stdout",
     "output_type": "stream",
     "text": [
      "<class 'list'>\n",
      "<class 'list'>\n",
      "<class 'numpy.ndarray'>\n",
      "<class 'numpy.ndarray'>\n"
     ]
    }
   ],
   "source": [
    "# numpy array conversion\n",
    "train_images = image_loader(train_res)\n",
    "test_images = image_loader(test_res)\n",
    "\n",
    "print(type(train_images))\n",
    "print(type(test_images))\n",
    "\n",
    "train_images = np.array(train_images)\n",
    "test_images = np.array(test_images)\n",
    "\n",
    "train_labels = np.array(train_labels)\n",
    "test_labels = np.array(test_labels)\n",
    "\n",
    "print(type(train_images))\n",
    "print(type(test_images))"
   ]
  },
  {
   "cell_type": "code",
   "execution_count": 28,
   "metadata": {},
   "outputs": [
    {
     "name": "stdout",
     "output_type": "stream",
     "text": [
      "1\n"
     ]
    },
    {
     "data": {
      "image/png": "[encoded data removed]",
      "text/plain": [
       "<Figure size 432x288 with 1 Axes>"
      ]
     },
     "metadata": {
      "needs_background": "light"
     },
     "output_type": "display_data"
    }
   ],
   "source": [
    "plt.imshow(train_images[15])\n",
    "print(train_labels[15])"
   ]
  },
  {
   "cell_type": "code",
   "execution_count": 29,
   "metadata": {},
   "outputs": [
    {
     "name": "stdout",
     "output_type": "stream",
     "text": [
      "(663, 150, 150, 3)\n",
      "(663,)\n",
      "255 0\n",
      "8 0\n",
      "(663, 32, 32, 3)\n",
      "(663,)\n"
     ]
    }
   ],
   "source": [
    "print(train_images.shape)\n",
    "print(train_labels.shape)\n",
    "\n",
    "print(np.amax(train_images[0]), np.amin(train_images[0]))\n",
    "print(np.amax(train_labels), np.amin(train_labels))\n",
    "\n",
    "# need to convert the images into the training size 32x32x3\n",
    "\n",
    "resized_train_images = []\n",
    "for img in train_images:\n",
    "    resized_img = cv2.resize(img, (32, 32), interpolation=cv2.INTER_AREA)\n",
    "    resized_train_images.append(resized_img)\n",
    "\n",
    "train_images = np.array(resized_train_images)\n",
    "print(train_images.shape)\n",
    "print(train_labels.shape)"
   ]
  },
  {
   "cell_type": "code",
   "execution_count": 30,
   "metadata": {},
   "outputs": [
    {
     "name": "stdout",
     "output_type": "stream",
     "text": [
      "(663, 32, 32, 3)\n",
      "(663, 10)\n"
     ]
    }
   ],
   "source": [
    "# normalization and one-hot encoding\n",
    "# tell there are many ways to do a task in each api\n",
    "train_images = train_images.astype(\"float32\") / 255.0\n",
    "test_images = test_images.astype(\"float32\") / 255.0\n",
    "train_labels = keras.utils.to_categorical(train_labels, 10)\n",
    "test_labels = keras.utils.to_categorical(test_labels, 10)\n",
    "\n",
    "print(train_images.shape)\n",
    "print(train_labels.shape)"
   ]
  },
  {
   "cell_type": "code",
   "execution_count": 31,
   "metadata": {},
   "outputs": [],
   "source": [
    "# except the last layer, we freeze. We want the network to learn new dataset \n",
    "# with few training steps using previously learned weights.\n",
    "for layer in inzvaNet.layers[:-1]:\n",
    "  layer.trainable = False"
   ]
  },
  {
   "cell_type": "code",
   "execution_count": 32,
   "metadata": {},
   "outputs": [],
   "source": [
    "# compiler\n",
    "inzvaNet.compile(optimizer = opt,\n",
    "               loss = 'categorical_crossentropy',\n",
    "               metrics = ['accuracy'])"
   ]
  },
  {
   "cell_type": "code",
   "execution_count": 33,
   "metadata": {
    "scrolled": false
   },
   "outputs": [
    {
     "name": "stdout",
     "output_type": "stream",
     "text": [
      "Epoch 1/15\n",
      "6/6 [==============================] - 1s 114ms/step - loss: 3.5412 - accuracy: 0.1091 - val_loss: 4.4848 - val_accuracy: 0.0000e+00\n",
      "Epoch 2/15\n",
      "6/6 [==============================] - 0s 80ms/step - loss: 2.5543 - accuracy: 0.2215 - val_loss: 2.8985 - val_accuracy: 0.0597\n",
      "Epoch 3/15\n",
      "6/6 [==============================] - 0s 83ms/step - loss: 2.1799 - accuracy: 0.2936 - val_loss: 3.7702 - val_accuracy: 0.0000e+00\n",
      "Epoch 4/15\n",
      "6/6 [==============================] - 0s 79ms/step - loss: 1.8450 - accuracy: 0.4010 - val_loss: 2.9141 - val_accuracy: 0.0299\n",
      "Epoch 5/15\n",
      "6/6 [==============================] - 0s 74ms/step - loss: 1.6089 - accuracy: 0.4161 - val_loss: 3.4443 - val_accuracy: 0.0448\n",
      "Epoch 6/15\n",
      "6/6 [==============================] - 0s 76ms/step - loss: 1.3739 - accuracy: 0.5352 - val_loss: 3.0699 - val_accuracy: 0.0896\n",
      "Epoch 7/15\n",
      "6/6 [==============================] - 0s 77ms/step - loss: 1.2699 - accuracy: 0.5487 - val_loss: 3.3032 - val_accuracy: 0.0597\n",
      "Epoch 8/15\n",
      "6/6 [==============================] - 0s 79ms/step - loss: 1.2114 - accuracy: 0.5872 - val_loss: 3.4310 - val_accuracy: 0.0597\n",
      "Epoch 9/15\n",
      "6/6 [==============================] - 0s 79ms/step - loss: 1.0335 - accuracy: 0.6477 - val_loss: 2.9851 - val_accuracy: 0.1194\n",
      "Epoch 10/15\n",
      "6/6 [==============================] - 0s 80ms/step - loss: 1.0000 - accuracy: 0.6527 - val_loss: 3.3493 - val_accuracy: 0.0746\n",
      "Epoch 11/15\n",
      "6/6 [==============================] - 0s 81ms/step - loss: 0.9392 - accuracy: 0.6946 - val_loss: 2.8043 - val_accuracy: 0.1642\n",
      "Epoch 12/15\n",
      "6/6 [==============================] - 0s 78ms/step - loss: 0.8020 - accuracy: 0.7466 - val_loss: 3.2297 - val_accuracy: 0.1045\n",
      "Epoch 13/15\n",
      "6/6 [==============================] - 1s 91ms/step - loss: 0.7866 - accuracy: 0.7752 - val_loss: 2.9635 - val_accuracy: 0.1194\n",
      "Epoch 14/15\n",
      "6/6 [==============================] - 0s 83ms/step - loss: 0.7658 - accuracy: 0.7718 - val_loss: 3.0588 - val_accuracy: 0.1493\n",
      "Epoch 15/15\n",
      "6/6 [==============================] - 1s 93ms/step - loss: 0.6774 - accuracy: 0.7852 - val_loss: 3.1792 - val_accuracy: 0.1194\n"
     ]
    },
    {
     "data": {
      "text/plain": [
       "<tensorflow.python.keras.callbacks.History at 0x7fc7917aee20>"
      ]
     },
     "execution_count": 33,
     "metadata": {},
     "output_type": "execute_result"
    }
   ],
   "source": [
    "# training step\n",
    "inzvaNet.fit(train_images, train_labels, batch_size=100, epochs=15, validation_split = 0.1)"
   ]
  },
  {
   "cell_type": "code",
   "execution_count": 34,
   "metadata": {},
   "outputs": [
    {
     "name": "stdout",
     "output_type": "stream",
     "text": [
      "(104, 32, 32, 3)\n",
      "(104, 10)\n"
     ]
    }
   ],
   "source": [
    "# prepare test data\n",
    "resized_test_images = []\n",
    "for img in test_images:\n",
    "    resized_img = cv2.resize(img, (32, 32), interpolation=cv2.INTER_AREA)\n",
    "    resized_test_images.append(resized_img)\n",
    "\n",
    "test_images = np.array(resized_test_images)\n",
    "print(test_images.shape)\n",
    "print(test_labels.shape)"
   ]
  },
  {
   "cell_type": "code",
   "execution_count": 35,
   "metadata": {},
   "outputs": [
    {
     "name": "stdout",
     "output_type": "stream",
     "text": [
      "4/4 [==============================] - 0s 25ms/step - loss: 1.8649 - accuracy: 0.4519\n"
     ]
    },
    {
     "data": {
      "text/plain": [
       "[1.8649277687072754, 0.45192307233810425]"
      ]
     },
     "execution_count": 35,
     "metadata": {},
     "output_type": "execute_result"
    }
   ],
   "source": [
    "# test\n",
    "inzvaNet.evaluate(test_images, test_labels)"
   ]
  },
  {
   "cell_type": "code",
   "execution_count": 39,
   "metadata": {},
   "outputs": [
    {
     "name": "stdout",
     "output_type": "stream",
     "text": [
      "1\n",
      "8\n"
     ]
    },
    {
     "data": {
      "image/png": "[encoded data removed]",
      "text/plain": [
       "<Figure size 432x288 with 1 Axes>"
      ]
     },
     "metadata": {
      "needs_background": "light"
     },
     "output_type": "display_data"
    }
   ],
   "source": [
    "# checking some predictions of our model\n",
    "randind = int(random.random()*104)\n",
    "plt.imshow(test_images[randind])\n",
    "print(np.argmax(inzvaNet.predict(test_images[[randind]])))\n",
    "print(np.argmax(test_labels[randind]))"
   ]
  },
  {
   "cell_type": "code",
   "execution_count": null,
   "metadata": {},
   "outputs": [],
   "source": []
  }
 ],
 "metadata": {
  "kernelspec": {
   "display_name": "Python 3",
   "language": "python",
   "name": "python3"
  },
  "language_info": {
   "codemirror_mode": {
    "name": "ipython",
    "version": 3
   },
   "file_extension": ".py",
   "mimetype": "text/x-python",
   "name": "python",
   "nbconvert_exporter": "python",
   "pygments_lexer": "ipython3",
   "version": "3.8.5"
  }
 },
 "nbformat": 4,
 "nbformat_minor": 4
}
